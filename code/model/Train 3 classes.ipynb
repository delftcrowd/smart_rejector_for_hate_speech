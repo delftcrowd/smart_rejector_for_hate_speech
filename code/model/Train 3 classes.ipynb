{
 "cells": [
  {
   "cell_type": "code",
   "execution_count": 1,
   "metadata": {},
   "outputs": [],
   "source": [
    "import tensorflow\n",
    "\n",
    "from cnn import CNN\n",
    "from reader import Reader\n",
    "from sklearn.metrics import classification_report, confusion_matrix \n",
    "import numpy as np"
   ]
  },
  {
   "cell_type": "code",
   "execution_count": 2,
   "metadata": {
    "scrolled": true
   },
   "outputs": [],
   "source": [
    "EPOCHS = 10\n",
    "BATCH_SIZE = 128\n",
    "NUM_CLASSES = 3\n",
    "LEARN_RATE = 0.01\n",
    "EMBED_SIZE = 50\n",
    "FILENAME = \"data/twitter_data.pkl\"\n",
    "OVERSAMPLING_RATE = 3\n",
    "VOCAB_LEN = 10000\n",
    "\n",
    "reader = Reader(filename=FILENAME, num_classes=NUM_CLASSES, vocab_len=VOCAB_LEN)\n",
    "X, y = reader.load()\n",
    "\n",
    "mapping = {'racism':2,'sexism':1,'none':0}\n",
    "y = [mapping[b] for b in y]\n",
    "\n",
    "# Oversampling before split\n",
    "# racism = [i for i in range(len(y)) if y[i]==2]\n",
    "# sexism = [i for i in range(len(y)) if y[i]==1]\n",
    "# X = X + [X[x] for x in racism]*(OVERSAMPLING_RATE-1)+ [X[x] for x in sexism]*(OVERSAMPLING_RATE-1)\n",
    "# y = y + [2 for i in range(len(racism))]*(OVERSAMPLING_RATE-1) + [1 for i in range(len(sexism))]*(OVERSAMPLING_RATE-1)\n",
    "\n",
    "X_train, X_test, y_train, y_test = reader.split(X, y)\n",
    "\n",
    "# Oversampling after split\n",
    "# racism = [i for i in range(len(y_train)) if y_train[i]==2]\n",
    "# sexism = [i for i in range(len(y_train)) if y_train[i]==1]\n",
    "# X_train = X_train + [X_train[x] for x in racism]*(OVERSAMPLING_RATE-1)+ [X_train[x] for x in sexism]*(OVERSAMPLING_RATE-1)\n",
    "# y_train = y_train + [2 for i in range(len(racism))]*(OVERSAMPLING_RATE-1) + [1 for i in range(len(sexism))]*(OVERSAMPLING_RATE-1)\n",
    "\n",
    "X_train, X_test, y_train, y_test, max_len = reader.preprocess(X_train, X_test, y_train, y_test)\n"
   ]
  },
  {
   "cell_type": "code",
   "execution_count": 3,
   "metadata": {},
   "outputs": [],
   "source": [
    "model = CNN(max_len=max_len,\n",
    "          num_classes=NUM_CLASSES, \n",
    "          batch_size=BATCH_SIZE, \n",
    "          epochs=EPOCHS, \n",
    "          embed_size=EMBED_SIZE, \n",
    "          vocab_len=VOCAB_LEN,\n",
    "          checkpoint_path=\"results/test.ckpt\", \n",
    "          save_path=\"results/test.h5\")"
   ]
  },
  {
   "cell_type": "code",
   "execution_count": 4,
   "metadata": {
    "scrolled": true
   },
   "outputs": [
    {
     "name": "stdout",
     "output_type": "stream",
     "text": [
      "Epoch 1/10\n",
      "114/114 [==============================] - ETA: 0s - loss: 1.3616 - accuracy: 0.6821\n",
      "Epoch 00001: saving model to results\\test.ckpt\n",
      "114/114 [==============================] - 7s 23ms/step - loss: 1.3616 - accuracy: 0.6821\n",
      "Epoch 2/10\n",
      "112/114 [============================>.] - ETA: 0s - loss: 0.7558 - accuracy: 0.7443\n",
      "Epoch 00002: saving model to results\\test.ckpt\n",
      "114/114 [==============================] - 2s 19ms/step - loss: 0.7545 - accuracy: 0.7449\n",
      "Epoch 3/10\n",
      "112/114 [============================>.] - ETA: 0s - loss: 0.6125 - accuracy: 0.7916\n",
      "Epoch 00003: saving model to results\\test.ckpt\n",
      "114/114 [==============================] - 2s 19ms/step - loss: 0.6131 - accuracy: 0.7910\n",
      "Epoch 4/10\n",
      "112/114 [============================>.] - ETA: 0s - loss: 0.5442 - accuracy: 0.8090\n",
      "Epoch 00004: saving model to results\\test.ckpt\n",
      "114/114 [==============================] - 2s 19ms/step - loss: 0.5443 - accuracy: 0.8089\n",
      "Epoch 5/10\n",
      "112/114 [============================>.] - ETA: 0s - loss: 0.4959 - accuracy: 0.8277\n",
      "Epoch 00005: saving model to results\\test.ckpt\n",
      "114/114 [==============================] - 2s 19ms/step - loss: 0.4957 - accuracy: 0.8280\n",
      "Epoch 6/10\n",
      "112/114 [============================>.] - ETA: 0s - loss: 0.4621 - accuracy: 0.8418\n",
      "Epoch 00006: saving model to results\\test.ckpt\n",
      "114/114 [==============================] - 2s 19ms/step - loss: 0.4624 - accuracy: 0.8412\n",
      "Epoch 7/10\n",
      "112/114 [============================>.] - ETA: 0s - loss: 0.4238 - accuracy: 0.8567\n",
      "Epoch 00007: saving model to results\\test.ckpt\n",
      "114/114 [==============================] - 2s 19ms/step - loss: 0.4237 - accuracy: 0.8569\n",
      "Epoch 8/10\n",
      "112/114 [============================>.] - ETA: 0s - loss: 0.3960 - accuracy: 0.8668\n",
      "Epoch 00008: saving model to results\\test.ckpt\n",
      "114/114 [==============================] - 2s 19ms/step - loss: 0.3955 - accuracy: 0.8671\n",
      "Epoch 9/10\n",
      "112/114 [============================>.] - ETA: 0s - loss: 0.3680 - accuracy: 0.8804\n",
      "Epoch 00009: saving model to results\\test.ckpt\n",
      "114/114 [==============================] - 2s 19ms/step - loss: 0.3679 - accuracy: 0.8802\n",
      "Epoch 10/10\n",
      "112/114 [============================>.] - ETA: 0s - loss: 0.3470 - accuracy: 0.8885\n",
      "Epoch 00010: saving model to results\\test.ckpt\n",
      "114/114 [==============================] - 2s 19ms/step - loss: 0.3461 - accuracy: 0.8888\n"
     ]
    },
    {
     "data": {
      "text/plain": [
       "<keras.engine.functional.Functional at 0x199d4945a60>"
      ]
     },
     "execution_count": 4,
     "metadata": {},
     "output_type": "execute_result"
    }
   ],
   "source": [
    "model.fit(X_train, y_train)"
   ]
  },
  {
   "cell_type": "code",
   "execution_count": 5,
   "metadata": {},
   "outputs": [
    {
     "name": "stdout",
     "output_type": "stream",
     "text": [
      "[[1031   32   40]\n",
      " [ 101  210    1]\n",
      " [  61    0  133]]\n",
      "              precision    recall  f1-score   support\n",
      "\n",
      "           0       0.86      0.93      0.90      1103\n",
      "           1       0.87      0.67      0.76       312\n",
      "           2       0.76      0.69      0.72       194\n",
      "\n",
      "    accuracy                           0.85      1609\n",
      "   macro avg       0.83      0.76      0.79      1609\n",
      "weighted avg       0.85      0.85      0.85      1609\n",
      "\n"
     ]
    }
   ],
   "source": [
    "predictions = model.predict(X_test)\n",
    "classes = np.argmax(y_test, axis=1)\n",
    "\n",
    "predictions = list(map(lambda x: int(x), predictions))\n",
    "print(confusion_matrix(classes, predictions))\n",
    "print(classification_report(classes, predictions))"
   ]
  },
  {
   "cell_type": "code",
   "execution_count": null,
   "metadata": {},
   "outputs": [],
   "source": []
  }
 ],
 "metadata": {
  "kernelspec": {
   "display_name": "Python [conda env:tensorflow]",
   "language": "python",
   "name": "conda-env-tensorflow-py"
  },
  "language_info": {
   "codemirror_mode": {
    "name": "ipython",
    "version": 3
   },
   "file_extension": ".py",
   "mimetype": "text/x-python",
   "name": "python",
   "nbconvert_exporter": "python",
   "pygments_lexer": "ipython3",
   "version": "3.8.5"
  }
 },
 "nbformat": 4,
 "nbformat_minor": 2
}
