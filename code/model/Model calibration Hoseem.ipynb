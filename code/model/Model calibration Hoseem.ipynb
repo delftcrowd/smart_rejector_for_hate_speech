{
 "cells": [
  {
   "cell_type": "code",
   "execution_count": 1,
   "id": "25832adb",
   "metadata": {},
   "outputs": [],
   "source": [
    "import tensorflow\n",
    "import tensorflow_probability\n",
    "import pickle\n",
    "\n",
    "from cnn import CNN\n",
    "from reader import Reader\n",
    "from sklearn.metrics import classification_report, confusion_matrix \n",
    "from tensorflow.keras.utils import to_categorical\n",
    "import numpy as np"
   ]
  },
  {
   "cell_type": "code",
   "execution_count": 3,
   "id": "605c53f0",
   "metadata": {},
   "outputs": [],
   "source": [
    "EPOCHS = 10\n",
    "BATCH_SIZE = 128\n",
    "NUM_CLASSES = 2\n",
    "LEARN_RATE = 0.01\n",
    "EMBED_SIZE = 50\n",
    "FILENAME = \"data/twitter_data.pkl\"\n",
    "OVERSAMPLING_RATE = 3\n",
    "VOCAB_LEN = 10000\n",
    "LOSS_TYPE = \"logits\"\n",
    "MAX_LEN = 100\n",
    "\n",
    "reader = Reader(filename=FILENAME, num_classes=NUM_CLASSES, vocab_len=VOCAB_LEN)\n",
    "X, y = reader.load()\n",
    "\n",
    "mapping = {'racism':1,'sexism':1,'none':0}\n",
    "y = [mapping[b] for b in y]\n",
    "\n",
    "X_train, X_test, y_train, y_test = reader.split(X, y)\n",
    "\n",
    "# Oversampling after split\n",
    "hate = [i for i in range(len(y_train)) if y_train[i]==1]\n",
    "X_train = X_train + [X_train[x] for x in hate]*(OVERSAMPLING_RATE-1)\n",
    "y_train = y_train + [1 for i in range(len(hate))]*(OVERSAMPLING_RATE-1)\n",
    "\n",
    "X_train = np.asarray(X_train)\n",
    "X_test = np.asarray(X_test)\n",
    "y_train = to_categorical(y_train, num_classes=NUM_CLASSES)\n",
    "y_test = to_categorical(y_test, num_classes=NUM_CLASSES)"
   ]
  },
  {
   "cell_type": "code",
   "execution_count": 6,
   "id": "31984aea",
   "metadata": {},
   "outputs": [],
   "source": [
    "model = CNN(max_len=MAX_LEN,\n",
    "          num_classes=NUM_CLASSES, \n",
    "          batch_size=BATCH_SIZE, \n",
    "          epochs=EPOCHS, \n",
    "          embed_size=EMBED_SIZE, \n",
    "          vocab_len=VOCAB_LEN,\n",
    "          loss_type=LOSS_TYPE,\n",
    "          save_model=True,\n",
    "          save_path=\"results/cnn-10-epochs-hoseem-2-classes-logits\",\n",
    "          checkpoint_path=\"results/cnn-10-epochs-hoseem-2-classes-logits.ckpt\")"
   ]
  },
  {
   "cell_type": "code",
   "execution_count": 7,
   "id": "0cfb6542",
   "metadata": {},
   "outputs": [
    {
     "name": "stdout",
     "output_type": "stream",
     "text": [
      "Epoch 1/10\n",
      "185/185 [==============================] - ETA: 0s - loss: 0.9260 - accuracy: 0.6845\n",
      "Epoch 1: saving model to results\\cnn-10-epochs-hoseem-2-classes-logits.ckpt\n",
      "185/185 [==============================] - 17s 44ms/step - loss: 0.9260 - accuracy: 0.6845\n",
      "Epoch 2/10\n",
      "185/185 [==============================] - ETA: 0s - loss: 0.4130 - accuracy: 0.8631\n",
      "Epoch 2: saving model to results\\cnn-10-epochs-hoseem-2-classes-logits.ckpt\n",
      "185/185 [==============================] - 5s 25ms/step - loss: 0.4130 - accuracy: 0.8631\n",
      "Epoch 3/10\n",
      "185/185 [==============================] - ETA: 0s - loss: 0.2990 - accuracy: 0.9187\n",
      "Epoch 3: saving model to results\\cnn-10-epochs-hoseem-2-classes-logits.ckpt\n",
      "185/185 [==============================] - 5s 26ms/step - loss: 0.2990 - accuracy: 0.9187\n",
      "Epoch 4/10\n",
      "185/185 [==============================] - ETA: 0s - loss: 0.2311 - accuracy: 0.9424\n",
      "Epoch 4: saving model to results\\cnn-10-epochs-hoseem-2-classes-logits.ckpt\n",
      "185/185 [==============================] - 5s 27ms/step - loss: 0.2311 - accuracy: 0.9424\n",
      "Epoch 5/10\n",
      "185/185 [==============================] - ETA: 0s - loss: 0.1932 - accuracy: 0.9543\n",
      "Epoch 5: saving model to results\\cnn-10-epochs-hoseem-2-classes-logits.ckpt\n",
      "185/185 [==============================] - 5s 24ms/step - loss: 0.1932 - accuracy: 0.9543\n",
      "Epoch 6/10\n",
      "185/185 [==============================] - ETA: 0s - loss: 0.1577 - accuracy: 0.9661\n",
      "Epoch 6: saving model to results\\cnn-10-epochs-hoseem-2-classes-logits.ckpt\n",
      "185/185 [==============================] - 5s 24ms/step - loss: 0.1577 - accuracy: 0.9661\n",
      "Epoch 7/10\n",
      "183/185 [============================>.] - ETA: 0s - loss: 0.1362 - accuracy: 0.9735\n",
      "Epoch 7: saving model to results\\cnn-10-epochs-hoseem-2-classes-logits.ckpt\n",
      "185/185 [==============================] - 4s 23ms/step - loss: 0.1362 - accuracy: 0.9735\n",
      "Epoch 8/10\n",
      "183/185 [============================>.] - ETA: 0s - loss: 0.1179 - accuracy: 0.9775\n",
      "Epoch 8: saving model to results\\cnn-10-epochs-hoseem-2-classes-logits.ckpt\n",
      "185/185 [==============================] - 4s 23ms/step - loss: 0.1178 - accuracy: 0.9774\n",
      "Epoch 9/10\n",
      "184/185 [============================>.] - ETA: 0s - loss: 0.1034 - accuracy: 0.9818\n",
      "Epoch 9: saving model to results\\cnn-10-epochs-hoseem-2-classes-logits.ckpt\n",
      "185/185 [==============================] - 4s 23ms/step - loss: 0.1034 - accuracy: 0.9818\n",
      "Epoch 10/10\n",
      "184/185 [============================>.] - ETA: 0s - loss: 0.0919 - accuracy: 0.9851\n",
      "Epoch 10: saving model to results\\cnn-10-epochs-hoseem-2-classes-logits.ckpt\n",
      "185/185 [==============================] - 5s 26ms/step - loss: 0.0919 - accuracy: 0.9851\n"
     ]
    },
    {
     "name": "stderr",
     "output_type": "stream",
     "text": [
      "WARNING:absl:Found untraced functions such as _jit_compiled_convolution_op, _jit_compiled_convolution_op, _jit_compiled_convolution_op while saving (showing 3 of 3). These functions will not be directly callable after loading.\n"
     ]
    },
    {
     "name": "stdout",
     "output_type": "stream",
     "text": [
      "INFO:tensorflow:Assets written to: results/cnn-10-epochs-hoseem-2-classes-logits\\assets\n"
     ]
    },
    {
     "name": "stderr",
     "output_type": "stream",
     "text": [
      "INFO:tensorflow:Assets written to: results/cnn-10-epochs-hoseem-2-classes-logits\\assets\n"
     ]
    },
    {
     "data": {
      "text/plain": [
       "<keras.engine.functional.Functional at 0x1d136d49cd0>"
      ]
     },
     "execution_count": 7,
     "metadata": {},
     "output_type": "execute_result"
    }
   ],
   "source": [
    "model.fit(X_train, y_train)"
   ]
  },
  {
   "cell_type": "code",
   "execution_count": 8,
   "id": "a2648abc",
   "metadata": {},
   "outputs": [
    {
     "name": "stdout",
     "output_type": "stream",
     "text": [
      "51/51 [==============================] - 1s 21ms/step\n",
      "[[960 144]\n",
      " [121 384]]\n",
      "              precision    recall  f1-score   support\n",
      "\n",
      "           0       0.89      0.87      0.88      1104\n",
      "           1       0.73      0.76      0.74       505\n",
      "\n",
      "    accuracy                           0.84      1609\n",
      "   macro avg       0.81      0.81      0.81      1609\n",
      "weighted avg       0.84      0.84      0.84      1609\n",
      "\n"
     ]
    }
   ],
   "source": [
    "model_predictions = model.cnn.predict(X_test)\n",
    "predicted_classes = np.argmax(model_predictions, axis=1)\n",
    "actual_classes = np.argmax(y_test, axis=1)\n",
    "\n",
    "print(confusion_matrix(actual_classes, predicted_classes))\n",
    "print(classification_report(actual_classes, predicted_classes))"
   ]
  },
  {
   "cell_type": "code",
   "execution_count": 9,
   "id": "39ca3132",
   "metadata": {},
   "outputs": [
    {
     "data": {
      "text/plain": [
       "<tf.Tensor: shape=(), dtype=float32, numpy=0.08734518>"
      ]
     },
     "execution_count": 9,
     "metadata": {},
     "output_type": "execute_result"
    }
   ],
   "source": [
    "# Implementation from: https://github.com/ritun16/Machine_Learning_short_projecct/blob/master/Neural_Network_Calibration/model_calibration.ipynb\n",
    "# ECE result before calibration\n",
    "num_bins = 50\n",
    "model_actual_classes = np.argmax(y_test, axis=1)\n",
    "model_labels = tensorflow.convert_to_tensor(model_actual_classes, dtype=tensorflow.int32, name='labels_true')\n",
    "model_logits = tensorflow.convert_to_tensor(model_predictions, dtype=tensorflow.float32, name='logits')\n",
    "tensorflow_probability.stats.expected_calibration_error(num_bins=num_bins, \n",
    "                                     logits=model_logits, \n",
    "                                     labels_true=model_labels)"
   ]
  },
  {
   "cell_type": "code",
   "execution_count": 10,
   "id": "d98a012e",
   "metadata": {},
   "outputs": [
    {
     "name": "stdout",
     "output_type": "stream",
     "text": [
      "Temperature Initial value: 1.0\n",
      "Temperature Final value: 1.9471774101257324\n"
     ]
    }
   ],
   "source": [
    "# Temperature Scaling\n",
    "temp = tensorflow.Variable(initial_value=1.0, trainable=True, dtype=tensorflow.float32) \n",
    "\n",
    "def compute_loss():\n",
    "    pred_divisions = tensorflow.math.divide(model_predictions, temp)\n",
    "    loss = tensorflow.reduce_mean(tensorflow.nn.softmax_cross_entropy_with_logits(\\\n",
    "                                tensorflow.convert_to_tensor(tensorflow.keras.utils.to_categorical(model_actual_classes)), pred_divisions))\n",
    "    return loss\n",
    "\n",
    "optimizer = tensorflow.optimizers.Adam(learning_rate=0.01)\n",
    "\n",
    "print('Temperature Initial value: {}'.format(temp.numpy()))\n",
    "\n",
    "for i in range(300):\n",
    "    opts = optimizer.minimize(compute_loss, var_list=[temp])\n",
    "\n",
    "\n",
    "print('Temperature Final value: {}'.format(temp.numpy()))"
   ]
  },
  {
   "cell_type": "code",
   "execution_count": 11,
   "id": "f8e5c275",
   "metadata": {},
   "outputs": [
    {
     "data": {
      "text/plain": [
       "<tf.Tensor: shape=(), dtype=float32, numpy=0.061666507>"
      ]
     },
     "execution_count": 11,
     "metadata": {},
     "output_type": "execute_result"
    }
   ],
   "source": [
    "# ECE result after calibration\n",
    "pred_divisions = tensorflow.math.divide(model_predictions, temp)\n",
    "num_bins = 50\n",
    "labels_true = tensorflow.convert_to_tensor(model_actual_classes, dtype=tensorflow.int32, name='labels_true')\n",
    "logits = tensorflow.convert_to_tensor(pred_divisions, dtype=tensorflow.float32, name='logits')\n",
    "tensorflow_probability.stats.expected_calibration_error(num_bins=num_bins, \n",
    "                                     logits=logits, \n",
    "                                     labels_true=labels_true)"
   ]
  },
  {
   "cell_type": "code",
   "execution_count": 12,
   "id": "c182c612",
   "metadata": {},
   "outputs": [],
   "source": [
    "calibrated_predictions_all = tensorflow.nn.softmax(logits).numpy()\n",
    "calibrated_predictions = np.argmax(calibrated_predictions_all, axis=1)"
   ]
  },
  {
   "cell_type": "code",
   "execution_count": 13,
   "id": "be7982c9",
   "metadata": {},
   "outputs": [
    {
     "name": "stdout",
     "output_type": "stream",
     "text": [
      "[[960 144]\n",
      " [121 384]]\n",
      "              precision    recall  f1-score   support\n",
      "\n",
      "           0       0.89      0.87      0.88      1104\n",
      "           1       0.73      0.76      0.74       505\n",
      "\n",
      "    accuracy                           0.84      1609\n",
      "   macro avg       0.81      0.81      0.81      1609\n",
      "weighted avg       0.84      0.84      0.84      1609\n",
      "\n"
     ]
    }
   ],
   "source": [
    "# Accuracy should remain the same\n",
    "print(confusion_matrix(model_actual_classes, calibrated_predictions))\n",
    "print(classification_report(model_actual_classes, calibrated_predictions))"
   ]
  },
  {
   "cell_type": "code",
   "execution_count": 19,
   "id": "50dba6d6",
   "metadata": {},
   "outputs": [],
   "source": [
    "def to_predictions(predictions, labels):\n",
    "    predicted_classes = np.argmax(predictions, 1)\n",
    "    return list(map(lambda predicted_values, predicted_class, actual_class:\n",
    "                    {'predicted_class': class_name(predicted_class),\n",
    "                     'actual_class': class_name(actual_class),\n",
    "                     'predicted_value': predicted_values[predicted_class],\n",
    "                     'text': None},\n",
    "                    predictions, predicted_classes, labels))\n",
    "\n",
    "def class_name(index):\n",
    "    if index == 0:\n",
    "        return \"None\"\n",
    "    elif index == 1:\n",
    "        return \"Hate\"\n"
   ]
  },
  {
   "cell_type": "code",
   "execution_count": 20,
   "id": "17adb998",
   "metadata": {},
   "outputs": [
    {
     "ename": "NameError",
     "evalue": "name 'calibrated_predictions_all' is not defined",
     "output_type": "error",
     "traceback": [
      "\u001b[1;31m---------------------------------------------------------------------------\u001b[0m",
      "\u001b[1;31mNameError\u001b[0m                                 Traceback (most recent call last)",
      "\u001b[1;32m~\\AppData\\Local\\Temp/ipykernel_13852/487098007.py\u001b[0m in \u001b[0;36m<module>\u001b[1;34m\u001b[0m\n\u001b[1;32m----> 1\u001b[1;33m \u001b[0mcalibrated_predictions_info\u001b[0m \u001b[1;33m=\u001b[0m \u001b[0mto_predictions\u001b[0m\u001b[1;33m(\u001b[0m\u001b[0mcalibrated_predictions_all\u001b[0m\u001b[1;33m,\u001b[0m \u001b[0mmodel_actual_classes\u001b[0m\u001b[1;33m)\u001b[0m\u001b[1;33m\u001b[0m\u001b[1;33m\u001b[0m\u001b[0m\n\u001b[0m\u001b[0;32m      2\u001b[0m \u001b[0mpickle\u001b[0m\u001b[1;33m.\u001b[0m\u001b[0mdump\u001b[0m\u001b[1;33m(\u001b[0m\u001b[0mcalibrated_predictions_info\u001b[0m\u001b[1;33m,\u001b[0m \u001b[0mopen\u001b[0m\u001b[1;33m(\u001b[0m\u001b[1;34m\"results/cnn-hoseem-calibrated.p\"\u001b[0m\u001b[1;33m,\u001b[0m \u001b[1;34m\"wb\"\u001b[0m\u001b[1;33m)\u001b[0m\u001b[1;33m)\u001b[0m\u001b[1;33m\u001b[0m\u001b[1;33m\u001b[0m\u001b[0m\n",
      "\u001b[1;31mNameError\u001b[0m: name 'calibrated_predictions_all' is not defined"
     ]
    }
   ],
   "source": [
    "calibrated_predictions_info = to_predictions(calibrated_predictions_all, model_actual_classes)\n",
    "pickle.dump(calibrated_predictions_info, open(\"results/cnn-hoseem-calibrated.p\", \"wb\"))"
   ]
  },
  {
   "cell_type": "code",
   "execution_count": 21,
   "id": "922dc72a",
   "metadata": {},
   "outputs": [],
   "source": [
    "old_model = CNN.load(\"results/cnn-10-epochs-hoseem-2-classes\")"
   ]
  },
  {
   "cell_type": "code",
   "execution_count": 22,
   "id": "2607e9ad",
   "metadata": {},
   "outputs": [
    {
     "name": "stdout",
     "output_type": "stream",
     "text": [
      "51/51 [==============================] - 1s 7ms/step\n"
     ]
    }
   ],
   "source": [
    "old_model_predictions_all = old_model.predict(X_test)"
   ]
  },
  {
   "cell_type": "code",
   "execution_count": 23,
   "id": "54229703",
   "metadata": {},
   "outputs": [
    {
     "name": "stdout",
     "output_type": "stream",
     "text": [
      "[[0.9912293  0.00877067]\n",
      " [0.00567411 0.9943258 ]\n",
      " [0.0058198  0.9941802 ]\n",
      " ...\n",
      " [0.6191817  0.38081834]\n",
      " [0.98527575 0.01472421]\n",
      " [0.9885338  0.01146614]]\n",
      "[[979 125]\n",
      " [124 381]]\n",
      "              precision    recall  f1-score   support\n",
      "\n",
      "           0       0.89      0.89      0.89      1104\n",
      "           1       0.75      0.75      0.75       505\n",
      "\n",
      "    accuracy                           0.85      1609\n",
      "   macro avg       0.82      0.82      0.82      1609\n",
      "weighted avg       0.85      0.85      0.85      1609\n",
      "\n"
     ]
    }
   ],
   "source": [
    "old_model_predictions = np.argmax(old_model_predictions_all, axis=1)\n",
    "old_model_classes = np.argmax(y_test, axis=1)\n",
    "print(old_model_predictions_all)\n",
    "print(confusion_matrix(old_model_classes, old_model_predictions))\n",
    "print(classification_report(old_model_classes, old_model_predictions))"
   ]
  },
  {
   "cell_type": "code",
   "execution_count": 25,
   "id": "725e72fd",
   "metadata": {},
   "outputs": [],
   "source": [
    "old_model_predictions_info = to_predictions(old_model_predictions_all, old_model_classes)\n",
    "pickle.dump(old_model_predictions_info, open(\"results/cnn-hoseem-not-calibrated.p\", \"wb\"))"
   ]
  },
  {
   "cell_type": "code",
   "execution_count": null,
   "id": "a065d9cb",
   "metadata": {},
   "outputs": [],
   "source": []
  }
 ],
 "metadata": {
  "kernelspec": {
   "display_name": "Python [conda env:tensorflow]",
   "language": "python",
   "name": "conda-env-tensorflow-py"
  },
  "language_info": {
   "codemirror_mode": {
    "name": "ipython",
    "version": 3
   },
   "file_extension": ".py",
   "mimetype": "text/x-python",
   "name": "python",
   "nbconvert_exporter": "python",
   "pygments_lexer": "ipython3",
   "version": "3.8.5"
  }
 },
 "nbformat": 4,
 "nbformat_minor": 5
}
