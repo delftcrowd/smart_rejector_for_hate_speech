{
  "cells": [
    {
      "cell_type": "markdown",
      "metadata": {
        "id": "YFb53nvAS2Ng"
      },
      "source": [
        "# CNN model\n",
        "This notebook trains the CNN model."
      ]
    },
    {
      "cell_type": "markdown",
      "metadata": {
        "id": "1HD7NZIFUTAT"
      },
      "source": [
        "First we need to install the required packages."
      ]
    },
    {
      "cell_type": "code",
      "source": [
        "!pip install pyyaml h5py"
      ],
      "metadata": {
        "colab": {
          "base_uri": "https://localhost:8080/"
        },
        "id": "XmFnQgTg5Zyq",
        "outputId": "cd16022e-7266-427a-8524-4209fa8a5b5c"
      },
      "execution_count": null,
      "outputs": [
        {
          "output_type": "stream",
          "name": "stdout",
          "text": [
            "Looking in indexes: https://pypi.org/simple, https://us-python.pkg.dev/colab-wheels/public/simple/\n",
            "Requirement already satisfied: pyyaml in /usr/local/lib/python3.7/dist-packages (3.13)\n",
            "Requirement already satisfied: h5py in /usr/local/lib/python3.7/dist-packages (3.1.0)\n",
            "Requirement already satisfied: cached-property in /usr/local/lib/python3.7/dist-packages (from h5py) (1.5.2)\n",
            "Requirement already satisfied: numpy>=1.14.5 in /usr/local/lib/python3.7/dist-packages (from h5py) (1.21.6)\n"
          ]
        }
      ]
    },
    {
      "cell_type": "code",
      "execution_count": null,
      "metadata": {
        "colab": {
          "base_uri": "https://localhost:8080/"
        },
        "id": "vSXQNkYz2dOO",
        "outputId": "d49a39aa-5da4-4607-afab-fd54f3074c9d"
      },
      "outputs": [
        {
          "output_type": "stream",
          "name": "stdout",
          "text": [
            "Mounted at /content/drive\n"
          ]
        }
      ],
      "source": [
        "from google.colab import drive\n",
        "\n",
        "# Mount drive for loading the data\n",
        "drive.mount('/content/drive')\n",
        "\n",
        "import sys\n",
        "sys.path.append(\"drive/MyDrive/Colab Notebooks\")\n",
        "\n",
        "import tensorflow\n",
        "from cnn import CNN\n",
        "from reader import Reader\n",
        "from sklearn.metrics import classification_report, confusion_matrix \n",
        "import numpy as np\n",
        "from tensorflow.keras.utils import to_categorical\n",
        "import html\n",
        "from keras.layers import TextVectorization\n",
        "import tensorflow_probability\n",
        "import pickle\n",
        "from keras import models\n",
        "\n",
        "FILENAME = \"drive/MyDrive/Colab Notebooks/data/sem_eval_all.pkl\"\n",
        "TEMPERATURE = 2.216935634613037\n",
        "NUM_CLASSES = 2"
      ]
    },
    {
      "cell_type": "markdown",
      "metadata": {
        "id": "3Zg836CxTD2g"
      },
      "source": [
        "## Read and split the dataset"
      ]
    },
    {
      "cell_type": "code",
      "execution_count": null,
      "metadata": {
        "id": "gx7YKv07TOl3"
      },
      "outputs": [],
      "source": [
        "reader = Reader(filename=FILENAME)\n",
        "X, y = reader.load()\n",
        "\n",
        "mapping = {'hate': 1, 'none': 0}\n",
        "y = [mapping[b] for b in y]\n",
        "\n",
        "X_train, X_val, X_test, y_train, y_val, y_test = reader.split_with_validation(X, y)\n",
        "\n",
        "X_train = np.asarray(X_train)\n",
        "X_test = np.asarray(X_test)\n",
        "X_val = np.asarray(X_val)\n",
        "\n",
        "y_train = to_categorical(y_train, num_classes=NUM_CLASSES)\n",
        "y_test = to_categorical(y_test, num_classes=NUM_CLASSES)\n",
        "y_val = to_categorical(y_val, num_classes=NUM_CLASSES)"
      ]
    },
    {
      "cell_type": "markdown",
      "source": [
        "## Load the model"
      ],
      "metadata": {
        "id": "WF4HcAYP0PUl"
      }
    },
    {
      "cell_type": "code",
      "source": [
        "model = models.load_model('drive/MyDrive/Colab Notebooks/output/cnn-semeval')"
      ],
      "metadata": {
        "id": "htYqR1-lu0B0"
      },
      "execution_count": null,
      "outputs": []
    },
    {
      "cell_type": "markdown",
      "source": [
        "## Predict\n",
        "\n",
        "\n",
        "\n"
      ],
      "metadata": {
        "id": "Z4wG-emR87S-"
      }
    },
    {
      "cell_type": "code",
      "source": [
        "model_predictions = model.predict(X_test)\n",
        "pred_divisions = tensorflow.math.divide(model_predictions, TEMPERATURE)\n",
        "\n",
        "predicted_classes = np.argmax(model_predictions, axis=1)\n",
        "actual_classes = np.argmax(y_test, axis=1)\n",
        "\n",
        "print(confusion_matrix(actual_classes, predicted_classes))\n",
        "print(classification_report(actual_classes, predicted_classes))"
      ],
      "metadata": {
        "colab": {
          "base_uri": "https://localhost:8080/"
        },
        "id": "V9aVPlFK_t3q",
        "outputId": "9fe0ad45-c298-45ef-80e3-90732d5f3bc5"
      },
      "execution_count": null,
      "outputs": [
        {
          "output_type": "stream",
          "name": "stdout",
          "text": [
            "[[532 164]\n",
            " [196 308]]\n",
            "              precision    recall  f1-score   support\n",
            "\n",
            "           0       0.73      0.76      0.75       696\n",
            "           1       0.65      0.61      0.63       504\n",
            "\n",
            "    accuracy                           0.70      1200\n",
            "   macro avg       0.69      0.69      0.69      1200\n",
            "weighted avg       0.70      0.70      0.70      1200\n",
            "\n"
          ]
        }
      ]
    },
    {
      "cell_type": "code",
      "source": [
        "def to_predictions(predictions, labels):\n",
        "    predicted_classes = np.argmax(predictions, 1)\n",
        "    return list(map(lambda predicted_values, predicted_class, actual_class:\n",
        "                    {'predicted_class': class_name(predicted_class),\n",
        "                     'actual_class': class_name(actual_class),\n",
        "                     'predicted_value': predicted_values[predicted_class],\n",
        "                     'text': None},\n",
        "                    predictions, predicted_classes, labels))\n",
        "\n",
        "def class_name(index):\n",
        "    if index == 0:\n",
        "        return \"None\"\n",
        "    elif index == 1:\n",
        "        return \"Hate\"\n"
      ],
      "metadata": {
        "id": "DCGgKuEn6UJi"
      },
      "execution_count": null,
      "outputs": []
    },
    {
      "cell_type": "markdown",
      "source": [
        "## Export predictions"
      ],
      "metadata": {
        "id": "kRDESaZpB5AT"
      }
    },
    {
      "cell_type": "code",
      "source": [
        "# Run Softmax function on the logits to get class probabilities\n",
        "calibrated_predictions_all = tensorflow.nn.softmax(pred_divisions).numpy()\n",
        "calibrated_predictions = np.argmax(calibrated_predictions_all, axis=1)\n",
        "model_actual_classes = np.argmax(y_test, axis=1)"
      ],
      "metadata": {
        "id": "Bn3V1VanB1-p"
      },
      "execution_count": null,
      "outputs": []
    },
    {
      "cell_type": "code",
      "source": [
        "calibrated_predictions_info = to_predictions(calibrated_predictions_all, model_actual_classes)\n",
        "pickle.dump(calibrated_predictions_info, open(\"drive/MyDrive/Colab Notebooks/output/cnn-semeval-semeval.p\", \"wb\"))"
      ],
      "metadata": {
        "id": "mfXbTzeu6VUD"
      },
      "execution_count": null,
      "outputs": []
    },
    {
      "cell_type": "code",
      "source": [
        "softmax_non_calibrated = tensorflow.nn.softmax(model_predictions).numpy()\n",
        "probs = np.max(softmax_non_calibrated, axis=1)\n",
        "import matplotlib.pyplot as plt\n",
        "plt.hist(probs, bins=40)\n",
        "plt.show()"
      ],
      "metadata": {
        "colab": {
          "base_uri": "https://localhost:8080/",
          "height": 265
        },
        "id": "qrA0ojeQ70yu",
        "outputId": "8b698471-8032-42f2-bd2c-9d36b86aa8dc"
      },
      "execution_count": null,
      "outputs": [
        {
          "output_type": "display_data",
          "data": {
            "text/plain": [
              "<Figure size 432x288 with 1 Axes>"
            ],
            "image/png": "[encoded data removed]"
          },
          "metadata": {
            "needs_background": "light"
          }
        }
      ]
    },
    {
      "cell_type": "code",
      "source": [
        "probs = np.max(calibrated_predictions_all, axis=1)\n",
        "import matplotlib.pyplot as plt\n",
        "plt.hist(probs, bins=40)\n",
        "plt.show()"
      ],
      "metadata": {
        "colab": {
          "base_uri": "https://localhost:8080/",
          "height": 265
        },
        "id": "AqkSQKJy8Sfh",
        "outputId": "7aef43e5-565e-4b0d-fcaf-3921b4db0d77"
      },
      "execution_count": null,
      "outputs": [
        {
          "output_type": "display_data",
          "data": {
            "text/plain": [
              "<Figure size 432x288 with 1 Axes>"
            ],
            "image/png": "[encoded data removed]"
          },
          "metadata": {
            "needs_background": "light"
          }
        }
      ]
    }
  ],
  "metadata": {
    "accelerator": "TPU",
    "colab": {
      "collapsed_sections": [],
      "name": "Test CNN (semeval - semeval).ipynb",
      "provenance": [],
      "machine_shape": "hm"
    },
    "gpuClass": "standard",
    "kernelspec": {
      "display_name": "Python 3",
      "name": "python3"
    },
    "language_info": {
      "name": "python"
    }
  },
  "nbformat": 4,
  "nbformat_minor": 0
}