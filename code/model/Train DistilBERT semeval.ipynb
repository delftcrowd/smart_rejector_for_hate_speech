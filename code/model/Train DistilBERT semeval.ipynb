{
  "cells": [
    {
      "cell_type": "markdown",
      "metadata": {
        "id": "YFb53nvAS2Ng"
      },
      "source": [
        "# DistilBERT model\n",
        "This notebook trains the DistilBERT model and exports a set of predictions for a test dataset.\n",
        "\n",
        "**Trains on:** SemEval (2019)"
      ]
    },
    {
      "cell_type": "markdown",
      "metadata": {
        "id": "1HD7NZIFUTAT"
      },
      "source": [
        "First we need to install the required packages."
      ]
    },
    {
      "cell_type": "code",
      "execution_count": 12,
      "metadata": {
        "colab": {
          "base_uri": "https://localhost:8080/"
        },
        "id": "wgEVB_DHBRjN",
        "outputId": "06695dfd-6bc0-40f6-b3ef-57d85491677b"
      },
      "outputs": [
        {
          "name": "stdout",
          "output_type": "stream",
          "text": [
            "Looking in indexes: https://pypi.org/simple, https://us-python.pkg.dev/colab-wheels/public/simple/\n",
            "Requirement already satisfied: transformers in /usr/local/lib/python3.7/dist-packages (4.20.1)\n",
            "Requirement already satisfied: requests in /usr/local/lib/python3.7/dist-packages (from transformers) (2.23.0)\n",
            "Requirement already satisfied: tokenizers!=0.11.3,<0.13,>=0.11.1 in /usr/local/lib/python3.7/dist-packages (from transformers) (0.12.1)\n",
            "Requirement already satisfied: pyyaml>=5.1 in /usr/local/lib/python3.7/dist-packages (from transformers) (6.0)\n",
            "Requirement already satisfied: importlib-metadata in /usr/local/lib/python3.7/dist-packages (from transformers) (4.11.4)\n",
            "Requirement already satisfied: tqdm>=4.27 in /usr/local/lib/python3.7/dist-packages (from transformers) (4.64.0)\n",
            "Requirement already satisfied: regex!=2019.12.17 in /usr/local/lib/python3.7/dist-packages (from transformers) (2022.6.2)\n",
            "Requirement already satisfied: filelock in /usr/local/lib/python3.7/dist-packages (from transformers) (3.7.1)\n",
            "Requirement already satisfied: huggingface-hub<1.0,>=0.1.0 in /usr/local/lib/python3.7/dist-packages (from transformers) (0.8.1)\n",
            "Requirement already satisfied: numpy>=1.17 in /usr/local/lib/python3.7/dist-packages (from transformers) (1.21.6)\n",
            "Requirement already satisfied: packaging>=20.0 in /usr/local/lib/python3.7/dist-packages (from transformers) (21.3)\n",
            "Requirement already satisfied: typing-extensions>=3.7.4.3 in /usr/local/lib/python3.7/dist-packages (from huggingface-hub<1.0,>=0.1.0->transformers) (4.1.1)\n",
            "Requirement already satisfied: pyparsing!=3.0.5,>=2.0.2 in /usr/local/lib/python3.7/dist-packages (from packaging>=20.0->transformers) (3.0.9)\n",
            "Requirement already satisfied: zipp>=0.5 in /usr/local/lib/python3.7/dist-packages (from importlib-metadata->transformers) (3.8.0)\n",
            "Requirement already satisfied: chardet<4,>=3.0.2 in /usr/local/lib/python3.7/dist-packages (from requests->transformers) (3.0.4)\n",
            "Requirement already satisfied: certifi>=2017.4.17 in /usr/local/lib/python3.7/dist-packages (from requests->transformers) (2022.6.15)\n",
            "Requirement already satisfied: urllib3!=1.25.0,!=1.25.1,<1.26,>=1.21.1 in /usr/local/lib/python3.7/dist-packages (from requests->transformers) (1.25.11)\n",
            "Requirement already satisfied: idna<3,>=2.5 in /usr/local/lib/python3.7/dist-packages (from requests->transformers) (2.10)\n"
          ]
        }
      ],
      "source": [
        "!pip install transformers"
      ]
    },
    {
      "cell_type": "code",
      "execution_count": 13,
      "metadata": {
        "colab": {
          "base_uri": "https://localhost:8080/"
        },
        "id": "sD4XH6n5CWYf",
        "outputId": "68f06f11-9dbf-4c57-e04d-9aaa215c3f8e"
      },
      "outputs": [
        {
          "name": "stdout",
          "output_type": "stream",
          "text": [
            "Looking in indexes: https://pypi.org/simple, https://us-python.pkg.dev/colab-wheels/public/simple/\n",
            "Requirement already satisfied: torch in /usr/local/lib/python3.7/dist-packages (1.11.0+cu113)\n",
            "Requirement already satisfied: typing-extensions in /usr/local/lib/python3.7/dist-packages (from torch) (4.1.1)\n"
          ]
        }
      ],
      "source": [
        "!pip install torch"
      ]
    },
    {
      "cell_type": "code",
      "execution_count": 14,
      "metadata": {
        "colab": {
          "base_uri": "https://localhost:8080/"
        },
        "id": "5jm87m9SCWs1",
        "outputId": "9a1496d5-de11-4bcc-d44c-87a9df606baa"
      },
      "outputs": [
        {
          "name": "stdout",
          "output_type": "stream",
          "text": [
            "Looking in indexes: https://pypi.org/simple, https://us-python.pkg.dev/colab-wheels/public/simple/\n",
            "Requirement already satisfied: datasets in /usr/local/lib/python3.7/dist-packages (2.3.2)\n",
            "Requirement already satisfied: pyarrow>=6.0.0 in /usr/local/lib/python3.7/dist-packages (from datasets) (6.0.1)\n",
            "Requirement already satisfied: multiprocess in /usr/local/lib/python3.7/dist-packages (from datasets) (0.70.13)\n",
            "Requirement already satisfied: packaging in /usr/local/lib/python3.7/dist-packages (from datasets) (21.3)\n",
            "Requirement already satisfied: aiohttp in /usr/local/lib/python3.7/dist-packages (from datasets) (3.8.1)\n",
            "Requirement already satisfied: fsspec[http]>=2021.05.0 in /usr/local/lib/python3.7/dist-packages (from datasets) (2022.5.0)\n",
            "Requirement already satisfied: pandas in /usr/local/lib/python3.7/dist-packages (from datasets) (1.3.5)\n",
            "Requirement already satisfied: requests>=2.19.0 in /usr/local/lib/python3.7/dist-packages (from datasets) (2.23.0)\n",
            "Requirement already satisfied: numpy>=1.17 in /usr/local/lib/python3.7/dist-packages (from datasets) (1.21.6)\n",
            "Requirement already satisfied: tqdm>=4.62.1 in /usr/local/lib/python3.7/dist-packages (from datasets) (4.64.0)\n",
            "Requirement already satisfied: dill<0.3.6 in /usr/local/lib/python3.7/dist-packages (from datasets) (0.3.5.1)\n",
            "Requirement already satisfied: xxhash in /usr/local/lib/python3.7/dist-packages (from datasets) (3.0.0)\n",
            "Requirement already satisfied: importlib-metadata in /usr/local/lib/python3.7/dist-packages (from datasets) (4.11.4)\n",
            "Requirement already satisfied: responses<0.19 in /usr/local/lib/python3.7/dist-packages (from datasets) (0.18.0)\n",
            "Requirement already satisfied: huggingface-hub<1.0.0,>=0.1.0 in /usr/local/lib/python3.7/dist-packages (from datasets) (0.8.1)\n",
            "Requirement already satisfied: pyyaml>=5.1 in /usr/local/lib/python3.7/dist-packages (from huggingface-hub<1.0.0,>=0.1.0->datasets) (6.0)\n",
            "Requirement already satisfied: typing-extensions>=3.7.4.3 in /usr/local/lib/python3.7/dist-packages (from huggingface-hub<1.0.0,>=0.1.0->datasets) (4.1.1)\n",
            "Requirement already satisfied: filelock in /usr/local/lib/python3.7/dist-packages (from huggingface-hub<1.0.0,>=0.1.0->datasets) (3.7.1)\n",
            "Requirement already satisfied: pyparsing!=3.0.5,>=2.0.2 in /usr/local/lib/python3.7/dist-packages (from packaging->datasets) (3.0.9)\n",
            "Requirement already satisfied: urllib3!=1.25.0,!=1.25.1,<1.26,>=1.21.1 in /usr/local/lib/python3.7/dist-packages (from requests>=2.19.0->datasets) (1.25.11)\n",
            "Requirement already satisfied: certifi>=2017.4.17 in /usr/local/lib/python3.7/dist-packages (from requests>=2.19.0->datasets) (2022.6.15)\n",
            "Requirement already satisfied: chardet<4,>=3.0.2 in /usr/local/lib/python3.7/dist-packages (from requests>=2.19.0->datasets) (3.0.4)\n",
            "Requirement already satisfied: idna<3,>=2.5 in /usr/local/lib/python3.7/dist-packages (from requests>=2.19.0->datasets) (2.10)\n",
            "Requirement already satisfied: frozenlist>=1.1.1 in /usr/local/lib/python3.7/dist-packages (from aiohttp->datasets) (1.3.0)\n",
            "Requirement already satisfied: multidict<7.0,>=4.5 in /usr/local/lib/python3.7/dist-packages (from aiohttp->datasets) (6.0.2)\n",
            "Requirement already satisfied: attrs>=17.3.0 in /usr/local/lib/python3.7/dist-packages (from aiohttp->datasets) (21.4.0)\n",
            "Requirement already satisfied: charset-normalizer<3.0,>=2.0 in /usr/local/lib/python3.7/dist-packages (from aiohttp->datasets) (2.0.12)\n",
            "Requirement already satisfied: aiosignal>=1.1.2 in /usr/local/lib/python3.7/dist-packages (from aiohttp->datasets) (1.2.0)\n",
            "Requirement already satisfied: yarl<2.0,>=1.0 in /usr/local/lib/python3.7/dist-packages (from aiohttp->datasets) (1.7.2)\n",
            "Requirement already satisfied: async-timeout<5.0,>=4.0.0a3 in /usr/local/lib/python3.7/dist-packages (from aiohttp->datasets) (4.0.2)\n",
            "Requirement already satisfied: asynctest==0.13.0 in /usr/local/lib/python3.7/dist-packages (from aiohttp->datasets) (0.13.0)\n",
            "Requirement already satisfied: zipp>=0.5 in /usr/local/lib/python3.7/dist-packages (from importlib-metadata->datasets) (3.8.0)\n",
            "Requirement already satisfied: pytz>=2017.3 in /usr/local/lib/python3.7/dist-packages (from pandas->datasets) (2022.1)\n",
            "Requirement already satisfied: python-dateutil>=2.7.3 in /usr/local/lib/python3.7/dist-packages (from pandas->datasets) (2.8.2)\n",
            "Requirement already satisfied: six>=1.5 in /usr/local/lib/python3.7/dist-packages (from python-dateutil>=2.7.3->pandas->datasets) (1.15.0)\n"
          ]
        }
      ],
      "source": [
        "!pip install datasets"
      ]
    },
    {
      "cell_type": "code",
      "execution_count": 15,
      "metadata": {
        "colab": {
          "base_uri": "https://localhost:8080/"
        },
        "id": "GrHRTFMkx6JT",
        "outputId": "7ff22268-61a7-4e06-deb0-b0b9865c44d1"
      },
      "outputs": [
        {
          "name": "stdout",
          "output_type": "stream",
          "text": [
            "Looking in indexes: https://pypi.org/simple, https://us-python.pkg.dev/colab-wheels/public/simple/\n",
            "Requirement already satisfied: tweet-preprocessor in /usr/local/lib/python3.7/dist-packages (0.6.0)\n"
          ]
        }
      ],
      "source": [
        "!pip install tweet-preprocessor"
      ]
    },
    {
      "cell_type": "code",
      "execution_count": 16,
      "metadata": {
        "colab": {
          "base_uri": "https://localhost:8080/"
        },
        "id": "vSXQNkYz2dOO",
        "outputId": "cd707c6e-3a2c-457f-e9d8-53d0b415aefc"
      },
      "outputs": [
        {
          "name": "stdout",
          "output_type": "stream",
          "text": [
            "Drive already mounted at /content/drive; to attempt to forcibly remount, call drive.mount(\"/content/drive\", force_remount=True).\n"
          ]
        }
      ],
      "source": [
        "from google.colab import drive\n",
        "\n",
        "# Mount drive for loading the data\n",
        "drive.mount('/content/drive')\n",
        "\n",
        "import sys\n",
        "sys.path.append(\"drive/MyDrive/Colab Notebooks\")\n",
        "\n",
        "from transformers import DistilBertForSequenceClassification, Trainer, TrainingArguments, DistilBertTokenizer\n",
        "import numpy as np\n",
        "from datasets import load_metric, load_dataset, Dataset\n",
        "from sklearn.model_selection import train_test_split\n",
        "import pickle\n",
        "import torch\n",
        "from google.colab import drive\n",
        "import preprocessor as p\n",
        "import html\n",
        "from torch.utils.data import DataLoader\n",
        "import torch.nn.functional as nn\n",
        "from reader import Reader\n",
        "\n",
        "FILENAME = \"drive/MyDrive/Colab Notebooks/data/sem_eval_all.pkl\"\n",
        "NUM_LABELS = 2\n",
        "BATCH_SIZE = 128\n",
        "NUM_EPOCHS = 5"
      ]
    },
    {
      "cell_type": "markdown",
      "metadata": {
        "id": "3Zg836CxTD2g"
      },
      "source": [
        "## Split and tokenize the datasets"
      ]
    },
    {
      "cell_type": "code",
      "execution_count": 17,
      "metadata": {
        "id": "gx7YKv07TOl3"
      },
      "outputs": [],
      "source": [
        "class HateDataset(torch.utils.data.Dataset):\n",
        "    \"\"\"Dataset class used for combining the data encodings and labels.\"\"\"\n",
        "    def __init__(self, encodings, labels):\n",
        "        self.encodings = encodings\n",
        "        self.labels = labels\n",
        "\n",
        "    def __getitem__(self, idx):\n",
        "        item = {key: torch.tensor(val[idx]) for key, val in self.encodings.items()}\n",
        "        item['labels'] = torch.tensor(self.labels[idx])\n",
        "        return item\n",
        "\n",
        "    def __len__(self):\n",
        "        return len(self.labels)\n",
        "\n",
        "def preprocess(data):\n",
        "    \"\"\"Preprocesses the data by tokenizing URLs and MENTIONS since these do not\n",
        "    contain any valuable information.\"\"\"\n",
        "    p.set_options(p.OPT.URL, p.OPT.MENTION)\n",
        "\n",
        "    return list(map(lambda text: p.tokenize(html.unescape(text)), data))"
      ]
    },
    {
      "cell_type": "code",
      "execution_count": 18,
      "metadata": {
        "colab": {
          "base_uri": "https://localhost:8080/"
        },
        "id": "vaNM4xTECiA4",
        "outputId": "3ec7bb15-67d2-49f9-b4d2-c9615b000ea1"
      },
      "outputs": [
        {
          "name": "stderr",
          "output_type": "stream",
          "text": [
            "loading file https://huggingface.co/distilbert-base-uncased/resolve/main/vocab.txt from cache at /root/.cache/huggingface/transformers/0e1bbfda7f63a99bb52e3915dcf10c3c92122b827d92eb2d34ce94ee79ba486c.d789d64ebfe299b0e416afc4a169632f903f693095b4629a7ea271d5a0cf2c99\n",
            "loading file https://huggingface.co/distilbert-base-uncased/resolve/main/added_tokens.json from cache at None\n",
            "loading file https://huggingface.co/distilbert-base-uncased/resolve/main/special_tokens_map.json from cache at None\n",
            "loading file https://huggingface.co/distilbert-base-uncased/resolve/main/tokenizer_config.json from cache at /root/.cache/huggingface/transformers/8c8624b8ac8aa99c60c912161f8332de003484428c47906d7ff7eb7f73eecdbb.20430bd8e10ef77a7d2977accefe796051e01bc2fc4aa146bc862997a1a15e79\n",
            "loading configuration file https://huggingface.co/distilbert-base-uncased/resolve/main/config.json from cache at /root/.cache/huggingface/transformers/23454919702d26495337f3da04d1655c7ee010d5ec9d77bdb9e399e00302c0a1.91b885ab15d631bf9cee9dc9d25ece0afd932f2f5130eba28f2055b2220c0333\n",
            "Model config DistilBertConfig {\n",
            "  \"_name_or_path\": \"distilbert-base-uncased\",\n",
            "  \"activation\": \"gelu\",\n",
            "  \"architectures\": [\n",
            "    \"DistilBertForMaskedLM\"\n",
            "  ],\n",
            "  \"attention_dropout\": 0.1,\n",
            "  \"dim\": 768,\n",
            "  \"dropout\": 0.1,\n",
            "  \"hidden_dim\": 3072,\n",
            "  \"initializer_range\": 0.02,\n",
            "  \"max_position_embeddings\": 512,\n",
            "  \"model_type\": \"distilbert\",\n",
            "  \"n_heads\": 12,\n",
            "  \"n_layers\": 6,\n",
            "  \"pad_token_id\": 0,\n",
            "  \"qa_dropout\": 0.1,\n",
            "  \"seq_classif_dropout\": 0.2,\n",
            "  \"sinusoidal_pos_embds\": false,\n",
            "  \"tie_weights_\": true,\n",
            "  \"transformers_version\": \"4.20.1\",\n",
            "  \"vocab_size\": 30522\n",
            "}\n",
            "\n"
          ]
        }
      ],
      "source": [
        "reader = Reader(filename=FILENAME)\n",
        "X, y = reader.load()\n",
        "X = preprocess(X)\n",
        "\n",
        "mapping = {'hate': 1, 'none': 0}\n",
        "y = [mapping[b] for b in y]\n",
        "\n",
        "# Split dataset into train, test, and validation\n",
        "X_train, X_test, y_train, y_test = train_test_split(X, y, random_state=10, stratify=y, test_size=0.10)\n",
        "X_train, X_val, y_train, y_val = train_test_split(X_train, y_train, random_state=10, test_size=.2)\n",
        "tokenizer = DistilBertTokenizer.from_pretrained(\"distilbert-base-uncased\")\n",
        "\n",
        "# Tokenize all datasets\n",
        "train_encodings = tokenizer(X_train, truncation=True, padding=True)\n",
        "val_encodings = tokenizer(X_val, truncation=True, padding=True)\n",
        "test_encodings = tokenizer(X_test, truncation=True, padding=True)\n",
        "\n",
        "# Combine the encodings with the labels to Torch datasets\n",
        "train_dataset = HateDataset(train_encodings, y_train)\n",
        "val_dataset = HateDataset(val_encodings, y_val)\n",
        "test_dataset = HateDataset(test_encodings, y_test)"
      ]
    },
    {
      "cell_type": "markdown",
      "metadata": {
        "id": "c0X08H2VTte0"
      },
      "source": [
        "## Load accuracy metric for the model's evaluation"
      ]
    },
    {
      "cell_type": "code",
      "execution_count": 19,
      "metadata": {
        "id": "V0q4K3lnLNsj"
      },
      "outputs": [],
      "source": [
        "metric = load_metric(\"accuracy\")\n",
        "\n",
        "def compute_metrics(eval_pred):\n",
        "    logits, labels = eval_pred\n",
        "    predictions = np.argmax(logits, axis=-1)\n",
        "    return metric.compute(predictions=predictions, references=labels)"
      ]
    },
    {
      "cell_type": "markdown",
      "metadata": {
        "id": "r1NUgKx9TyEM"
      },
      "source": [
        "## Setup DistilBERT model"
      ]
    },
    {
      "cell_type": "code",
      "execution_count": 20,
      "metadata": {
        "colab": {
          "base_uri": "https://localhost:8080/"
        },
        "id": "jkyB35W7CiOm",
        "outputId": "96b1597d-6c56-4bf5-e8ff-afb135e40445"
      },
      "outputs": [
        {
          "name": "stderr",
          "output_type": "stream",
          "text": [
            "loading configuration file https://huggingface.co/distilbert-base-uncased/resolve/main/config.json from cache at /root/.cache/huggingface/transformers/23454919702d26495337f3da04d1655c7ee010d5ec9d77bdb9e399e00302c0a1.91b885ab15d631bf9cee9dc9d25ece0afd932f2f5130eba28f2055b2220c0333\n",
            "Model config DistilBertConfig {\n",
            "  \"activation\": \"gelu\",\n",
            "  \"architectures\": [\n",
            "    \"DistilBertForMaskedLM\"\n",
            "  ],\n",
            "  \"attention_dropout\": 0.1,\n",
            "  \"dim\": 768,\n",
            "  \"dropout\": 0.1,\n",
            "  \"hidden_dim\": 3072,\n",
            "  \"initializer_range\": 0.02,\n",
            "  \"max_position_embeddings\": 512,\n",
            "  \"model_type\": \"distilbert\",\n",
            "  \"n_heads\": 12,\n",
            "  \"n_layers\": 6,\n",
            "  \"pad_token_id\": 0,\n",
            "  \"qa_dropout\": 0.1,\n",
            "  \"seq_classif_dropout\": 0.2,\n",
            "  \"sinusoidal_pos_embds\": false,\n",
            "  \"tie_weights_\": true,\n",
            "  \"transformers_version\": \"4.20.1\",\n",
            "  \"vocab_size\": 30522\n",
            "}\n",
            "\n",
            "loading weights file https://huggingface.co/distilbert-base-uncased/resolve/main/pytorch_model.bin from cache at /root/.cache/huggingface/transformers/9c169103d7e5a73936dd2b627e42851bec0831212b677c637033ee4bce9ab5ee.126183e36667471617ae2f0835fab707baa54b731f991507ebbb55ea85adb12a\n",
            "Some weights of the model checkpoint at distilbert-base-uncased were not used when initializing DistilBertForSequenceClassification: ['vocab_projector.weight', 'vocab_transform.weight', 'vocab_layer_norm.bias', 'vocab_layer_norm.weight', 'vocab_projector.bias', 'vocab_transform.bias']\n",
            "- This IS expected if you are initializing DistilBertForSequenceClassification from the checkpoint of a model trained on another task or with another architecture (e.g. initializing a BertForSequenceClassification model from a BertForPreTraining model).\n",
            "- This IS NOT expected if you are initializing DistilBertForSequenceClassification from the checkpoint of a model that you expect to be exactly identical (initializing a BertForSequenceClassification model from a BertForSequenceClassification model).\n",
            "Some weights of DistilBertForSequenceClassification were not initialized from the model checkpoint at distilbert-base-uncased and are newly initialized: ['pre_classifier.weight', 'classifier.weight', 'pre_classifier.bias', 'classifier.bias']\n",
            "You should probably TRAIN this model on a down-stream task to be able to use it for predictions and inference.\n",
            "PyTorch: setting up devices\n",
            "The default value for the training argument `--report_to` will change in v5 (from all installed integrations to none). In v5, you will need to use `--report_to all` to get the same behavior as now. You should start updating your code and make this info disappear :-).\n"
          ]
        }
      ],
      "source": [
        "model = DistilBertForSequenceClassification.from_pretrained(\"distilbert-base-uncased\", num_labels=NUM_LABELS)\n",
        "training_args = TrainingArguments(output_dir=\"train\", evaluation_strategy=\"epoch\", per_device_train_batch_size=BATCH_SIZE, num_train_epochs=NUM_EPOCHS)\n",
        "\n",
        "trainer = Trainer(\n",
        "    model=model,\n",
        "    args=training_args,\n",
        "    train_dataset=train_dataset,\n",
        "    eval_dataset=val_dataset ,\n",
        "    compute_metrics=compute_metrics\n",
        ")"
      ]
    },
    {
      "cell_type": "markdown",
      "metadata": {
        "id": "2pNT0IfeT59n"
      },
      "source": [
        "## Training"
      ]
    },
    {
      "cell_type": "code",
      "execution_count": 21,
      "metadata": {
        "colab": {
          "base_uri": "https://localhost:8080/",
          "height": 768
        },
        "id": "nvIsddm6T45B",
        "outputId": "a818dce3-8614-430b-9222-447b815a5d9d"
      },
      "outputs": [
        {
          "name": "stderr",
          "output_type": "stream",
          "text": [
            "/usr/local/lib/python3.7/dist-packages/transformers/optimization.py:310: FutureWarning: This implementation of AdamW is deprecated and will be removed in a future version. Use the PyTorch implementation torch.optim.AdamW instead, or set `no_deprecation_warning=True` to disable this warning\n",
            "  FutureWarning,\n",
            "***** Running training *****\n",
            "  Num examples = 8640\n",
            "  Num Epochs = 5\n",
            "  Instantaneous batch size per device = 128\n",
            "  Total train batch size (w. parallel, distributed & accumulation) = 128\n",
            "  Gradient Accumulation steps = 1\n",
            "  Total optimization steps = 340\n"
          ]
        },
        {
          "data": {
            "text/html": [
              "\n",
              "    <div>\n",
              "      \n",
              "      <progress value='340' max='340' style='width:300px; height:20px; vertical-align: middle;'></progress>\n",
              "      [340/340 06:01, Epoch 5/5]\n",
              "    </div>\n",
              "    <table border=\"1\" class=\"dataframe\">\n",
              "  <thead>\n",
              " <tr style=\"text-align: left;\">\n",
              "      <th>Epoch</th>\n",
              "      <th>Training Loss</th>\n",
              "      <th>Validation Loss</th>\n",
              "      <th>Accuracy</th>\n",
              "    </tr>\n",
              "  </thead>\n",
              "  <tbody>\n",
              "    <tr>\n",
              "      <td>1</td>\n",
              "      <td>No log</td>\n",
              "      <td>0.481421</td>\n",
              "      <td>0.753241</td>\n",
              "    </tr>\n",
              "    <tr>\n",
              "      <td>2</td>\n",
              "      <td>No log</td>\n",
              "      <td>0.441610</td>\n",
              "      <td>0.789815</td>\n",
              "    </tr>\n",
              "    <tr>\n",
              "      <td>3</td>\n",
              "      <td>No log</td>\n",
              "      <td>0.470808</td>\n",
              "      <td>0.791667</td>\n",
              "    </tr>\n",
              "    <tr>\n",
              "      <td>4</td>\n",
              "      <td>No log</td>\n",
              "      <td>0.524515</td>\n",
              "      <td>0.788889</td>\n",
              "    </tr>\n",
              "    <tr>\n",
              "      <td>5</td>\n",
              "      <td>No log</td>\n",
              "      <td>0.565094</td>\n",
              "      <td>0.793981</td>\n",
              "    </tr>\n",
              "  </tbody>\n",
              "</table><p>"
            ],
            "text/plain": [
              "<IPython.core.display.HTML object>"
            ]
          },
          "metadata": {},
          "output_type": "display_data"
        },
        {
          "name": "stderr",
          "output_type": "stream",
          "text": [
            "***** Running Evaluation *****\n",
            "  Num examples = 2160\n",
            "  Batch size = 8\n",
            "***** Running Evaluation *****\n",
            "  Num examples = 2160\n",
            "  Batch size = 8\n",
            "***** Running Evaluation *****\n",
            "  Num examples = 2160\n",
            "  Batch size = 8\n",
            "***** Running Evaluation *****\n",
            "  Num examples = 2160\n",
            "  Batch size = 8\n",
            "***** Running Evaluation *****\n",
            "  Num examples = 2160\n",
            "  Batch size = 8\n",
            "\n",
            "\n",
            "Training completed. Do not forget to share your model on huggingface.co/models =)\n",
            "\n",
            "\n"
          ]
        },
        {
          "data": {
            "text/plain": [
              "TrainOutput(global_step=340, training_loss=0.32446915121639475, metrics={'train_runtime': 362.7656, 'train_samples_per_second': 119.085, 'train_steps_per_second': 0.937, 'total_flos': 1978317806803200.0, 'train_loss': 0.32446915121639475, 'epoch': 5.0})"
            ]
          },
          "execution_count": 21,
          "metadata": {},
          "output_type": "execute_result"
        }
      ],
      "source": [
        "trainer.train()"
      ]
    },
    {
      "cell_type": "code",
      "execution_count": 22,
      "metadata": {
        "id": "rfSZ8nm94AXa"
      },
      "outputs": [],
      "source": [
        "path = F\"drive/MyDrive/Colab Notebooks/output/distilbert-semeval.pth\" \n",
        "torch.save(model, path)"
      ]
    },
    {
      "cell_type": "code",
      "execution_count": 23,
      "metadata": {
        "id": "2neuGSIe4Pde"
      },
      "outputs": [],
      "source": [
        "model = torch.load(path)"
      ]
    },
    {
      "cell_type": "markdown",
      "metadata": {
        "id": "NUIO_JgFVfZ3"
      },
      "source": [
        "## Model calibration\n",
        "We use temperature scaling to calibrate the model on the validation set by finding the optimal T value."
      ]
    },
    {
      "cell_type": "code",
      "execution_count": 24,
      "metadata": {
        "id": "ViXRjzkVWjv6"
      },
      "outputs": [],
      "source": [
        "import sys\n",
        "sys.path.append(\"drive/MyDrive/Colab Notebooks\")\n",
        "from temperature_scaling import ModelWithTemperature\n"
      ]
    },
    {
      "cell_type": "code",
      "execution_count": 25,
      "metadata": {
        "colab": {
          "base_uri": "https://localhost:8080/"
        },
        "id": "dXGs9Kb7g2at",
        "outputId": "14d3e16b-ab86-46c3-9ee2-ea11456d3d49"
      },
      "outputs": [
        {
          "name": "stdout",
          "output_type": "stream",
          "text": [
            "Before temperature - NLL: 0.651, ECE: 0.155\n",
            "Optimal temperature: 1.646\n",
            "After temperature - NLL: 0.564, ECE: 0.104\n"
          ]
        },
        {
          "data": {
            "text/plain": [
              "ModelWithTemperature(\n",
              "  (model): DistilBertForSequenceClassification(\n",
              "    (distilbert): DistilBertModel(\n",
              "      (embeddings): Embeddings(\n",
              "        (word_embeddings): Embedding(30522, 768, padding_idx=0)\n",
              "        (position_embeddings): Embedding(512, 768)\n",
              "        (LayerNorm): LayerNorm((768,), eps=1e-12, elementwise_affine=True)\n",
              "        (dropout): Dropout(p=0.1, inplace=False)\n",
              "      )\n",
              "      (transformer): Transformer(\n",
              "        (layer): ModuleList(\n",
              "          (0): TransformerBlock(\n",
              "            (attention): MultiHeadSelfAttention(\n",
              "              (dropout): Dropout(p=0.1, inplace=False)\n",
              "              (q_lin): Linear(in_features=768, out_features=768, bias=True)\n",
              "              (k_lin): Linear(in_features=768, out_features=768, bias=True)\n",
              "              (v_lin): Linear(in_features=768, out_features=768, bias=True)\n",
              "              (out_lin): Linear(in_features=768, out_features=768, bias=True)\n",
              "            )\n",
              "            (sa_layer_norm): LayerNorm((768,), eps=1e-12, elementwise_affine=True)\n",
              "            (ffn): FFN(\n",
              "              (dropout): Dropout(p=0.1, inplace=False)\n",
              "              (lin1): Linear(in_features=768, out_features=3072, bias=True)\n",
              "              (lin2): Linear(in_features=3072, out_features=768, bias=True)\n",
              "              (activation): GELUActivation()\n",
              "            )\n",
              "            (output_layer_norm): LayerNorm((768,), eps=1e-12, elementwise_affine=True)\n",
              "          )\n",
              "          (1): TransformerBlock(\n",
              "            (attention): MultiHeadSelfAttention(\n",
              "              (dropout): Dropout(p=0.1, inplace=False)\n",
              "              (q_lin): Linear(in_features=768, out_features=768, bias=True)\n",
              "              (k_lin): Linear(in_features=768, out_features=768, bias=True)\n",
              "              (v_lin): Linear(in_features=768, out_features=768, bias=True)\n",
              "              (out_lin): Linear(in_features=768, out_features=768, bias=True)\n",
              "            )\n",
              "            (sa_layer_norm): LayerNorm((768,), eps=1e-12, elementwise_affine=True)\n",
              "            (ffn): FFN(\n",
              "              (dropout): Dropout(p=0.1, inplace=False)\n",
              "              (lin1): Linear(in_features=768, out_features=3072, bias=True)\n",
              "              (lin2): Linear(in_features=3072, out_features=768, bias=True)\n",
              "              (activation): GELUActivation()\n",
              "            )\n",
              "            (output_layer_norm): LayerNorm((768,), eps=1e-12, elementwise_affine=True)\n",
              "          )\n",
              "          (2): TransformerBlock(\n",
              "            (attention): MultiHeadSelfAttention(\n",
              "              (dropout): Dropout(p=0.1, inplace=False)\n",
              "              (q_lin): Linear(in_features=768, out_features=768, bias=True)\n",
              "              (k_lin): Linear(in_features=768, out_features=768, bias=True)\n",
              "              (v_lin): Linear(in_features=768, out_features=768, bias=True)\n",
              "              (out_lin): Linear(in_features=768, out_features=768, bias=True)\n",
              "            )\n",
              "            (sa_layer_norm): LayerNorm((768,), eps=1e-12, elementwise_affine=True)\n",
              "            (ffn): FFN(\n",
              "              (dropout): Dropout(p=0.1, inplace=False)\n",
              "              (lin1): Linear(in_features=768, out_features=3072, bias=True)\n",
              "              (lin2): Linear(in_features=3072, out_features=768, bias=True)\n",
              "              (activation): GELUActivation()\n",
              "            )\n",
              "            (output_layer_norm): LayerNorm((768,), eps=1e-12, elementwise_affine=True)\n",
              "          )\n",
              "          (3): TransformerBlock(\n",
              "            (attention): MultiHeadSelfAttention(\n",
              "              (dropout): Dropout(p=0.1, inplace=False)\n",
              "              (q_lin): Linear(in_features=768, out_features=768, bias=True)\n",
              "              (k_lin): Linear(in_features=768, out_features=768, bias=True)\n",
              "              (v_lin): Linear(in_features=768, out_features=768, bias=True)\n",
              "              (out_lin): Linear(in_features=768, out_features=768, bias=True)\n",
              "            )\n",
              "            (sa_layer_norm): LayerNorm((768,), eps=1e-12, elementwise_affine=True)\n",
              "            (ffn): FFN(\n",
              "              (dropout): Dropout(p=0.1, inplace=False)\n",
              "              (lin1): Linear(in_features=768, out_features=3072, bias=True)\n",
              "              (lin2): Linear(in_features=3072, out_features=768, bias=True)\n",
              "              (activation): GELUActivation()\n",
              "            )\n",
              "            (output_layer_norm): LayerNorm((768,), eps=1e-12, elementwise_affine=True)\n",
              "          )\n",
              "          (4): TransformerBlock(\n",
              "            (attention): MultiHeadSelfAttention(\n",
              "              (dropout): Dropout(p=0.1, inplace=False)\n",
              "              (q_lin): Linear(in_features=768, out_features=768, bias=True)\n",
              "              (k_lin): Linear(in_features=768, out_features=768, bias=True)\n",
              "              (v_lin): Linear(in_features=768, out_features=768, bias=True)\n",
              "              (out_lin): Linear(in_features=768, out_features=768, bias=True)\n",
              "            )\n",
              "            (sa_layer_norm): LayerNorm((768,), eps=1e-12, elementwise_affine=True)\n",
              "            (ffn): FFN(\n",
              "              (dropout): Dropout(p=0.1, inplace=False)\n",
              "              (lin1): Linear(in_features=768, out_features=3072, bias=True)\n",
              "              (lin2): Linear(in_features=3072, out_features=768, bias=True)\n",
              "              (activation): GELUActivation()\n",
              "            )\n",
              "            (output_layer_norm): LayerNorm((768,), eps=1e-12, elementwise_affine=True)\n",
              "          )\n",
              "          (5): TransformerBlock(\n",
              "            (attention): MultiHeadSelfAttention(\n",
              "              (dropout): Dropout(p=0.1, inplace=False)\n",
              "              (q_lin): Linear(in_features=768, out_features=768, bias=True)\n",
              "              (k_lin): Linear(in_features=768, out_features=768, bias=True)\n",
              "              (v_lin): Linear(in_features=768, out_features=768, bias=True)\n",
              "              (out_lin): Linear(in_features=768, out_features=768, bias=True)\n",
              "            )\n",
              "            (sa_layer_norm): LayerNorm((768,), eps=1e-12, elementwise_affine=True)\n",
              "            (ffn): FFN(\n",
              "              (dropout): Dropout(p=0.1, inplace=False)\n",
              "              (lin1): Linear(in_features=768, out_features=3072, bias=True)\n",
              "              (lin2): Linear(in_features=3072, out_features=768, bias=True)\n",
              "              (activation): GELUActivation()\n",
              "            )\n",
              "            (output_layer_norm): LayerNorm((768,), eps=1e-12, elementwise_affine=True)\n",
              "          )\n",
              "        )\n",
              "      )\n",
              "    )\n",
              "    (pre_classifier): Linear(in_features=768, out_features=768, bias=True)\n",
              "    (classifier): Linear(in_features=768, out_features=2, bias=True)\n",
              "    (dropout): Dropout(p=0.2, inplace=False)\n",
              "  )\n",
              ")"
            ]
          },
          "execution_count": 25,
          "metadata": {},
          "output_type": "execute_result"
        }
      ],
      "source": [
        "calibrated_model = ModelWithTemperature(model)\n",
        "val_loader = DataLoader(val_dataset)\n",
        "\n",
        "# Find optimal T value to calibrate the model\n",
        "calibrated_model.set_temperature(val_loader)\n"
      ]
    },
    {
      "cell_type": "markdown",
      "metadata": {
        "id": "KJ7eDVh_f3Zc"
      },
      "source": [
        "## Export model"
      ]
    },
    {
      "cell_type": "code",
      "execution_count": 26,
      "metadata": {
        "id": "yQtB3k3hf5SY"
      },
      "outputs": [],
      "source": [
        "path = F\"drive/MyDrive/Colab Notebooks/output/distilbert-semeval-calibrated.pth\" \n",
        "torch.save(calibrated_model, path)"
      ]
    },
    {
      "cell_type": "code",
      "execution_count": 27,
      "metadata": {
        "colab": {
          "base_uri": "https://localhost:8080/"
        },
        "id": "TYXUqqhZvnuc",
        "outputId": "3ffbb091-8e3b-4878-af01-2d3529809f1d"
      },
      "outputs": [
        {
          "name": "stdout",
          "output_type": "stream",
          "text": [
            "[[0.9735488295555115, 0.02645118348300457], [0.8830448389053345, 0.11695511639118195], [0.9253570437431335, 0.07464297860860825], [0.30723127722740173, 0.6927687525749207], [0.7239320874214172, 0.27606794238090515], [0.7789956331253052, 0.2210044413805008], [0.9693713188171387, 0.03062872402369976], [0.6045182943344116, 0.395481675863266], [0.9589912295341492, 0.04100877791643143], [0.11887717247009277, 0.8811227679252625]]\n"
          ]
        }
      ],
      "source": [
        "device = torch.device('cuda') if torch.cuda.is_available() else torch.device('cpu')\n",
        "\n",
        "logits = []\n",
        "labels = []\n",
        "\n",
        "test_loader = DataLoader(test_dataset)\n",
        "\n",
        "with torch.no_grad():\n",
        "    for batch in test_loader:\n",
        "        input_ids = batch['input_ids'].to(device)\n",
        "        attention_mask = batch['attention_mask'].to(device)\n",
        "        label = batch['labels'].to(device)\n",
        "        outputs = calibrated_model(input_ids, attention_mask=attention_mask)\n",
        "        logits.append(outputs.tolist()[0])\n",
        "        labels.append(label)\n",
        "\n",
        "probabilities = nn.softmax(torch.tensor(logits), dim=1)\n",
        "print(probabilities.tolist()[:10])"
      ]
    },
    {
      "cell_type": "code",
      "execution_count": 28,
      "metadata": {
        "colab": {
          "base_uri": "https://localhost:8080/"
        },
        "id": "-Jtjj9_2vpC3",
        "outputId": "3d6fc122-227d-4b5b-883f-1de44ad47025"
      },
      "outputs": [
        {
          "name": "stdout",
          "output_type": "stream",
          "text": [
            "Test dataset:  {'accuracy': 0.7683333333333333}\n"
          ]
        }
      ],
      "source": [
        "predictions = torch.argmax(probabilities, dim=-1)\n",
        "metric = load_metric(\"accuracy\")\n",
        "accuracy = metric.compute(predictions=predictions, references=labels)\n",
        "print(\"Test dataset: \", accuracy)"
      ]
    },
    {
      "cell_type": "code",
      "execution_count": 29,
      "metadata": {
        "colab": {
          "base_uri": "https://localhost:8080/",
          "height": 324
        },
        "id": "ibDsHhBJv3sG",
        "outputId": "167692ae-f154-49e8-98c8-69a102ddbb6e"
      },
      "outputs": [
        {
          "name": "stdout",
          "output_type": "stream",
          "text": [
            "[[0.9735488295555115, 0.02645118348300457], [0.8830448389053345, 0.11695511639118195], [0.9253570437431335, 0.07464297860860825], [0.30723127722740173, 0.6927687525749207], [0.7239320874214172, 0.27606794238090515], [0.7789956331253052, 0.2210044413805008], [0.9693713188171387, 0.03062872402369976], [0.6045182943344116, 0.395481675863266], [0.9589912295341492, 0.04100877791643143], [0.11887717247009277, 0.8811227679252625], [0.0788465142250061, 0.9211535453796387], [0.09250520914793015, 0.907494843006134], [0.08565063029527664, 0.914349377155304], [0.0860067754983902, 0.913993239402771], [0.2210116684436798, 0.7789883017539978], [0.07419347018003464, 0.9258065223693848], [0.5967610478401184, 0.4032389521598816], [0.33705344796180725, 0.6629465818405151], [0.7232691645622253, 0.27673083543777466], [0.06521182507276535, 0.9347882270812988], [0.9667474627494812, 0.033252473920583725], [0.7568238973617554, 0.24317611753940582], [0.806950032711029, 0.19304998219013214], [0.1079690083861351, 0.8920310139656067], [0.9410492181777954, 0.058950796723365784], [0.9659921526908875, 0.034007880836725235], [0.11872246861457825, 0.8812775611877441], [0.975681722164154, 0.024318326264619827], [0.6937448978424072, 0.3062551021575928], [0.9700165390968323, 0.029983440414071083], [0.7111168503761292, 0.28888317942619324], [0.9532859921455383, 0.04671400040388107], [0.9580538272857666, 0.04194620996713638], [0.07407307624816895, 0.925926923751831], [0.9500646591186523, 0.04993536323308945], [0.4925537705421448, 0.5074461698532104], [0.9658279418945312, 0.03417208418250084], [0.10284865647554398, 0.8971513509750366], [0.6174268126487732, 0.38257309794425964], [0.4862140417098999, 0.5137858986854553], [0.9749355912208557, 0.025064438581466675], [0.11737623810768127, 0.8826237320899963], [0.5837358832359314, 0.4162641167640686], [0.7860776782035828, 0.213922381401062], [0.637201726436615, 0.3627982437610626], [0.9413268566131592, 0.058673154562711716], [0.09118346869945526, 0.9088165163993835], [0.9543949961662292, 0.045604970306158066], [0.9529756307601929, 0.047024428844451904], [0.08227215707302094, 0.9177278280258179], [0.8179478645324707, 0.1820521205663681], [0.682884931564331, 0.31711503863334656], [0.7586337327957153, 0.24136625230312347], [0.8611539006233215, 0.13884609937667847], [0.9749512076377869, 0.02504873462021351], [0.14886313676834106, 0.8511369228363037], [0.8236758708953857, 0.17632417380809784], [0.07200463861227036, 0.9279953241348267], [0.9729725122451782, 0.027027439326047897], [0.9736812710762024, 0.026318704709410667], [0.21631796658039093, 0.7836820483207703], [0.10675995796918869, 0.8932399749755859], [0.10395607352256775, 0.8960438966751099], [0.08494295179843903, 0.9150570631027222], [0.8974951505661011, 0.10250483453273773], [0.5853762626647949, 0.4146237373352051], [0.9728713035583496, 0.02712874300777912], [0.372956246137619, 0.6270437240600586], [0.05451491102576256, 0.9454850554466248], [0.9594472050666809, 0.04055280610918999], [0.9443264603614807, 0.05567352473735809], [0.9647243022918701, 0.03527571260929108], [0.918144702911377, 0.08185533434152603], [0.37704676389694214, 0.6229531764984131], [0.09228739887475967, 0.9077126383781433], [0.8609136343002319, 0.13908635079860687], [0.9768949747085571, 0.023104960098862648], [0.08002714067697525, 0.9199728965759277], [0.29679620265960693, 0.7032037973403931], [0.9543896913528442, 0.04561030492186546], [0.7418420314788818, 0.2581579387187958], [0.6327041387557983, 0.3672958314418793], [0.20077461004257202, 0.799225389957428], [0.19423435628414154, 0.805765688419342], [0.25369253754615784, 0.7463074922561646], [0.3474019765853882, 0.6525980234146118], [0.9444422721862793, 0.05555778369307518], [0.26492536067962646, 0.7350745797157288], [0.9715187549591064, 0.028481200337409973], [0.9372522234916687, 0.0627477765083313], [0.0661163479089737, 0.9338836669921875], [0.9470135569572449, 0.0529865138232708], [0.7820377945899963, 0.21796225011348724], [0.607721209526062, 0.3922787606716156], [0.9235852360725403, 0.07641475647687912], [0.8631035685539246, 0.13689644634723663], [0.8648189306259155, 0.1351810246706009], [0.8056559562683105, 0.19434407353401184], [0.6441508531570435, 0.35584911704063416], [0.22656194865703583, 0.7734379768371582], [0.2365945726633072, 0.763405442237854], [0.9720083475112915, 0.02799162268638611], [0.7901845574378967, 0.20981545746326447], [0.07759737968444824, 0.9224026203155518], [0.08910949528217316, 0.9108904600143433], [0.37295594811439514, 0.6270440816879272], [0.8946956396102905, 0.10530441999435425], [0.9733781814575195, 0.02662181481719017], [0.3634384870529175, 0.6365615129470825], [0.10619275271892548, 0.8938072323799133], [0.9458587169647217, 0.054141316562891006], [0.11392690986394882, 0.8860730528831482], [0.9381327033042908, 0.061867356300354004], [0.5885499715805054, 0.41145002841949463], [0.7166627645492554, 0.28333720564842224], [0.9045333862304688, 0.09546662867069244], [0.08759728074073792, 0.9124027490615845], [0.4375731647014618, 0.5624268651008606], [0.6566990613937378, 0.3433009684085846], [0.8679400682449341, 0.13205993175506592], [0.923969566822052, 0.07603047043085098], [0.7056238055229187, 0.2943762540817261], [0.057023659348487854, 0.9429762959480286], [0.7485324740409851, 0.2514675259590149], [0.9747785329818726, 0.02522140182554722], [0.7825804352760315, 0.21741952002048492], [0.9610114097595215, 0.038988545536994934], [0.07366800308227539, 0.9263319969177246], [0.07259372621774673, 0.9274063110351562], [0.9525434374809265, 0.04745655879378319], [0.0758756622672081, 0.9241243004798889], [0.8546429872512817, 0.14535702764987946], [0.9552038908004761, 0.044796183705329895], [0.9478906989097595, 0.052109282463788986], [0.06385032087564468, 0.9361497163772583], [0.28949666023254395, 0.710503339767456], [0.08240681886672974, 0.9175931215286255], [0.7126538753509521, 0.28734615445137024], [0.9285515546798706, 0.07144840806722641], [0.7236708998680115, 0.2763291299343109], [0.9736135005950928, 0.026386510580778122], [0.9518210291862488, 0.04817897826433182], [0.9221029877662659, 0.07789702713489532], [0.9701111316680908, 0.02988889068365097], [0.2987484633922577, 0.7012515664100647], [0.7071373462677002, 0.29286256432533264], [0.9651187062263489, 0.0348813459277153], [0.312480628490448, 0.687519371509552], [0.08791700005531311, 0.9120830297470093], [0.06922854483127594, 0.9307714104652405], [0.5510606169700623, 0.44893941283226013], [0.9489655494689941, 0.051034461706876755], [0.10025094449520111, 0.8997490406036377], [0.09393298625946045, 0.9060670733451843], [0.16894206404685974, 0.8310579061508179], [0.15256482362747192, 0.8474351763725281], [0.10894440114498138, 0.8910556435585022], [0.9580950736999512, 0.04190494120121002], [0.05283353477716446, 0.9471664428710938], [0.7570388317108154, 0.24296121299266815], [0.969971239566803, 0.030028769746422768], [0.1424301713705063, 0.8575698137283325], [0.19386637210845947, 0.8061336278915405], [0.10056687146425247, 0.8994331359863281], [0.9681234955787659, 0.03187646344304085], [0.13019056618213654, 0.8698093891143799], [0.9619424939155579, 0.038057517260313034], [0.07770263403654099, 0.9222973585128784], [0.11871695518493652, 0.8812830448150635], [0.14676806330680847, 0.8532319664955139], [0.3507247865200043, 0.6492753028869629], [0.9737635850906372, 0.02623642422258854], [0.9601070284843445, 0.039892975240945816], [0.08173093944787979, 0.9182690382003784], [0.935769259929657, 0.06423076242208481], [0.9510083794593811, 0.04899168387055397], [0.10924265533685684, 0.8907573819160461], [0.0741376057267189, 0.9258624315261841], [0.19306862354278564, 0.8069314360618591], [0.13907764852046967, 0.8609223365783691], [0.9709351658821106, 0.029064813628792763], [0.6080284118652344, 0.391971617937088], [0.11482350528240204, 0.8851765394210815], [0.11735046654939651, 0.8826496005058289], [0.5545443296432495, 0.4454556107521057], [0.08571196347475052, 0.9142879843711853], [0.9696295857429504, 0.03037034347653389], [0.7781064510345459, 0.2218935191631317], [0.9371801614761353, 0.06281981617212296], [0.07957429438829422, 0.9204257130622864], [0.5564344525337219, 0.44356557726860046], [0.06562898308038712, 0.9343709945678711], [0.8693902492523193, 0.13060982525348663], [0.746878445148468, 0.2531215250492096], [0.8495644330978394, 0.15043552219867706], [0.1679927110671997, 0.8320072889328003], [0.6163854598999023, 0.38361456990242004], [0.12435732036828995, 0.875642716884613], [0.09490004926919937, 0.9050999879837036], [0.969626784324646, 0.03037325292825699], [0.1813543140888214, 0.8186456561088562], [0.6117242574691772, 0.38827571272850037], [0.42332375049591064, 0.5766762495040894], [0.9551911354064941, 0.04480886459350586], [0.9758090376853943, 0.024190910160541534], [0.8343669772148132, 0.16563299298286438], [0.1055736243724823, 0.8944264054298401], [0.9621971845626831, 0.03780289366841316], [0.9641497731208801, 0.03585024178028107], [0.09666125476360321, 0.9033387899398804], [0.06186201795935631, 0.938137948513031], [0.07222504168748856, 0.927774965763092], [0.8097865581512451, 0.19021347165107727], [0.7670643925666809, 0.2329355776309967], [0.3144223392009735, 0.6855776906013489], [0.9603840708732605, 0.03961590304970741], [0.4541628956794739, 0.5458371639251709], [0.354718953371048, 0.6452811360359192], [0.9513862133026123, 0.0486137755215168], [0.5549117922782898, 0.4450882375240326], [0.7857229709625244, 0.214276984333992], [0.929260790348053, 0.07073924690485], [0.2437133491039276, 0.7562866806983948], [0.7966058850288391, 0.20339412987232208], [0.9724946022033691, 0.02750537544488907], [0.7892542481422424, 0.21074576675891876], [0.9126464128494263, 0.08735357969999313], [0.13841742277145386, 0.8615825176239014], [0.10684999078512192, 0.8931500315666199], [0.9083689451217651, 0.09163113683462143], [0.13915275037288666, 0.8608472943305969], [0.972030520439148, 0.02796943113207817], [0.07209698855876923, 0.9279029965400696], [0.9654451608657837, 0.034554824233055115], [0.9391467571258545, 0.06085328385233879], [0.7996261119842529, 0.20037391781806946], [0.890074610710144, 0.10992534458637238], [0.9496253728866577, 0.0503745898604393], [0.9236314296722412, 0.07636859267950058], [0.4905671775341034, 0.509432852268219], [0.40838804841041565, 0.5916119813919067], [0.0974520668387413, 0.9025478959083557], [0.9652495384216309, 0.03475048020482063], [0.5331513285636902, 0.4668487310409546], [0.7208888530731201, 0.27911117672920227], [0.7163082957267761, 0.2836916446685791], [0.8662160634994507, 0.13378390669822693], [0.27982065081596375, 0.7201792597770691], [0.4306652545928955, 0.5693347454071045], [0.9515842199325562, 0.04841572791337967], [0.9769691824913025, 0.023030869662761688], [0.6061061024665833, 0.39389386773109436], [0.9618206024169922, 0.03817935660481453], [0.06618848443031311, 0.9338114857673645], [0.1690972000360489, 0.8309028148651123], [0.28561046719551086, 0.7143895626068115], [0.22550848126411438, 0.774491548538208], [0.236226886510849, 0.7637731432914734], [0.10733316838741302, 0.8926668167114258], [0.974205493927002, 0.025794439017772675], [0.9411285519599915, 0.05887150391936302], [0.9660629630088806, 0.0339369922876358], [0.8881834149360657, 0.11181661486625671], [0.9726239442825317, 0.027376029640436172], [0.45243749022483826, 0.5475625395774841], [0.0796205922961235, 0.9203793406486511], [0.8408002853393555, 0.1591997593641281], [0.23784855008125305, 0.7621514797210693], [0.22013244032859802, 0.7798675894737244], [0.9165645837783813, 0.08343536406755447], [0.250337153673172, 0.7496629357337952], [0.8106963038444519, 0.18930363655090332], [0.08388862013816833, 0.9161113500595093], [0.8543875813484192, 0.14561237394809723], [0.555701732635498, 0.44429823756217957], [0.21143794059753418, 0.7885620594024658], [0.1527082622051239, 0.8472917079925537], [0.10680937767028809, 0.8931906223297119], [0.7028608918190002, 0.29713916778564453], [0.2342972457408905, 0.7657027840614319], [0.9130784869194031, 0.0869215652346611], [0.9279096126556396, 0.07209044694900513], [0.973612904548645, 0.026387112215161324], [0.9123952984809875, 0.08760470896959305], [0.20048384368419647, 0.7995161414146423], [0.766760528087616, 0.23323947191238403], [0.3503170609474182, 0.6496829390525818], [0.8076252341270447, 0.19237473607063293], [0.8779699802398682, 0.12203007936477661], [0.9721676111221313, 0.027832355350255966], [0.9225581288337708, 0.07744184136390686], [0.8248871564865112, 0.17511288821697235], [0.9685679078102112, 0.031432103365659714], [0.9683828949928284, 0.031617097556591034], [0.695781409740448, 0.3042185306549072], [0.28111013770103455, 0.7188898921012878], [0.8752332925796509, 0.12476664781570435], [0.9334374070167542, 0.06656251847743988], [0.9695494771003723, 0.030450576916337013], [0.10650596767663956, 0.8934940099716187], [0.5327612161636353, 0.46723878383636475], [0.7190229892730713, 0.2809770703315735], [0.9221068620681763, 0.0778931975364685], [0.3380524218082428, 0.6619476079940796], [0.6787310838699341, 0.32126888632774353], [0.9591766595840454, 0.040823306888341904], [0.2338252067565918, 0.7661747932434082], [0.9430931806564331, 0.05690685659646988], [0.8756100535392761, 0.12438995391130447], [0.07746611535549164, 0.9225338697433472], [0.9667961597442627, 0.03320387378334999], [0.2774519920349121, 0.7225480675697327], [0.9643795490264893, 0.035620469599962234], [0.08458860218524933, 0.9154113531112671], [0.08432578295469284, 0.9156742691993713], [0.5082535743713379, 0.4917464852333069], [0.4211066663265228, 0.5788933634757996], [0.9715093374252319, 0.028490636497735977], [0.6216433048248291, 0.37835660576820374], [0.9528352618217468, 0.04716479405760765], [0.0556032620370388, 0.9443967342376709], [0.9633272886276245, 0.03667262941598892], [0.12118422985076904, 0.8788158297538757], [0.8613626956939697, 0.13863727450370789], [0.06554253399372101, 0.9344574809074402], [0.5466543436050415, 0.4533456265926361], [0.9718194007873535, 0.028180552646517754], [0.6382389664649963, 0.36176103353500366], [0.6158573031425476, 0.38414278626441956], [0.926767885684967, 0.07323208451271057], [0.2009819597005844, 0.7990180850028992], [0.12795960903167725, 0.8720403909683228], [0.8533830046653748, 0.14661699533462524], [0.8115391731262207, 0.18846078217029572], [0.9580251574516296, 0.04197482392191887], [0.10262573510408401, 0.8973742723464966], [0.3540954291820526, 0.645904541015625], [0.7844003438949585, 0.2155996710062027], [0.23214811086654663, 0.7678518295288086], [0.47583791613578796, 0.5241620540618896], [0.06098476052284241, 0.9390152096748352], [0.38984742760658264, 0.610152542591095], [0.8513245582580566, 0.14867547154426575], [0.10021210461854935, 0.8997878432273865], [0.9711207151412964, 0.028879297897219658], [0.34740421175956726, 0.6525958776473999], [0.10656166821718216, 0.8934383392333984], [0.36957210302352905, 0.6304278373718262], [0.23733721673488617, 0.7626627683639526], [0.5821315050125122, 0.4178685247898102], [0.9452826976776123, 0.05471726879477501], [0.9348320364952087, 0.06516794115304947], [0.11340522766113281, 0.8865947723388672], [0.11259894073009491, 0.8874009847640991], [0.0719146654009819, 0.9280853271484375], [0.26899996399879456, 0.7310000061988831], [0.9223542213439941, 0.07764575630426407], [0.7347920536994934, 0.2652078866958618], [0.09258539229631424, 0.9074146151542664], [0.08224183320999146, 0.9177581667900085], [0.07681436836719513, 0.9231857061386108], [0.5206261277198792, 0.4793739318847656], [0.9705022573471069, 0.029497770592570305], [0.07812298834323883, 0.9218770265579224], [0.21399173140525818, 0.7860082387924194], [0.9533841609954834, 0.0466158464550972], [0.12548434734344482, 0.8745156526565552], [0.07658710330724716, 0.9234129190444946], [0.0613214410841465, 0.9386785626411438], [0.3435748517513275, 0.6564251780509949], [0.2129237800836563, 0.7870762348175049], [0.7039883136749268, 0.29601168632507324], [0.9601234197616577, 0.03987656533718109], [0.9701922535896301, 0.029807768762111664], [0.28158172965049744, 0.7184182405471802], [0.12363845109939575, 0.8763615489006042], [0.6991597414016724, 0.30084022879600525], [0.20492157340049744, 0.7950783967971802], [0.19846192002296448, 0.8015380501747131], [0.39131513237953186, 0.6086848378181458], [0.09690053015947342, 0.9030994176864624], [0.06583119183778763, 0.934168815612793], [0.2884320616722107, 0.7115679383277893], [0.3048928380012512, 0.6951072216033936], [0.37604159116744995, 0.62395840883255], [0.10955392569303513, 0.890446126461029], [0.9321171641349792, 0.06788282841444016], [0.08522476255893707, 0.9147752523422241], [0.96803879737854, 0.03196122497320175], [0.9633118510246277, 0.036688148975372314], [0.9737384915351868, 0.026261545717716217], [0.9603965878486633, 0.03960339352488518], [0.8143883347511292, 0.18561162054538727], [0.4987073540687561, 0.5012926459312439], [0.08775942772626877, 0.9122406244277954], [0.9628351926803589, 0.03716488182544708], [0.08578426390886307, 0.9142157435417175], [0.20366205275058746, 0.7963379621505737], [0.09542444348335266, 0.9045754671096802], [0.9244831800460815, 0.07551678270101547], [0.9201940894126892, 0.0798058956861496], [0.96412593126297, 0.03587408363819122], [0.12364737689495087, 0.8763525485992432], [0.19043517112731934, 0.8095648288726807], [0.7974433302879333, 0.20255665481090546], [0.7872803211212158, 0.21271966397762299], [0.7513006329536438, 0.2486993819475174], [0.11355292797088623, 0.8864470720291138], [0.0799148678779602, 0.9200851917266846], [0.9753814339637756, 0.024618584662675858], [0.9085849523544312, 0.09141504764556885], [0.9713659882545471, 0.028634002432227135], [0.08803859353065491, 0.9119614362716675], [0.913305401802063, 0.08669455349445343], [0.07907087355852127, 0.9209291338920593], [0.12042553722858429, 0.8795744776725769], [0.7007461190223694, 0.2992538511753082], [0.972703754901886, 0.027296237647533417], [0.11334887892007828, 0.8866510987281799], [0.9232343435287476, 0.07676564902067184], [0.41860389709472656, 0.5813961029052734], [0.9741269946098328, 0.025872988626360893], [0.32072123885154724, 0.6792787909507751], [0.9461051225662231, 0.053894925862550735], [0.7839553952217102, 0.216044619679451], [0.7356703877449036, 0.2643296420574188], [0.27551546692848206, 0.7244845628738403], [0.4032655954360962, 0.5967344045639038], [0.0989575907588005, 0.9010423421859741], [0.10554425418376923, 0.8944557905197144], [0.15314410626888275, 0.846855878829956], [0.13061214983463287, 0.8693878650665283], [0.9757714867591858, 0.024228494614362717], [0.9769805669784546, 0.02301947958767414], [0.940530002117157, 0.059470027685165405], [0.8157656788825989, 0.18423429131507874], [0.1355530321598053, 0.8644469380378723], [0.08736387640237808, 0.9126361012458801], [0.10909385979175568, 0.8909060955047607], [0.7959151268005371, 0.2040848731994629], [0.08594951778650284, 0.9140505194664001], [0.8826488256454468, 0.11735111474990845], [0.1966780126094818, 0.8033220171928406], [0.9199874997138977, 0.08001245558261871], [0.9428456425666809, 0.05715430900454521], [0.4017632007598877, 0.5982367992401123], [0.9714827537536621, 0.02851724438369274], [0.9176054000854492, 0.08239459991455078], [0.915235161781311, 0.08476481586694717], [0.4125937223434448, 0.5874062776565552], [0.9715875387191772, 0.02841244824230671], [0.4490649104118347, 0.5509350895881653], [0.06630556285381317, 0.9336944818496704], [0.10715170949697495, 0.8928483128547668], [0.12317647784948349, 0.8768236041069031], [0.9546078443527222, 0.04539208859205246], [0.10181222856044769, 0.8981878161430359], [0.9676028490066528, 0.032397106289863586], [0.14487500488758087, 0.8551250100135803], [0.8523443937301636, 0.14765557646751404], [0.16944478452205658, 0.830555260181427], [0.5713110566139221, 0.42868897318840027], [0.09577523916959763, 0.9042247533798218], [0.9691687226295471, 0.03083125501871109], [0.9686536192893982, 0.03134638071060181], [0.8799254298210144, 0.120074562728405], [0.851140558719635, 0.14885945618152618], [0.941005527973175, 0.05899447202682495], [0.23684820532798767, 0.7631517648696899], [0.08038855344057083, 0.919611394405365], [0.7466505169868469, 0.2533494532108307], [0.948195219039917, 0.05180484056472778], [0.198133185505867, 0.8018668293952942], [0.06967490166425705, 0.9303250312805176], [0.8868343830108643, 0.11316560208797455], [0.09295151382684708, 0.9070485234260559], [0.9640437364578247, 0.035956330597400665], [0.44894248247146606, 0.5510574579238892], [0.9527749419212341, 0.047225020825862885], [0.9304500222206116, 0.06954995542764664], [0.9182429909706116, 0.08175695687532425], [0.9541047215461731, 0.04589526727795601], [0.08386904001235962, 0.9161309599876404], [0.9722781777381897, 0.027721885591745377], [0.07642306387424469, 0.9235768914222717], [0.9596529006958008, 0.04034712165594101], [0.9689745903015137, 0.03102533146739006], [0.9635863304138184, 0.03641365468502045], [0.8437381982803345, 0.15626177191734314], [0.13851886987686157, 0.8614811301231384], [0.07819253206253052, 0.9218074083328247], [0.06769400089979172, 0.9323059916496277], [0.0716184601187706, 0.9283815622329712], [0.23199181258678436, 0.7680082321166992], [0.1316203624010086, 0.8683796525001526], [0.9266322255134583, 0.07336775213479996], [0.7496603727340698, 0.25033968687057495], [0.07866479456424713, 0.9213352203369141], [0.19692134857177734, 0.8030786514282227], [0.9739785194396973, 0.02602146379649639], [0.9723073840141296, 0.027692608535289764], [0.7794761061668396, 0.2205238938331604], [0.06823212653398514, 0.9317678213119507], [0.9159947037696838, 0.08400528877973557], [0.3980293273925781, 0.6019706726074219], [0.1774171143770218, 0.8225829005241394], [0.9631253480911255, 0.03687464818358421], [0.1121147871017456, 0.8878852128982544], [0.714664101600647, 0.285335898399353], [0.943284273147583, 0.0567157082259655], [0.09968438744544983, 0.9003156423568726], [0.6897716522216797, 0.3102283775806427], [0.19625753164291382, 0.8037424683570862], [0.941079318523407, 0.05892065912485123], [0.7988342046737671, 0.20116585493087769], [0.9226117134094238, 0.07738824933767319], [0.9440241456031799, 0.055975817143917084], [0.9631432890892029, 0.036856699734926224], [0.9730551242828369, 0.026944827288389206], [0.06349953263998032, 0.9365004301071167], [0.5433358550071716, 0.45666414499282837], [0.9066861867904663, 0.09331376850605011], [0.7761631011962891, 0.22383689880371094], [0.8358893990516663, 0.16411061584949493], [0.8816654682159424, 0.1183345690369606], [0.08524736016988754, 0.9147526025772095], [0.2639417350292206, 0.7360581755638123], [0.07808781415224075, 0.9219121932983398], [0.9711098670959473, 0.028890158981084824], [0.9062005877494812, 0.09379942715167999], [0.9288203120231628, 0.07117966562509537], [0.10567650943994522, 0.8943235278129578], [0.302516371011734, 0.6974835991859436], [0.8783621788024902, 0.12163779884576797], [0.17156058549880981, 0.8284393548965454], [0.8909060955047607, 0.10909391194581985], [0.9085947275161743, 0.09140533208847046], [0.9379383325576782, 0.06206166744232178], [0.9714683890342712, 0.028531579300761223], [0.976353108882904, 0.023646865040063858], [0.8003714084625244, 0.199628546833992], [0.4556151032447815, 0.5443848371505737], [0.9648926854133606, 0.035107336938381195], [0.3359028995037079, 0.6640971302986145], [0.060650549829006195, 0.9393494725227356], [0.29068073630332947, 0.7093192338943481], [0.9742953777313232, 0.025704659521579742], [0.06800831109285355, 0.9319916367530823], [0.8755790591239929, 0.12442091107368469], [0.9322257041931152, 0.06777424365282059], [0.970173180103302, 0.029826883226633072], [0.08619514852762222, 0.9138048887252808], [0.9603266716003418, 0.039673369377851486], [0.559101939201355, 0.4408981204032898], [0.9198029041290283, 0.08019710332155228], [0.09832659363746643, 0.901673436164856], [0.9463370442390442, 0.0536629781126976], [0.305374413728714, 0.6946256160736084], [0.6701830625534058, 0.32981687784194946], [0.9523025155067444, 0.04769754409790039], [0.29319435358047485, 0.7068056464195251], [0.12197025865316391, 0.8780297040939331], [0.9719521403312683, 0.028047902509570122], [0.6976163387298584, 0.302383691072464], [0.13955281674861908, 0.8604471683502197], [0.8608096241950989, 0.13919031620025635], [0.9764566421508789, 0.023543385788798332], [0.16734270751476288, 0.8326572775840759], [0.1548575460910797, 0.8451424241065979], [0.2361184060573578, 0.7638816237449646], [0.9618934392929077, 0.03810663893818855], [0.9203829765319824, 0.07961706072092056], [0.40231946110725403, 0.5976805686950684], [0.21017232537269592, 0.7898276448249817], [0.06874538958072662, 0.9312545657157898], [0.1130221039056778, 0.8869779109954834], [0.08307413011789322, 0.916925847530365], [0.07727507501840591, 0.9227249622344971], [0.37185850739479065, 0.6281415224075317], [0.08569323271512985, 0.9143067598342896], [0.3578888177871704, 0.6421111226081848], [0.9704380035400391, 0.029561933130025864], [0.8554514050483704, 0.14454853534698486], [0.14454026520252228, 0.8554596900939941], [0.9555395245552063, 0.0444604717195034], [0.22278083860874176, 0.7772191762924194], [0.2774147689342499, 0.7225852608680725], [0.9688361883163452, 0.031163867563009262], [0.9737407565116882, 0.026259269565343857], [0.9214617609977722, 0.07853831350803375], [0.8996496796607971, 0.10035035014152527], [0.975274384021759, 0.024725675582885742], [0.5681031346321106, 0.4318968653678894], [0.16145320236682892, 0.8385467529296875], [0.8295192718505859, 0.17048080265522003], [0.8414760828018188, 0.15852387249469757], [0.10136449337005615, 0.8986355066299438], [0.38036319613456726, 0.6196368336677551], [0.4074966013431549, 0.5925034284591675], [0.9568644762039185, 0.04313555359840393], [0.08729199320077896, 0.9127079844474792], [0.08522476255893707, 0.9147752523422241], [0.10546272248029709, 0.8945372700691223], [0.0843353196978569, 0.9156646728515625], [0.33521032333374023, 0.664789617061615], [0.07533206790685654, 0.9246679544448853], [0.22170810401439667, 0.7782918810844421], [0.9437078833580017, 0.056292179971933365], [0.7245479226112366, 0.27545204758644104], [0.0933593362569809, 0.9066407084465027], [0.9689344167709351, 0.031065575778484344], [0.9732239246368408, 0.026776079088449478], [0.3302012085914612, 0.6697987914085388], [0.7707034349441528, 0.22929656505584717], [0.10536420345306396, 0.894635796546936], [0.8833097219467163, 0.11669021844863892], [0.129788339138031, 0.870211660861969], [0.07207579165697098, 0.9279241561889648], [0.8192445039749146, 0.18075548112392426], [0.3552805185317993, 0.6447194814682007], [0.96783047914505, 0.03216947615146637], [0.11003457754850388, 0.8899653553962708], [0.08544948697090149, 0.9145504832267761], [0.42090100049972534, 0.5790989995002747], [0.2754558324813843, 0.724544107913971], [0.6861481070518494, 0.31385186314582825], [0.9699079990386963, 0.030091984197497368], [0.08296555280685425, 0.917034387588501], [0.06531112641096115, 0.9346888661384583], [0.8879403471946716, 0.11205966770648956], [0.15402644872665405, 0.845973551273346], [0.40198755264282227, 0.5980124473571777], [0.9118871688842773, 0.08811285346746445], [0.9359131455421448, 0.06408684700727463], [0.9162892699241638, 0.08371071517467499], [0.7624883651733398, 0.23751161992549896], [0.1389825940132141, 0.8610173463821411], [0.14094722270965576, 0.8590527772903442], [0.9056825041770935, 0.09431745857000351], [0.9493739008903503, 0.050626110285520554], [0.9257063865661621, 0.07429355382919312], [0.08957426249980927, 0.9104257225990295], [0.143723264336586, 0.85627681016922], [0.36972567439079285, 0.6302742958068848], [0.9268715977668762, 0.0731283500790596], [0.9580779671669006, 0.04192197695374489], [0.3002789616584778, 0.6997209787368774], [0.43678760528564453, 0.5632123947143555], [0.9747553467750549, 0.025244666263461113], [0.9538342356681824, 0.04616573452949524], [0.9367418885231018, 0.06325814872980118], [0.1243077889084816, 0.8756922483444214], [0.1347445547580719, 0.8652554154396057], [0.3443463444709778, 0.6556536555290222], [0.08180676400661469, 0.9181932210922241], [0.9689726233482361, 0.031027397140860558], [0.9729659557342529, 0.027034036815166473], [0.057574257254600525, 0.9424257278442383], [0.6092160940170288, 0.3907839357852936], [0.1730813980102539, 0.8269186019897461], [0.30399787425994873, 0.696002185344696], [0.9523526430130005, 0.04764736071228981], [0.19384846091270447, 0.8061515092849731], [0.8722327947616577, 0.12776720523834229], [0.1473219096660614, 0.852678120136261], [0.7517842650413513, 0.2482157200574875], [0.5398923754692078, 0.46010762453079224], [0.35545334219932556, 0.644546627998352], [0.10210839658975601, 0.8978915810585022], [0.09003349393606186, 0.9099664688110352], [0.14320485293865204, 0.8567951321601868], [0.8476827144622803, 0.15231725573539734], [0.33502188324928284, 0.6649780869483948], [0.9369226694107056, 0.06307727098464966], [0.2333419770002365, 0.7666580080986023], [0.9642485976219177, 0.0357513464987278], [0.1472761332988739, 0.8527238965034485], [0.9606013894081116, 0.03939864784479141], [0.4314558207988739, 0.5685440897941589], [0.05846849083900452, 0.9415315389633179], [0.07582450658082962, 0.924175500869751], [0.7519165277481079, 0.24808341264724731], [0.970943808555603, 0.029056157916784286], [0.9655944108963013, 0.03440559655427933], [0.14174437522888184, 0.8582556843757629], [0.8080644011497498, 0.19193559885025024], [0.9532188177108765, 0.046781111508607864], [0.15603691339492798, 0.843963086605072], [0.10551383346319199, 0.894486129283905], [0.6401228308677673, 0.35987716913223267], [0.4612240195274353, 0.5387760400772095], [0.9648637175559998, 0.03513634577393532], [0.966801643371582, 0.03319834545254707], [0.3557555079460144, 0.6442444920539856], [0.0743098258972168, 0.9256901741027832], [0.11869829148054123, 0.881301760673523], [0.9255619645118713, 0.07443801313638687], [0.943456768989563, 0.0565432533621788], [0.12711231410503387, 0.8728877305984497], [0.20602771639823914, 0.7939723134040833], [0.8998379707336426, 0.10016198456287384], [0.9742723703384399, 0.025727659463882446], [0.895484983921051, 0.10451497882604599], [0.10733255743980408, 0.8926674127578735], [0.2526663541793823, 0.7473336458206177], [0.8178514242172241, 0.18214860558509827], [0.9729634523391724, 0.027036532759666443], [0.9263103604316711, 0.07368971407413483], [0.9423562288284302, 0.057643767446279526], [0.9751579165458679, 0.024842003360390663], [0.9573993682861328, 0.0426005944609642], [0.3945968747138977, 0.6054031848907471], [0.094183050096035, 0.9058169722557068], [0.6912733912467957, 0.30872657895088196], [0.9398753046989441, 0.060124654322862625], [0.08664393424987793, 0.9133560657501221], [0.9568869471549988, 0.04311297833919525], [0.9632920026779175, 0.036708008497953415], [0.07745601236820221, 0.922544002532959], [0.11814835667610168, 0.8818516135215759], [0.08831251412630081, 0.9116874933242798], [0.9417273998260498, 0.058272577822208405], [0.12250163406133652, 0.8774983882904053], [0.9670759439468384, 0.03292405977845192], [0.964574933052063, 0.03542504087090492], [0.9368888139724731, 0.06311124563217163], [0.18365387618541718, 0.8163461089134216], [0.10654747486114502, 0.893452525138855], [0.18987494707107544, 0.8101249933242798], [0.7656478881835938, 0.23435218632221222], [0.9496192336082458, 0.050380729138851166], [0.9178492426872253, 0.08215077221393585], [0.4078049957752228, 0.5921949744224548], [0.8438689112663269, 0.1561310738325119], [0.9680588841438293, 0.03194111958146095], [0.1968780905008316, 0.8031218647956848], [0.06713681668043137, 0.932863175868988], [0.9441686272621155, 0.05583133548498154], [0.9757261872291565, 0.024273820221424103], [0.24704430997371674, 0.7529556155204773], [0.11808764934539795, 0.8819122910499573], [0.9682504534721375, 0.03174956887960434], [0.09899036586284637, 0.9010096788406372], [0.29226917028427124, 0.7077308893203735], [0.0988173559308052, 0.9011826515197754], [0.9343555569648743, 0.06564439088106155], [0.11756772547960281, 0.8824322819709778], [0.661662220954895, 0.3383377194404602], [0.8824982047080994, 0.11750180274248123], [0.9686200618743896, 0.03137991204857826], [0.2213655561208725, 0.7786344289779663], [0.10346592217683792, 0.8965341448783875], [0.1929718255996704, 0.8070281147956848], [0.9696025848388672, 0.030397458001971245], [0.9570770263671875, 0.04292292147874832], [0.12444867193698883, 0.8755512833595276], [0.05908781290054321, 0.9409122467041016], [0.9295693635940552, 0.07043056935071945], [0.6677373051643372, 0.33226272463798523], [0.8210968375205994, 0.17890317738056183], [0.7142820954322815, 0.2857179641723633], [0.8521427512168884, 0.14785732328891754], [0.45084136724472046, 0.5491586327552795], [0.06419622898101807, 0.9358038306236267], [0.13068683445453644, 0.8693131804466248], [0.5371171832084656, 0.46288275718688965], [0.268110454082489, 0.7318894863128662], [0.2036222368478775, 0.7963777780532837], [0.9154151082038879, 0.08458488434553146], [0.7733709812164307, 0.22662903368473053], [0.9702512621879578, 0.0297487024217844], [0.6749392747879028, 0.3250606954097748], [0.5811525583267212, 0.4188474714756012], [0.1071201041340828, 0.8928799629211426], [0.2136562317609787, 0.7863437533378601], [0.9569236636161804, 0.043076351284980774], [0.8252504467964172, 0.17474958300590515], [0.14580635726451874, 0.8541936874389648], [0.4675365388393402, 0.5324634909629822], [0.9641395211219788, 0.03586047887802124], [0.7742906808853149, 0.22570925951004028], [0.12375561147928238, 0.8762443661689758], [0.10330069065093994, 0.8966993689537048], [0.9578549265861511, 0.042145125567913055], [0.07910431176424026, 0.9208956360816956], [0.14637944102287292, 0.8536205887794495], [0.6627100706100464, 0.3372899293899536], [0.08618010580539703, 0.9138199090957642], [0.940734326839447, 0.05926569551229477], [0.16261035203933716, 0.8373896479606628], [0.9491894841194153, 0.050810519605875015], [0.9264926314353943, 0.0735074058175087], [0.06816546618938446, 0.9318345189094543], [0.4658252000808716, 0.5341748595237732], [0.9449954032897949, 0.0550045445561409], [0.15427295863628387, 0.8457270264625549], [0.11949880421161652, 0.8805012106895447], [0.12321216613054276, 0.8767878413200378], [0.4002368152141571, 0.5997631549835205], [0.973222553730011, 0.0267774760723114], [0.74615478515625, 0.2538451850414276], [0.12492623180150986, 0.8750737905502319], [0.953740119934082, 0.04625985026359558], [0.08395913243293762, 0.9160408973693848], [0.17885597050189972, 0.8211440443992615], [0.9733966588973999, 0.026603329926729202], [0.9747938513755798, 0.02520611323416233], [0.07998693734407425, 0.9200130105018616], [0.7327135801315308, 0.2672863304615021], [0.0817074328660965, 0.9182925820350647], [0.7432014346122742, 0.25679853558540344], [0.1524035632610321, 0.8475964665412903], [0.07373436540365219, 0.9262656569480896], [0.49483999609947205, 0.5051600337028503], [0.1692734658718109, 0.8307265043258667], [0.967875599861145, 0.03212441876530647], [0.18169555068016052, 0.8183044195175171], [0.07716632634401321, 0.9228336811065674], [0.13452965021133423, 0.8654703497886658], [0.12118422985076904, 0.8788158297538757], [0.1561116874217987, 0.8438883423805237], [0.09677275270223618, 0.9032272100448608], [0.926744818687439, 0.07325510680675507], [0.7285428047180176, 0.2714572250843048], [0.9709329009056091, 0.029067033901810646], [0.7968514561653137, 0.20314860343933105], [0.061693225055933, 0.9383067488670349], [0.4923476576805115, 0.5076522827148438], [0.19788306951522827, 0.8021169304847717], [0.8130660653114319, 0.1869339942932129], [0.9704654216766357, 0.029534602537751198], [0.10817627608776093, 0.8918237090110779], [0.959955632686615, 0.04004437103867531], [0.080149345099926, 0.9198505878448486], [0.9252925515174866, 0.07470749318599701], [0.9682221412658691, 0.03177784010767937], [0.9733003377914429, 0.026699626818299294], [0.77284836769104, 0.22715169191360474], [0.7527621984481812, 0.24723778665065765], [0.11928126960992813, 0.8807187080383301], [0.060174018144607544, 0.9398260116577148], [0.965844452381134, 0.03415560722351074], [0.08500635623931885, 0.9149936437606812], [0.07473524659872055, 0.9252647757530212], [0.9621644020080566, 0.037835605442523956], [0.9727982878684998, 0.027201710268855095], [0.9582270383834839, 0.041772983968257904], [0.9614474773406982, 0.03855254873633385], [0.08826804906129837, 0.9117319583892822], [0.9575195908546448, 0.04248037561774254], [0.9670755863189697, 0.03292446583509445], [0.08373473584651947, 0.9162652492523193], [0.07866445928812027, 0.9213355183601379], [0.10292255133390427, 0.8970774412155151], [0.9382761120796204, 0.06172384321689606], [0.36797720193862915, 0.6320228576660156], [0.9583531618118286, 0.0416468121111393], [0.165846049785614, 0.8341540098190308], [0.32093003392219543, 0.679069995880127], [0.9745216369628906, 0.025478363037109375], [0.668910562992096, 0.33108946681022644], [0.9419978857040405, 0.05800207704305649], [0.9680889844894409, 0.03191101923584938], [0.0926477238535881, 0.9073522686958313], [0.08605363965034485, 0.9139463305473328], [0.6163548231124878, 0.3836451470851898], [0.976906955242157, 0.023093050345778465], [0.19332943856716156, 0.806670606136322], [0.5306162238121033, 0.4693838357925415], [0.2575314939022064, 0.7424684762954712], [0.3591114580631256, 0.640888512134552], [0.28917619585990906, 0.7108238339424133], [0.05519215390086174, 0.9448078870773315], [0.7205144762992859, 0.2794855237007141], [0.6555521488189697, 0.3444478213787079], [0.07009385526180267, 0.9299061298370361], [0.9708774089813232, 0.02912261337041855], [0.9724346995353699, 0.02756529673933983], [0.9737831354141235, 0.026216872036457062], [0.15588152408599854, 0.8441184759140015], [0.8110013008117676, 0.1889987736940384], [0.7185998558998108, 0.2814001441001892], [0.07076428830623627, 0.9292356371879578], [0.5621050596237183, 0.43789494037628174], [0.41500571370124817, 0.5849942564964294], [0.7942179441452026, 0.2057819813489914], [0.8760193586349487, 0.12398064881563187], [0.9511778950691223, 0.048822127282619476], [0.9065682291984558, 0.09343178570270538], [0.13058099150657654, 0.8694189786911011], [0.24570415914058685, 0.7542957663536072], [0.16248831152915955, 0.8375117182731628], [0.9077361226081848, 0.09226389229297638], [0.9486004114151001, 0.051399603486061096], [0.9607149958610535, 0.03928503021597862], [0.9538290500640869, 0.04617098346352577], [0.906728208065033, 0.09327176213264465], [0.7587398290634155, 0.24126015603542328], [0.9662254452705383, 0.03377449885010719], [0.45158860087394714, 0.5484114289283752], [0.9619767069816589, 0.03802334517240524], [0.4763282835483551, 0.5236717462539673], [0.7470878958702087, 0.25291207432746887], [0.9752551913261414, 0.024744801223278046], [0.9682363271713257, 0.031763702630996704], [0.8143765926361084, 0.1856234073638916], [0.07731708139181137, 0.9226829409599304], [0.1432598978281021, 0.8567401170730591], [0.19541576504707336, 0.8045842051506042], [0.10939056426286697, 0.8906093835830688], [0.28771570324897766, 0.7122843265533447], [0.14176711440086365, 0.858232855796814], [0.9584393501281738, 0.04156063497066498], [0.8166615962982178, 0.18333843350410461], [0.961076557636261, 0.03892337903380394], [0.11948508024215698, 0.8805148601531982], [0.9739029407501221, 0.02609698660671711], [0.5472801327705383, 0.45271989703178406], [0.39048120379447937, 0.609518826007843], [0.3994603157043457, 0.6005396842956543], [0.8798283338546753, 0.12017162889242172], [0.0845472663640976, 0.9154527187347412], [0.4184594452381134, 0.581540584564209], [0.9611109495162964, 0.038889095187187195], [0.0706198513507843, 0.9293801784515381], [0.9134647250175476, 0.08653522282838821], [0.9571268558502197, 0.04287314787507057], [0.12841017544269562, 0.8715898990631104], [0.07743151485919952, 0.9225685000419617], [0.08010533452033997, 0.9198946952819824], [0.6622076034545898, 0.33779242634773254], [0.813915491104126, 0.18608452379703522], [0.07277888059616089, 0.9272210597991943], [0.13560402393341064, 0.8643959164619446], [0.7860593199729919, 0.21394065022468567], [0.9643182158470154, 0.03568178415298462], [0.12436915934085846, 0.875630795955658], [0.8815849423408508, 0.11841505765914917], [0.9215791821479797, 0.07842089235782623], [0.33357110619544983, 0.6664288640022278], [0.8103508949279785, 0.18964916467666626], [0.08792181313037872, 0.9120781421661377], [0.23849357664585114, 0.7615063786506653], [0.953929603099823, 0.04607037082314491], [0.07886303961277008, 0.9211369156837463], [0.9697315096855164, 0.03026852384209633], [0.9703785181045532, 0.029621420428156853], [0.4414672553539276, 0.5585327744483948], [0.055438391864299774, 0.9445616006851196], [0.9247589707374573, 0.07524100691080093], [0.8296265602111816, 0.17037346959114075], [0.9704657793045044, 0.029534226283431053], [0.15452726185321808, 0.8454727530479431], [0.9736852645874023, 0.026314791291952133], [0.8485162258148193, 0.15148378908634186], [0.941519021987915, 0.058480944484472275], [0.08178476244211197, 0.918215274810791], [0.96842360496521, 0.03157647326588631], [0.9072567224502563, 0.09274324774742126], [0.09915284067392349, 0.9008471965789795], [0.9382696151733398, 0.06173035502433777], [0.07272151112556458, 0.927278459072113], [0.6344204545021057, 0.3655795454978943], [0.9656550884246826, 0.03434496372938156], [0.34118011593818665, 0.6588199138641357], [0.4528622031211853, 0.5471377968788147], [0.44424206018447876, 0.5557579398155212], [0.07721304893493652, 0.9227870106697083], [0.44794490933418274, 0.5520550608634949], [0.37829992175102234, 0.6217001080513], [0.13231627643108368, 0.8676837086677551], [0.9610608220100403, 0.03893919661641121], [0.9627520442008972, 0.03724789246916771], [0.9746006727218628, 0.025399312376976013], [0.10052404552698135, 0.8994759321212769], [0.9667202830314636, 0.03327976539731026], [0.6786398887634277, 0.32136014103889465], [0.7729942798614502, 0.2270057648420334], [0.054184187203645706, 0.9458158016204834], [0.07019077241420746, 0.9298092722892761], [0.8982027173042297, 0.10179729759693146], [0.7666667699813843, 0.23333321511745453], [0.965352475643158, 0.034647513180971146], [0.9709331393241882, 0.029066860675811768], [0.9723303318023682, 0.027669593691825867], [0.9710846543312073, 0.028915325179696083], [0.47762152552604675, 0.5223785042762756], [0.8203596472740173, 0.17964036762714386], [0.7961292266845703, 0.20387083292007446], [0.5634243488311768, 0.43657562136650085], [0.9076473116874695, 0.09235268086194992], [0.9253790378570557, 0.07462098449468613], [0.4096341133117676, 0.5903658866882324], [0.15677520632743835, 0.843224823474884], [0.7465347051620483, 0.25346532464027405], [0.7850016951560974, 0.21499831974506378], [0.9110918045043945, 0.08890821039676666], [0.6241508722305298, 0.3758491277694702], [0.31403470039367676, 0.6859652996063232], [0.08165974915027618, 0.9183402061462402], [0.054800521582365036, 0.9451995491981506], [0.08795810490846634, 0.9120418429374695], [0.13661912083625793, 0.8633809089660645], [0.866701602935791, 0.13329841196537018], [0.971526563167572, 0.028473518788814545], [0.3355502188205719, 0.6644497513771057], [0.9658172726631165, 0.034182723611593246], [0.13455171883106232, 0.8654482364654541], [0.13671047985553741, 0.863289475440979], [0.0955926850438118, 0.9044073820114136], [0.9384700059890747, 0.06153002008795738], [0.16685238480567932, 0.8331475853919983], [0.8862681984901428, 0.11373187601566315], [0.9260141253471375, 0.07398589700460434], [0.9721091389656067, 0.027890875935554504], [0.97124844789505, 0.02875157818198204], [0.6419492959976196, 0.35805070400238037], [0.12399441003799438, 0.8760056495666504], [0.9422293901443481, 0.05777063965797424], [0.1454729437828064, 0.8545269966125488], [0.8193426728248596, 0.180657297372818], [0.23296406865119934, 0.767035961151123], [0.9579156041145325, 0.04208435118198395], [0.14679290354251862, 0.8532071113586426], [0.7447027564048767, 0.2552972435951233], [0.9366527795791626, 0.06334716826677322], [0.10286124050617218, 0.897138774394989], [0.9669418334960938, 0.03305814787745476], [0.20053240656852722, 0.7994676232337952], [0.16042320430278778, 0.839576780796051], [0.9363159537315369, 0.06368411332368851], [0.24467478692531586, 0.7553252577781677], [0.6309604644775391, 0.3690395653247833], [0.713414192199707, 0.2865857779979706], [0.07467789202928543, 0.9253220558166504], [0.606742262840271, 0.393257737159729], [0.9581618309020996, 0.041838183999061584], [0.15154525637626648, 0.8484547734260559], [0.3768414556980133, 0.6231584548950195], [0.9289290904998779, 0.07107093185186386], [0.18223048746585846, 0.8177695274353027], [0.1062375009059906, 0.893762469291687], [0.9536727070808411, 0.04632730036973953], [0.9608192443847656, 0.03918081149458885], [0.6423981785774231, 0.3576018512248993], [0.8224420547485352, 0.17755796015262604], [0.09771670401096344, 0.9022833108901978], [0.13254611194133759, 0.8674538731575012], [0.12914802134037018, 0.870851993560791], [0.8340425491333008, 0.1659574955701828], [0.922656238079071, 0.07734376937150955], [0.7729185819625854, 0.22708144783973694], [0.7825402021408081, 0.2174597680568695], [0.8179566264152527, 0.1820433884859085], [0.9689311981201172, 0.03106885775923729], [0.9447757601737976, 0.05522424727678299], [0.845825731754303, 0.15417423844337463], [0.9676246643066406, 0.032375361770391464], [0.9371298551559448, 0.06287020444869995], [0.9325817227363586, 0.06741832196712494], [0.6853835582733154, 0.3146164119243622], [0.09969395399093628, 0.9003060460090637], [0.06677663326263428, 0.9332234263420105], [0.9685212969779968, 0.03147866949439049], [0.21633869409561157, 0.7836613655090332], [0.6022973656654358, 0.3977026343345642], [0.08660077303647995, 0.9133992195129395], [0.9569142460823059, 0.04308570548892021], [0.9498183727264404, 0.05018157511949539], [0.8228102326393127, 0.17718981206417084], [0.8904383778572083, 0.10956167429685593], [0.08225318789482117, 0.9177468419075012], [0.8696416020393372, 0.13035845756530762], [0.7433171272277832, 0.2566829025745392], [0.08267804980278015, 0.9173219203948975], [0.1613537073135376, 0.8386462926864624], [0.8632792830467224, 0.13672074675559998], [0.8762230277061462, 0.12377698719501495], [0.9721540212631226, 0.02784597873687744], [0.3416881263256073, 0.6583117842674255], [0.7136868834495544, 0.28631308674812317], [0.06292735040187836, 0.9370726943016052], [0.9756096601486206, 0.02439035102725029], [0.7237866520881653, 0.2762133479118347], [0.6981194615364075, 0.3018805980682373], [0.513173520565033, 0.48682650923728943], [0.9756073951721191, 0.024392545223236084], [0.8276389241218567, 0.1723610907793045], [0.08951268345117569, 0.9104872941970825], [0.9333418607711792, 0.0666581317782402], [0.27396881580352783, 0.7260311841964722], [0.963512122631073, 0.03648789972066879], [0.2881014049053192, 0.7118986248970032], [0.9634161591529846, 0.03658384457230568], [0.9692553877830505, 0.030744539573788643], [0.7277518510818481, 0.27224811911582947], [0.9748695492744446, 0.02513045445084572], [0.9291027784347534, 0.0708971619606018], [0.9267562031745911, 0.07324375212192535], [0.9545408487319946, 0.045459143817424774], [0.0926692932844162, 0.9073306918144226], [0.9353356957435608, 0.06466426700353622], [0.1855166256427765, 0.8144832849502563], [0.9158946871757507, 0.08410535007715225], [0.3229440152645111, 0.677056074142456], [0.12549550831317902, 0.8745044469833374], [0.8434849381446838, 0.15651501715183258], [0.08271005749702454, 0.9172899127006531], [0.9234213829040527, 0.07657863199710846], [0.09614638239145279, 0.9038536548614502], [0.9679218530654907, 0.032078180462121964], [0.9755997657775879, 0.024400154128670692], [0.6622664332389832, 0.33773353695869446], [0.09651144593954086, 0.9034885764122009], [0.0662408322095871, 0.9337590932846069], [0.9610128402709961, 0.03898712992668152], [0.9697163701057434, 0.03028365783393383], [0.09413469582796097, 0.9058653116226196], [0.06733090430498123, 0.9326691031455994], [0.9544928073883057, 0.04550721496343613], [0.2851656675338745, 0.7148343324661255], [0.06614229083061218, 0.9338576793670654], [0.7756233811378479, 0.2243766486644745], [0.9722755551338196, 0.027724454179406166], [0.9395929574966431, 0.060406994074583054], [0.0726843848824501, 0.9273155927658081], [0.9420114159584045, 0.05798855796456337], [0.183794766664505, 0.8162052035331726], [0.07924789190292358, 0.9207521080970764], [0.9183995127677917, 0.08160044252872467], [0.9124776721000671, 0.08752236515283585], [0.07213915139436722, 0.9278608560562134], [0.8606101274490356, 0.13938991725444794], [0.9586266279220581, 0.041373420506715775], [0.1870339959859848, 0.8129660487174988], [0.8998702168464661, 0.1001298576593399], [0.1863279938697815, 0.8136720657348633], [0.9746154546737671, 0.025384515523910522], [0.5432201623916626, 0.4567798376083374], [0.9409369230270386, 0.05906309559941292], [0.08978524059057236, 0.9102147221565247], [0.9231383204460144, 0.07686160504817963], [0.9704604744911194, 0.02953946590423584], [0.9620044827461243, 0.03799549117684364], [0.88775235414505, 0.11224767565727234], [0.7417336702346802, 0.25826629996299744], [0.07673294097185135, 0.9232670664787292], [0.4756585657596588, 0.5243414640426636], [0.9486730098724365, 0.05132697522640228], [0.05978604033589363, 0.9402139782905579], [0.3857782781124115, 0.6142217516899109], [0.4083918035030365, 0.5916082262992859], [0.662914514541626, 0.33708545565605164], [0.9714368581771851, 0.028563104569911957], [0.08669867366552353, 0.9133013486862183], [0.9641928672790527, 0.035807106643915176], [0.3309411108493805, 0.6690588593482971], [0.863124430179596, 0.13687556982040405], [0.9573031067848206, 0.04269687086343765], [0.11418936401605606, 0.8858106136322021], [0.9015227556228638, 0.09847726672887802], [0.3885427415370941, 0.6114572882652283], [0.13865381479263306, 0.8613461256027222], [0.16206499934196472, 0.8379350304603577], [0.3473544716835022, 0.6526455283164978], [0.5824391841888428, 0.41756078600883484], [0.6536545753479004, 0.3463454246520996], [0.5366109609603882, 0.46338900923728943], [0.40417489409446716, 0.5958250761032104], [0.8563024997711182, 0.1436975747346878], [0.28800201416015625, 0.7119979858398438], [0.9627657532691956, 0.03723425045609474], [0.8150798082351685, 0.18492023646831512], [0.08863389492034912, 0.9113661050796509], [0.9672605991363525, 0.03273940458893776], [0.26591211557388306, 0.7340878844261169], [0.9448869228363037, 0.05511308088898659], [0.9683194160461426, 0.03168066218495369], [0.9740893244743347, 0.025910712778568268], [0.8958470821380615, 0.10415294021368027], [0.16388964653015137, 0.8361103534698486], [0.9666689038276672, 0.03333111107349396], [0.3872857987880707, 0.6127142310142517], [0.20668593049049377, 0.7933140993118286], [0.17481385171413422, 0.8251861333847046], [0.2596454620361328, 0.7403545379638672], [0.5720913410186768, 0.42790865898132324], [0.09618386626243591, 0.9038161635398865], [0.11979452520608902, 0.8802054524421692], [0.262943834066391, 0.7370560765266418], [0.15328940749168396, 0.8467105627059937], [0.1407216638326645, 0.8592783808708191], [0.41254836320877075, 0.5874516367912292], [0.9033451080322266, 0.09665490686893463], [0.10990418493747711, 0.8900957703590393], [0.8391828536987305, 0.16081707179546356], [0.5371835827827454, 0.46281638741493225], [0.9740397930145264, 0.025960251688957214], [0.9036892056465149, 0.0963108092546463], [0.8770085573196411, 0.1229914203286171]]\n",
            "[0.97354883 0.88304484 0.92535704 ... 0.97403979 0.90368921 0.87700856]\n"
          ]
        },
        {
          "data": {
            "image/png": "[encoded data removed]",
            "text/plain": [
              "<Figure size 432x288 with 1 Axes>"
            ]
          },
          "metadata": {
            "needs_background": "light"
          },
          "output_type": "display_data"
        }
      ],
      "source": [
        "import matplotlib.pyplot as plt\n",
        "print(probabilities.tolist())\n",
        "probs = np.max(probabilities.tolist(), axis=1)\n",
        "print(probs)\n",
        "plt.hist(probs, bins=40)\n",
        "plt.show()"
      ]
    },
    {
      "cell_type": "code",
      "execution_count": 30,
      "metadata": {
        "colab": {
          "base_uri": "https://localhost:8080/"
        },
        "id": "ERnjUqlMxqYy",
        "outputId": "f33e43ec-0240-4c22-8882-316fc49c62f0"
      },
      "outputs": [
        {
          "name": "stdout",
          "output_type": "stream",
          "text": [
            "[[0.9973625540733337, 0.002637393306940794], [0.9653692841529846, 0.03463069722056389], [0.9843889474868774, 0.015611028298735619], [0.20776477456092834, 0.7922351956367493], [0.8301853537559509, 0.1698145866394043], [0.888332188129425, 0.11166775971651077], [0.9966212511062622, 0.003378760302439332], [0.6678536534309387, 0.3321463167667389], [0.9944518208503723, 0.005548164714127779], [0.035662200301885605, 0.9643378257751465]]\n"
          ]
        }
      ],
      "source": [
        "device = torch.device('cuda') if torch.cuda.is_available() else torch.device('cpu')\n",
        "\n",
        "logits = []\n",
        "labels = []\n",
        "\n",
        "test_loader = DataLoader(test_dataset)\n",
        "\n",
        "with torch.no_grad():\n",
        "    for batch in test_loader:\n",
        "        input_ids = batch['input_ids'].to(device)\n",
        "        attention_mask = batch['attention_mask'].to(device)\n",
        "        label = batch['labels'].to(device)\n",
        "        outputs = model(input_ids, attention_mask=attention_mask)\n",
        "        logits.append(outputs.logits.tolist()[0])\n",
        "        labels.append(label)\n",
        "\n",
        "probabilities = nn.softmax(torch.tensor(logits), dim=1)\n",
        "print(probabilities.tolist()[:10])"
      ]
    },
    {
      "cell_type": "code",
      "execution_count": 31,
      "metadata": {
        "colab": {
          "base_uri": "https://localhost:8080/"
        },
        "id": "bJnQRXeHxsZJ",
        "outputId": "c99f02a2-e947-4b76-aac5-fafeb2141c92"
      },
      "outputs": [
        {
          "name": "stdout",
          "output_type": "stream",
          "text": [
            "Test dataset:  {'accuracy': 0.7683333333333333}\n"
          ]
        }
      ],
      "source": [
        "predictions = torch.argmax(probabilities, dim=-1)\n",
        "metric = load_metric(\"accuracy\")\n",
        "accuracy = metric.compute(predictions=predictions, references=labels)\n",
        "print(\"Test dataset: \", accuracy)"
      ]
    },
    {
      "cell_type": "code",
      "execution_count": 32,
      "metadata": {
        "colab": {
          "base_uri": "https://localhost:8080/",
          "height": 321
        },
        "id": "_lyDSWkMxto7",
        "outputId": "cf175263-8de4-40fd-902e-fe06a0d28602"
      },
      "outputs": [
        {
          "name": "stdout",
          "output_type": "stream",
          "text": [
            "[[0.9973625540733337, 0.002637393306940794], [0.9653692841529846, 0.03463069722056389], [0.9843889474868774, 0.015611028298735619], [0.20776477456092834, 0.7922351956367493], [0.8301853537559509, 0.1698145866394043], [0.888332188129425, 0.11166775971651077], [0.9966212511062622, 0.003378760302439332], [0.6678536534309387, 0.3321463167667389], [0.9944518208503723, 0.005548164714127779], [0.035662200301885605, 0.9643378257751465], [0.017185339704155922, 0.9828146696090698], [0.022780969738960266, 0.9772189855575562], [0.019881105050444603, 0.9801188707351685], [0.020027222111821175, 0.979972779750824], [0.11167464405298233, 0.8883253335952759], [0.015446806326508522, 0.9845532178878784], [0.6559410691261292, 0.34405893087387085], [0.2472149282693863, 0.7527850866317749], [0.8294148445129395, 0.17058517038822174], [0.012332765385508537, 0.9876672029495239], [0.9961163997650146, 0.003883587196469307], [0.8663323521614075, 0.13366763293743134], [0.913288414478302, 0.08671156316995621], [0.030001774430274963, 0.9699982404708862], [0.9896486401557922, 0.010351384058594704], [0.9959654808044434, 0.004034458659589291], [0.03557861968874931, 0.9644214510917664], [0.9977109432220459, 0.002289074007421732], [0.7934761643409729, 0.20652376115322113], [0.9967407584190369, 0.003259202465415001], [0.8150022625923157, 0.18499770760536194], [0.9930667877197266, 0.006933162920176983], [0.9942335486412048, 0.005766487214714289], [0.01540295034646988, 0.9845970273017883], [0.9922257661819458, 0.007774221710860729], [0.48774418234825134, 0.5122557282447815], [0.995932400226593, 0.004067575093358755], [0.027506597340106964, 0.9724933505058289], [0.6873801350593567, 0.3126198351383209], [0.4773165285587311, 0.5226834416389465], [0.997591495513916, 0.0024085682816803455], [0.03485545516014099, 0.9651445746421814], [0.6356654763221741, 0.3643345236778259], [0.894949734210968, 0.10505025088787079], [0.7164985537528992, 0.2835014760494232], [0.9897329211235046, 0.010267134755849838], [0.02220742218196392, 0.9777926206588745], [0.9933465719223022, 0.006653426680713892], [0.9929876923561096, 0.007012366782873869], [0.0185198076069355, 0.9814801812171936], [0.922248899936676, 0.07775110006332397], [0.7794862389564514, 0.22051376104354858], [0.8682004809379578, 0.13179945945739746], [0.9527551531791687, 0.04724487289786339], [0.9975939393043518, 0.0024060269352048635], [0.05365242436528206, 0.9463476538658142], [0.9267234206199646, 0.07327654957771301], [0.014658516272902489, 0.985341489315033], [0.9972649812698364, 0.0027350347954779863], [0.9973848462104797, 0.002615157514810562], [0.1072663739323616, 0.892733633518219], [0.02940329723060131, 0.9705966711044312], [0.028037503361701965, 0.9719625115394592], [0.01959223859012127, 0.9804077744483948], [0.9726572036743164, 0.02734275348484516], [0.6382367014884949, 0.3617633283138275], [0.9972476363182068, 0.0027523559983819723], [0.2983328402042389, 0.7016671895980835], [0.009042415767908096, 0.9909576177597046], [0.9945566654205322, 0.005443297326564789], [0.9906232953071594, 0.009376679547131062], [0.9957068562507629, 0.00429317494854331], [0.9816449880599976, 0.018354956060647964], [0.30438145995140076, 0.6956185698509216], [0.022685978561639786, 0.9773140549659729], [0.9526061415672302, 0.04739387333393097], [0.9978997707366943, 0.0021002115681767464], [0.017640041187405586, 0.9823598861694336], [0.1946704089641571, 0.8053296208381653], [0.9933452606201172, 0.006654759868979454], [0.8503800630569458, 0.1496199667453766], [0.709965705871582, 0.29003432393074036], [0.09329527616500854, 0.9067047238349915], [0.08770547807216644, 0.9122945070266724], [0.1447746902704239, 0.8552252650260925], [0.2615664005279541, 0.7384335994720459], [0.9906569719314575, 0.009343047626316547], [0.15710827708244324, 0.8428916931152344], [0.9970120191574097, 0.0029879710637032986], [0.9884656667709351, 0.011534350924193859], [0.012631905265152454, 0.9873680472373962], [0.9913902282714844, 0.008609733544290066], [0.8911993503570557, 0.10880068689584732], [0.672734260559082, 0.32726576924324036], [0.9837338924407959, 0.016266103833913803], [0.9539557695388794, 0.04604422673583031], [0.9549996256828308, 0.0450003556907177], [0.9122021198272705, 0.0877978503704071], [0.7264826893806458, 0.27351731061935425], [0.11700021475553513, 0.8829997777938843], [0.12693537771701813, 0.8730645775794983], [0.9970983266830444, 0.002901738043874502], [0.8986957669258118, 0.10130424797534943], [0.016710247844457626, 0.9832897186279297], [0.021321309730410576, 0.9786786437034607], [0.2983323037624359, 0.7016676664352417], [0.9713095426559448, 0.028690408915281296], [0.9973338842391968, 0.002666150452569127], [0.28442803025245667, 0.7155719995498657], [0.02912450022995472, 0.9708755016326904], [0.991064190864563, 0.008935783058404922], [0.03303520008921623, 0.9669647812843323], [0.9887450337409973, 0.011254935525357723], [0.643197238445282, 0.3568027913570404], [0.8216468095779419, 0.1783531755208969], [0.9759090542793274, 0.02409096248447895], [0.02068585529923439, 0.9793141484260559], [0.39814406633377075, 0.6018558740615845], [0.7441598176956177, 0.2558401823043823], [0.9568689465522766, 0.043131086975336075], [0.9838770031929016, 0.016122974455356598], [0.8083114624023438, 0.19168853759765625], [0.009773016907274723, 0.9902269840240479], [0.8576110005378723, 0.14238902926445007], [0.9975659847259521, 0.0024340301752090454], [0.8917069435119629, 0.10829311609268188], [0.9949098229408264, 0.005090140271931887], [0.01525583304464817, 0.984744131565094], [0.014868803322315216, 0.9851312041282654], [0.9928767085075378, 0.0071232798509299755], [0.016065476462244987, 0.9839345812797546], [0.9486358165740967, 0.05136416107416153], [0.9935473799705505, 0.006452609784901142], [0.9916343688964844, 0.008365661837160587], [0.011888621374964714, 0.9881113767623901], [0.18573959171772003, 0.8142604231834412], [0.018573198467493057, 0.9814267754554749], [0.8168549537658691, 0.18314501643180847], [0.9855388402938843, 0.014461208134889603], [0.8298819661140442, 0.17011800408363342], [0.9973734617233276, 0.00262652849778533], [0.9926895499229431, 0.007310396526008844], [0.9831763505935669, 0.016823651269078255], [0.9967581629753113, 0.0032418377231806517], [0.19709111750125885, 0.8029088973999023], [0.8101660013198853, 0.18983402848243713], [0.995788037776947, 0.004211960360407829], [0.21449460089206696, 0.7855054140090942], [0.02081945352256298, 0.9791805148124695], [0.013685950078070164, 0.986314058303833], [0.583554744720459, 0.41644522547721863], [0.9919291734695435, 0.008070843294262886], [0.026280194520950317, 0.9737198352813721], [0.023408247157931328, 0.9765917658805847], [0.06770408153533936, 0.9322958588600159], [0.05612163990736008, 0.9438784122467041], [0.03048880025744438, 0.9695111513137817], [0.9942432045936584, 0.005756801459938288], [0.00856694858521223, 0.9914330244064331], [0.866554856300354, 0.1334451586008072], [0.9967324733734131, 0.003267540829256177], [0.0494915246963501, 0.9505084753036499], [0.0873960629105568, 0.9126039147377014], [0.026427926495671272, 0.9735721349716187], [0.996384859085083, 0.0036151043605059385], [0.04203003644943237, 0.9579700231552124], [0.9951151609420776, 0.0048848167061805725], [0.016750041395425797, 0.9832499623298645], [0.03557564690709114, 0.9644243121147156], [0.05227917432785034, 0.9477208256721497], [0.266242653131485, 0.7337573766708374], [0.9973986148834229, 0.0026013869792222977], [0.994706928730011, 0.00529308058321476], [0.018305903300642967, 0.9816940426826477], [0.9879879951477051, 0.01201198436319828], [0.9924765229225159, 0.007523455657064915], [0.030638476833701134, 0.9693614840507507], [0.015426449477672577, 0.9845735430717468], [0.08672714978456497, 0.9132727980613708], [0.0473884716629982, 0.9526115655899048], [0.9969078898429871, 0.0030921606812626123], [0.6732010841369629, 0.3267989158630371], [0.03350382670760155, 0.9664961695671082], [0.03484167158603668, 0.9651583433151245], [0.5891810059547424, 0.4108189642429352], [0.019906239584088326, 0.980093777179718], [0.996669352054596, 0.0033306691329926252], [0.8874874114990234, 0.11251262575387955], [0.988442599773407, 0.011557353660464287], [0.01746498979628086, 0.9825350046157837], [0.5922274589538574, 0.4077725410461426], [0.01247032918035984, 0.9875296354293823], [0.9577242136001587, 0.04227575659751892], [0.8558393716812134, 0.144160658121109], [0.9453054070472717, 0.054694611579179764], [0.06700333207845688, 0.9329966902732849], [0.6858192682266235, 0.3141807019710541], [0.03868341073393822, 0.9613165855407715], [0.02383767068386078, 0.976162314414978], [0.9966687560081482, 0.003331207437440753], [0.07719893008470535, 0.9228010773658752], [0.6788015365600586, 0.3211984932422638], [0.3754543662071228, 0.6245455741882324], [0.9935442209243774, 0.006455737631767988], [0.9977311491966248, 0.002268924843519926], [0.9347227811813354, 0.06527716666460037], [0.028821628540754318, 0.971178412437439], [0.9951706528663635, 0.0048293001018464565], [0.9955873489379883, 0.004412670619785786], [0.024629175662994385, 0.9753707647323608], [0.01125324796885252, 0.9887468218803406], [0.014737030491232872, 0.9852629899978638], [0.915645956993103, 0.08435405790805817], [0.8767339587211609, 0.12326601147651672], [0.21700769662857056, 0.7829923629760742], [0.9947693943977356, 0.005230545066297054], [0.42490658164024353, 0.5750935077667236], [0.271906316280365, 0.7280937433242798], [0.992576003074646, 0.0074240537360310555], [0.5897735953330994, 0.410226434469223], [0.8946231007575989, 0.10537688434123993], [0.9857885241508484, 0.014211424626410007], [0.13422465324401855, 0.8657753467559814], [0.9044178128242493, 0.09558216482400894], [0.9971828460693359, 0.0028171499725431204], [0.8978530764579773, 0.10214690119028091], [0.9794156551361084, 0.020584294572472572], [0.046979594975709915, 0.953020453453064], [0.0294476505368948, 0.9705523252487183], [0.9775991439819336, 0.022400904446840286], [0.04743508622050285, 0.9525649547576904], [0.9971020817756653, 0.0028978565242141485], [0.014691383577883244, 0.9853085875511169], [0.9958547949790955, 0.004145224113017321], [0.9890630841255188, 0.010936920531094074], [0.9070521593093872, 0.09294787794351578], [0.9690176248550415, 0.03098238632082939], [0.9921078085899353, 0.007892170920968056], [0.983751118183136, 0.016248883679509163], [0.4844755530357361, 0.5155243873596191], [0.3520349860191345, 0.6479650139808655], [0.024988550692796707, 0.9750115275382996], [0.995814859867096, 0.004185158293694258], [0.5544345378875732, 0.44556543231010437], [0.8266345262527466, 0.17336547374725342], [0.8212255835533142, 0.17877447605133057], [0.9558412432670593, 0.04415881633758545], [0.17419828474521637, 0.8258017301559448], [0.3871060311794281, 0.6128939390182495], [0.9926277995109558, 0.007372187450528145], [0.9979110360145569, 0.0020888992585241795], [0.6702759861946106, 0.329723984003067], [0.995088517665863, 0.004911479540169239], [0.012655908241868019, 0.9873441457748413], [0.06781893968582153, 0.9321810603141785], [0.1810632050037384, 0.818936824798584], [0.11597996950149536, 0.8840199708938599], [0.12656427919864655, 0.8734357357025146], [0.02968631498515606, 0.9703136682510376], [0.9974719882011414, 0.0025279384572058916], [0.9896726608276367, 0.010327289812266827], [0.9959797859191895, 0.004020194057375193], [0.968055248260498, 0.03194473311305046], [0.9972051978111267, 0.0027948259375989437], [0.4221085011959076, 0.5778915882110596], [0.017482852563261986, 0.9825171828269958], [0.9393154382705688, 0.06068459898233414], [0.12820500135421753, 0.8717949390411377], [0.11084222048521042, 0.889157772064209], [0.9810165762901306, 0.01898343116044998], [0.14118432998657227, 0.858815610408783], [0.9163952469825745, 0.08360473066568375], [0.019165528938174248, 0.980834424495697], [0.9484708309173584, 0.0515291690826416], [0.5910470485687256, 0.408952921628952], [0.10277612507343292, 0.8972238898277283], [0.05621841549873352, 0.9437815546989441], [0.02942763641476631, 0.970572292804718], [0.8049052953720093, 0.19509467482566833], [0.12462539225816727, 0.8753746151924133], [0.9795951247215271, 0.02040482498705387], [0.9853109121322632, 0.014689057134091854], [0.9973733425140381, 0.002626628614962101], [0.9793110489845276, 0.02068895660340786], [0.09304314106702805, 0.9069568514823914], [0.8764312267303467, 0.12356875836849213], [0.2656671404838562, 0.7343329191207886], [0.9138525724411011, 0.08614744246006012], [0.9626140594482422, 0.03738586977124214], [0.997126042842865, 0.0028739157132804394], [0.983348548412323, 0.016651520505547523], [0.9276527762413025, 0.07234719395637512], [0.9964698553085327, 0.003530156798660755], [0.9964345693588257, 0.003565418068319559], [0.7960547208786011, 0.20394524931907654], [0.17571653425693512, 0.8242834210395813], [0.9610861539840698, 0.03891385719180107], [0.9872193336486816, 0.012780667282640934], [0.9966543912887573, 0.003345570294186473], [0.02927829883992672, 0.9707217216491699], [0.55379718542099, 0.44620281457901], [0.8244404196739197, 0.17555956542491913], [0.9831778407096863, 0.016822202131152153], [0.2485859990119934, 0.7514140009880066], [0.7740301489830017, 0.22596989572048187], [0.994494616985321, 0.005505403969436884], [0.12415330857038498, 0.8758466839790344], [0.9902616143226624, 0.00973843690007925], [0.9612982869148254, 0.038701750338077545], [0.016660679131746292, 0.9833393096923828], [0.9961259961128235, 0.0038739661686122417], [0.17142528295516968, 0.8285747170448303], [0.9956353306770325, 0.004364713095128536], [0.01944833993911743, 0.9805517196655273], [0.019341928884387016, 0.9806580543518066], [0.5135841965675354, 0.486415833234787], [0.37195292115211487, 0.6280470490455627], [0.997010350227356, 0.0029896448832005262], [0.6936726570129395, 0.30632728338241577], [0.9929516911506653, 0.007048310246318579], [0.009356257505714893, 0.9906437993049622], [0.9954138398170471, 0.0045861732214689255], [0.03691957890987396, 0.9630804657936096], [0.9528844952583313, 0.04711556434631348], [0.012441759929060936, 0.9875582456588745], [0.5764191746711731, 0.4235808253288269], [0.9970651268959045, 0.0029348903335630894], [0.7179973125457764, 0.28200265765190125], [0.6850266456604004, 0.3149733543395996], [0.9849017262458801, 0.015098239295184612], [0.09347528964281082, 0.9065247178077698], [0.04073416814208031, 0.9592658281326294], [0.947819173336029, 0.05218083783984184], [0.9170864224433899, 0.08291350305080414], [0.9942268133163452, 0.005773210898041725], [0.027400318533182144, 0.9725996851921082], [0.27101919054985046, 0.7289807796478271], [0.8934004902839661, 0.10659950971603394], [0.12248320132493973, 0.8775168061256409], [0.4602792263031006, 0.5397207736968994], [0.010977924801409245, 0.9890220165252686], [0.32357630133628845, 0.6764236688613892], [0.9464712738990784, 0.05352870374917984], [0.026262065395712852, 0.973737895488739], [0.9969411492347717, 0.003058876609429717], [0.2615694999694824, 0.7384305596351624], [0.029305672273039818, 0.9706943035125732], [0.2933613359928131, 0.7066386938095093], [0.1276865452528, 0.872313380241394], [0.6331460475921631, 0.3668539822101593], [0.9908995628356934, 0.009100409224629402], [0.9876816272735596, 0.012318340130150318], [0.032763995230197906, 0.9672360420227051], [0.03234695643186569, 0.9676529765129089], [0.014626511372625828, 0.9853734970092773], [0.16170065104961395, 0.8382993340492249], [0.9832714200019836, 0.016728537157177925], [0.8425753116607666, 0.1574246734380722], [0.02281598560512066, 0.9771840572357178], [0.018507786095142365, 0.9814922213554382], [0.016415560618042946, 0.9835844039916992], [0.5339201092720032, 0.4660798907279968], [0.9968295693397522, 0.003170424373820424], [0.016909413039684296, 0.9830906391143799], [0.10511410236358643, 0.8948858380317688], [0.9930918216705322, 0.0069082011468708515], [0.0393194817006588, 0.9606805443763733], [0.01633048988878727, 0.9836695194244385], [0.011083223856985569, 0.9889167547225952], [0.2562210261821747, 0.7437789440155029], [0.1041332259774208, 0.8958667516708374], [0.8062984943389893, 0.19370144605636597], [0.9947106838226318, 0.005289366468787193], [0.9967730641365051, 0.003226970788091421], [0.17627334594726562, 0.8237266540527344], [0.038280315697193146, 0.9617197513580322], [0.8003002405166626, 0.1996997594833374], [0.09692834317684174, 0.9030716419219971], [0.09129910171031952, 0.9087009429931641], [0.32580187916755676, 0.6741981506347656], [0.024737652391195297, 0.9752623438835144], [0.012537255883216858, 0.9874628186225891], [0.184453085064888, 0.8155469298362732], [0.20479735732078552, 0.7952026724815369], [0.3028911352157593, 0.6971088647842407], [0.030795054510235786, 0.9692049026489258], [0.9867745637893677, 0.013225473463535309], [0.01970703713595867, 0.9802929759025574], [0.9963686466217041, 0.003631406696513295], [0.9954105019569397, 0.004589473828673363], [0.9973944425582886, 0.00260558701120317], [0.9947722554206848, 0.00522772828117013], [0.919402003288269, 0.08059805631637573], [0.49787217378616333, 0.5021278262138367], [0.020753568038344383, 0.9792464375495911], [0.9953085780143738, 0.0046913959085941315], [0.019935881718993187, 0.9800641536712646], [0.09581761807203293, 0.9041823744773865], [0.024072062224149704, 0.9759279489517212], [0.984067440032959, 0.01593255251646042], [0.9824455976486206, 0.017554419115185738], [0.9955824017524719, 0.004417661111801863], [0.03828531131148338, 0.9617146253585815], [0.08453717082738876, 0.9154627919197083], [0.9051519632339478, 0.09484805166721344], [0.8960537314414978, 0.1039462760090828], [0.8605523109436035, 0.13944770395755768], [0.03284066542983055, 0.9671593308448792], [0.01759655587375164, 0.9824033975601196], [0.997663140296936, 0.00233685621060431], [0.9776925444602966, 0.022307418286800385], [0.9969848990440369, 0.003015105612576008], [0.02087036892771721, 0.9791296124458313], [0.9796891808509827, 0.020310813561081886], [0.01727133058011532, 0.9827286601066589], [0.03650375455617905, 0.9634962677955627], [0.802280068397522, 0.1977199912071228], [0.9972188472747803, 0.002781091257929802], [0.03273475915193558, 0.967265248298645], [0.9836026430130005, 0.016397317871451378], [0.36801037192344666, 0.631989598274231], [0.9974591135978699, 0.00254092738032341], [0.22524727880954742, 0.7747527360916138], [0.9911342263221741, 0.008865763433277607], [0.8929876089096069, 0.1070123165845871], [0.8435578942298889, 0.1564420759677887], [0.16917367279529572, 0.8308264017105103], [0.34410005807876587, 0.6558998823165894], [0.02567950263619423, 0.9743204712867737], [0.028807304799556732, 0.9711927175521851], [0.05651300027966499, 0.9434869885444641], [0.042277127504348755, 0.9577228426933289], [0.9977251887321472, 0.0022748594637960196], [0.9979128241539001, 0.0020871616434305906], [0.9894902110099792, 0.010509748943150043], [0.9205096364021301, 0.07949040085077286], [0.045225732028484344, 0.9547743201255798], [0.020588595420122147, 0.9794114232063293], [0.03056376613676548, 0.9694361686706543], [0.9038102030754089, 0.09618977457284927], [0.020003698766231537, 0.9799963235855103], [0.9651579856872559, 0.034842029213905334], [0.08977395296096802, 0.910226047039032], [0.9823656678199768, 0.017634358257055283], [0.9901881814002991, 0.00981175247579813], [0.34178289771080017, 0.6582170724868774], [0.9970056414604187, 0.0029943615663796663], [0.9814316034317017, 0.018568353727459908], [0.9804801940917969, 0.019519828259944916], [0.35858821868896484, 0.6414117813110352], [0.9970242381095886, 0.0029757991433143616], [0.41664817929267883, 0.5833518505096436], [0.012694892473518848, 0.9873051047325134], [0.029596569016575813, 0.9704034328460693], [0.03802235797047615, 0.9619776606559753], [0.9933997392654419, 0.0066003091633319855], [0.027014100924134254, 0.9729859232902527], [0.9962843060493469, 0.0037157267797738314], [0.05105339735746384, 0.9489465951919556], [0.9471412301063538, 0.05285877734422684], [0.06807661801576614, 0.9319233894348145], [0.6160389184951782, 0.3839610815048218], [0.024229461327195168, 0.9757705926895142], [0.9965834021568298, 0.0034166621044278145], [0.9964861869812012, 0.003513867035508156], [0.9636878967285156, 0.03631217032670975], [0.9463499784469604, 0.053650010377168655], [0.9896352887153625, 0.010364663787186146], [0.1271916627883911, 0.8728083372116089], [0.017780331894755363, 0.9822196960449219], [0.8555944561958313, 0.14440560340881348], [0.9917182922363281, 0.008281676098704338], [0.09101708978414536, 0.9089829325675964], [0.0138402646407485, 0.9861597418785095], [0.9673601984977722, 0.03263978287577629], [0.022976193577051163, 0.9770237803459167], [0.9955651164054871, 0.00443489383906126], [0.41645026206970215, 0.5835497379302979], [0.9929361939430237, 0.007063758093863726], [0.9862029552459717, 0.01379698608070612], [0.9816837906837463, 0.018316159024834633], [0.9932738542556763, 0.006726161111146212], [0.019157644361257553, 0.9808423519134521], [0.9971453547477722, 0.0028546834364533424], [0.01626920886337757, 0.9837307929992676], [0.99460369348526, 0.005396273452788591], [0.9965469241142273, 0.0034531494602560997], [0.9954687356948853, 0.004531224723905325], [0.9413576126098633, 0.058642346411943436], [0.04704229161143303, 0.9529576301574707], [0.01693585142493248, 0.9830641150474548], [0.013161429204046726, 0.9868385195732117], [0.014521399512887001, 0.9854786396026611], [0.12232809513807297, 0.8776718974113464], [0.04287092387676239, 0.9571290016174316], [0.9848528504371643, 0.015147209167480469], [0.8588129281997681, 0.14118705689907074], [0.017115846276283264, 0.9828841686248779], [0.08998125791549683, 0.9100186824798584], [0.9974344372749329, 0.002565554575994611], [0.9971504807472229, 0.0028495967853814363], [0.888787567615509, 0.11121247708797455], [0.013344308361411095, 0.9866557121276855], [0.9807875156402588, 0.01921253092586994], [0.3360445201396942, 0.6639554500579834], [0.07412015646696091, 0.9258797764778137], [0.9953708052635193, 0.004629230592399836], [0.032097749412059784, 0.9679021835327148], [0.8192651271820068, 0.18073482811450958], [0.9903180599212646, 0.009681968949735165], [0.026016250252723694, 0.9739837050437927], [0.7884044051170349, 0.2115955799818039], [0.08941631019115448, 0.9105836749076843], [0.9896578192710876, 0.010342218913137913], [0.9063648581504822, 0.09363508969545364], [0.9833686947822571, 0.01663130894303322], [0.9905351996421814, 0.009464786387979984], [0.9953746199607849, 0.004625398200005293], [0.9972791075706482, 0.002720946678891778], [0.011775379069149494, 0.9882246255874634], [0.5710316896438599, 0.42896831035614014], [0.976864755153656, 0.023135218769311905], [0.8856297731399536, 0.11437021940946579], [0.9358245730400085, 0.06417538970708847], [0.9646304845809937, 0.03536951169371605], [0.019716253504157066, 0.980283796787262], [0.1560090333223343, 0.8439909219741821], [0.016896044835448265, 0.9831039905548096], [0.9969391822814941, 0.0030608230736106634], [0.9766507744789124, 0.023349232971668243], [0.9856336712837219, 0.014366311021149158], [0.02887185662984848, 0.9711281657218933], [0.20180121064186096, 0.7981988191604614], [0.9628307223320007, 0.037169281393289566], [0.06965568661689758, 0.9303443431854248], [0.9694361686706543, 0.03056378662586212], [0.9776967763900757, 0.022303219884634018], [0.9886836409568787, 0.011316335760056973], [0.9970031380653381, 0.0029969082679599524], [0.9978163242340088, 0.002183720003813505], [0.9076966047286987, 0.09230339527130127], [0.4272640645503998, 0.5727358460426331], [0.995741605758667, 0.004258417058736086], [0.2456395924091339, 0.7543603777885437], [0.010873831808567047, 0.9891262054443359], [0.18717530369758606, 0.8128247261047363], [0.9974868297576904, 0.002513126702979207], [0.013268104754388332, 0.9867318272590637], [0.961280882358551, 0.03871917724609375], [0.9868113398551941, 0.013188633136451244], [0.9967695474624634, 0.0032304709311574697], [0.020104706287384033, 0.9798952341079712], [0.9947565793991089, 0.005243488121777773], [0.5965192914009094, 0.4034807085990906], [0.9822940230369568, 0.017705952748656273], [0.025388814508914948, 0.9746111631393433], [0.9911999106407166, 0.008800080046057701], [0.20540693402290344, 0.794593095779419], [0.7626240849494934, 0.2373759001493454], [0.9928145408630371, 0.007185459136962891], [0.1902398020029068, 0.8097602128982544], [0.037352804094552994, 0.9626471996307373], [0.9970883727073669, 0.002911596791818738], [0.7983655333518982, 0.2016344517469406], [0.04768381640315056, 0.9523161053657532], [0.9525415897369385, 0.047458432614803314], [0.9978323578834534, 0.00216766819357872], [0.06652561575174332, 0.9334744215011597], [0.0576784648001194, 0.9423215985298157], [0.1264548897743225, 0.8735451102256775], [0.9951044321060181, 0.004895555786788464], [0.9825185537338257, 0.0174814835190773], [0.34264031052589417, 0.6573597192764282], [0.10162709653377533, 0.8983728885650635], [0.013519798405468464, 0.986480176448822], [0.03256550431251526, 0.9674344658851624], [0.01883888617157936, 0.9811611771583557], [0.016588658094406128, 0.9834113717079163], [0.2967168390750885, 0.7032831311225891], [0.019898558035492897, 0.980101466178894], [0.2764337956905365, 0.7235662341117859], [0.9968178272247314, 0.003182094544172287], [0.9491565823554993, 0.050843462347984314], [0.05083814263343811, 0.9491618275642395], [0.9936299920082092, 0.006370047107338905], [0.11335889250040054, 0.8866410851478577], [0.1713818907737732, 0.8286181092262268], [0.9965207576751709, 0.003479293780401349], [0.9973948001861572, 0.002605206798762083], [0.982932448387146, 0.01706755720078945], [0.973673403263092, 0.02632663957774639], [0.9976460337638855, 0.0023539988324046135], [0.6109310984611511, 0.38906893134117126], [0.06227443367242813, 0.9377256035804749], [0.9311524629592896, 0.06884757429361343], [0.9397882223129272, 0.06021172180771828], [0.026802662760019302, 0.973197340965271], [0.3093163073062897, 0.6906837224960327], [0.35065028071403503, 0.6493496894836426], [0.9939513206481934, 0.0060487352311611176], [0.020558666437864304, 0.9794412851333618], [0.01970703713595867, 0.9802929759025574], [0.028767550364136696, 0.971232533454895], [0.019345780834555626, 0.9806541800498962], [0.2446933537721634, 0.7553066611289978], [0.01586434245109558, 0.9841356873512268], [0.1123361736536026, 0.8876638412475586], [0.9904425740242004, 0.009557376615703106], [0.8308997750282288, 0.16910018026828766], [0.023155255243182182, 0.9768447279930115], [0.9965392351150513, 0.0034607350826263428], [0.9973077774047852, 0.0026922596152871847], [0.23789429664611816, 0.7621057033538818], [0.8803310990333557, 0.11966893076896667], [0.02871953696012497, 0.9712803959846497], [0.9655102491378784, 0.03448968753218651], [0.04179493710398674, 0.9582050442695618], [0.014683840796351433, 0.9853160977363586], [0.9232733845710754, 0.07672666013240814], [0.2727063298225403, 0.7272936701774597], [0.9963284134864807, 0.003671591402962804], [0.031037593260407448, 0.9689624309539795], [0.019798804074525833, 0.9802011847496033], [0.3716284930706024, 0.6283714175224304], [0.16910456120967865, 0.8308954238891602], [0.783731997013092, 0.21626804769039154], [0.9967208504676819, 0.003279187483713031], [0.01879553310573101, 0.9812043905258179], [0.012365450151264668, 0.9876344799995422], [0.9679305553436279, 0.03206943720579147], [0.0571117028594017, 0.9428883790969849], [0.3421286344528198, 0.6578713655471802], [0.9790984392166138, 0.020901504904031754], [0.9880347847938538, 0.011965246871113777], [0.9809060096740723, 0.019093960523605347], [0.8721367120742798, 0.12786325812339783], [0.04732948914170265, 0.9526705145835876], [0.04855573549866676, 0.9514442682266235], [0.9764214754104614, 0.02357853762805462], [0.9920399188995361, 0.007960067130625248], [0.9845166802406311, 0.015483302995562553], [0.021518414840102196, 0.9784815907478333], [0.050314635038375854, 0.9496853947639465], [0.29358625411987305, 0.706413745880127], [0.9849392175674438, 0.015060840174555779], [0.9942392110824585, 0.00576079823076725], [0.1989983171224594, 0.8010016679763794], [0.3968854248523712, 0.6031145453453064], [0.9975621700286865, 0.0024378143716603518], [0.9932057857513428, 0.006794242653995752], [0.9883022904396057, 0.011697744950652122], [0.038655560463666916, 0.9613444209098816], [0.04473661258816719, 0.9552633762359619], [0.25729504227638245, 0.7427049279212952], [0.018335795029997826, 0.9816641807556152], [0.9965464472770691, 0.003453536657616496], [0.9972637891769409, 0.002736162394285202], [0.00993674248456955, 0.9900632500648499], [0.6750041842460632, 0.32499581575393677], [0.0708017647266388, 0.9291982054710388], [0.20366668701171875, 0.7963332533836365], [0.9928274750709534, 0.007172493264079094], [0.08738104999065399, 0.9126189351081848], [0.9593766331672668, 0.040623318403959274], [0.05264049395918846, 0.9473595023155212], [0.8610631227493286, 0.1389368325471878], [0.5654301047325134, 0.4345698952674866], [0.27295273542404175, 0.7270472645759583], [0.027154413983225822, 0.9728455543518066], [0.02171400561928749, 0.9782860279083252], [0.04998385161161423, 0.9500160813331604], [0.9440451860427856, 0.05595478042960167], [0.2444361448287964, 0.7555639147758484], [0.9883602857589722, 0.011639722622931004], [0.12367095053195953, 0.8763290643692017], [0.9956080317497253, 0.0043920050375163555], [0.05261058360338211, 0.9473893642425537], [0.9948182702064514, 0.005181733053177595], [0.388365775346756, 0.6116341948509216], [0.01020523440092802, 0.9897947907447815], [0.016046497970819473, 0.9839534759521484], [0.8612027168273926, 0.13879726827144623], [0.9969094395637512, 0.003090603044256568], [0.9958850741386414, 0.004114876035600901], [0.04905765503644943, 0.9509423971176147], [0.9142184853553772, 0.0857815369963646], [0.9930497407913208, 0.00695025222375989], [0.05848746746778488, 0.9415124654769897], [0.028792472556233406, 0.9712075591087341], [0.720711886882782, 0.2792881429195404], [0.436388224363327, 0.5636117458343506], [0.9957355260848999, 0.00426439568400383], [0.996127188205719, 0.0038728739600628614], [0.2733837068080902, 0.7266163229942322], [0.015489236451685429, 0.9845107793807983], [0.0355655774474144, 0.9644343852996826], [0.9844639897346497, 0.015536046586930752], [0.9903687834739685, 0.009631149470806122], [0.04024716839194298, 0.9597527980804443], [0.09790902584791183, 0.9020909667015076], [0.9737613201141357, 0.02623867243528366], [0.9974830746650696, 0.0025169176515191793], [0.9716927409172058, 0.02830727957189083], [0.029686011373996735, 0.9703139662742615], [0.14367206394672394, 0.8563278913497925], [0.9221724271774292, 0.0778275802731514], [0.9972634315490723, 0.0027365880087018013], [0.9847362637519836, 0.015263700857758522], [0.9900424480438232, 0.009957493282854557], [0.997627317905426, 0.002372677205130458], [0.9940789937973022, 0.005921058356761932], [0.3307957649230957, 0.6692042946815491], [0.02351892925798893, 0.9764810800552368], [0.790327787399292, 0.20967219769954681], [0.9892890453338623, 0.010710959322750568], [0.020289883017539978, 0.9797101020812988], [0.9939566850662231, 0.006043324712663889], [0.9954062700271606, 0.0045936997048556805], [0.016656868159770966, 0.9833431243896484], [0.0352693535387516, 0.9647306799888611], [0.020985282957553864, 0.9790146946907043], [0.9898539185523987, 0.01014613639563322], [0.037647053599357605, 0.9623529314994812], [0.9961812496185303, 0.003818765515461564], [0.9956758618354797, 0.004324096720665693], [0.988349437713623, 0.01165060605853796], [0.07902592420578003, 0.9209741353988647], [0.02929869294166565, 0.970701277256012], [0.08407488465309143, 0.9159250855445862], [0.8753196001052856, 0.12468036264181137], [0.9921061992645264, 0.007893824949860573], [0.9815282821655273, 0.018471725285053253], [0.3511291742324829, 0.6488707661628723], [0.9414477348327637, 0.05855231359601021], [0.9963724613189697, 0.0036275372840464115], [0.08994439244270325, 0.9100556373596191], [0.012973293662071228, 0.9870267510414124], [0.9905773401260376, 0.009422630071640015], [0.9977179765701294, 0.002282027853652835], [0.1377032995223999, 0.8622967600822449], [0.035236723721027374, 0.9647632837295532], [0.9964092373847961, 0.0035907591227442026], [0.02569463476538658, 0.9743053317070007], [0.189109206199646, 0.8108907341957092], [0.02561475895345211, 0.9743852019309998], [0.9875246286392212, 0.012475422583520412], [0.034957874566316605, 0.9650420546531677], [0.7510217428207397, 0.24897821247577667], [0.9650774002075195, 0.03492259979248047], [0.9964798092842102, 0.0035202372819185257], [0.11201056838035583, 0.8879894614219666], [0.02780192345380783, 0.9721980690956116], [0.0866461992263794, 0.9133537411689758], [0.9966642260551453, 0.00333570153452456], [0.9940021634101868, 0.005997844971716404], [0.03873477503657341, 0.9612652659416199], [0.01039306540042162, 0.9896069169044495], [0.985896646976471, 0.014103318564593792], [0.75931715965271, 0.24068281054496765], [0.9247250556945801, 0.07527492195367813], [0.8188081979751587, 0.18119177222251892], [0.9470090270042419, 0.05299094691872597], [0.4195227324962616, 0.580477237701416], [0.012000762857496738, 0.9879993200302124], [0.04232097789645195, 0.9576789736747742], [0.5609079599380493, 0.4390920400619507], [0.1606927365064621, 0.8393073081970215], [0.09578260779380798, 0.9042173624038696], [0.9805532097816467, 0.019446829333901405], [0.8829346895217896, 0.11706528067588806], [0.9967838525772095, 0.0032161648850888014], [0.7689997553825378, 0.231000155210495], [0.6316063404083252, 0.36839357018470764], [0.02958095446228981, 0.9704190492630005], [0.10480545461177826, 0.8951944708824158], [0.9939654469490051, 0.006034546066075563], [0.9279304146766663, 0.07206962257623672], [0.051654670387506485, 0.9483453631401062], [0.4466893672943115, 0.5533106327056885], [0.9955852031707764, 0.0044148163869977], [0.8838258981704712, 0.11617414653301239], [0.03834587335586548, 0.9616541266441345], [0.02772272564470768, 0.9722772836685181], [0.9941866397857666, 0.005813283380120993], [0.01728416420519352, 0.9827158451080322], [0.05202636867761612, 0.9479736089706421], [0.7524608373641968, 0.2475392073392868], [0.02009851485490799, 0.9799014329910278], [0.9895526766777039, 0.010447299107909203], [0.0630987137556076, 0.936901330947876], [0.9919900298118591, 0.008010009303689003], [0.9848023056983948, 0.015197688713669777], [0.013321594335138798, 0.9866784811019897], [0.4438936114311218, 0.5561063885688782], [0.9908169507980347, 0.00918301846832037], [0.05727951601147652, 0.9427205324172974], [0.035998906940221786, 0.9640010595321655], [0.03804224357008934, 0.9619576930999756], [0.33943355083465576, 0.6605663895606995], [0.997307538986206, 0.0026924978010356426], [0.8550609350204468, 0.1449390947818756], [0.03900386393070221, 0.9609960913658142], [0.9931820034980774, 0.006818001624196768], [0.019193921238183975, 0.9808061122894287], [0.07523809373378754, 0.924761950969696], [0.9973369240760803, 0.0026630277279764414], [0.9975684285163879, 0.0024315465707331896], [0.017624475061893463, 0.9823755621910095], [0.8402383923530579, 0.15976163744926453], [0.018296629190444946, 0.9817033410072327], [0.8518631458282471, 0.14813682436943054], [0.056012917309999466, 0.9439870715141296], [0.015279886312782764, 0.9847201108932495], [0.49150651693344116, 0.5084934830665588], [0.067949578166008, 0.932050347328186], [0.9963371753692627, 0.003662880277261138], [0.07746870070695877, 0.922531247138977], [0.01654771901667118, 0.9834522604942322], [0.04460703581571579, 0.9553929567337036], [0.03691957890987396, 0.9630804657936096], [0.05853894352912903, 0.9414610266685486], [0.024679698050022125, 0.9753202795982361], [0.9848933815956116, 0.015106543898582458], [0.83549964427948, 0.16450034081935883], [0.9969074130058289, 0.003092558588832617], [0.9046333432197571, 0.09536665678024292], [0.011200030334293842, 0.9887999296188354], [0.48740506172180176, 0.5125949382781982], [0.09080282598733902, 0.909197211265564], [0.9183313846588135, 0.0816686600446701], [0.9968228340148926, 0.003177120815962553], [0.03010496124625206, 0.96989506483078], [0.9946725964546204, 0.005327384918928146], [0.017687419429421425, 0.9823126196861267], [0.9843653440475464, 0.01563466340303421], [0.9964038133621216, 0.0035961782559752464], [0.9973207116127014, 0.0026793081779032946], [0.8824267387390137, 0.11757320910692215], [0.8620933294296265, 0.13790662586688995], [0.035880912095308304, 0.9641190767288208], [0.0107262022793293, 0.989273726940155], [0.9959357976913452, 0.004064246546477079], [0.01961803250014782, 0.980381965637207], [0.01564483903348446, 0.9843552112579346], [0.9951635599136353, 0.004836416337639093], [0.997235119342804, 0.002764858305454254], [0.9942740797996521, 0.005725868511945009], [0.9950064420700073, 0.00499353464692831], [0.02096661552786827, 0.9790334105491638], [0.9941074848175049, 0.0058925268240273], [0.9961811304092407, 0.00381884491071105], [0.019103609025478363, 0.9808963537216187], [0.017115725204348564, 0.9828842878341675], [0.027541866526007652, 0.9724581837654114], [0.9887902736663818, 0.01120967697352171], [0.2910286784172058, 0.7089713215827942], [0.9943037033081055, 0.00569636607542634], [0.065432108938694, 0.934567928314209], [0.22552266716957092, 0.7744773626327515], [0.997524082660675, 0.0024759562220424414], [0.7609058618545532, 0.23909412324428558], [0.9899352192878723, 0.010064790025353432], [0.9963782429695129, 0.0036217474844306707], [0.02284322865307331, 0.9771568179130554], [0.020046481862664223, 0.9799535274505615], [0.6857734322547913, 0.31422659754753113], [0.9979015588760376, 0.002098390366882086], [0.08694557100534439, 0.9130544066429138], [0.5502904057502747, 0.44970962405204773], [0.14893558621406555, 0.8510643839836121], [0.27818763256073, 0.72181236743927], [0.1853518784046173, 0.8146481513977051], [0.009237153455615044, 0.9907628893852234], [0.8261952996253967, 0.17380467057228088], [0.7425635457038879, 0.25743651390075684], [0.013985827565193176, 0.9860141277313232], [0.9968974590301514, 0.0031025598291307688], [0.9971725344657898, 0.0028275172226130962], [0.9974019527435303, 0.0025981192011386156], [0.05838056281208992, 0.9416194558143616], [0.9166455864906311, 0.08335438370704651], [0.8239412307739258, 0.1760588437318802], [0.014220212586224079, 0.9857797622680664], [0.6013400554656982, 0.39865991473197937], [0.3623616099357605, 0.6376384496688843], [0.9023091793060303, 0.09769076108932495], [0.9615280032157898, 0.03847194090485573], [0.9925212264060974, 0.007478782907128334], [0.9768128395080566, 0.02318713627755642], [0.0422588512301445, 0.9577412009239197], [0.1362985223531723, 0.8637014627456665], [0.0630115196108818, 0.9369885325431824], [0.9773243069648743, 0.022675741463899612], [0.9918294548988342, 0.0081704743206501], [0.9948437213897705, 0.005156285595148802], [0.9932044744491577, 0.006795561872422695], [0.9768832921981812, 0.02311675064265728], [0.8683096766471863, 0.13169032335281372], [0.9960124492645264, 0.0039875865913927555], [0.42073288559913635, 0.5792670845985413], [0.9951226115226746, 0.004877349827438593], [0.46108323335647583, 0.5389167666435242], [0.8560642600059509, 0.14393571019172668], [0.9976429343223572, 0.0023570647463202477], [0.9964064955711365, 0.003593465778976679], [0.9193925261497498, 0.08060754835605621], [0.016604479402303696, 0.9833955764770508], [0.05001891404390335, 0.9499810338020325], [0.08870252221822739, 0.9112974405288696], [0.03071283921599388, 0.9692872166633606], [0.1835896521806717, 0.8164103031158447], [0.049072038382291794, 0.9509279727935791], [0.99432373046875, 0.0056762476451694965], [0.9212259650230408, 0.07877403497695923], [0.9949243068695068, 0.0050756498239934444], [0.035991474986076355, 0.9640084505081177], [0.9974218606948853, 0.00257812044583261], [0.5774337649345398, 0.4225662052631378], [0.32453668117523193, 0.6754632592201233], [0.33824023604393005, 0.6617597341537476], [0.9636349678039551, 0.03636510297656059], [0.01943158358335495, 0.9805684089660645], [0.3677831292152405, 0.6322168707847595], [0.9949319958686829, 0.005068034399300814], [0.014169569127261639, 0.9858304858207703], [0.9797550439834595, 0.020244956016540527], [0.9940140843391418, 0.005985956639051437], [0.04099428281188011, 0.9590057134628296], [0.016647621989250183, 0.9833523035049438], [0.017670350149273872, 0.9823296666145325], [0.7517711520195007, 0.24822884798049927], [0.9190199375152588, 0.08098010718822479], [0.014935189858078957, 0.9850648045539856], [0.04525667801499367, 0.9547433257102966], [0.8949329257011414, 0.10506708920001984], [0.9956225752830505, 0.004377488046884537], [0.03869005665183067, 0.9613099694252014], [0.9645870923995972, 0.03541284799575806], [0.9829772710800171, 0.017022771760821342], [0.24245963990688324, 0.7575403451919556], [0.9161110520362854, 0.08388891816139221], [0.020821476355195045, 0.9791785478591919], [0.12886051833629608, 0.8711394667625427], [0.9932297468185425, 0.006770202424377203], [0.017191680148243904, 0.9828082919120789], [0.996688187122345, 0.0033117961138486862], [0.9968070983886719, 0.00319292931817472], [0.4043956995010376, 0.5956043004989624], [0.0093084080144763, 0.990691602230072], [0.9841692447662354, 0.015830757096409798], [0.9312325716018677, 0.06876751035451889], [0.9968229532241821, 0.0031770532950758934], [0.05745289474725723, 0.942547082901001], [0.9973854422569275, 0.0026145006995648146], [0.9446051716804504, 0.05539485067129135], [0.9897909760475159, 0.010208996012806892], [0.01832711696624756, 0.9816728830337524], [0.9964423775672913, 0.0035576610825955868], [0.9771149158477783, 0.022884998470544815], [0.025769764557480812, 0.9742302894592285], [0.9887883067131042, 0.011211728677153587], [0.014914600178599358, 0.9850854277610779], [0.7124651670455933, 0.2875348925590515], [0.9958974123001099, 0.00410256814211607], [0.2528987228870392, 0.7471012473106384], [0.42279693484306335, 0.5772030353546143], [0.408862441778183, 0.5911375880241394], [0.01656530424952507, 0.9834346175193787], [0.41483771800994873, 0.5851622819900513], [0.3062428832054138, 0.6937570571899414], [0.043283168226480484, 0.9567168354988098], [0.9949207901954651, 0.005079164169728756], [0.9952907562255859, 0.004709241911768913], [0.9975370168685913, 0.0024630259722471237], [0.026407882571220398, 0.9735921025276184], [0.9961109757423401, 0.0038889958523213863], [0.7739095687866211, 0.22609040141105652], [0.8825687170028687, 0.11743128299713135], [0.008947988040745258, 0.991051971912384], [0.01401959452778101, 0.9859803915023804], [0.9729929566383362, 0.027007047086954117], [0.8763377070426941, 0.12366223335266113], [0.9958359003067017, 0.004164120182394981], [0.9969075322151184, 0.003092528088018298], [0.9971543550491333, 0.002845600713044405], [0.9969346523284912, 0.003065329510718584], [0.4632043242454529, 0.5367956161499023], [0.9241489171981812, 0.07585102319717407], [0.9039986729621887, 0.0960012897849083], [0.603454053401947, 0.39654597640037537], [0.9772855639457703, 0.02271442860364914], [0.9843969941139221, 0.015602978877723217], [0.35397303104400635, 0.6460269093513489], [0.05899674817919731, 0.9410032033920288], [0.855469822883606, 0.14453019201755524], [0.893957257270813, 0.1060427725315094], [0.9787638187408447, 0.02123621106147766], [0.6973939538002014, 0.30260607600212097], [0.21650494635105133, 0.7834950685501099], [0.01827785186469555, 0.9817221760749817], [0.009124314412474632, 0.9908757209777832], [0.02083667181432247, 0.9791633486747742], [0.04587467387318611, 0.9541253447532654], [0.9561318159103394, 0.04386819526553154], [0.9970133304595947, 0.0029866101685911417], [0.24515753984451294, 0.7548424601554871], [0.9959302544593811, 0.004069727845489979], [0.0446203388273716, 0.9553796648979187], [0.04593050107359886, 0.9540694355964661], [0.02414749190211296, 0.9758525490760803], [0.9888513684272766, 0.011148686520755291], [0.06616638600826263, 0.933833658695221], [0.9670663475990295, 0.03293368220329285], [0.9846287965774536, 0.015371236950159073], [0.9971158504486084, 0.002884126268327236], [0.9969639182090759, 0.00303605361841619], [0.7233342528343201, 0.27666571736335754], [0.038479648530483246, 0.9615203142166138], [0.9900045990943909, 0.009995426051318645], [0.05143902450799942, 0.948560893535614], [0.9233506321907043, 0.07664935290813446], [0.12329437583684921, 0.8767056465148926], [0.9942010045051575, 0.005798970814794302], [0.05229536071419716, 0.9477046728134155], [0.8534929156303406, 0.14650708436965942], [0.9882736206054688, 0.011726349592208862], [0.027512608096003532, 0.9724873900413513], [0.9961548447608948, 0.0038451766595244408], [0.09308523684740067, 0.9069147706031799], [0.06154521927237511, 0.938454806804657], [0.9881651401519775, 0.01183491200208664], [0.13522423803806305, 0.8647757172584534], [0.7074182629585266, 0.292581707239151], [0.8177683353424072, 0.18223166465759277], [0.015623820945620537, 0.9843761920928955], [0.6712449193000793, 0.32875505089759827], [0.9942588806152344, 0.0057411459274590015], [0.05543605983257294, 0.9445639252662659], [0.3040768802165985, 0.6959230899810791], [0.9856719970703125, 0.014327997341752052], [0.07789253443479538, 0.922107458114624], [0.02914644591510296, 0.9708535671234131], [0.9931649565696716, 0.006835055071860552], [0.9948669672012329, 0.005132993217557669], [0.723977267742157, 0.276022732257843], [0.9257707595825195, 0.07422924041748047], [0.02510935440659523, 0.9748905897140503], [0.043419722467660904, 0.9565802216529846], [0.041422002017498016, 0.9585779905319214], [0.9344867467880249, 0.06551322340965271], [0.983385443687439, 0.01661454327404499], [0.8824950456619263, 0.11750487983226776], [0.8916692733764648, 0.10833068937063217], [0.9222558736801147, 0.07774417102336884], [0.9965386390686035, 0.0034613534808158875], [0.9907536506652832, 0.009246422909200191], [0.9427877068519592, 0.05721227079629898], [0.996288537979126, 0.003711499972268939], [0.9884265661239624, 0.01157345063984394], [0.9869317412376404, 0.01306819450110197], [0.7827404141426086, 0.21725955605506897], [0.026020703837275505, 0.9739792943000793], [0.012852326035499573, 0.9871476292610168], [0.9964609742164612, 0.003539017401635647], [0.10728564858436584, 0.8927143216133118], [0.6644560694694519, 0.3355438709259033], [0.020272042602300644, 0.9797279238700867], [0.9939631819725037, 0.006036785896867514], [0.9921597838401794, 0.00784024316817522], [0.9260557293891907, 0.0739443227648735], [0.9692010879516602, 0.030798958614468575], [0.018512286245822906, 0.9814877510070801], [0.957871675491333, 0.04212835058569908], [0.8519890308380127, 0.1480109542608261], [0.01868096925318241, 0.9813189506530762], [0.062203794717788696, 0.9377962350845337], [0.9540632963180542, 0.04593677818775177], [0.9616420865058899, 0.03835783526301384], [0.997123658657074, 0.0028762915171682835], [0.25360214710235596, 0.746397852897644], [0.8180953860282898, 0.1819046288728714], [0.01159172784537077, 0.9884082674980164], [0.9976995587348938, 0.0023004990071058273], [0.830016553401947, 0.16998347640037537], [0.7989971041679382, 0.20100291073322296], [0.5216765999794006, 0.47832342982292175], [0.9976992011070251, 0.0023008480202406645], [0.929742157459259, 0.07025779783725739], [0.02149224653840065, 0.9785077571868896], [0.987187385559082, 0.01281263493001461], [0.16738536953926086, 0.8326146006584167], [0.9954530000686646, 0.004546948708593845], [0.18405431509017944, 0.8159456849098206], [0.9954327344894409, 0.004567299969494343], [0.9965996146202087, 0.0034004126209765673], [0.8345937132835388, 0.1654062718153], [0.9975807666778564, 0.0024192642886191607], [0.985733151435852, 0.014266878366470337], [0.9848975539207458, 0.015102451667189598], [0.99338299036026, 0.006617018952965736], [0.02285265177488327, 0.9771474003791809], [0.9878467917442322, 0.012153260409832], [0.08052142709493637, 0.9194785952568054], [0.9807471632957458, 0.01925288513302803], [0.22818629443645477, 0.7718136310577393], [0.03932580724358559, 0.9606741666793823], [0.9411830306053162, 0.05881704017519951], [0.0186937153339386, 0.981306254863739], [0.9836726784706116, 0.016327327117323875], [0.024396520107984543, 0.9756035208702087], [0.9963460564613342, 0.00365394982509315], [0.9976978898048401, 0.0023020554799586535], [0.7518519759178162, 0.24814797937870026], [0.02456137351691723, 0.9754385948181152], [0.012673329561948776, 0.9873266816139221], [0.9949101805686951, 0.005089821293950081], [0.9966854453086853, 0.003314599161967635], [0.02349751628935337, 0.9765024185180664], [0.013038690201938152, 0.9869613647460938], [0.9933710098266602, 0.006629012990742922], [0.18053144216537476, 0.8194685578346252], [0.012640532106161118, 0.9873594641685486], [0.8851112127304077, 0.11488880962133408], [0.997144877910614, 0.0028551300056278706], [0.9892017841339111, 0.010798266157507896], [0.014901295304298401, 0.9850987195968628], [0.989939272403717, 0.010060733184218407], [0.07913853973150253, 0.9208614826202393], [0.017339318990707397, 0.982660710811615], [0.9817455410957336, 0.018254490569233894], [0.9793453216552734, 0.02065460942685604], [0.014706410467624664, 0.9852935671806335], [0.9524175524711609, 0.04758245125412941], [0.9943673014640808, 0.0056326547637581825], [0.08174990862607956, 0.9182501435279846], [0.9737763404846191, 0.02622368559241295], [0.08117716759443283, 0.9188228249549866], [0.9975394010543823, 0.002460608957335353], [0.5708436369895935, 0.4291563630104065], [0.9896144270896912, 0.010385540314018726], [0.021608170121908188, 0.9783918261528015], [0.9835666418075562, 0.01643327809870243], [0.9968219995498657, 0.003178004641085863], [0.9951287508010864, 0.004871266894042492], [0.9678339958190918, 0.032166048884391785], [0.8502615094184875, 0.14973849058151245], [0.016385065391659737, 0.983614981174469], [0.4599851369857788, 0.5400148630142212], [0.991849422454834, 0.008150619454681873], [0.010606667026877403, 0.9893933534622192], [0.3174319565296173, 0.6825680136680603], [0.3520407974720001, 0.6479591727256775], [0.7527411580085754, 0.24725879728794098], [0.9969974756240845, 0.003002502489835024], [0.02031252160668373, 0.9796874523162842], [0.9955963492393494, 0.004403650760650635], [0.23889359831809998, 0.7611063718795776], [0.9539685249328613, 0.04603145271539688], [0.994055986404419, 0.005943947471678257], [0.03317204490303993, 0.966827929019928], [0.9745419025421143, 0.025458084419369698], [0.3216020166873932, 0.6783979535102844], [0.04712579399347305, 0.9528741836547852], [0.06270953267812729, 0.9372904300689697], [0.2614997923374176, 0.7385002374649048], [0.633629560470581, 0.36637046933174133], [0.7399137020111084, 0.260086327791214], [0.5600823163986206, 0.439917653799057], [0.3455047905445099, 0.6544951796531677], [0.9497018456459045, 0.050298213958740234], [0.1839345395565033, 0.8160654902458191], [0.9952936768531799, 0.0047063035890460014], [0.9199589490890503, 0.0800410732626915], [0.02112048864364624, 0.9788795113563538], [0.9962174296379089, 0.003782520303502679], [0.15821461379528046, 0.8417853116989136], [0.9907857179641724, 0.009214314632117748], [0.9964224100112915, 0.003577564610168338], [0.9974527955055237, 0.002547174459323287], [0.971867561340332, 0.028132373467087746], [0.06401623785495758, 0.9359837174415588], [0.9961007833480835, 0.003899179631844163], [0.3197037875652313, 0.6802962422370911], [0.09849491715431213, 0.9015051126480103], [0.07211868464946747, 0.9278813600540161], [0.1512509435415268, 0.848749041557312], [0.6172789335250854, 0.38272106647491455], [0.024413423612713814, 0.9755865335464478], [0.03615964949131012, 0.9638403654098511], [0.15489763021469116, 0.8451023697853088], [0.05661138519644737, 0.9433886408805847], [0.04841417446732521, 0.9515858292579651], [0.3585173487663269, 0.6414826512336731], [0.9753736853599548, 0.024626290425658226], [0.03097170777618885, 0.9690283536911011], [0.9381764531135559, 0.06182356923818588], [0.5610162019729614, 0.43898382782936096], [0.9974446296691895, 0.002555388491600752], [0.9755293130874634, 0.024470705538988113], [0.962080717086792, 0.03791924938559532]]\n",
            "[0.99736255 0.96536928 0.98438895 ... 0.99744463 0.97552931 0.96208072]\n"
          ]
        },
        {
          "data": {
            "image/png": "[encoded data removed]",
            "text/plain": [
              "<Figure size 432x288 with 1 Axes>"
            ]
          },
          "metadata": {
            "needs_background": "light"
          },
          "output_type": "display_data"
        }
      ],
      "source": [
        "import matplotlib.pyplot as plt\n",
        "print(probabilities.tolist())\n",
        "probs = np.max(probabilities.tolist(), axis=1)\n",
        "print(probs)\n",
        "plt.hist(probs, bins=40)\n",
        "plt.show()"
      ]
    }
  ],
  "metadata": {
    "accelerator": "GPU",
    "colab": {
      "collapsed_sections": [],
      "machine_shape": "hm",
      "name": "Train DistilBERT SemEval.ipynb",
      "provenance": []
    },
    "gpuClass": "standard",
    "kernelspec": {
      "display_name": "Python 3",
      "name": "python3"
    },
    "language_info": {
      "name": "python"
    }
  },
  "nbformat": 4,
  "nbformat_minor": 0
}
