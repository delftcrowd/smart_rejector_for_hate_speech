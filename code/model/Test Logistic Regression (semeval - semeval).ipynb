{
  "cells": [
    {
      "cell_type": "markdown",
      "metadata": {
        "id": "YFb53nvAS2Ng"
      },
      "source": [
        "# Test Logistic Regression model\n",
        "\n",
        "**Trained on**: SemEval (2019)\n",
        "**Tested on**: SemEval (2019)"
      ]
    },
    {
      "cell_type": "markdown",
      "metadata": {
        "id": "1HD7NZIFUTAT"
      },
      "source": [
        "First we need to install the required packages."
      ]
    },
    {
      "cell_type": "code",
      "execution_count": null,
      "metadata": {
        "colab": {
          "base_uri": "https://localhost:8080/"
        },
        "id": "GrHRTFMkx6JT",
        "outputId": "4c4a7e05-7aa8-49ae-e901-8aa377f321b1"
      },
      "outputs": [
        {
          "name": "stdout",
          "output_type": "stream",
          "text": [
            "Looking in indexes: https://pypi.org/simple, https://us-python.pkg.dev/colab-wheels/public/simple/\n",
            "Collecting tweet-preprocessor\n",
            "  Downloading tweet_preprocessor-0.6.0-py3-none-any.whl (27 kB)\n",
            "Installing collected packages: tweet-preprocessor\n",
            "Successfully installed tweet-preprocessor-0.6.0\n"
          ]
        }
      ],
      "source": [
        "!pip install tweet-preprocessor"
      ]
    },
    {
      "cell_type": "code",
      "execution_count": null,
      "metadata": {
        "colab": {
          "base_uri": "https://localhost:8080/"
        },
        "id": "vSXQNkYz2dOO",
        "outputId": "cb7be970-a47a-4d3d-ccb8-b2706604c2eb"
      },
      "outputs": [
        {
          "name": "stdout",
          "output_type": "stream",
          "text": [
            "Mounted at /content/drive\n"
          ]
        }
      ],
      "source": [
        "from google.colab import drive\n",
        "\n",
        "# Mount drive for loading the data\n",
        "drive.mount('/content/drive')\n",
        "\n",
        "import sys\n",
        "sys.path.append(\"drive/MyDrive/Colab Notebooks\")\n",
        "\n",
        "from sklearn.linear_model import LogisticRegressionCV, LogisticRegression\n",
        "from sklearn.feature_extraction.text import CountVectorizer\n",
        "from sklearn.model_selection import train_test_split\n",
        "from google.colab import drive\n",
        "import preprocessor as p\n",
        "import html\n",
        "import pickle\n",
        "from sklearn.model_selection import cross_val_score\n",
        "from sklearn import metrics\n",
        "from sklearn.model_selection import train_test_split\n",
        "from joblib import dump, load\n",
        "import numpy as np\n",
        "from reader import Reader\n",
        "\n",
        "MAX_N_GRAM = 4\n",
        "FILENAME = \"drive/MyDrive/Colab Notebooks/data/sem_eval_all.pkl\""
      ]
    },
    {
      "cell_type": "markdown",
      "metadata": {
        "id": "3Zg836CxTD2g"
      },
      "source": [
        "## Split and tokenize the datasets"
      ]
    },
    {
      "cell_type": "code",
      "execution_count": null,
      "metadata": {
        "id": "gx7YKv07TOl3"
      },
      "outputs": [],
      "source": [
        "def preprocess(data):\n",
        "    \"\"\"Preprocesses the data by cleaning URLs and MENTIONS since these do not\n",
        "    contain any valuable information.\"\"\"\n",
        "    p.set_options(p.OPT.URL, p.OPT.MENTION)\n",
        "\n",
        "    return list(map(lambda text: p.clean(html.unescape(text)), data))"
      ]
    },
    {
      "cell_type": "code",
      "execution_count": null,
      "metadata": {
        "id": "vaNM4xTECiA4"
      },
      "outputs": [],
      "source": [
        "reader = Reader(filename=FILENAME)\n",
        "X, y = reader.load()\n",
        "\n",
        "mapping = {'hate': 1, 'none': 0}\n",
        "y = [mapping[b] for b in y]\n",
        "\n",
        "X = preprocess(X)\n",
        "\n",
        "# Split dataset into train and test\n",
        "X_train, X_test, y_train, y_test = train_test_split(X, y, random_state=10, stratify=y, test_size=0.10)"
      ]
    },
    {
      "cell_type": "code",
      "execution_count": null,
      "metadata": {
        "id": "IKE_JCT9xWLM"
      },
      "outputs": [],
      "source": [
        "vectorizer = CountVectorizer(ngram_range=(1, MAX_N_GRAM), analyzer=\"char\")\n",
        "vectorizer.fit(X_train)\n",
        "X_test_transformed = vectorizer.transform(X_test)"
      ]
    },
    {
      "cell_type": "markdown",
      "metadata": {
        "id": "pSN_Yr30mfm6"
      },
      "source": [
        "## Load existing model"
      ]
    },
    {
      "cell_type": "code",
      "execution_count": null,
      "metadata": {
        "id": "OljBeaIrmiuE"
      },
      "outputs": [],
      "source": [
        "model = load('/content/drive/MyDrive/Colab Notebooks/output/logistic-regression-semeval.joblib') "
      ]
    },
    {
      "cell_type": "markdown",
      "metadata": {
        "id": "xVe0XYiEV3mh"
      },
      "source": [
        "## Run model on the test dataset"
      ]
    },
    {
      "cell_type": "code",
      "execution_count": null,
      "metadata": {
        "colab": {
          "base_uri": "https://localhost:8080/"
        },
        "id": "zb7UFP58Asmy",
        "outputId": "33275934-2513-44fd-948e-9c05427fa7b8"
      },
      "outputs": [
        {
          "name": "stdout",
          "output_type": "stream",
          "text": [
            "0.7341666666666666\n"
          ]
        }
      ],
      "source": [
        "probabilities = model.predict_proba(X_test_transformed)\n",
        "predictions = np.argmax(probabilities, axis=1)\n",
        "print(metrics.accuracy_score(y_test, predictions))"
      ]
    },
    {
      "cell_type": "code",
      "execution_count": null,
      "metadata": {
        "colab": {
          "base_uri": "https://localhost:8080/"
        },
        "id": "Prw7DeWlpnlP",
        "outputId": "70b95b34-72a3-4384-9fee-ed26c3a742be"
      },
      "outputs": [
        {
          "name": "stdout",
          "output_type": "stream",
          "text": [
            "              precision    recall  f1-score   support\n",
            "\n",
            "           0       0.75      0.81      0.78       696\n",
            "           1       0.71      0.63      0.67       504\n",
            "\n",
            "    accuracy                           0.73      1200\n",
            "   macro avg       0.73      0.72      0.72      1200\n",
            "weighted avg       0.73      0.73      0.73      1200\n",
            "\n"
          ]
        }
      ],
      "source": [
        "print(metrics.classification_report(y_test, predictions))"
      ]
    },
    {
      "cell_type": "markdown",
      "metadata": {
        "id": "7gZxsBZmYgXB"
      },
      "source": [
        "## Export predictions"
      ]
    },
    {
      "cell_type": "code",
      "execution_count": null,
      "metadata": {
        "id": "qQ01G3CqXuEG"
      },
      "outputs": [],
      "source": [
        "def to_predictions(predictions, labels):\n",
        "    predicted_classes = np.argmax(predictions, axis=1)\n",
        "    return list(map(lambda predicted_values, predicted_class, actual_class:\n",
        "                    {'predicted_class': class_name(predicted_class),\n",
        "                     'actual_class': class_name(actual_class),\n",
        "                     'predicted_value': predicted_values[predicted_class].item(),\n",
        "                     'text': None},\n",
        "                    predictions, predicted_classes, labels))\n",
        "def class_name(index):\n",
        "    if index == 0:\n",
        "        return \"None\"\n",
        "    elif index == 1:\n",
        "        return \"Hate\"\n",
        "\n",
        "predictions_info = to_predictions(probabilities, y_test)\n",
        "pickle.dump(predictions_info, open(\"drive/MyDrive/Colab Notebooks/output/lr-semeval-semeval.p\", \"wb\"))"
      ]
    }
  ],
  "metadata": {
    "colab": {
      "collapsed_sections": [],
      "machine_shape": "hm",
      "name": "Test Logistic Regression (semeval-semeval).ipynb",
      "provenance": []
    },
    "gpuClass": "standard",
    "kernelspec": {
      "display_name": "Python 3",
      "name": "python3"
    },
    "language_info": {
      "name": "python"
    }
  },
  "nbformat": 4,
  "nbformat_minor": 0
}
