{
  "cells": [
    {
      "cell_type": "markdown",
      "metadata": {
        "id": "hqDiCgVWzNNN"
      },
      "source": [
        "\n",
        "# Train Logisitic Regression\n",
        "This notebook trains and exports a LR model on the Waseem and Hovy 2016 dataset.\n",
        "\n",
        "**Trains on:** SemEval (2019)"
      ]
    },
    {
      "cell_type": "code",
      "execution_count": 1,
      "metadata": {
        "colab": {
          "base_uri": "https://localhost:8080/"
        },
        "id": "xl2Oe6AdWG9t",
        "outputId": "a0e84cb8-55a7-4ecf-c2ce-98998526dac1"
      },
      "outputs": [
        {
          "name": "stdout",
          "output_type": "stream",
          "text": [
            "Looking in indexes: https://pypi.org/simple, https://us-python.pkg.dev/colab-wheels/public/simple/\n",
            "Collecting tweet-preprocessor\n",
            "  Downloading tweet_preprocessor-0.6.0-py3-none-any.whl (27 kB)\n",
            "Installing collected packages: tweet-preprocessor\n",
            "Successfully installed tweet-preprocessor-0.6.0\n"
          ]
        }
      ],
      "source": [
        "!pip install tweet-preprocessor"
      ]
    },
    {
      "cell_type": "code",
      "execution_count": 2,
      "metadata": {
        "colab": {
          "base_uri": "https://localhost:8080/"
        },
        "id": "99yW_x-0UMPb",
        "outputId": "971c9e11-2d65-418c-cf95-e042e501f0ae"
      },
      "outputs": [
        {
          "name": "stdout",
          "output_type": "stream",
          "text": [
            "Mounted at /content/drive\n"
          ]
        }
      ],
      "source": [
        "from google.colab import drive\n",
        "\n",
        "# Mount drive for loading the data\n",
        "drive.mount('/content/drive')\n",
        "\n",
        "import sys\n",
        "sys.path.append(\"drive/MyDrive/Colab Notebooks\")\n",
        "\n",
        "from sklearn.linear_model import LogisticRegressionCV, LogisticRegression\n",
        "from sklearn.feature_extraction.text import CountVectorizer\n",
        "from sklearn.model_selection import train_test_split\n",
        "from google.colab import drive\n",
        "import preprocessor as p\n",
        "import html\n",
        "import pickle\n",
        "from sklearn.model_selection import cross_val_score\n",
        "from sklearn import metrics\n",
        "from warnings import simplefilter\n",
        "from sklearn.exceptions import ConvergenceWarning\n",
        "import numpy as np\n",
        "from joblib import dump, load\n",
        "import matplotlib.pyplot as plt\n",
        "from sklearn.calibration import CalibrationDisplay\n",
        "from reader import Reader\n",
        "simplefilter(\"ignore\", category=ConvergenceWarning)"
      ]
    },
    {
      "cell_type": "code",
      "execution_count": 3,
      "metadata": {
        "id": "iYTCSRcqV5p0"
      },
      "outputs": [],
      "source": [
        "NUM_FOLDS = 10\n",
        "MAX_N_GRAM = 4\n",
        "FILENAME = \"drive/MyDrive/Colab Notebooks/data/sem_eval_all.pkl\""
      ]
    },
    {
      "cell_type": "code",
      "execution_count": 4,
      "metadata": {
        "id": "4Pp_g4vOWEjb"
      },
      "outputs": [],
      "source": [
        "def preprocess(data):\n",
        "    \"\"\"Preprocesses the data by cleaning URLs and MENTIONS since these do not\n",
        "    contain any valuable information.\"\"\"\n",
        "    p.set_options(p.OPT.URL, p.OPT.MENTION)\n",
        "\n",
        "    return list(map(lambda text: p.clean(html.unescape(text)), data))"
      ]
    },
    {
      "cell_type": "code",
      "execution_count": 5,
      "metadata": {
        "colab": {
          "base_uri": "https://localhost:8080/"
        },
        "id": "5qTlTk03V5BF",
        "outputId": "39f2d18d-ca06-458b-d9da-a224191d080f"
      },
      "outputs": [
        {
          "name": "stdout",
          "output_type": "stream",
          "text": [
            "Drive already mounted at /content/drive; to attempt to forcibly remount, call drive.mount(\"/content/drive\", force_remount=True).\n"
          ]
        }
      ],
      "source": [
        "# Mount drive for loading the datasets\n",
        "drive.mount('/content/drive')\n",
        "import sys\n",
        "sys.path.insert(0, '/content/drive/MyDrive/Colab Notebooks/')"
      ]
    },
    {
      "cell_type": "markdown",
      "metadata": {
        "id": "LJWYjTpuza91"
      },
      "source": [
        "## Preprocess and split data"
      ]
    },
    {
      "cell_type": "code",
      "execution_count": 6,
      "metadata": {
        "id": "rknhPL_mWQUW"
      },
      "outputs": [],
      "source": [
        "reader = Reader(filename=FILENAME)\n",
        "X, y = reader.load()\n",
        "X = preprocess(X)\n",
        "\n",
        "mapping = {'hate': 1, 'none': 0}\n",
        "y = [mapping[b] for b in y]\n",
        "\n",
        "# Split dataset into train and test\n",
        "X_train, X_test, y_train, y_test = train_test_split(X, y, random_state=10, stratify=y, test_size=0.10)"
      ]
    },
    {
      "cell_type": "markdown",
      "metadata": {
        "id": "AEqM2NqKzeAP"
      },
      "source": [
        "## Tokenize data"
      ]
    },
    {
      "cell_type": "code",
      "execution_count": 7,
      "metadata": {
        "id": "36nVwhgnlQSg"
      },
      "outputs": [],
      "source": [
        "vectorizer = CountVectorizer(ngram_range=(1, MAX_N_GRAM), analyzer=\"char\")\n",
        "X_train_transformed = vectorizer.fit_transform(X_train)"
      ]
    },
    {
      "cell_type": "markdown",
      "metadata": {
        "id": "v4nd0JUyzjRw"
      },
      "source": [
        "## Fit and export LR model"
      ]
    },
    {
      "cell_type": "code",
      "execution_count": 8,
      "metadata": {
        "colab": {
          "base_uri": "https://localhost:8080/"
        },
        "id": "GbNCfHGIUM1S",
        "outputId": "a427af3c-730e-42dc-deed-561cf58b13c5"
      },
      "outputs": [
        {
          "data": {
            "text/plain": [
              "LogisticRegressionCV(cv=10, max_iter=200, random_state=0)"
            ]
          },
          "execution_count": 8,
          "metadata": {},
          "output_type": "execute_result"
        }
      ],
      "source": [
        "model = LogisticRegressionCV(cv=10, random_state=0, max_iter=200)\n",
        "model.fit(X_train_transformed, y_train)"
      ]
    },
    {
      "cell_type": "code",
      "execution_count": 9,
      "metadata": {
        "colab": {
          "base_uri": "https://localhost:8080/"
        },
        "id": "UIvfxmQ_waFa",
        "outputId": "1c585f79-2b1f-401a-bd37-177c92108e21"
      },
      "outputs": [
        {
          "data": {
            "text/plain": [
              "['/content/drive/MyDrive/Colab Notebooks/output/logistic-regression-sem-eval.joblib']"
            ]
          },
          "execution_count": 9,
          "metadata": {},
          "output_type": "execute_result"
        }
      ],
      "source": [
        "dump(model, '/content/drive/MyDrive/Colab Notebooks/output/logistic-regression-semeval.joblib') "
      ]
    },
    {
      "cell_type": "markdown",
      "metadata": {
        "id": "qNLB1P0Azpif"
      },
      "source": [
        "## Test LR model"
      ]
    },
    {
      "cell_type": "code",
      "execution_count": 10,
      "metadata": {
        "id": "cHAQgIOtXGIs"
      },
      "outputs": [],
      "source": [
        "X_test_transformed = vectorizer.transform(X_test)\n",
        "probabilities = model.predict_proba(X_test_transformed)\n",
        "predictions = np.argmax(probabilities, axis=1)"
      ]
    },
    {
      "cell_type": "code",
      "execution_count": 11,
      "metadata": {
        "colab": {
          "base_uri": "https://localhost:8080/"
        },
        "id": "DUtJwdl3dWu1",
        "outputId": "a3dc4329-fa6d-4b9b-896e-373ddf2ede44"
      },
      "outputs": [
        {
          "name": "stdout",
          "output_type": "stream",
          "text": [
            "0.7341666666666666\n"
          ]
        }
      ],
      "source": [
        "print(metrics.accuracy_score(y_test, predictions))"
      ]
    },
    {
      "cell_type": "markdown",
      "metadata": {
        "id": "9NH8lLSMz0l2"
      },
      "source": [
        "LR models are always well-calibrated by default"
      ]
    },
    {
      "cell_type": "code",
      "execution_count": 12,
      "metadata": {
        "colab": {
          "base_uri": "https://localhost:8080/",
          "height": 279
        },
        "id": "_V3tGReUuLZL",
        "outputId": "3c5afdc8-5cc7-4eed-92b8-2ae49f5ca2bf"
      },
      "outputs": [
        {
          "data": {
            "image/png": "[encoded data removed]",
            "text/plain": [
              "<Figure size 432x288 with 1 Axes>"
            ]
          },
          "metadata": {
            "needs_background": "light"
          },
          "output_type": "display_data"
        }
      ],
      "source": [
        "probs = np.max(probabilities, axis=1)\n",
        "disp = CalibrationDisplay.from_estimator(model, X_test_transformed, y_test)\n",
        "plt.show()"
      ]
    },
    {
      "cell_type": "code",
      "execution_count": 13,
      "metadata": {
        "colab": {
          "base_uri": "https://localhost:8080/"
        },
        "id": "fST-5rNWm81U",
        "outputId": "e16650cb-02cb-495a-8566-879f7c1ba1f9"
      },
      "outputs": [
        {
          "name": "stdout",
          "output_type": "stream",
          "text": [
            "              precision    recall  f1-score   support\n",
            "\n",
            "           0       0.75      0.81      0.78       696\n",
            "           1       0.71      0.63      0.67       504\n",
            "\n",
            "    accuracy                           0.73      1200\n",
            "   macro avg       0.73      0.72      0.72      1200\n",
            "weighted avg       0.73      0.73      0.73      1200\n",
            "\n"
          ]
        }
      ],
      "source": [
        "print(metrics.classification_report(y_test, predictions))"
      ]
    }
  ],
  "metadata": {
    "colab": {
      "collapsed_sections": [],
      "machine_shape": "hm",
      "name": "Train LR SemEval",
      "provenance": []
    },
    "gpuClass": "standard",
    "kernelspec": {
      "display_name": "Python 3",
      "name": "python3"
    },
    "language_info": {
      "name": "python"
    }
  },
  "nbformat": 4,
  "nbformat_minor": 0
}
