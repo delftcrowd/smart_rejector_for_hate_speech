{
 "cells": [
  {
   "cell_type": "code",
   "execution_count": 1,
   "metadata": {},
   "outputs": [],
   "source": [
    "import tensorflow\n",
    "\n",
    "from cnn import CNN\n",
    "from reader import Reader\n",
    "from sklearn.metrics import classification_report, confusion_matrix \n",
    "import numpy as np\n",
    "from tensorflow.keras.utils import to_categorical\n"
   ]
  },
  {
   "cell_type": "code",
   "execution_count": 2,
   "metadata": {
    "scrolled": true
   },
   "outputs": [],
   "source": [
    "EPOCHS = 10\n",
    "BATCH_SIZE = 128\n",
    "NUM_CLASSES = 2\n",
    "LEARN_RATE = 0.01\n",
    "EMBED_SIZE = 50\n",
    "FILENAME = \"data/twitter_data.pkl\"\n",
    "OVERSAMPLING_RATE = 3\n",
    "VOCAB_LEN = 10000\n",
    "MAX_LEN = 100\n",
    "\n",
    "reader = Reader(filename=FILENAME, num_classes=NUM_CLASSES, vocab_len=VOCAB_LEN)\n",
    "X, y = reader.load()\n",
    "\n",
    "mapping = {'racism':1,'sexism':1,'none':0}\n",
    "y = [mapping[b] for b in y]\n",
    "\n",
    "# Oversampling before split\n",
    "# hate = [i for i in range(len(y)) if y[i]==1]\n",
    "# X = X + [X[x] for x in hate]*(OVERSAMPLING_RATE-1)\n",
    "# y = y +  [1 for i in range(len(hate))]*(OVERSAMPLING_RATE-1)\n",
    "\n",
    "X_train, X_test, y_train, y_test = reader.split(X, y)\n",
    "\n",
    "# Oversampling after split\n",
    "hate = [i for i in range(len(y_train)) if y_train[i]==1]\n",
    "X_train = X_train + [X_train[x] for x in hate]*(OVERSAMPLING_RATE-1)\n",
    "y_train = y_train + [1 for i in range(len(hate))]*(OVERSAMPLING_RATE-1)\n",
    "\n",
    "X_train = np.asarray(X_train)\n",
    "X_test = np.asarray(X_test)\n",
    "y_train = to_categorical(y_train, num_classes=NUM_CLASSES)\n",
    "y_test = to_categorical(y_test, num_classes=NUM_CLASSES)"
   ]
  },
  {
   "cell_type": "code",
   "execution_count": 3,
   "metadata": {},
   "outputs": [],
   "source": [
    "model = CNN(max_len=MAX_LEN,\n",
    "          num_classes=NUM_CLASSES, \n",
    "          batch_size=BATCH_SIZE, \n",
    "          epochs=EPOCHS, \n",
    "          embed_size=EMBED_SIZE, \n",
    "          vocab_len=VOCAB_LEN,\n",
    "          save_model=True,\n",
    "          checkpoint_path=\"results/cnn-10-epochs-hoseem-2-classes.ckpt\", \n",
    "          save_path=\"results/cnn-10-epochs-hoseem-2-classes\")"
   ]
  },
  {
   "cell_type": "code",
   "execution_count": 4,
   "metadata": {
    "scrolled": true
   },
   "outputs": [
    {
     "name": "stdout",
     "output_type": "stream",
     "text": [
      "Epoch 1/10\n",
      "185/185 [==============================] - ETA: 0s - loss: 0.9434 - accuracy: 0.6657\n",
      "Epoch 1: saving model to results\\cnn-10-epochs-hoseem-2-classes.ckpt\n",
      "185/185 [==============================] - 38s 116ms/step - loss: 0.9434 - accuracy: 0.6657\n",
      "Epoch 2/10\n",
      "184/185 [============================>.] - ETA: 0s - loss: 0.4182 - accuracy: 0.8633\n",
      "Epoch 2: saving model to results\\cnn-10-epochs-hoseem-2-classes.ckpt\n",
      "185/185 [==============================] - 10s 55ms/step - loss: 0.4181 - accuracy: 0.8634\n",
      "Epoch 3/10\n",
      "185/185 [==============================] - ETA: 0s - loss: 0.3017 - accuracy: 0.9156\n",
      "Epoch 3: saving model to results\\cnn-10-epochs-hoseem-2-classes.ckpt\n",
      "185/185 [==============================] - 10s 56ms/step - loss: 0.3017 - accuracy: 0.9156\n",
      "Epoch 4/10\n",
      "184/185 [============================>.] - ETA: 0s - loss: 0.2342 - accuracy: 0.9408\n",
      "Epoch 4: saving model to results\\cnn-10-epochs-hoseem-2-classes.ckpt\n",
      "185/185 [==============================] - 10s 54ms/step - loss: 0.2343 - accuracy: 0.9408\n",
      "Epoch 5/10\n",
      "184/185 [============================>.] - ETA: 0s - loss: 0.1864 - accuracy: 0.9574\n",
      "Epoch 5: saving model to results\\cnn-10-epochs-hoseem-2-classes.ckpt\n",
      "185/185 [==============================] - 10s 54ms/step - loss: 0.1863 - accuracy: 0.9575\n",
      "Epoch 6/10\n",
      "184/185 [============================>.] - ETA: 0s - loss: 0.1549 - accuracy: 0.9678\n",
      "Epoch 6: saving model to results\\cnn-10-epochs-hoseem-2-classes.ckpt\n",
      "185/185 [==============================] - 10s 54ms/step - loss: 0.1549 - accuracy: 0.9679\n",
      "Epoch 7/10\n",
      "185/185 [==============================] - ETA: 0s - loss: 0.1313 - accuracy: 0.9737\n",
      "Epoch 7: saving model to results\\cnn-10-epochs-hoseem-2-classes.ckpt\n",
      "185/185 [==============================] - 11s 57ms/step - loss: 0.1313 - accuracy: 0.9737\n",
      "Epoch 8/10\n",
      "185/185 [==============================] - ETA: 0s - loss: 0.1128 - accuracy: 0.9799\n",
      "Epoch 8: saving model to results\\cnn-10-epochs-hoseem-2-classes.ckpt\n",
      "185/185 [==============================] - 11s 60ms/step - loss: 0.1128 - accuracy: 0.9799\n",
      "Epoch 9/10\n",
      "184/185 [============================>.] - ETA: 0s - loss: 0.0966 - accuracy: 0.9845\n",
      "Epoch 9: saving model to results\\cnn-10-epochs-hoseem-2-classes.ckpt\n",
      "185/185 [==============================] - 11s 58ms/step - loss: 0.0966 - accuracy: 0.9845\n",
      "Epoch 10/10\n",
      "185/185 [==============================] - ETA: 0s - loss: 0.0867 - accuracy: 0.9868\n",
      "Epoch 10: saving model to results\\cnn-10-epochs-hoseem-2-classes.ckpt\n",
      "185/185 [==============================] - 11s 58ms/step - loss: 0.0867 - accuracy: 0.9868\n"
     ]
    },
    {
     "name": "stderr",
     "output_type": "stream",
     "text": [
      "WARNING:absl:Found untraced functions such as _jit_compiled_convolution_op, _jit_compiled_convolution_op, _jit_compiled_convolution_op while saving (showing 3 of 3). These functions will not be directly callable after loading.\n"
     ]
    },
    {
     "name": "stdout",
     "output_type": "stream",
     "text": [
      "INFO:tensorflow:Assets written to: results/cnn-10-epochs-hoseem-2-classes\\assets\n"
     ]
    },
    {
     "name": "stderr",
     "output_type": "stream",
     "text": [
      "INFO:tensorflow:Assets written to: results/cnn-10-epochs-hoseem-2-classes\\assets\n"
     ]
    },
    {
     "data": {
      "text/plain": [
       "<keras.engine.functional.Functional at 0x2060f036fa0>"
      ]
     },
     "execution_count": 4,
     "metadata": {},
     "output_type": "execute_result"
    }
   ],
   "source": [
    "model.fit(X_train, y_train)"
   ]
  },
  {
   "cell_type": "code",
   "execution_count": 5,
   "metadata": {},
   "outputs": [
    {
     "name": "stdout",
     "output_type": "stream",
     "text": [
      "51/51 [==============================] - 4s 53ms/step\n",
      "[[979 125]\n",
      " [124 381]]\n",
      "              precision    recall  f1-score   support\n",
      "\n",
      "           0       0.89      0.89      0.89      1104\n",
      "           1       0.75      0.75      0.75       505\n",
      "\n",
      "    accuracy                           0.85      1609\n",
      "   macro avg       0.82      0.82      0.82      1609\n",
      "weighted avg       0.85      0.85      0.85      1609\n",
      "\n"
     ]
    }
   ],
   "source": [
    "predictions = model.predict(X_test)\n",
    "classes = np.argmax(y_test, axis=1)\n",
    "\n",
    "predictions = list(map(lambda x: int(x), predictions))\n",
    "print(confusion_matrix(classes, predictions))\n",
    "print(classification_report(classes, predictions))"
   ]
  },
  {
   "cell_type": "code",
   "execution_count": 7,
   "metadata": {},
   "outputs": [
    {
     "name": "stdout",
     "output_type": "stream",
     "text": [
      "51/51 [==============================] - 1s 17ms/step\n",
      "[[979 125]\n",
      " [124 381]]\n",
      "              precision    recall  f1-score   support\n",
      "\n",
      "           0       0.89      0.89      0.89      1104\n",
      "           1       0.75      0.75      0.75       505\n",
      "\n",
      "    accuracy                           0.85      1609\n",
      "   macro avg       0.82      0.82      0.82      1609\n",
      "weighted avg       0.85      0.85      0.85      1609\n",
      "\n"
     ]
    }
   ],
   "source": [
    "model = CNN.load(\"results/cnn-10-epochs-hoseem-2-classes\")\n",
    "predictions = model.predict(X_test)\n",
    "predictions = np.argmax(predictions, axis=1)\n",
    "classes = np.argmax(y_test, axis=1)\n",
    "\n",
    "predictions = list(map(lambda x: int(x), predictions))\n",
    "print(confusion_matrix(classes, predictions))\n",
    "print(classification_report(classes, predictions))"
   ]
  },
  {
   "cell_type": "code",
   "execution_count": null,
   "metadata": {},
   "outputs": [],
   "source": []
  }
 ],
 "metadata": {
  "kernelspec": {
   "display_name": "Python [conda env:tensorflow]",
   "language": "python",
   "name": "conda-env-tensorflow-py"
  },
  "language_info": {
   "codemirror_mode": {
    "name": "ipython",
    "version": 3
   },
   "file_extension": ".py",
   "mimetype": "text/x-python",
   "name": "python",
   "nbconvert_exporter": "python",
   "pygments_lexer": "ipython3",
   "version": "3.8.5"
  }
 },
 "nbformat": 4,
 "nbformat_minor": 2
}
