{
  "nbformat": 4,
  "nbformat_minor": 0,
  "metadata": {
    "colab": {
      "name": "Train LR Waseem",
      "provenance": [],
      "collapsed_sections": [],
      "machine_shape": "hm"
    },
    "kernelspec": {
      "name": "python3",
      "display_name": "Python 3"
    },
    "language_info": {
      "name": "python"
    },
    "gpuClass": "standard"
  },
  "cells": [
    {
      "cell_type": "markdown",
      "source": [
        "\n",
        "# Train Logisitic Regression (Waseem and Hovy 2016)\n",
        "This notebook trains and exports a LR model on the Waseem and Hovy 2016 dataset."
      ],
      "metadata": {
        "id": "hqDiCgVWzNNN"
      }
    },
    {
      "cell_type": "code",
      "source": [
        "!pip install tweet-preprocessor"
      ],
      "metadata": {
        "colab": {
          "base_uri": "https://localhost:8080/"
        },
        "id": "xl2Oe6AdWG9t",
        "outputId": "b4f2cccb-ef75-4034-9407-8f873c757995"
      },
      "execution_count": null,
      "outputs": [
        {
          "output_type": "stream",
          "name": "stdout",
          "text": [
            "Looking in indexes: https://pypi.org/simple, https://us-python.pkg.dev/colab-wheels/public/simple/\n",
            "Collecting tweet-preprocessor\n",
            "  Downloading tweet_preprocessor-0.6.0-py3-none-any.whl (27 kB)\n",
            "Installing collected packages: tweet-preprocessor\n",
            "Successfully installed tweet-preprocessor-0.6.0\n"
          ]
        }
      ]
    },
    {
      "cell_type": "code",
      "source": [
        "from sklearn.linear_model import LogisticRegressionCV, LogisticRegression\n",
        "from nltk.tokenize import TweetTokenizer\n",
        "from sklearn.feature_extraction.text import TfidfVectorizer\n",
        "from sklearn.model_selection import train_test_split\n",
        "from google.colab import drive\n",
        "import preprocessor as p\n",
        "import html\n",
        "import pickle\n",
        "from sklearn.model_selection import cross_val_score\n",
        "from sklearn import metrics\n",
        "from warnings import simplefilter\n",
        "from sklearn.exceptions import ConvergenceWarning\n",
        "import numpy as np\n",
        "from joblib import dump, load\n",
        "import matplotlib.pyplot as plt\n",
        "from sklearn.calibration import CalibrationDisplay\n",
        "simplefilter(\"ignore\", category=ConvergenceWarning)"
      ],
      "metadata": {
        "id": "99yW_x-0UMPb"
      },
      "execution_count": null,
      "outputs": []
    },
    {
      "cell_type": "code",
      "source": [
        "NUM_FOLDS = 10\n",
        "MAX_N_GRAM = 4\n",
        "FILENAME = \"drive/MyDrive/Colab Notebooks/data/twitter_data.pkl\""
      ],
      "metadata": {
        "id": "iYTCSRcqV5p0"
      },
      "execution_count": null,
      "outputs": []
    },
    {
      "cell_type": "code",
      "source": [
        "def preprocess(data):\n",
        "    \"\"\"Preprocesses the data by cleaning URLs and MENTIONS since these do not\n",
        "    contain any valuable information.\"\"\"\n",
        "    p.set_options(p.OPT.URL, p.OPT.MENTION)\n",
        "\n",
        "    return list(map(lambda text: p.clean(html.unescape(text)), data))\n",
        "\n",
        "def convert_waseem_data(data):\n",
        "    \"\"\"Converts the Waseem and Hovy dataset by creating binary labels\"\"\"\n",
        "    X = []\n",
        "    y = []\n",
        "    for i in range(len(data)):\n",
        "        X.append(data[i]['text'])\n",
        "        label = data[i]['label']\n",
        "        if label in ['racism', 'sexism']:\n",
        "          label = 1\n",
        "        else:\n",
        "          label = 0\n",
        "        y.append(label)\n",
        "\n",
        "    return X, y"
      ],
      "metadata": {
        "id": "4Pp_g4vOWEjb"
      },
      "execution_count": null,
      "outputs": []
    },
    {
      "cell_type": "code",
      "source": [
        "# Mount drive for loading the datasets\n",
        "drive.mount('/content/drive')\n",
        "import sys\n",
        "sys.path.insert(0, '/content/drive/MyDrive/Colab Notebooks/')"
      ],
      "metadata": {
        "colab": {
          "base_uri": "https://localhost:8080/"
        },
        "id": "5qTlTk03V5BF",
        "outputId": "ba9038d1-14b3-4d5a-cf3c-2ab321565b69"
      },
      "execution_count": null,
      "outputs": [
        {
          "output_type": "stream",
          "name": "stdout",
          "text": [
            "Mounted at /content/drive\n"
          ]
        }
      ]
    },
    {
      "cell_type": "markdown",
      "source": [
        "## Preprocess and split data"
      ],
      "metadata": {
        "id": "LJWYjTpuza91"
      }
    },
    {
      "cell_type": "code",
      "source": [
        "data = pickle.load(open(FILENAME, 'rb'))\n",
        "X, y = convert_waseem_data(data)\n",
        "X = preprocess(X)\n",
        "\n",
        "# Split dataset into train and test\n",
        "X_train, X_test, y_train, y_test = train_test_split(X, y, random_state=10, stratify=y, test_size=0.10)"
      ],
      "metadata": {
        "id": "rknhPL_mWQUW"
      },
      "execution_count": null,
      "outputs": []
    },
    {
      "cell_type": "markdown",
      "source": [
        "## Tokenize data"
      ],
      "metadata": {
        "id": "AEqM2NqKzeAP"
      }
    },
    {
      "cell_type": "code",
      "source": [
        "tokenizer = TweetTokenizer(strip_handles=True, reduce_len=True).tokenize\n",
        "vectorizer = TfidfVectorizer(tokenizer=tokenizer, ngram_range=(1, MAX_N_GRAM), stop_words=\"english\")\n",
        "X_train_transformed = vectorizer.fit_transform(X_train)"
      ],
      "metadata": {
        "id": "36nVwhgnlQSg"
      },
      "execution_count": null,
      "outputs": []
    },
    {
      "cell_type": "markdown",
      "source": [
        "## Fit and export LR model"
      ],
      "metadata": {
        "id": "v4nd0JUyzjRw"
      }
    },
    {
      "cell_type": "code",
      "source": [
        "model = LogisticRegressionCV(cv=10, random_state=0, max_iter=200)\n",
        "model.fit(X_train_transformed, y_train)"
      ],
      "metadata": {
        "colab": {
          "base_uri": "https://localhost:8080/"
        },
        "id": "GbNCfHGIUM1S",
        "outputId": "0d313e9c-3ac0-4cdd-e524-f0cf93748f3e"
      },
      "execution_count": null,
      "outputs": [
        {
          "output_type": "execute_result",
          "data": {
            "text/plain": [
              "LogisticRegressionCV(cv=10, max_iter=200, random_state=0)"
            ]
          },
          "metadata": {},
          "execution_count": 25
        }
      ]
    },
    {
      "cell_type": "code",
      "source": [
        "dump(model, '/content/drive/MyDrive/Colab Notebooks/output/logistic-regression-waseem.joblib') "
      ],
      "metadata": {
        "colab": {
          "base_uri": "https://localhost:8080/"
        },
        "id": "UIvfxmQ_waFa",
        "outputId": "3c5d4a76-125c-4c5b-9b69-5d94a8373719"
      },
      "execution_count": null,
      "outputs": [
        {
          "output_type": "execute_result",
          "data": {
            "text/plain": [
              "['/content/drive/MyDrive/Colab Notebooks/output/logistic-regression-waseem.joblib']"
            ]
          },
          "metadata": {},
          "execution_count": 48
        }
      ]
    },
    {
      "cell_type": "markdown",
      "source": [
        "## Test LR model"
      ],
      "metadata": {
        "id": "qNLB1P0Azpif"
      }
    },
    {
      "cell_type": "code",
      "source": [
        "X_test_transformed = vectorizer.transform(X_test)\n",
        "probabilities = model.predict_proba(X_test_transformed)\n",
        "predictions = np.argmax(probabilities, axis=1)"
      ],
      "metadata": {
        "id": "cHAQgIOtXGIs"
      },
      "execution_count": null,
      "outputs": []
    },
    {
      "cell_type": "code",
      "source": [
        "print(metrics.accuracy_score(y_test, predictions))"
      ],
      "metadata": {
        "colab": {
          "base_uri": "https://localhost:8080/"
        },
        "id": "DUtJwdl3dWu1",
        "outputId": "ea40cfe7-acf0-4411-9b7a-024fe472077e"
      },
      "execution_count": null,
      "outputs": [
        {
          "output_type": "stream",
          "name": "stdout",
          "text": [
            "0.8104412678682411\n"
          ]
        }
      ]
    },
    {
      "cell_type": "markdown",
      "source": [
        "LR models are always well-calibrated by default"
      ],
      "metadata": {
        "id": "9NH8lLSMz0l2"
      }
    },
    {
      "cell_type": "code",
      "source": [
        "probs = np.max(probabilities, axis=1)\n",
        "disp = CalibrationDisplay.from_estimator(model, X_test_transformed, y_test)\n",
        "plt.show()"
      ],
      "metadata": {
        "colab": {
          "base_uri": "https://localhost:8080/",
          "height": 279
        },
        "id": "_V3tGReUuLZL",
        "outputId": "0c09824e-bd6b-432c-db22-c4f7bdaa2719"
      },
      "execution_count": null,
      "outputs": [
        {
          "output_type": "display_data",
          "data": {
            "text/plain": [
              "<Figure size 432x288 with 1 Axes>"
            ],
            "image/png": "[encoded data removed]"
          },
          "metadata": {
            "needs_background": "light"
          }
        }
      ]
    }
  ]
}