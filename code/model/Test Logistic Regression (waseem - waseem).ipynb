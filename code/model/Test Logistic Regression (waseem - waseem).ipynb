{
  "cells": [
    {
      "cell_type": "markdown",
      "metadata": {
        "id": "YFb53nvAS2Ng"
      },
      "source": [
        "# Test Logistic Regression model (train: Waseem and Hovy 2016, test: Waseem and Hovy 2016)"
      ]
    },
    {
      "cell_type": "markdown",
      "metadata": {
        "id": "1HD7NZIFUTAT"
      },
      "source": [
        "First we need to install the required packages."
      ]
    },
    {
      "cell_type": "code",
      "execution_count": null,
      "metadata": {
        "colab": {
          "base_uri": "https://localhost:8080/"
        },
        "id": "GrHRTFMkx6JT",
        "outputId": "828d0c0a-9374-4304-a6bf-9db168597813"
      },
      "outputs": [
        {
          "output_type": "stream",
          "name": "stdout",
          "text": [
            "Looking in indexes: https://pypi.org/simple, https://us-python.pkg.dev/colab-wheels/public/simple/\n",
            "Collecting tweet-preprocessor\n",
            "  Downloading tweet_preprocessor-0.6.0-py3-none-any.whl (27 kB)\n",
            "Installing collected packages: tweet-preprocessor\n",
            "Successfully installed tweet-preprocessor-0.6.0\n"
          ]
        }
      ],
      "source": [
        "!pip install tweet-preprocessor"
      ]
    },
    {
      "cell_type": "code",
      "execution_count": null,
      "metadata": {
        "colab": {
          "base_uri": "https://localhost:8080/"
        },
        "id": "vSXQNkYz2dOO",
        "outputId": "51f7beb3-1d1d-48e7-8d81-a251dc0b756a"
      },
      "outputs": [
        {
          "output_type": "stream",
          "name": "stdout",
          "text": [
            "Mounted at /content/drive\n"
          ]
        }
      ],
      "source": [
        "from sklearn.linear_model import LogisticRegressionCV, LogisticRegression\n",
        "from sklearn.feature_extraction.text import CountVectorizer\n",
        "from sklearn.model_selection import train_test_split\n",
        "from google.colab import drive\n",
        "import preprocessor as p\n",
        "import html\n",
        "import pickle\n",
        "from sklearn.model_selection import cross_val_score\n",
        "from sklearn import metrics\n",
        "from sklearn.model_selection import train_test_split\n",
        "from joblib import dump, load\n",
        "import numpy as np\n",
        "\n",
        "# Mount drive for loading the datasets\n",
        "drive.mount('/content/drive')\n",
        "import sys\n",
        "sys.path.insert(0, '/content/drive/MyDrive/Colab Notebooks/')\n",
        "\n",
        "MAX_N_GRAM = 4\n",
        "FILENAME = \"drive/MyDrive/Colab Notebooks/data/twitter_data.pkl\""
      ]
    },
    {
      "cell_type": "markdown",
      "metadata": {
        "id": "3Zg836CxTD2g"
      },
      "source": [
        "## Split and tokenize the datasets"
      ]
    },
    {
      "cell_type": "code",
      "execution_count": null,
      "metadata": {
        "id": "gx7YKv07TOl3"
      },
      "outputs": [],
      "source": [
        "def preprocess(data):\n",
        "    \"\"\"Preprocesses the data by cleaning URLs and MENTIONS since these do not\n",
        "    contain any valuable information.\"\"\"\n",
        "    p.set_options(p.OPT.URL, p.OPT.MENTION)\n",
        "\n",
        "    return list(map(lambda text: p.clean(html.unescape(text)), data))\n",
        "\n",
        "def convert_waseem_data(data):\n",
        "    \"\"\"Converts the Waseem and Hovy dataset by creating binary labels\"\"\"\n",
        "    X = []\n",
        "    y = []\n",
        "    for i in range(len(data)):\n",
        "        X.append(data[i]['text'])\n",
        "        label = data[i]['label']\n",
        "        if label in ['racism', 'sexism']:\n",
        "          label = 1\n",
        "        else:\n",
        "          label = 0\n",
        "        y.append(label)\n",
        "\n",
        "    return X, y"
      ]
    },
    {
      "cell_type": "code",
      "execution_count": null,
      "metadata": {
        "id": "vaNM4xTECiA4"
      },
      "outputs": [],
      "source": [
        "data = pickle.load(open(FILENAME, 'rb'))\n",
        "X, y = convert_waseem_data(data)\n",
        "X = preprocess(X)\n",
        "\n",
        "# Split dataset into train, test, and validation\n",
        "X_train, X_test, y_train, y_test = train_test_split(X, y, random_state=10, stratify=y, test_size=0.10)"
      ]
    },
    {
      "cell_type": "code",
      "source": [
        "vectorizer = CountVectorizer(ngram_range=(1, MAX_N_GRAM), analyzer=\"char\")\n",
        "vectorizer.fit(X_train)\n",
        "X_test_transformed = vectorizer.transform(X_test)"
      ],
      "metadata": {
        "id": "IKE_JCT9xWLM"
      },
      "execution_count": null,
      "outputs": []
    },
    {
      "cell_type": "markdown",
      "metadata": {
        "id": "pSN_Yr30mfm6"
      },
      "source": [
        "## Load existing model"
      ]
    },
    {
      "cell_type": "code",
      "execution_count": null,
      "metadata": {
        "id": "OljBeaIrmiuE"
      },
      "outputs": [],
      "source": [
        "model = load('/content/drive/MyDrive/Colab Notebooks/output/logistic-regression-waseem.joblib') "
      ]
    },
    {
      "cell_type": "markdown",
      "source": [
        "## Run model on the test dataset"
      ],
      "metadata": {
        "id": "xVe0XYiEV3mh"
      }
    },
    {
      "cell_type": "code",
      "source": [
        "probabilities = model.predict_proba(X_test_transformed)\n",
        "predictions = np.argmax(probabilities, axis=1)\n",
        "print(metrics.accuracy_score(y_test, predictions))"
      ],
      "metadata": {
        "colab": {
          "base_uri": "https://localhost:8080/"
        },
        "id": "zb7UFP58Asmy",
        "outputId": "28ccc3b3-7bae-4916-947a-e22c3bc2f3b2"
      },
      "execution_count": null,
      "outputs": [
        {
          "output_type": "stream",
          "name": "stdout",
          "text": [
            "0.853325046612803\n"
          ]
        }
      ]
    },
    {
      "cell_type": "code",
      "source": [
        "print(metrics.classification_report(y_test, predictions))"
      ],
      "metadata": {
        "colab": {
          "base_uri": "https://localhost:8080/"
        },
        "id": "Prw7DeWlpnlP",
        "outputId": "bde5a664-0de7-4143-fa5d-f2d5ee81e3f3"
      },
      "execution_count": null,
      "outputs": [
        {
          "output_type": "stream",
          "name": "stdout",
          "text": [
            "              precision    recall  f1-score   support\n",
            "\n",
            "           0       0.87      0.92      0.90      1104\n",
            "           1       0.81      0.70      0.75       505\n",
            "\n",
            "    accuracy                           0.85      1609\n",
            "   macro avg       0.84      0.81      0.82      1609\n",
            "weighted avg       0.85      0.85      0.85      1609\n",
            "\n"
          ]
        }
      ]
    },
    {
      "cell_type": "markdown",
      "source": [
        "## Export predictions"
      ],
      "metadata": {
        "id": "7gZxsBZmYgXB"
      }
    },
    {
      "cell_type": "code",
      "source": [
        "def to_predictions(predictions, labels):\n",
        "    predicted_classes = np.argmax(predictions, axis=1)\n",
        "    return list(map(lambda predicted_values, predicted_class, actual_class:\n",
        "                    {'predicted_class': class_name(predicted_class),\n",
        "                     'actual_class': class_name(actual_class),\n",
        "                     'predicted_value': predicted_values[predicted_class].item(),\n",
        "                     'text': None},\n",
        "                    predictions, predicted_classes, labels))\n",
        "def class_name(index):\n",
        "    if index == 0:\n",
        "        return \"None\"\n",
        "    elif index == 1:\n",
        "        return \"Hate\"\n",
        "\n",
        "predictions_info = to_predictions(probabilities, y_test)\n",
        "pickle.dump(predictions_info, open(\"drive/MyDrive/Colab Notebooks/output/lr-waseem-waseem.p\", \"wb\"))"
      ],
      "metadata": {
        "id": "qQ01G3CqXuEG"
      },
      "execution_count": null,
      "outputs": []
    }
  ],
  "metadata": {
    "colab": {
      "collapsed_sections": [],
      "name": "Test Logistic Regression (waseem-waseem).ipynb",
      "provenance": [],
      "machine_shape": "hm"
    },
    "gpuClass": "standard",
    "kernelspec": {
      "display_name": "Python 3",
      "name": "python3"
    },
    "language_info": {
      "name": "python"
    }
  },
  "nbformat": 4,
  "nbformat_minor": 0
}