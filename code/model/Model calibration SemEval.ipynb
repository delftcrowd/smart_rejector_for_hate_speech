{
 "cells": [
  {
   "cell_type": "code",
   "execution_count": 1,
   "id": "25832adb",
   "metadata": {},
   "outputs": [],
   "source": [
    "import tensorflow\n",
    "import tensorflow_probability\n",
    "import pickle\n",
    "\n",
    "from cnn import CNN\n",
    "from reader import Reader\n",
    "from sklearn.metrics import classification_report, confusion_matrix \n",
    "from tensorflow.keras.utils import to_categorical\n",
    "import numpy as np"
   ]
  },
  {
   "cell_type": "code",
   "execution_count": 2,
   "id": "605c53f0",
   "metadata": {},
   "outputs": [],
   "source": [
    "EPOCHS = 10\n",
    "BATCH_SIZE = 128\n",
    "NUM_CLASSES = 2\n",
    "LEARN_RATE = 0.01\n",
    "EMBED_SIZE = 50\n",
    "FILENAME = \"data/sem_eval_all.pkl\"\n",
    "VOCAB_LEN = 10000\n",
    "MAX_LEN = 100\n",
    "LOSS_TYPE = \"logits\"\n",
    "OVERSAMPLING_RATE = 3\n",
    "\n",
    "reader = Reader(filename=FILENAME, num_classes=NUM_CLASSES, vocab_len=VOCAB_LEN)\n",
    "X, y = reader.load()\n",
    "\n",
    "mapping = {'hate':1,'none':0}\n",
    "y = [mapping[b] for b in y]"
   ]
  },
  {
   "cell_type": "code",
   "execution_count": 3,
   "id": "c36c2516",
   "metadata": {},
   "outputs": [],
   "source": [
    "model = CNN.load(\"results/cnn-10-epochs-hoseem-2-classes-logits\")"
   ]
  },
  {
   "cell_type": "code",
   "execution_count": 4,
   "id": "b10c5d79",
   "metadata": {},
   "outputs": [
    {
     "name": "stdout",
     "output_type": "stream",
     "text": [
      "375/375 [==============================] - 9s 17ms/step\n",
      "[[4597 2360]\n",
      " [2383 2660]]\n",
      "              precision    recall  f1-score   support\n",
      "\n",
      "           0       0.66      0.66      0.66      6957\n",
      "           1       0.53      0.53      0.53      5043\n",
      "\n",
      "    accuracy                           0.60     12000\n",
      "   macro avg       0.59      0.59      0.59     12000\n",
      "weighted avg       0.60      0.60      0.60     12000\n",
      "\n"
     ]
    }
   ],
   "source": [
    "model_predictions = model.predict(X)\n",
    "predicted_classes = np.argmax(model_predictions, axis=1)\n",
    "model_actual_classes = y\n",
    "\n",
    "print(confusion_matrix(model_actual_classes, predicted_classes))\n",
    "print(classification_report(model_actual_classes, predicted_classes))"
   ]
  },
  {
   "cell_type": "code",
   "execution_count": 5,
   "id": "39ca3132",
   "metadata": {},
   "outputs": [
    {
     "data": {
      "text/plain": [
       "<tf.Tensor: shape=(), dtype=float32, numpy=0.25770476>"
      ]
     },
     "execution_count": 5,
     "metadata": {},
     "output_type": "execute_result"
    }
   ],
   "source": [
    "# Implementation from: https://github.com/ritun16/Machine_Learning_short_projecct/blob/master/Neural_Network_Calibration/model_calibration.ipynb\n",
    "# ECE result before calibration\n",
    "num_bins = 50\n",
    "model_labels = tensorflow.convert_to_tensor(model_actual_classes, dtype=tensorflow.int32, name='labels_true')\n",
    "model_logits = tensorflow.convert_to_tensor(model_predictions, dtype=tensorflow.float32, name='logits')\n",
    "tensorflow_probability.stats.expected_calibration_error(num_bins=num_bins, \n",
    "                                     logits=model_logits, \n",
    "                                     labels_true=model_labels)"
   ]
  },
  {
   "cell_type": "code",
   "execution_count": 6,
   "id": "d98a012e",
   "metadata": {},
   "outputs": [
    {
     "name": "stdout",
     "output_type": "stream",
     "text": [
      "Temperature Initial value: 1.0\n",
      "Temperature Final value: 2.4869942665100098\n"
     ]
    }
   ],
   "source": [
    "# Temperature Scaling\n",
    "temp = tensorflow.Variable(initial_value=1.0, trainable=True, dtype=tensorflow.float32) \n",
    "\n",
    "def compute_loss():\n",
    "    pred_divisions = tensorflow.math.divide(model_predictions, temp)\n",
    "    loss = tensorflow.reduce_mean(tensorflow.nn.softmax_cross_entropy_with_logits(\\\n",
    "                                tensorflow.convert_to_tensor(tensorflow.keras.utils.to_categorical(model_actual_classes)), pred_divisions))\n",
    "    return loss\n",
    "\n",
    "optimizer = tensorflow.optimizers.Adam(learning_rate=0.01)\n",
    "\n",
    "print('Temperature Initial value: {}'.format(temp.numpy()))\n",
    "\n",
    "for i in range(300):\n",
    "    opts = optimizer.minimize(compute_loss, var_list=[temp])\n",
    "\n",
    "\n",
    "print('Temperature Final value: {}'.format(temp.numpy()))"
   ]
  },
  {
   "cell_type": "code",
   "execution_count": 7,
   "id": "f8e5c275",
   "metadata": {},
   "outputs": [
    {
     "data": {
      "text/plain": [
       "<tf.Tensor: shape=(), dtype=float32, numpy=0.11408787>"
      ]
     },
     "execution_count": 7,
     "metadata": {},
     "output_type": "execute_result"
    }
   ],
   "source": [
    "# ECE result after calibration\n",
    "pred_divisions = tensorflow.math.divide(model_predictions, temp)\n",
    "num_bins = 50\n",
    "labels_true = tensorflow.convert_to_tensor(model_actual_classes, dtype=tensorflow.int32, name='labels_true')\n",
    "logits = tensorflow.convert_to_tensor(pred_divisions, dtype=tensorflow.float32, name='logits')\n",
    "tensorflow_probability.stats.expected_calibration_error(num_bins=num_bins, \n",
    "                                     logits=logits, \n",
    "                                     labels_true=labels_true)"
   ]
  },
  {
   "cell_type": "code",
   "execution_count": 8,
   "id": "c182c612",
   "metadata": {},
   "outputs": [],
   "source": [
    "calibrated_predictions_all = tensorflow.nn.softmax(logits).numpy()\n",
    "calibrated_predictions = np.argmax(calibrated_predictions_all, axis=1)"
   ]
  },
  {
   "cell_type": "code",
   "execution_count": 9,
   "id": "be7982c9",
   "metadata": {},
   "outputs": [
    {
     "name": "stdout",
     "output_type": "stream",
     "text": [
      "[[4597 2360]\n",
      " [2383 2660]]\n",
      "              precision    recall  f1-score   support\n",
      "\n",
      "           0       0.66      0.66      0.66      6957\n",
      "           1       0.53      0.53      0.53      5043\n",
      "\n",
      "    accuracy                           0.60     12000\n",
      "   macro avg       0.59      0.59      0.59     12000\n",
      "weighted avg       0.60      0.60      0.60     12000\n",
      "\n"
     ]
    }
   ],
   "source": [
    "# Accuracy should remain the same\n",
    "print(confusion_matrix(model_actual_classes, calibrated_predictions))\n",
    "print(classification_report(model_actual_classes, calibrated_predictions))"
   ]
  },
  {
   "cell_type": "code",
   "execution_count": 12,
   "id": "50dba6d6",
   "metadata": {},
   "outputs": [],
   "source": [
    "def to_predictions(predictions, labels):\n",
    "    predicted_classes = np.argmax(predictions, 1)\n",
    "    return list(map(lambda predicted_values, predicted_class, actual_class:\n",
    "                    {'predicted_class': class_name(predicted_class),\n",
    "                     'actual_class': class_name(actual_class),\n",
    "                     'predicted_value': predicted_values[predicted_class],\n",
    "                     'text': None},\n",
    "                    predictions, predicted_classes, model_actual_classes))\n",
    "\n",
    "def class_name(index):\n",
    "    if index == 0:\n",
    "        return \"None\"\n",
    "    elif index == 1:\n",
    "        return \"Hate\"\n"
   ]
  },
  {
   "cell_type": "code",
   "execution_count": 13,
   "id": "17adb998",
   "metadata": {},
   "outputs": [],
   "source": [
    "calibrated_predictions_info = to_predictions(calibrated_predictions_all, model_actual_classes)\n",
    "pickle.dump(calibrated_predictions_info, open(\"results/cnn-sem-eval-calibrated.p\", \"wb\"))"
   ]
  },
  {
   "cell_type": "code",
   "execution_count": 14,
   "id": "828cc284",
   "metadata": {},
   "outputs": [],
   "source": [
    "# Old model without calibration\n",
    "old_model = CNN(max_len=MAX_LEN,\n",
    "          num_classes=NUM_CLASSES, \n",
    "          batch_size=BATCH_SIZE, \n",
    "          epochs=EPOCHS, \n",
    "          embed_size=EMBED_SIZE, \n",
    "          vocab_len=VOCAB_LEN)"
   ]
  },
  {
   "cell_type": "code",
   "execution_count": 23,
   "id": "922dc72a",
   "metadata": {},
   "outputs": [],
   "source": [
    "old_model = CNN.load(\"results/cnn-10-epochs-hoseem-2-classes\")"
   ]
  },
  {
   "cell_type": "code",
   "execution_count": 24,
   "id": "2607e9ad",
   "metadata": {},
   "outputs": [
    {
     "name": "stdout",
     "output_type": "stream",
     "text": [
      "375/375 [==============================] - 2s 5ms/step\n"
     ]
    }
   ],
   "source": [
    "old_model_predictions_all = old_model.predict(X)"
   ]
  },
  {
   "cell_type": "code",
   "execution_count": 25,
   "id": "54229703",
   "metadata": {},
   "outputs": [
    {
     "name": "stdout",
     "output_type": "stream",
     "text": [
      "[[5009 1948]\n",
      " [2679 2364]]\n",
      "              precision    recall  f1-score   support\n",
      "\n",
      "           0       0.65      0.72      0.68      6957\n",
      "           1       0.55      0.47      0.51      5043\n",
      "\n",
      "    accuracy                           0.61     12000\n",
      "   macro avg       0.60      0.59      0.59     12000\n",
      "weighted avg       0.61      0.61      0.61     12000\n",
      "\n"
     ]
    }
   ],
   "source": [
    "old_model_predictions = np.argmax(old_model_predictions_all, axis=1)\n",
    "print(confusion_matrix(model_actual_classes, old_model_predictions))\n",
    "print(classification_report(model_actual_classes, old_model_predictions))"
   ]
  },
  {
   "cell_type": "code",
   "execution_count": 26,
   "id": "725e72fd",
   "metadata": {},
   "outputs": [],
   "source": [
    "old_model_predictions_info = to_predictions(old_model_predictions_all, model_actual_classes)\n",
    "pickle.dump(old_model_predictions_info, open(\"results/cnn-sem-eval-not-calibrated.p\", \"wb\"))"
   ]
  },
  {
   "cell_type": "code",
   "execution_count": null,
   "id": "b910213d",
   "metadata": {},
   "outputs": [],
   "source": []
  }
 ],
 "metadata": {
  "kernelspec": {
   "display_name": "Python [conda env:tensorflow]",
   "language": "python",
   "name": "conda-env-tensorflow-py"
  },
  "language_info": {
   "codemirror_mode": {
    "name": "ipython",
    "version": 3
   },
   "file_extension": ".py",
   "mimetype": "text/x-python",
   "name": "python",
   "nbconvert_exporter": "python",
   "pygments_lexer": "ipython3",
   "version": "3.8.5"
  }
 },
 "nbformat": 4,
 "nbformat_minor": 5
}
