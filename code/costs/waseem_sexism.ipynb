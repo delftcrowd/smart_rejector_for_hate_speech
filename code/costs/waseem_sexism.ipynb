{
 "cells": [
  {
   "cell_type": "code",
   "execution_count": 1,
   "metadata": {},
   "outputs": [],
   "source": [
    "from clustering.preprocess import Preprocess\n",
    "from clustering.kmeans import KMeansClustering\n",
    "from clustering.lda import LDA\n",
    "import logging\n",
    "logging.getLogger().setLevel(logging.INFO)"
   ]
  },
  {
   "cell_type": "code",
   "execution_count": 2,
   "metadata": {},
   "outputs": [
    {
     "name": "stderr",
     "output_type": "stream",
     "text": [
      "INFO:root:Original data length: 16089\n",
      "INFO:root:After applying filters: 3117\n",
      "INFO:root:Data length after removing invalid tweets: 582\n",
      "INFO:root:Explained variance of the SVD step: 44%\n"
     ]
    }
   ],
   "source": [
    "data = Preprocess.open_pickle(\"F:\\Development\\smart_rejector_for_hate_speech\\/twitter_data.pkl\")\n",
    "filtered_data = Preprocess.filter_waseem_hovy(X=data, label='sexism')\n",
    "tweets = [x['text'] for x in filtered_data]\n",
    "cleaned_data = Preprocess.clean(X=tweets)\n",
    "km = KMeansClustering()\n",
    "X = km.fit_tfidf(cleaned_data)\n",
    "X = km.fit_lsa(X)"
   ]
  },
  {
   "cell_type": "code",
   "execution_count": 3,
   "metadata": {},
   "outputs": [
    {
     "ename": "KeyboardInterrupt",
     "evalue": "",
     "output_type": "error",
     "traceback": [
      "\u001b[1;31m---------------------------------------------------------------------------\u001b[0m",
      "\u001b[1;31mKeyboardInterrupt\u001b[0m                         Traceback (most recent call last)",
      "File \u001b[1;32m<__array_function__ internals>:2\u001b[0m, in \u001b[0;36mwhere\u001b[1;34m(*args, **kwargs)\u001b[0m\n",
      "\u001b[1;31mKeyboardInterrupt\u001b[0m: "
     ]
    },
    {
     "name": "stderr",
     "output_type": "stream",
     "text": [
      "Exception ignored in: 'sklearn.cluster._k_means_common._relocate_empty_clusters_dense'\n",
      "Traceback (most recent call last):\n",
      "  File \"<__array_function__ internals>\", line 2, in where\n",
      "KeyboardInterrupt: \n"
     ]
    },
    {
     "data": {
      "image/png": "[encoded data removed]",
      "text/plain": [
       "<Figure size 432x288 with 1 Axes>"
      ]
     },
     "metadata": {
      "needs_background": "light"
     },
     "output_type": "display_data"
    }
   ],
   "source": [
    "%matplotlib inline\n",
    "km.plot_elbow_curve(max_k=50, X=X)"
   ]
  },
  {
   "cell_type": "code",
   "execution_count": null,
   "metadata": {},
   "outputs": [],
   "source": [
    "%matplotlib inline\n",
    "# Higher values are better, when clusters are dense and well separated\n",
    "km.plot_calinski_harabasz_analysis(max_k=50, X=X)"
   ]
  },
  {
   "cell_type": "code",
   "execution_count": null,
   "metadata": {},
   "outputs": [],
   "source": [
    "%matplotlib inline\n",
    "# Higher values are better\n",
    "km.plot_silhouette_analysis(max_k=50, X=X)"
   ]
  },
  {
   "cell_type": "code",
   "execution_count": null,
   "metadata": {},
   "outputs": [],
   "source": [
    "%matplotlib inline\n",
    "# Values close to zero indicate a better partition\n",
    "km.plot_davies_bouldin_score_analysis(max_k=50, X=X)"
   ]
  },
  {
   "cell_type": "code",
   "execution_count": null,
   "metadata": {},
   "outputs": [],
   "source": [
    "K = 5\n",
    "km.cluster(X= X, K=K)\n",
    "km.print_top_terms()"
   ]
  },
  {
   "cell_type": "code",
   "execution_count": null,
   "metadata": {},
   "outputs": [],
   "source": [
    "km.cluster(X= X, K=K)\n",
    "km.print_most_representative_samples(original_data=filtered_data, X=X, num_samples=5)"
   ]
  },
  {
   "cell_type": "code",
   "execution_count": null,
   "metadata": {},
   "outputs": [],
   "source": [
    "lda = LDA()\n",
    "X = lda.fit_tf(X=cleaned_data)\n",
    "pred = lda.fit_lda(X=X, n_components=2)\n",
    "# Lower values are better\n",
    "# Perplexity indicates how well the probability model predicts the samples\n",
    "lda.plot_perplexity(max_n=100, X=X)"
   ]
  },
  {
   "cell_type": "code",
   "execution_count": null,
   "metadata": {},
   "outputs": [],
   "source": [
    "pred = lda.fit_lda(X=X, n_components=10)\n",
    "lda.print_top_terms()"
   ]
  }
 ],
 "metadata": {
  "interpreter": {
   "hash": "1d6d5fb1668883c33dcb7e6d97ab558619c066a76f945629b031854efe98e76a"
  },
  "kernelspec": {
   "display_name": "Python 3.8.5 ('smart-rejector')",
   "language": "python",
   "name": "python3"
  },
  "language_info": {
   "codemirror_mode": {
    "name": "ipython",
    "version": 3
   },
   "file_extension": ".py",
   "mimetype": "text/x-python",
   "name": "python",
   "nbconvert_exporter": "python",
   "pygments_lexer": "ipython3",
   "version": "3.8.5"
  },
  "orig_nbformat": 4
 },
 "nbformat": 4,
 "nbformat_minor": 2
}
