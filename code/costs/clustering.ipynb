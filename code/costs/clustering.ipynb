{
 "cells": [
  {
   "cell_type": "code",
   "execution_count": 1,
   "metadata": {},
   "outputs": [],
   "source": [
    "from kmeans import KMeansClustering"
   ]
  },
  {
   "cell_type": "code",
   "execution_count": 2,
   "metadata": {},
   "outputs": [
    {
     "data": {
      "text/plain": [
       "KMeans(n_clusters=4)"
      ]
     },
     "execution_count": 2,
     "metadata": {},
     "output_type": "execute_result"
    }
   ],
   "source": [
    "km = KMeansClustering()\n",
    "km.open(\"F:\\Thesis\\data\\SemEval\\hateval2019_en_train.csv\")\n",
    "km.filter(HS='1', TR='0', AG='0')\n",
    "cleaned_data = km.clean()\n",
    "X = km.fit_tfidf(cleaned_data)\n",
    "X = km.fit_lsa(X)\n",
    "km.cluster(X=X, K=4)"
   ]
  },
  {
   "cell_type": "code",
   "execution_count": 3,
   "metadata": {},
   "outputs": [
    {
     "name": "stdout",
     "output_type": "stream",
     "text": [
      "=======================================\n",
      "Cluster  0\n",
      "Top terms:\n",
      " girls bitches illegal like immigrants people refugees girl immigration make\n",
      "\n",
      "=======================================\n",
      "Cluster  1\n",
      "Top terms:\n",
      " women don men dick like want just hysterical hoe fuck\n",
      "\n",
      "=======================================\n",
      "Cluster  2\n",
      "Top terms:\n",
      " woman difference does like bitch trying good likes didn problem\n",
      "\n",
      "=======================================\n",
      "Cluster  3\n",
      "Top terms:\n",
      " bitch hoe shit hoes cunt whore just fuck women ass\n",
      "\n"
     ]
    }
   ],
   "source": [
    "km.print_top_terms()"
   ]
  },
  {
   "cell_type": "code",
   "execution_count": 4,
   "metadata": {},
   "outputs": [
    {
     "name": "stdout",
     "output_type": "stream",
     "text": [
      "=======================================\n",
      "Cluster  0\n",
      "Most representative sample indices: [ 16  56 366 423 120]\n",
      "ALL and\n",
      "['632', '#FamiliesBelongTogether#deport ALL #ILLEGALaliens #endDACA #RoundupDACA #defund #SanctuaryCities and #SanctuaryStates #BuildTheWall', '1', '0', '0', '', '', '', '', '', '', '', '', '', '', '', '', '', '', '', '', '']\n",
      "\n",
      "Crimes committed by ILLEGAL immigrants should be public information everywhere like in Texas. More illegal aliens were arrested for homicide in the past years in a single state than deaths by mass shooting in the other states combined!\n",
      "['2217', 'Crimes committed by ILLEGAL immigrants should be public information everywhere like in Texas. More illegal aliens were arrested for homicide in the past 7 years in a single state than deaths by mass shooting in the other 49 states combined! #SendThemBack #BuildTheWall', '1', '0', '0', '', '', '', '', '', '', '', '', '', '', '', '', '', '', '', '', '']\n",
      "\n",
      "Looks like homecoming is soon. Let the 'Girls fucking over Guys' begin!\n",
      "['5775', \"Looks like homecoming is soon. Let the 'Girls fucking over Guys' begin! #LameExcuses #WomenSuck\", '1', '0', '0', '', '', '', '', '', '', '', '', '', '', '', '', '', '', '', '', '']\n",
      "\n",
      "I Want Some Cunt Ass Bitches To Be Spice Girls W Me This Year\n",
      "['6026', 'I Want Some Cunt Ass Bitches To Be Spice Girls W Me This Year', '1', '0', '0', '', '', '', '', '', '', '', '', '', '', '', '', '', '', '', '', '']\n",
      "\n",
      "It's unfair to immigrants apply and wait for a VISA to reside,work or go to school, here in the U.S., that ILLEGAL ALIENS are allowed to stay without documentation. Let them go home and apply for a VISA like all the LEGAL IMMIGRANTS HAVE. WHAT MAKES ILLEGALS EXEMPT?\n",
      "['4537', \"It's unfair to immigrants apply and wait for a VISA to reside,work or go to school, here in the U.S., that ILLEGAL ALIENS are allowed to stay without documentation. Let them go home and apply for a VISA like all the LEGAL IMMIGRANTS HAVE. WHAT MAKES ILLEGALS EXEMPT?\", '1', '0', '0', '', '', '', '', '', '', '', '', '', '', '', '', '', '', '', '', '']\n",
      "\n",
      "\n",
      "=======================================\n",
      "Cluster  1\n",
      "Most representative sample indices: [457 170 158 261 439]\n",
      "Women want u to automatically believe women who scream rape they don't understand our position....\n",
      "['6273', \"Women want u to automatically believe women who scream rape they don't understand our position....\", '1', '0', '0', '', '', '', '', '', '', '', '', '', '', '', '', '', '', '', '', '']\n",
      "\n",
      "Women: 'started from the bottom, still here'\n",
      "['4981', \"Women: 'started from the bottom, still here'\", '1', '0', '0', '', '', '', '', '', '', '', '', '', '', '', '', '', '', '', '', '']\n",
      "\n",
      "Women want to be equal so now they don't shave their legs??? Gross*\n",
      "['4900', \"Women want to be equal so now they don't shave their legs??? Gross*\", '1', '0', '0', '', '', '', '', '', '', '', '', '', '', '', '', '', '', '', '', '']\n",
      "\n",
      "I don't have to tell my homies not to take women cus they don't want us we just move on to the next bitch\n",
      "['5453', \"I don't have to tell my homies not to take women cus they don't want us we just move on to the next bitch 💯\", '1', '0', '0', '', '', '', '', '', '', '', '', '', '', '', '', '', '', '', '', '']\n",
      "\n",
      "Putting women on pedestals, Gen Kelly, is why women are abused. We don't fall neatly into the madonna/whore categories. We're people FFS.\n",
      "['6124', \"Putting women on pedestals, Gen Kelly, is why women are abused. We don't fall neatly into the madonna/whore categories. We're people FFS.\", '1', '0', '0', '', '', '', '', '', '', '', '', '', '', '', '', '', '', '', '', '']\n",
      "\n",
      "\n",
      "=======================================\n",
      "Cluster  2\n",
      "Most representative sample indices: [190 353 381 271 355]\n",
      "What do you call a woman who has lost % of her intelligence? Divorced\n",
      "['5033', 'What do you call a woman who has lost 95% of her intelligence? Divorced', '1', '0', '0', '', '', '', '', '', '', '', '', '', '', '', '', '', '', '', '', '']\n",
      "\n",
      "If you slow the video down you can see the problem..... Yep she's a woman\n",
      "['5752', \"If you slow the video down you can see the problem..... Yep she's a woman #WomenSuck\", '1', '0', '0', '', '', '', '', '', '', '', '', '', '', '', '', '', '', '', '', '']\n",
      "\n",
      "Teaching a woman to drive is like teaching a rock to swim.\n",
      "['5808', 'Teaching a woman to drive is like teaching a rock to swim. #WomenSuck', '1', '0', '0', '', '', '', '', '', '', '', '', '', '', '', '', '', '', '', '', '']\n",
      "\n",
      "What is the difference between a woman and a catfish? One is a bottom feeding scum sucker and one is a fish\n",
      "['5517', 'What is the difference between a woman and a catfish? One is a bottom feeding scum sucker and one is a fish', '1', '0', '0', '', '', '', '', '', '', '', '', '', '', '', '', '', '', '', '', '']\n",
      "\n",
      "It figures the hurricane is named after a woman. They always fuck everything up\n",
      "['5759', 'It figures the hurricane is named after a woman. They always fuck everything up #Sandy #Bitch #WomenSuck', '1', '0', '0', '', '', '', '', '', '', '', '', '', '', '', '', '', '', '', '', '']\n",
      "\n",
      "\n",
      "=======================================\n",
      "Cluster  3\n",
      "Most representative sample indices: [462 431 421 435 128]\n",
      "Just want me a down bitch all these hoes out here on some other shit\n",
      "['6298', 'Just want me a down bitch all these hoes out here on some other shit', '1', '0', '0', '', '', '', '', '', '', '', '', '', '', '', '', '', '', '', '', '']\n",
      "\n",
      "PREYING ON WOMEN IS A BITCH TENDENCY\n",
      "['6072', 'PREYING ON WOMEN IS A BITCH TENDENCY ‼️🗣', '1', '0', '0', '', '', '', '', '', '', '', '', '', '', '', '', '', '', '', '', '']\n",
      "\n",
      "Dear Akkorou, Bitch ass nigga cunt on a stick fuck shit bitch kike small cocked cunt Love, Dj Rits\n",
      "['6012', 'Dear Akkorou, Bitch ass nigga cunt on a stick fuck shit bitch kike small cocked cunt Love, Dj Rits', '1', '0', '0', '', '', '', '', '', '', '', '', '', '', '', '', '', '', '', '', '']\n",
      "\n",
      "I miss u bUT ALSO FUCK U, CUNT WHORE BITCH\n",
      "['6085', 'I miss u bUT ALSO FUCK U, CUNT WHORE BITCH', '1', '0', '0', '', '', '', '', '', '', '', '', '', '', '', '', '', '', '', '', '']\n",
      "\n",
      "Too bad my stupid loyal bitch ass dropped all my hoes that smoked me out for an ain't shit boy\n",
      "['4757', \"Too bad my stupid loyal bitch ass dropped all my hoes that smoked me out for an ain't shit boy\", '1', '0', '0', '', '', '', '', '', '', '', '', '', '', '', '', '', '', '', '', '']\n",
      "\n",
      "\n"
     ]
    }
   ],
   "source": [
    "km.print_most_representative_samples(X=cleaned_data, num_samples=5)"
   ]
  }
 ],
 "metadata": {
  "interpreter": {
   "hash": "1d6d5fb1668883c33dcb7e6d97ab558619c066a76f945629b031854efe98e76a"
  },
  "kernelspec": {
   "display_name": "Python 3.8.5 ('smart-rejector')",
   "language": "python",
   "name": "python3"
  },
  "language_info": {
   "codemirror_mode": {
    "name": "ipython",
    "version": 3
   },
   "file_extension": ".py",
   "mimetype": "text/x-python",
   "name": "python",
   "nbconvert_exporter": "python",
   "pygments_lexer": "ipython3",
   "version": "3.8.5"
  },
  "orig_nbformat": 4
 },
 "nbformat": 4,
 "nbformat_minor": 2
}
