{
 "cells": [
  {
   "cell_type": "code",
   "execution_count": 5,
   "metadata": {},
   "outputs": [
    {
     "name": "stdout",
     "output_type": "stream",
     "text": [
      "slow subjects:  False\n",
      "subjects that failed the attention checks:  False\n"
     ]
    }
   ],
   "source": [
    "from analysis import Analysis\n",
    "import pandas as pd\n",
    "PATH100 = \"F:\\Thesis\\Experiments\\Costs\\Results\\/philippe 100.csv\"\n",
    "PATHME = \"F:\\Thesis\\Experiments\\Costs\\Results\\/philippe me.csv\"\n",
    "data100 = pd.read_csv(PATH100)\n",
    "datame = pd.read_csv(PATHME)\n",
    "data100 = Analysis.append_durations(data100)\n",
    "datame = Analysis.append_durations(datame)\n",
    "print(\"slow subjects ME: \", datame['duration'].isnull().values.any())\n",
    "print(\"slow subjects 100: \", data100['duration'].isnull().values.any())\n",
    "\n",
    "data100 = Analysis.convert_100_data(data100)\n",
    "datame = Analysis.convert_me_data(datame)\n",
    "data = data100.append(datame)\n",
    "print(data)\n",
    "print(\"subjects that failed the attention checks: \", data['attention_checks_passed'].loc[data['attention_checks_passed'] == False].values.any())\n"
   ]
  },
  {
   "cell_type": "code",
   "execution_count": 2,
   "metadata": {},
   "outputs": [
    {
     "name": "stdout",
     "output_type": "stream",
     "text": [
      "===================\n",
      "ME scale\n",
      "TP nan\n",
      "TN nan\n",
      "FP nan\n",
      "FN nan\n",
      "REJ nan\n",
      "===================\n",
      "S100 scale\n",
      "TP 36.125\n",
      "TN 29.375\n",
      "FP -24.375\n",
      "FN -48.75\n",
      "REJ -21.75\n",
      "===================\n"
     ]
    }
   ],
   "source": [
    "Analysis.print_means(data)\n"
   ]
  },
  {
   "cell_type": "code",
   "execution_count": 3,
   "metadata": {},
   "outputs": [
    {
     "name": "stdout",
     "output_type": "stream",
     "text": [
      "===================\n",
      "alpha complete data: 1.0\n",
      "===================\n",
      "ME scale\n",
      "TP nan\n",
      "TN nan\n",
      "FP nan\n",
      "FN nan\n",
      "REJ nan\n",
      "===================\n",
      "S100 scale\n",
      "TP 1.0\n",
      "TN 1.0\n",
      "FP 1.0\n",
      "FN 1.0\n",
      "REJ 1.0\n",
      "===================\n"
     ]
    }
   ],
   "source": [
    "Analysis.print_reliabilities(data)"
   ]
  },
  {
   "cell_type": "code",
   "execution_count": 4,
   "metadata": {},
   "outputs": [
    {
     "name": "stderr",
     "output_type": "stream",
     "text": [
      "c:\\Users\\phili\\anaconda3\\envs\\smart-rejector\\lib\\site-packages\\numpy\\core\\fromnumeric.py:3372: RuntimeWarning: Mean of empty slice.\n",
      "  return _methods._mean(a, axis=axis, dtype=dtype,\n",
      "c:\\Users\\phili\\anaconda3\\envs\\smart-rejector\\lib\\site-packages\\numpy\\core\\_methods.py:170: RuntimeWarning: invalid value encountered in double_scalars\n",
      "  ret = ret.dtype.type(ret / rcount)\n",
      "c:\\Users\\phili\\anaconda3\\envs\\smart-rejector\\lib\\site-packages\\numpy\\core\\_methods.py:233: RuntimeWarning: Degrees of freedom <= 0 for slice\n",
      "  ret = _var(a, axis=axis, dtype=dtype, out=out, ddof=ddof,\n",
      "c:\\Users\\phili\\anaconda3\\envs\\smart-rejector\\lib\\site-packages\\numpy\\core\\_methods.py:194: RuntimeWarning: invalid value encountered in true_divide\n",
      "  arrmean = um.true_divide(\n",
      "c:\\Users\\phili\\anaconda3\\envs\\smart-rejector\\lib\\site-packages\\numpy\\core\\_methods.py:226: RuntimeWarning: invalid value encountered in double_scalars\n",
      "  ret = ret.dtype.type(ret / rcount)\n"
     ]
    },
    {
     "name": "stdout",
     "output_type": "stream",
     "text": [
      "Cohen's d nan\n",
      "Unpaired T-test Ttest_indResult(statistic=nan, pvalue=nan)\n"
     ]
    },
    {
     "ename": "ValueError",
     "evalue": "x and y must have the same length.",
     "output_type": "error",
     "traceback": [
      "\u001b[1;31m---------------------------------------------------------------------------\u001b[0m",
      "\u001b[1;31mValueError\u001b[0m                                Traceback (most recent call last)",
      "\u001b[1;32mf:\\Development\\smart_rejector_for_hate_speech\\code\\costs\\analysis\\pilot_study.ipynb Cell 4'\u001b[0m in \u001b[0;36m<cell line: 1>\u001b[1;34m()\u001b[0m\n\u001b[1;32m----> <a href='vscode-notebook-cell:/f%3A/Development/smart_rejector_for_hate_speech/code/costs/analysis/pilot_study.ipynb#ch0000003?line=0'>1</a>\u001b[0m Analysis\u001b[39m.\u001b[39;49mprint_correlation(data)\n",
      "File \u001b[1;32mf:\\Development\\smart_rejector_for_hate_speech\\code\\costs\\analysis\\analysis.py:341\u001b[0m, in \u001b[0;36mAnalysis.print_correlation\u001b[1;34m(data)\u001b[0m\n\u001b[0;32m    339\u001b[0m \u001b[39mprint\u001b[39m(\u001b[39m\"\u001b[39m\u001b[39mCohen\u001b[39m\u001b[39m'\u001b[39m\u001b[39ms d\u001b[39m\u001b[39m\"\u001b[39m, cohens_d)\n\u001b[0;32m    340\u001b[0m \u001b[39mprint\u001b[39m(\u001b[39m\"\u001b[39m\u001b[39mUnpaired T-test\u001b[39m\u001b[39m\"\u001b[39m, stats\u001b[39m.\u001b[39mttest_ind(mes, s100))\n\u001b[1;32m--> 341\u001b[0m \u001b[39mprint\u001b[39m(\u001b[39m\"\u001b[39m\u001b[39mPearson\u001b[39m\u001b[39m\"\u001b[39m, stats\u001b[39m.\u001b[39;49mpearsonr(mes, s100))\n\u001b[0;32m    342\u001b[0m \u001b[39mprint\u001b[39m(\u001b[39m\"\u001b[39m\u001b[39mSpearman\u001b[39m\u001b[39m\"\u001b[39m, stats\u001b[39m.\u001b[39mspearmanr(mes, s100))\n\u001b[0;32m    343\u001b[0m \u001b[39mprint\u001b[39m(\u001b[39m\"\u001b[39m\u001b[39mKendall\u001b[39m\u001b[39m\"\u001b[39m, stats\u001b[39m.\u001b[39mkendalltau(mes, s100))\n",
      "File \u001b[1;32mc:\\Users\\phili\\anaconda3\\envs\\smart-rejector\\lib\\site-packages\\scipy\\stats\\stats.py:4013\u001b[0m, in \u001b[0;36mpearsonr\u001b[1;34m(x, y)\u001b[0m\n\u001b[0;32m   4011\u001b[0m n \u001b[39m=\u001b[39m \u001b[39mlen\u001b[39m(x)\n\u001b[0;32m   4012\u001b[0m \u001b[39mif\u001b[39;00m n \u001b[39m!=\u001b[39m \u001b[39mlen\u001b[39m(y):\n\u001b[1;32m-> 4013\u001b[0m     \u001b[39mraise\u001b[39;00m \u001b[39mValueError\u001b[39;00m(\u001b[39m'\u001b[39m\u001b[39mx and y must have the same length.\u001b[39m\u001b[39m'\u001b[39m)\n\u001b[0;32m   4015\u001b[0m \u001b[39mif\u001b[39;00m n \u001b[39m<\u001b[39m \u001b[39m2\u001b[39m:\n\u001b[0;32m   4016\u001b[0m     \u001b[39mraise\u001b[39;00m \u001b[39mValueError\u001b[39;00m(\u001b[39m'\u001b[39m\u001b[39mx and y must have length at least 2.\u001b[39m\u001b[39m'\u001b[39m)\n",
      "\u001b[1;31mValueError\u001b[0m: x and y must have the same length."
     ]
    }
   ],
   "source": [
    "Analysis.print_correlation(data)"
   ]
  },
  {
   "cell_type": "code",
   "execution_count": null,
   "metadata": {},
   "outputs": [],
   "source": [
    "%matplotlib inline\n",
    "Analysis.plot_validity(data)"
   ]
  },
  {
   "cell_type": "code",
   "execution_count": null,
   "metadata": {},
   "outputs": [],
   "source": [
    "%matplotlib inline\n",
    "Analysis.plot_boxplots(data)"
   ]
  },
  {
   "cell_type": "code",
   "execution_count": null,
   "metadata": {},
   "outputs": [],
   "source": [
    "%matplotlib inline\n",
    "Analysis.plot_hatefulness(data)"
   ]
  },
  {
   "cell_type": "markdown",
   "metadata": {},
   "source": []
  }
 ],
 "metadata": {
  "interpreter": {
   "hash": "1d6d5fb1668883c33dcb7e6d97ab558619c066a76f945629b031854efe98e76a"
  },
  "kernelspec": {
   "display_name": "Python 3.8.5 ('smart-rejector')",
   "language": "python",
   "name": "python3"
  },
  "language_info": {
   "codemirror_mode": {
    "name": "ipython",
    "version": 3
   },
   "file_extension": ".py",
   "mimetype": "text/x-python",
   "name": "python",
   "nbconvert_exporter": "python",
   "pygments_lexer": "ipython3",
   "version": "3.8.5"
  },
  "orig_nbformat": 4
 },
 "nbformat": 4,
 "nbformat_minor": 2
}
