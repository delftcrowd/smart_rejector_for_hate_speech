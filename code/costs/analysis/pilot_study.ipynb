{
 "cells": [
  {
   "cell_type": "code",
   "execution_count": 22,
   "metadata": {},
   "outputs": [
    {
     "name": "stdout",
     "output_type": "stream",
     "text": [
      "slow subjects:  False\n",
      "0    1.0\n",
      "1    1.0\n",
      "2    1.0\n",
      "Name: attention_checks_passed, dtype: float64\n",
      "subjects that failed the attention checks:  True\n"
     ]
    }
   ],
   "source": [
    "from analysis import Analysis\n",
    "import pandas as pd\n",
    "PATH = \"F:\\Thesis\\Experiments\\Costs\\Results\\/philippe 100.csv\"\n",
    "data = pd.read_csv(PATH)\n",
    "data = Analysis.append_durations(data)\n",
    "print(\"slow subjects: \", data['duration'].isnull().values.any())\n",
    "\n",
    "data = Analysis.convert_100_data(data)\n",
    "print(data['attention_checks_passed'])\n",
    "print(\"subjects that failed the attention checks: \", data['attention_checks_passed'].loc[data['attention_checks_passed'] == False].values.any())\n"
   ]
  },
  {
   "cell_type": "code",
   "execution_count": null,
   "metadata": {},
   "outputs": [],
   "source": [
    "Analysis.print_means(data)\n"
   ]
  },
  {
   "cell_type": "code",
   "execution_count": null,
   "metadata": {},
   "outputs": [],
   "source": [
    "Analysis.print_reliabilities(data)"
   ]
  },
  {
   "cell_type": "code",
   "execution_count": null,
   "metadata": {},
   "outputs": [],
   "source": [
    "Analysis.print_correlation(data)"
   ]
  },
  {
   "cell_type": "code",
   "execution_count": null,
   "metadata": {},
   "outputs": [],
   "source": [
    "%matplotlib inline\n",
    "Analysis.plot_validity(data)"
   ]
  },
  {
   "cell_type": "code",
   "execution_count": null,
   "metadata": {},
   "outputs": [],
   "source": [
    "%matplotlib inline\n",
    "Analysis.plot_boxplots(data)"
   ]
  },
  {
   "cell_type": "code",
   "execution_count": null,
   "metadata": {},
   "outputs": [],
   "source": [
    "%matplotlib inline\n",
    "Analysis.plot_hatefulness(data)"
   ]
  },
  {
   "cell_type": "markdown",
   "metadata": {},
   "source": []
  }
 ],
 "metadata": {
  "interpreter": {
   "hash": "1d6d5fb1668883c33dcb7e6d97ab558619c066a76f945629b031854efe98e76a"
  },
  "kernelspec": {
   "display_name": "Python 3.8.5 ('smart-rejector')",
   "language": "python",
   "name": "python3"
  },
  "language_info": {
   "codemirror_mode": {
    "name": "ipython",
    "version": 3
   },
   "file_extension": ".py",
   "mimetype": "text/x-python",
   "name": "python",
   "nbconvert_exporter": "python",
   "pygments_lexer": "ipython3",
   "version": "3.8.5"
  },
  "orig_nbformat": 4
 },
 "nbformat": 4,
 "nbformat_minor": 2
}
