{
 "cells": [
  {
   "cell_type": "code",
   "execution_count": 3,
   "metadata": {},
   "outputs": [
    {
     "name": "stdout",
     "output_type": "stream",
     "text": [
      "   METP1  METP2     METP3     METP4     METN1     METN2     METN3  METN4  \\\n",
      "0    0.0    0.0  1.392453 -2.649057  0.260377  0.260377 -0.260377    0.0   \n",
      "\n",
      "      MEFP1     MEFP2  ...  S100FP3  S100FP4  S100FN1  S100FN2  S100FN3  \\\n",
      "0  0.260377  1.392453  ...    -81.0      0.0    -63.0     76.0     66.0   \n",
      "\n",
      "   S100FN4  S100REJ1  S100REJ2  S100REJ3  S100REJ4  \n",
      "0      0.0       0.0       0.0       0.0       0.0  \n",
      "\n",
      "[1 rows x 40 columns]\n",
      "===================\n",
      "S100 scale\n",
      "TP -0.31415094339622646\n",
      "TN 0.06509433962264151\n",
      "FP 0.0650943396226415\n",
      "FN 0.6962264150943397\n",
      "REJ 0.06509433962264151\n",
      "===================\n",
      "ME scale\n",
      "TP -0.31415094339622646\n",
      "TN 0.06509433962264151\n",
      "FP 0.0650943396226415\n",
      "FN 0.6962264150943397\n",
      "REJ 0.06509433962264151\n",
      "===================\n",
      "===================\n",
      "alpha complete data: 1.0\n",
      "===================\n",
      "S100 scale\n",
      "TP 1.0\n",
      "TN 1.0\n",
      "FP 1.0\n",
      "FN 1.0\n",
      "REJ nan\n",
      "===================\n",
      "ME scale\n",
      "TP 1.0\n",
      "TN 1.0\n",
      "FP 1.0\n",
      "FN 1.0\n",
      "REJ 1.0\n",
      "===================\n"
     ]
    },
    {
     "data": {
      "image/png": "[encoded data removed]",
      "text/plain": [
       "<Figure size 432x288 with 1 Axes>"
      ]
     },
     "metadata": {
      "needs_background": "light"
     },
     "output_type": "display_data"
    },
    {
     "name": "stdout",
     "output_type": "stream",
     "text": [
      "Pearson (-0.16447809629398166, 0.4883422284835014)\n",
      "Spearman SpearmanrResult(correlation=-0.13135452324339503, pvalue=0.580940209729012)\n",
      "Kendall KendalltauResult(correlation=-0.12166606584807192, pvalue=0.5154478566168545)\n"
     ]
    }
   ],
   "source": [
    "from analysis import Analysis\n",
    "import pandas as pd\n",
    "\n",
    "PATH = \"F:\\Thesis\\Experiments\\Costs\\Results\\/03-06-2022 (FEEDBACK) ME-100.csv\"\n",
    "data = pd.read_csv(PATH)\n",
    "data = Analysis.convert_data(data)\n",
    "print(data)\n",
    "Analysis.print_means(data)\n",
    "Analysis.print_reliabilities(data)\n",
    "Analysis.plot_validity(data)\n",
    "Analysis.print_correlation(data)\n"
   ]
  }
 ],
 "metadata": {
  "interpreter": {
   "hash": "1d6d5fb1668883c33dcb7e6d97ab558619c066a76f945629b031854efe98e76a"
  },
  "kernelspec": {
   "display_name": "Python 3.8.5 ('smart-rejector')",
   "language": "python",
   "name": "python3"
  },
  "language_info": {
   "codemirror_mode": {
    "name": "ipython",
    "version": 3
   },
   "file_extension": ".py",
   "mimetype": "text/x-python",
   "name": "python",
   "nbconvert_exporter": "python",
   "pygments_lexer": "ipython3",
   "version": "3.8.5"
  },
  "orig_nbformat": 4
 },
 "nbformat": 4,
 "nbformat_minor": 2
}
