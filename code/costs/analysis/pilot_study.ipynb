{
 "cells": [
  {
   "cell_type": "code",
   "execution_count": 1,
   "metadata": {},
   "outputs": [
    {
     "name": "stdout",
     "output_type": "stream",
     "text": [
      "2022-06-03 11:51:50\n",
      "2022-06-03 11:56:58\n",
      "standard deviation duration:  0.0\n",
      "mean duration:  308.0\n",
      "slow subjects:  False\n"
     ]
    }
   ],
   "source": [
    "from analysis import Analysis\n",
    "import pandas as pd\n",
    "\n",
    "PATH = \"F:\\Thesis\\Experiments\\Costs\\Results\\/03-06-2022 (FEEDBACK) ME-100.csv\"\n",
    "data = pd.read_csv(PATH)\n",
    "data = Analysis.append_durations(data)\n",
    "print(\"slow subjects: \", data['duration'].isnull().values.any())\n",
    "\n",
    "data = Analysis.convert_data(data)\n",
    "# Analysis.print_means(data)\n",
    "# Analysis.print_reliabilities(data)\n",
    "# Analysis.plot_validity(data)\n",
    "# Analysis.print_correlation(data)\n"
   ]
  },
  {
   "cell_type": "markdown",
   "metadata": {},
   "source": []
  }
 ],
 "metadata": {
  "interpreter": {
   "hash": "1d6d5fb1668883c33dcb7e6d97ab558619c066a76f945629b031854efe98e76a"
  },
  "kernelspec": {
   "display_name": "Python 3.8.5 ('smart-rejector')",
   "language": "python",
   "name": "python3"
  },
  "language_info": {
   "codemirror_mode": {
    "name": "ipython",
    "version": 3
   },
   "file_extension": ".py",
   "mimetype": "text/x-python",
   "name": "python",
   "nbconvert_exporter": "python",
   "pygments_lexer": "ipython3",
   "version": "3.8.5"
  },
  "orig_nbformat": 4
 },
 "nbformat": 4,
 "nbformat_minor": 2
}
