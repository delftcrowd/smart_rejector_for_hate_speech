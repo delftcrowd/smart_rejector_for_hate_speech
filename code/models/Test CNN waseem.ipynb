{
  "cells": [
    {
      "cell_type": "markdown",
      "metadata": {
        "id": "YFb53nvAS2Ng"
      },
      "source": [
        "# CNN model\n",
        "This notebook trains the CNN model.\n",
        "\n",
        "**Trained on**: Waseem and Hovy (2016)\n",
        "**Tested on**: Waseem and Hovy (2016)"
      ]
    },
    {
      "cell_type": "markdown",
      "metadata": {
        "id": "1HD7NZIFUTAT"
      },
      "source": [
        "First we need to install the required packages."
      ]
    },
    {
      "cell_type": "code",
      "execution_count": null,
      "metadata": {
        "colab": {
          "base_uri": "https://localhost:8080/"
        },
        "id": "XmFnQgTg5Zyq",
        "outputId": "37296db7-e276-4b79-98d7-9d21d4241fe3"
      },
      "outputs": [
        {
          "name": "stdout",
          "output_type": "stream",
          "text": [
            "Looking in indexes: https://pypi.org/simple, https://us-python.pkg.dev/colab-wheels/public/simple/\n",
            "Requirement already satisfied: pyyaml in /usr/local/lib/python3.7/dist-packages (3.13)\n",
            "Requirement already satisfied: h5py in /usr/local/lib/python3.7/dist-packages (3.1.0)\n",
            "Requirement already satisfied: cached-property in /usr/local/lib/python3.7/dist-packages (from h5py) (1.5.2)\n",
            "Requirement already satisfied: numpy>=1.14.5 in /usr/local/lib/python3.7/dist-packages (from h5py) (1.21.6)\n"
          ]
        }
      ],
      "source": [
        "!pip install pyyaml h5py"
      ]
    },
    {
      "cell_type": "code",
      "execution_count": null,
      "metadata": {
        "colab": {
          "base_uri": "https://localhost:8080/"
        },
        "id": "vSXQNkYz2dOO",
        "outputId": "28fa4c26-3d2e-455e-a6f5-024ea06199c7"
      },
      "outputs": [
        {
          "name": "stdout",
          "output_type": "stream",
          "text": [
            "Drive already mounted at /content/drive; to attempt to forcibly remount, call drive.mount(\"/content/drive\", force_remount=True).\n"
          ]
        }
      ],
      "source": [
        "from google.colab import drive\n",
        "\n",
        "# Mount drive for loading the data\n",
        "drive.mount('/content/drive')\n",
        "\n",
        "import sys\n",
        "sys.path.append(\"drive/MyDrive/Colab Notebooks\")\n",
        "\n",
        "import tensorflow\n",
        "from cnn import CNN\n",
        "from reader import Reader\n",
        "from sklearn.metrics import classification_report, confusion_matrix \n",
        "import numpy as np\n",
        "from tensorflow.keras.utils import to_categorical\n",
        "import html\n",
        "from keras.layers import TextVectorization\n",
        "import tensorflow_probability\n",
        "import pickle\n",
        "from keras import models\n",
        "\n",
        "FILENAME = \"drive/MyDrive/Colab Notebooks/data/twitter_data.pkl\"\n",
        "TEMPERATURE = 1.6726611852645874\n",
        "NUM_CLASSES = 2"
      ]
    },
    {
      "cell_type": "markdown",
      "metadata": {
        "id": "3Zg836CxTD2g"
      },
      "source": [
        "## Read and split the dataset"
      ]
    },
    {
      "cell_type": "code",
      "execution_count": null,
      "metadata": {
        "id": "gx7YKv07TOl3"
      },
      "outputs": [],
      "source": [
        "X, y = Reader.load(FILENAME)\n",
        "X = Reader.preprocess(X)\n",
        "\n",
        "mapping = {'racism': 1,'sexism': 1, 'none': 0}\n",
        "y = [mapping[b] for b in y]\n",
        "\n",
        "X_train, X_val, X_test, y_train, y_val, y_test = Reader.split_with_validation(X, y)\n",
        "\n",
        "X_train = np.asarray(X_train)\n",
        "X_test = np.asarray(X_test)\n",
        "X_val = np.asarray(X_val)\n",
        "\n",
        "y_train = to_categorical(y_train, num_classes=NUM_CLASSES)\n",
        "y_test = to_categorical(y_test, num_classes=NUM_CLASSES)\n",
        "y_val = to_categorical(y_val, num_classes=NUM_CLASSES)"
      ]
    },
    {
      "cell_type": "markdown",
      "metadata": {
        "id": "WF4HcAYP0PUl"
      },
      "source": [
        "## Load the model"
      ]
    },
    {
      "cell_type": "code",
      "execution_count": null,
      "metadata": {
        "id": "htYqR1-lu0B0"
      },
      "outputs": [],
      "source": [
        "model = models.load_model('drive/MyDrive/Colab Notebooks/output/cnn-waseem-hovy')"
      ]
    },
    {
      "cell_type": "markdown",
      "metadata": {
        "id": "Z4wG-emR87S-"
      },
      "source": [
        "## Predict\n",
        "\n",
        "\n",
        "\n"
      ]
    },
    {
      "cell_type": "code",
      "execution_count": null,
      "metadata": {
        "colab": {
          "base_uri": "https://localhost:8080/"
        },
        "id": "V9aVPlFK_t3q",
        "outputId": "a08088ea-7055-478c-ff8c-88f7a5bd884c"
      },
      "outputs": [
        {
          "name": "stdout",
          "output_type": "stream",
          "text": [
            "[[1020   84]\n",
            " [ 166  339]]\n",
            "              precision    recall  f1-score   support\n",
            "\n",
            "           0       0.86      0.92      0.89      1104\n",
            "           1       0.80      0.67      0.73       505\n",
            "\n",
            "    accuracy                           0.84      1609\n",
            "   macro avg       0.83      0.80      0.81      1609\n",
            "weighted avg       0.84      0.84      0.84      1609\n",
            "\n"
          ]
        }
      ],
      "source": [
        "model_predictions = model.predict(X_test)\n",
        "pred_divisions = tensorflow.math.divide(model_predictions, TEMPERATURE)\n",
        "\n",
        "predicted_classes = np.argmax(model_predictions, axis=1)\n",
        "actual_classes = np.argmax(y_test, axis=1)\n",
        "\n",
        "print(confusion_matrix(actual_classes, predicted_classes))\n",
        "print(classification_report(actual_classes, predicted_classes))"
      ]
    },
    {
      "cell_type": "code",
      "execution_count": null,
      "metadata": {
        "id": "DCGgKuEn6UJi"
      },
      "outputs": [],
      "source": [
        "def to_predictions(predictions, labels):\n",
        "    predicted_classes = np.argmax(predictions, 1)\n",
        "    return list(map(lambda predicted_values, predicted_class, actual_class:\n",
        "                    {'predicted_class': class_name(predicted_class),\n",
        "                     'actual_class': class_name(actual_class),\n",
        "                     'predicted_value': predicted_values[predicted_class],\n",
        "                     'text': None},\n",
        "                    predictions, predicted_classes, labels))\n",
        "\n",
        "def class_name(index):\n",
        "    if index == 0:\n",
        "        return \"None\"\n",
        "    elif index == 1:\n",
        "        return \"Hate\"\n"
      ]
    },
    {
      "cell_type": "markdown",
      "metadata": {
        "id": "kRDESaZpB5AT"
      },
      "source": [
        "## Export predictions"
      ]
    },
    {
      "cell_type": "code",
      "execution_count": null,
      "metadata": {
        "id": "Bn3V1VanB1-p"
      },
      "outputs": [],
      "source": [
        "# Run Softmax function on the logits to get class probabilities\n",
        "calibrated_predictions_all = tensorflow.nn.softmax(pred_divisions).numpy()\n",
        "calibrated_predictions = np.argmax(calibrated_predictions_all, axis=1)\n",
        "model_actual_classes = np.argmax(y_test, axis=1)"
      ]
    },
    {
      "cell_type": "code",
      "execution_count": null,
      "metadata": {
        "id": "mfXbTzeu6VUD"
      },
      "outputs": [],
      "source": [
        "calibrated_predictions_info = to_predictions(calibrated_predictions_all, model_actual_classes)\n",
        "pickle.dump(calibrated_predictions_info, open(\"drive/MyDrive/Colab Notebooks/output/cnn-waseem-waseem.p\", \"wb\"))"
      ]
    },
    {
      "cell_type": "code",
      "execution_count": null,
      "metadata": {
        "colab": {
          "base_uri": "https://localhost:8080/",
          "height": 268
        },
        "id": "qrA0ojeQ70yu",
        "outputId": "514bdc45-8367-47d1-a2ac-b071a3d86a72"
      },
      "outputs": [
        {
          "data": {
            "image/png": "[encoded data removed]",
            "text/plain": [
              "<Figure size 432x288 with 1 Axes>"
            ]
          },
          "metadata": {
            "needs_background": "light"
          },
          "output_type": "display_data"
        }
      ],
      "source": [
        "softmax_non_calibrated = tensorflow.nn.softmax(model_predictions).numpy()\n",
        "probs = np.max(softmax_non_calibrated, axis=1)\n",
        "import matplotlib.pyplot as plt\n",
        "plt.hist(probs, bins=40)\n",
        "plt.show()"
      ]
    },
    {
      "cell_type": "code",
      "execution_count": null,
      "metadata": {
        "colab": {
          "base_uri": "https://localhost:8080/",
          "height": 265
        },
        "id": "AqkSQKJy8Sfh",
        "outputId": "9f5def81-0d5a-4f06-8868-f6b1563bf918"
      },
      "outputs": [
        {
          "data": {
            "image/png": "[encoded data removed]",
            "text/plain": [
              "<Figure size 432x288 with 1 Axes>"
            ]
          },
          "metadata": {
            "needs_background": "light"
          },
          "output_type": "display_data"
        }
      ],
      "source": [
        "probs = np.max(calibrated_predictions_all, axis=1)\n",
        "import matplotlib.pyplot as plt\n",
        "plt.hist(probs, bins=40)\n",
        "plt.show()"
      ]
    }
  ],
  "metadata": {
    "accelerator": "TPU",
    "colab": {
      "collapsed_sections": [],
      "machine_shape": "hm",
      "name": "Test CNN (waseem - waseem).ipynb",
      "provenance": []
    },
    "gpuClass": "standard",
    "kernelspec": {
      "display_name": "Python 3.8.5 ('smart-rejector')",
      "language": "python",
      "name": "python3"
    },
    "language_info": {
      "name": "python",
      "version": "3.8.5"
    },
    "vscode": {
      "interpreter": {
        "hash": "1d6d5fb1668883c33dcb7e6d97ab558619c066a76f945629b031854efe98e76a"
      }
    }
  },
  "nbformat": 4,
  "nbformat_minor": 0
}
