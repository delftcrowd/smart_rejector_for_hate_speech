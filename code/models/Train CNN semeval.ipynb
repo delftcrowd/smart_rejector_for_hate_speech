{
  "cells": [
    {
      "cell_type": "markdown",
      "metadata": {
        "id": "YFb53nvAS2Ng"
      },
      "source": [
        "# CNN model\n",
        "This notebook trains the CNN model.\n",
        "\n",
        "**Trains on:** SemEval (2019)"
      ]
    },
    {
      "cell_type": "markdown",
      "metadata": {
        "id": "1HD7NZIFUTAT"
      },
      "source": [
        "First we need to install the required packages."
      ]
    },
    {
      "cell_type": "code",
      "execution_count": null,
      "metadata": {
        "colab": {
          "base_uri": "https://localhost:8080/"
        },
        "id": "XmFnQgTg5Zyq",
        "outputId": "e951be07-16ca-4b2d-fcb6-eb9b4a387e64"
      },
      "outputs": [
        {
          "name": "stdout",
          "output_type": "stream",
          "text": [
            "Looking in indexes: https://pypi.org/simple, https://us-python.pkg.dev/colab-wheels/public/simple/\n",
            "Requirement already satisfied: pyyaml in /usr/local/lib/python3.7/dist-packages (3.13)\n",
            "Requirement already satisfied: h5py in /usr/local/lib/python3.7/dist-packages (3.1.0)\n",
            "Requirement already satisfied: cached-property in /usr/local/lib/python3.7/dist-packages (from h5py) (1.5.2)\n",
            "Requirement already satisfied: numpy>=1.14.5 in /usr/local/lib/python3.7/dist-packages (from h5py) (1.21.6)\n"
          ]
        }
      ],
      "source": [
        "!pip install pyyaml h5py"
      ]
    },
    {
      "cell_type": "code",
      "execution_count": null,
      "metadata": {
        "colab": {
          "base_uri": "https://localhost:8080/"
        },
        "id": "vSXQNkYz2dOO",
        "outputId": "0c8abf7a-6b12-4e58-b935-967095e21e5e"
      },
      "outputs": [
        {
          "name": "stdout",
          "output_type": "stream",
          "text": [
            "Mounted at /content/drive\n"
          ]
        }
      ],
      "source": [
        "from google.colab import drive\n",
        "\n",
        "# Mount drive for loading the data\n",
        "drive.mount('/content/drive')\n",
        "\n",
        "import sys\n",
        "sys.path.append(\"drive/MyDrive/Colab Notebooks\")\n",
        "\n",
        "import tensorflow\n",
        "from cnn import CNN\n",
        "from reader import Reader\n",
        "from sklearn.metrics import classification_report, confusion_matrix \n",
        "import numpy as np\n",
        "from tensorflow.keras.utils import to_categorical\n",
        "import html\n",
        "from keras.layers import TextVectorization\n",
        "import tensorflow_probability\n",
        "import pickle\n",
        "\n",
        "FILENAME = \"drive/MyDrive/Colab Notebooks/data/sem_eval_all.pkl\"\n",
        "EPOCHS = 10\n",
        "BATCH_SIZE = 128\n",
        "NUM_CLASSES = 2\n",
        "LEARN_RATE = 0.01\n",
        "EMBED_SIZE = 100\n",
        "LOSS_TYPE = \"logits\"\n",
        "MAX_LEN = 250\n",
        "MAX_TOKENS = 20000"
      ]
    },
    {
      "cell_type": "markdown",
      "metadata": {
        "id": "3Zg836CxTD2g"
      },
      "source": [
        "## Read and split the dataset"
      ]
    },
    {
      "cell_type": "code",
      "execution_count": null,
      "metadata": {
        "id": "gx7YKv07TOl3"
      },
      "outputs": [],
      "source": [
        "reader = Reader(filename=FILENAME)\n",
        "X, y = reader.load()\n",
        "\n",
        "mapping = {'hate': 1, 'none': 0}\n",
        "y = [mapping[b] for b in y]\n",
        "\n",
        "X_train, X_val, X_test, y_train, y_val, y_test = reader.split_with_validation(X, y)\n",
        "\n",
        "X_train = np.asarray(X_train)\n",
        "X_test = np.asarray(X_test)\n",
        "X_val = np.asarray(X_val)\n",
        "\n",
        "y_train = to_categorical(y_train, num_classes=NUM_CLASSES)\n",
        "y_test = to_categorical(y_test, num_classes=NUM_CLASSES)\n",
        "y_val = to_categorical(y_val, num_classes=NUM_CLASSES)"
      ]
    },
    {
      "cell_type": "markdown",
      "metadata": {
        "id": "r1NUgKx9TyEM"
      },
      "source": [
        "## Setup the TextVectorization layer"
      ]
    },
    {
      "cell_type": "code",
      "execution_count": null,
      "metadata": {
        "id": "jkyB35W7CiOm"
      },
      "outputs": [],
      "source": [
        "text_vectorizer = TextVectorization(\n",
        "    max_tokens=MAX_TOKENS,\n",
        "    output_mode='int',\n",
        "    output_sequence_length=MAX_LEN)\n",
        "text_vectorizer.adapt(X_train)\n",
        "\n",
        "vocab = text_vectorizer.get_vocabulary()"
      ]
    },
    {
      "cell_type": "markdown",
      "metadata": {
        "id": "WF4HcAYP0PUl"
      },
      "source": [
        "## Setup the model"
      ]
    },
    {
      "cell_type": "code",
      "execution_count": null,
      "metadata": {
        "id": "htYqR1-lu0B0"
      },
      "outputs": [],
      "source": [
        "model = CNN(max_len=MAX_LEN,\n",
        "          num_classes=NUM_CLASSES, \n",
        "          batch_size=BATCH_SIZE, \n",
        "          epochs=EPOCHS, \n",
        "          embed_size=EMBED_SIZE, \n",
        "          vocab_len=MAX_TOKENS,\n",
        "          loss_type=LOSS_TYPE,\n",
        "          save_model=True,\n",
        "          save_path=\"drive/MyDrive/Colab Notebooks/output/cnn-semeval\",\n",
        "          checkpoint_path=\"drive/MyDrive/Colab Notebooks/output/cnn-semeval.ckpt\",\n",
        "          text_vectorizer=text_vectorizer)"
      ]
    },
    {
      "cell_type": "markdown",
      "metadata": {
        "id": "2pNT0IfeT59n"
      },
      "source": [
        "## Training"
      ]
    },
    {
      "cell_type": "code",
      "execution_count": null,
      "metadata": {
        "colab": {
          "base_uri": "https://localhost:8080/"
        },
        "id": "nvIsddm6T45B",
        "outputId": "058582f4-7c3d-4485-a090-d733de626f50"
      },
      "outputs": [
        {
          "name": "stdout",
          "output_type": "stream",
          "text": [
            "Epoch 1/10\n",
            "67/68 [============================>.] - ETA: 0s - loss: 1.7835 - accuracy: 0.5756\n",
            "Epoch 1: saving model to drive/MyDrive/Colab Notebooks/output/cnn-semeval.ckpt\n",
            "68/68 [==============================] - 6s 72ms/step - loss: 1.7767 - accuracy: 0.5753\n",
            "Epoch 2/10\n",
            "67/68 [============================>.] - ETA: 0s - loss: 0.7164 - accuracy: 0.6053\n",
            "Epoch 2: saving model to drive/MyDrive/Colab Notebooks/output/cnn-semeval.ckpt\n",
            "68/68 [==============================] - 5s 73ms/step - loss: 0.7158 - accuracy: 0.6058\n",
            "Epoch 3/10\n",
            "67/68 [============================>.] - ETA: 0s - loss: 0.6168 - accuracy: 0.6874\n",
            "Epoch 3: saving model to drive/MyDrive/Colab Notebooks/output/cnn-semeval.ckpt\n",
            "68/68 [==============================] - 5s 73ms/step - loss: 0.6164 - accuracy: 0.6878\n",
            "Epoch 4/10\n",
            "67/68 [============================>.] - ETA: 0s - loss: 0.5363 - accuracy: 0.7629\n",
            "Epoch 4: saving model to drive/MyDrive/Colab Notebooks/output/cnn-semeval.ckpt\n",
            "68/68 [==============================] - 5s 70ms/step - loss: 0.5361 - accuracy: 0.7626\n",
            "Epoch 5/10\n",
            "67/68 [============================>.] - ETA: 0s - loss: 0.4495 - accuracy: 0.8371\n",
            "Epoch 5: saving model to drive/MyDrive/Colab Notebooks/output/cnn-semeval.ckpt\n",
            "68/68 [==============================] - 5s 70ms/step - loss: 0.4490 - accuracy: 0.8375\n",
            "Epoch 6/10\n",
            "67/68 [============================>.] - ETA: 0s - loss: 0.3617 - accuracy: 0.8886\n",
            "Epoch 6: saving model to drive/MyDrive/Colab Notebooks/output/cnn-semeval.ckpt\n",
            "68/68 [==============================] - 5s 70ms/step - loss: 0.3616 - accuracy: 0.8885\n",
            "Epoch 7/10\n",
            "67/68 [============================>.] - ETA: 0s - loss: 0.2929 - accuracy: 0.9218\n",
            "Epoch 7: saving model to drive/MyDrive/Colab Notebooks/output/cnn-semeval.ckpt\n",
            "68/68 [==============================] - 5s 71ms/step - loss: 0.2930 - accuracy: 0.9218\n",
            "Epoch 8/10\n",
            "67/68 [============================>.] - ETA: 0s - loss: 0.2424 - accuracy: 0.9438\n",
            "Epoch 8: saving model to drive/MyDrive/Colab Notebooks/output/cnn-semeval.ckpt\n",
            "68/68 [==============================] - 5s 71ms/step - loss: 0.2420 - accuracy: 0.9441\n",
            "Epoch 9/10\n",
            "67/68 [============================>.] - ETA: 0s - loss: 0.2022 - accuracy: 0.9579\n",
            "Epoch 9: saving model to drive/MyDrive/Colab Notebooks/output/cnn-semeval.ckpt\n",
            "68/68 [==============================] - 5s 71ms/step - loss: 0.2026 - accuracy: 0.9576\n",
            "Epoch 10/10\n",
            "67/68 [============================>.] - ETA: 0s - loss: 0.1745 - accuracy: 0.9674\n",
            "Epoch 10: saving model to drive/MyDrive/Colab Notebooks/output/cnn-semeval.ckpt\n",
            "68/68 [==============================] - 5s 71ms/step - loss: 0.1742 - accuracy: 0.9676\n",
            "INFO:tensorflow:Assets written to: drive/MyDrive/Colab Notebooks/output/cnn-semeval/assets\n"
          ]
        },
        {
          "data": {
            "text/plain": [
              "<keras.engine.functional.Functional at 0x7f3910042790>"
            ]
          },
          "execution_count": 6,
          "metadata": {},
          "output_type": "execute_result"
        }
      ],
      "source": [
        "model.fit(X_train, y_train)"
      ]
    },
    {
      "cell_type": "code",
      "execution_count": null,
      "metadata": {
        "colab": {
          "base_uri": "https://localhost:8080/"
        },
        "id": "ViXRjzkVWjv6",
        "outputId": "90dace5e-3e95-49a7-db17-ab26549b903b"
      },
      "outputs": [
        {
          "name": "stdout",
          "output_type": "stream",
          "text": [
            "[[532 164]\n",
            " [196 308]]\n",
            "              precision    recall  f1-score   support\n",
            "\n",
            "           0       0.73      0.76      0.75       696\n",
            "           1       0.65      0.61      0.63       504\n",
            "\n",
            "    accuracy                           0.70      1200\n",
            "   macro avg       0.69      0.69      0.69      1200\n",
            "weighted avg       0.70      0.70      0.70      1200\n",
            "\n"
          ]
        }
      ],
      "source": [
        "model_predictions = model.cnn.predict(X_test)\n",
        "predicted_classes = np.argmax(model_predictions, axis=1)\n",
        "actual_classes = np.argmax(y_test, axis=1)\n",
        "\n",
        "print(confusion_matrix(actual_classes, predicted_classes))\n",
        "print(classification_report(actual_classes, predicted_classes))"
      ]
    },
    {
      "cell_type": "markdown",
      "metadata": {
        "id": "gsrWFrWB8ltU"
      },
      "source": [
        "## Waseem predictions calibration\n",
        "We use temperature scaling to calibrate the model by finding the optimal T value on the validation set.\n",
        "\n"
      ]
    },
    {
      "cell_type": "code",
      "execution_count": null,
      "metadata": {
        "colab": {
          "base_uri": "https://localhost:8080/"
        },
        "id": "r-wTdwGM6I_I",
        "outputId": "78d6bed0-c93f-4cd1-d818-841095365e02"
      },
      "outputs": [
        {
          "data": {
            "text/plain": [
              "<tf.Tensor: shape=(), dtype=float32, numpy=0.14167416>"
            ]
          },
          "execution_count": 8,
          "metadata": {},
          "output_type": "execute_result"
        }
      ],
      "source": [
        "# Implementation from: https://github.com/ritun16/Machine_Learning_short_projecct/blob/master/Neural_Network_Calibration/model_calibration.ipynb\n",
        "# ECE result before calibration\n",
        "num_bins = 50\n",
        "model_predictions = model.cnn.predict(X_val)\n",
        "model_actual_classes = np.argmax(y_val, axis=1)\n",
        "model_labels = tensorflow.convert_to_tensor(model_actual_classes, dtype=tensorflow.int32, name='labels_true')\n",
        "model_logits = tensorflow.convert_to_tensor(model_predictions, dtype=tensorflow.float32, name='logits')\n",
        "tensorflow_probability.stats.expected_calibration_error(num_bins=num_bins, \n",
        "                                     logits=model_logits, \n",
        "                                     labels_true=model_labels)"
      ]
    },
    {
      "cell_type": "code",
      "execution_count": null,
      "metadata": {
        "colab": {
          "base_uri": "https://localhost:8080/"
        },
        "id": "I4rQwGwk6Lm6",
        "outputId": "89efa35f-64f0-46f5-b1c0-198acc8d34b1"
      },
      "outputs": [
        {
          "name": "stdout",
          "output_type": "stream",
          "text": [
            "Temperature Initial value: 1.0\n",
            "Temperature Final value: 2.216935634613037\n"
          ]
        }
      ],
      "source": [
        "# Temperature Scaling\n",
        "temp = tensorflow.Variable(initial_value=1.0, trainable=True, dtype=tensorflow.float32) \n",
        "\n",
        "def compute_loss():\n",
        "    pred_divisions = tensorflow.math.divide(model_predictions, temp)\n",
        "    loss = tensorflow.reduce_mean(tensorflow.nn.softmax_cross_entropy_with_logits(\\\n",
        "                                tensorflow.convert_to_tensor(tensorflow.keras.utils.to_categorical(model_actual_classes)), pred_divisions))\n",
        "    return loss\n",
        "\n",
        "optimizer = tensorflow.optimizers.Adam(learning_rate=0.01)\n",
        "\n",
        "print('Temperature Initial value: {}'.format(temp.numpy()))\n",
        "\n",
        "for i in range(300):\n",
        "    opts = optimizer.minimize(compute_loss, var_list=[temp])\n",
        "\n",
        "\n",
        "print('Temperature Final value: {}'.format(temp.numpy()))"
      ]
    },
    {
      "cell_type": "code",
      "execution_count": null,
      "metadata": {
        "colab": {
          "base_uri": "https://localhost:8080/"
        },
        "id": "gOqcczdu6QV5",
        "outputId": "d273532b-a3c5-41b5-e761-f1bfbd8b2eed"
      },
      "outputs": [
        {
          "data": {
            "text/plain": [
              "<tf.Tensor: shape=(), dtype=float32, numpy=0.04484203>"
            ]
          },
          "execution_count": 10,
          "metadata": {},
          "output_type": "execute_result"
        }
      ],
      "source": [
        "# ECE result after calibration\n",
        "pred_divisions = tensorflow.math.divide(model_predictions, temp)\n",
        "num_bins = 50\n",
        "labels_true = tensorflow.convert_to_tensor(model_actual_classes, dtype=tensorflow.int32, name='labels_true')\n",
        "logits = tensorflow.convert_to_tensor(pred_divisions, dtype=tensorflow.float32, name='logits')\n",
        "tensorflow_probability.stats.expected_calibration_error(num_bins=num_bins, \n",
        "                                     logits=logits, \n",
        "                                     labels_true=labels_true)"
      ]
    }
  ],
  "metadata": {
    "accelerator": "TPU",
    "colab": {
      "collapsed_sections": [],
      "machine_shape": "hm",
      "name": "Train CNN SemEval.ipynb",
      "provenance": []
    },
    "gpuClass": "standard",
    "kernelspec": {
      "display_name": "Python 3",
      "name": "python3"
    },
    "language_info": {
      "name": "python"
    }
  },
  "nbformat": 4,
  "nbformat_minor": 0
}
