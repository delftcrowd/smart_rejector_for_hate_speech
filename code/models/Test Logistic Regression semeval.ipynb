{
  "cells": [
    {
      "cell_type": "markdown",
      "metadata": {
        "id": "YFb53nvAS2Ng"
      },
      "source": [
        "# Test Logistic Regression model\n",
        "\n",
        "**Trained on**: Waseem and Hovy (2016)\n",
        "**Tested on**: SemEval (2019)"
      ]
    },
    {
      "cell_type": "markdown",
      "metadata": {
        "id": "1HD7NZIFUTAT"
      },
      "source": [
        "First we need to install the required packages."
      ]
    },
    {
      "cell_type": "code",
      "execution_count": null,
      "metadata": {
        "colab": {
          "base_uri": "https://localhost:8080/"
        },
        "id": "GrHRTFMkx6JT",
        "outputId": "dfd4cd66-f4f8-4dec-9aef-1b871cd85901"
      },
      "outputs": [
        {
          "name": "stdout",
          "output_type": "stream",
          "text": [
            "Looking in indexes: https://pypi.org/simple, https://us-python.pkg.dev/colab-wheels/public/simple/\n",
            "Requirement already satisfied: tweet-preprocessor in /usr/local/lib/python3.7/dist-packages (0.6.0)\n"
          ]
        }
      ],
      "source": [
        "!pip install tweet-preprocessor"
      ]
    },
    {
      "cell_type": "code",
      "execution_count": null,
      "metadata": {
        "colab": {
          "base_uri": "https://localhost:8080/"
        },
        "id": "vSXQNkYz2dOO",
        "outputId": "c033ad4a-5761-4925-cd28-b0a8ca0e2b43"
      },
      "outputs": [
        {
          "name": "stdout",
          "output_type": "stream",
          "text": [
            "Drive already mounted at /content/drive; to attempt to forcibly remount, call drive.mount(\"/content/drive\", force_remount=True).\n"
          ]
        }
      ],
      "source": [
        "from sklearn.linear_model import LogisticRegressionCV, LogisticRegression\n",
        "from sklearn.feature_extraction.text import CountVectorizer\n",
        "from sklearn.model_selection import train_test_split\n",
        "from google.colab import drive\n",
        "import preprocessor as p\n",
        "import html\n",
        "import pickle\n",
        "from reader import Reader\n",
        "from sklearn.model_selection import cross_val_score\n",
        "from sklearn import metrics\n",
        "from sklearn.model_selection import train_test_split\n",
        "from joblib import dump, load\n",
        "import numpy as np\n",
        "\n",
        "# Mount drive for loading the datasets\n",
        "drive.mount('/content/drive')\n",
        "import sys\n",
        "sys.path.insert(0, '/content/drive/MyDrive/Colab Notebooks/')\n",
        "\n",
        "MAX_N_GRAM = 4\n",
        "WASEEM_FILENAME = \"drive/MyDrive/Colab Notebooks/data/twitter_data.pkl\"\n",
        "SEMEVAL_FILENAME = \"drive/MyDrive/Colab Notebooks/data/sem_eval_all.pkl\""
      ]
    },
    {
      "cell_type": "markdown",
      "metadata": {
        "id": "3Zg836CxTD2g"
      },
      "source": [
        "## Split and tokenize the datasets"
      ]
    },
    {
      "cell_type": "code",
      "execution_count": null,
      "metadata": {
        "id": "gx7YKv07TOl3"
      },
      "outputs": [],
      "source": [
        "def convert_semeval_data(data):\n",
        "    \"\"\"Converts the SemEval dataset by creating binary labels\"\"\"\n",
        "    X = []\n",
        "    y = []\n",
        "    for i in range(len(data)):\n",
        "        X.append(data[i]['text'])\n",
        "        label = data[i]['label']\n",
        "        if label == 'hate':\n",
        "          label = 1\n",
        "        else:\n",
        "          label = 0\n",
        "        y.append(label)\n",
        "\n",
        "    return X, y"
      ]
    },
    {
      "cell_type": "code",
      "execution_count": null,
      "metadata": {
        "id": "vaNM4xTECiA4"
      },
      "outputs": [],
      "source": [
        "X, y = Reader.load(WASEEM_FILENAME)\n",
        "X = Reader.preprocess(X)\n",
        "\n",
        "mapping = {'racism': 1,'sexism': 1, 'none': 0}\n",
        "y = [mapping[b] for b in y]\n",
        "\n",
        "# Split dataset into train, test, and validation\n",
        "X_train, _, y_train, _ = train_test_split(X, y, random_state=10, stratify=y, test_size=0.10)"
      ]
    },
    {
      "cell_type": "code",
      "execution_count": null,
      "metadata": {
        "colab": {
          "base_uri": "https://localhost:8080/"
        },
        "id": "IKE_JCT9xWLM",
        "outputId": "fdae5785-5747-416f-baba-b63ad5f99b94"
      },
      "outputs": [
        {
          "data": {
            "text/plain": [
              "CountVectorizer(analyzer='char', ngram_range=(1, 4))"
            ]
          },
          "execution_count": 16,
          "metadata": {},
          "output_type": "execute_result"
        }
      ],
      "source": [
        "vectorizer = CountVectorizer(ngram_range=(1, MAX_N_GRAM), analyzer=\"char\")\n",
        "vectorizer.fit(X_train)"
      ]
    },
    {
      "cell_type": "code",
      "execution_count": null,
      "metadata": {
        "id": "mC_2eVqR2LT5"
      },
      "outputs": [],
      "source": [
        "X, y = Reader.load(SEMEVAL_FILENAME)\n",
        "X = Reader.preprocess(X)\n",
        "\n",
        "mapping = {'hate': 1, 'none': 0}\n",
        "y = [mapping[b] for b in y]\n",
        "\n",
        "# Split dataset into train, test, and validation\n",
        "_, X_test, _, y_test = train_test_split(X, y, random_state=10, stratify=y, test_size=0.10)"
      ]
    },
    {
      "cell_type": "code",
      "execution_count": null,
      "metadata": {
        "id": "D60zwXYO2TLY"
      },
      "outputs": [],
      "source": [
        "X_test_transformed = vectorizer.transform(X_test)"
      ]
    },
    {
      "cell_type": "markdown",
      "metadata": {
        "id": "pSN_Yr30mfm6"
      },
      "source": [
        "## Load existing model"
      ]
    },
    {
      "cell_type": "code",
      "execution_count": null,
      "metadata": {
        "id": "OljBeaIrmiuE"
      },
      "outputs": [],
      "source": [
        "model = load('/content/drive/MyDrive/Colab Notebooks/output/logistic-regression-waseem.joblib') "
      ]
    },
    {
      "cell_type": "markdown",
      "metadata": {
        "id": "xVe0XYiEV3mh"
      },
      "source": [
        "## Run model on the test dataset"
      ]
    },
    {
      "cell_type": "code",
      "execution_count": null,
      "metadata": {
        "colab": {
          "base_uri": "https://localhost:8080/"
        },
        "id": "zb7UFP58Asmy",
        "outputId": "1e431fcc-7c3e-4a60-f729-05f7849c60b4"
      },
      "outputs": [
        {
          "name": "stdout",
          "output_type": "stream",
          "text": [
            "0.6308333333333334\n"
          ]
        }
      ],
      "source": [
        "probabilities = model.predict_proba(X_test_transformed)\n",
        "predictions = np.argmax(probabilities, axis=1)\n",
        "print(metrics.accuracy_score(y_test, predictions))"
      ]
    },
    {
      "cell_type": "code",
      "execution_count": null,
      "metadata": {
        "colab": {
          "base_uri": "https://localhost:8080/"
        },
        "id": "28CRTjT7pw8-",
        "outputId": "5138bb09-19c3-4b67-ca13-d60864983f34"
      },
      "outputs": [
        {
          "name": "stdout",
          "output_type": "stream",
          "text": [
            "              precision    recall  f1-score   support\n",
            "\n",
            "           0       0.67      0.71      0.69       696\n",
            "           1       0.57      0.52      0.54       504\n",
            "\n",
            "    accuracy                           0.63      1200\n",
            "   macro avg       0.62      0.62      0.62      1200\n",
            "weighted avg       0.63      0.63      0.63      1200\n",
            "\n"
          ]
        }
      ],
      "source": [
        "print(metrics.classification_report(y_test, predictions))"
      ]
    },
    {
      "cell_type": "markdown",
      "metadata": {
        "id": "7gZxsBZmYgXB"
      },
      "source": [
        "## Export predictions"
      ]
    },
    {
      "cell_type": "code",
      "execution_count": null,
      "metadata": {
        "id": "qQ01G3CqXuEG"
      },
      "outputs": [],
      "source": [
        "def to_predictions(predictions, labels):\n",
        "    predicted_classes = np.argmax(predictions, axis=1)\n",
        "    return list(map(lambda predicted_values, predicted_class, actual_class:\n",
        "                    {'predicted_class': class_name(predicted_class),\n",
        "                     'actual_class': class_name(actual_class),\n",
        "                     'predicted_value': predicted_values[predicted_class].item(),\n",
        "                     'text': None},\n",
        "                    predictions, predicted_classes, labels))\n",
        "def class_name(index):\n",
        "    if index == 0:\n",
        "        return \"None\"\n",
        "    elif index == 1:\n",
        "        return \"Hate\"\n",
        "\n",
        "predictions_info = to_predictions(probabilities, y_test)\n",
        "pickle.dump(predictions_info, open(\"drive/MyDrive/Colab Notebooks/output/lr-waseem-semeval.p\", \"wb\"))"
      ]
    }
  ],
  "metadata": {
    "colab": {
      "collapsed_sections": [],
      "machine_shape": "hm",
      "name": "Test Logistic Regression (waseem-semeval).ipynb",
      "provenance": []
    },
    "gpuClass": "standard",
    "kernelspec": {
      "display_name": "Python 3.8.5 ('smart-rejector')",
      "language": "python",
      "name": "python3"
    },
    "language_info": {
      "name": "python",
      "version": "3.8.5"
    },
    "vscode": {
      "interpreter": {
        "hash": "1d6d5fb1668883c33dcb7e6d97ab558619c066a76f945629b031854efe98e76a"
      }
    }
  },
  "nbformat": 4,
  "nbformat_minor": 0
}
