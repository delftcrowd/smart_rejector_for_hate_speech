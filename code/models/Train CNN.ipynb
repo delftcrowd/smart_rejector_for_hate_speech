{
  "cells": [
    {
      "cell_type": "markdown",
      "metadata": {
        "id": "YFb53nvAS2Ng"
      },
      "source": [
        "# CNN model\n",
        "This notebook trains the CNN model.\n",
        "\n",
        "**Trains on:** Waseem and Hovy (2016)"
      ]
    },
    {
      "cell_type": "markdown",
      "metadata": {
        "id": "1HD7NZIFUTAT"
      },
      "source": [
        "First we need to install the required packages."
      ]
    },
    {
      "cell_type": "code",
      "execution_count": null,
      "metadata": {
        "colab": {
          "base_uri": "https://localhost:8080/"
        },
        "id": "XmFnQgTg5Zyq",
        "outputId": "34f24053-710c-469f-f5bc-43fb1ba08594"
      },
      "outputs": [
        {
          "name": "stdout",
          "output_type": "stream",
          "text": [
            "Looking in indexes: https://pypi.org/simple, https://us-python.pkg.dev/colab-wheels/public/simple/\n",
            "Requirement already satisfied: pyyaml in /usr/local/lib/python3.7/dist-packages (3.13)\n",
            "Requirement already satisfied: h5py in /usr/local/lib/python3.7/dist-packages (3.1.0)\n",
            "Requirement already satisfied: cached-property in /usr/local/lib/python3.7/dist-packages (from h5py) (1.5.2)\n",
            "Requirement already satisfied: numpy>=1.14.5 in /usr/local/lib/python3.7/dist-packages (from h5py) (1.21.6)\n"
          ]
        }
      ],
      "source": [
        "!pip install pyyaml h5py"
      ]
    },
    {
      "cell_type": "code",
      "execution_count": null,
      "metadata": {
        "colab": {
          "base_uri": "https://localhost:8080/"
        },
        "id": "vSXQNkYz2dOO",
        "outputId": "aa26defc-7ecb-4c50-cd17-18260fa5ae6a"
      },
      "outputs": [
        {
          "name": "stdout",
          "output_type": "stream",
          "text": [
            "Drive already mounted at /content/drive; to attempt to forcibly remount, call drive.mount(\"/content/drive\", force_remount=True).\n"
          ]
        }
      ],
      "source": [
        "from google.colab import drive\n",
        "\n",
        "# Mount drive for loading the data\n",
        "drive.mount('/content/drive')\n",
        "\n",
        "import sys\n",
        "sys.path.append(\"drive/MyDrive/Colab Notebooks\")\n",
        "\n",
        "import tensorflow\n",
        "from cnn import CNN\n",
        "from reader import Reader\n",
        "from sklearn.metrics import classification_report, confusion_matrix \n",
        "import numpy as np\n",
        "from tensorflow.keras.utils import to_categorical\n",
        "import html\n",
        "from keras.layers import TextVectorization\n",
        "import tensorflow_probability\n",
        "import pickle\n",
        "\n",
        "FILENAME = \"drive/MyDrive/Colab Notebooks/data/twitter_data.pkl\"\n",
        "EPOCHS = 10\n",
        "BATCH_SIZE = 128\n",
        "NUM_CLASSES = 2\n",
        "LEARN_RATE = 0.01\n",
        "EMBED_SIZE = 100\n",
        "LOSS_TYPE = \"logits\"\n",
        "MAX_LEN = 250\n",
        "MAX_TOKENS = 20000"
      ]
    },
    {
      "cell_type": "markdown",
      "metadata": {
        "id": "3Zg836CxTD2g"
      },
      "source": [
        "## Read and split the dataset"
      ]
    },
    {
      "cell_type": "code",
      "execution_count": null,
      "metadata": {
        "id": "gx7YKv07TOl3"
      },
      "outputs": [],
      "source": [
        "X, y = Reader.load(FILENAME)\n",
        "X = Reader.preprocess(X)\n",
        "\n",
        "mapping = {'racism': 1,'sexism': 1, 'none': 0}\n",
        "y = [mapping[b] for b in y]\n",
        "\n",
        "X_train, X_val, X_test, y_train, y_val, y_test = Reader.split_with_validation(X, y)\n",
        "\n",
        "X_train = np.asarray(X_train)\n",
        "X_test = np.asarray(X_test)\n",
        "X_val = np.asarray(X_val)\n",
        "\n",
        "y_train = to_categorical(y_train, num_classes=NUM_CLASSES)\n",
        "y_test = to_categorical(y_test, num_classes=NUM_CLASSES)\n",
        "y_val = to_categorical(y_val, num_classes=NUM_CLASSES)"
      ]
    },
    {
      "cell_type": "markdown",
      "metadata": {
        "id": "r1NUgKx9TyEM"
      },
      "source": [
        "## Setup the TextVectorization layer"
      ]
    },
    {
      "cell_type": "code",
      "execution_count": null,
      "metadata": {
        "id": "jkyB35W7CiOm"
      },
      "outputs": [],
      "source": [
        "text_vectorizer = TextVectorization(\n",
        "    max_tokens=MAX_TOKENS,\n",
        "    output_mode='int',\n",
        "    output_sequence_length=MAX_LEN)\n",
        "text_vectorizer.adapt(X_train)\n",
        "\n",
        "vocab = text_vectorizer.get_vocabulary()"
      ]
    },
    {
      "cell_type": "markdown",
      "metadata": {
        "id": "WF4HcAYP0PUl"
      },
      "source": [
        "## Setup the model"
      ]
    },
    {
      "cell_type": "code",
      "execution_count": null,
      "metadata": {
        "id": "htYqR1-lu0B0"
      },
      "outputs": [],
      "source": [
        "model = CNN(max_len=MAX_LEN,\n",
        "          num_classes=NUM_CLASSES, \n",
        "          batch_size=BATCH_SIZE, \n",
        "          epochs=EPOCHS, \n",
        "          embed_size=EMBED_SIZE, \n",
        "          vocab_len=MAX_TOKENS,\n",
        "          loss_type=LOSS_TYPE,\n",
        "          save_model=True,\n",
        "          save_path=\"drive/MyDrive/Colab Notebooks/output/cnn-waseem-hovy\",\n",
        "          checkpoint_path=\"drive/MyDrive/Colab Notebooks/output/cnn-waseem-hovy.ckpt\",\n",
        "          text_vectorizer=text_vectorizer)"
      ]
    },
    {
      "cell_type": "markdown",
      "metadata": {
        "id": "2pNT0IfeT59n"
      },
      "source": [
        "## Training"
      ]
    },
    {
      "cell_type": "code",
      "execution_count": null,
      "metadata": {
        "colab": {
          "base_uri": "https://localhost:8080/"
        },
        "id": "nvIsddm6T45B",
        "outputId": "74ab506c-f650-4db5-9583-4aaa43bab698"
      },
      "outputs": [
        {
          "name": "stdout",
          "output_type": "stream",
          "text": [
            "Epoch 1/10\n",
            "91/91 [==============================] - ETA: 0s - loss: 1.4602 - accuracy: 0.7030\n",
            "Epoch 1: saving model to drive/MyDrive/Colab Notebooks/output/cnn-waseem-hovy.ckpt\n",
            "91/91 [==============================] - 12s 124ms/step - loss: 1.4602 - accuracy: 0.7030\n",
            "Epoch 2/10\n",
            "91/91 [==============================] - ETA: 0s - loss: 0.5169 - accuracy: 0.7969\n",
            "Epoch 2: saving model to drive/MyDrive/Colab Notebooks/output/cnn-waseem-hovy.ckpt\n",
            "91/91 [==============================] - 11s 122ms/step - loss: 0.5169 - accuracy: 0.7969\n",
            "Epoch 3/10\n",
            "91/91 [==============================] - ETA: 0s - loss: 0.4173 - accuracy: 0.8344\n",
            "Epoch 3: saving model to drive/MyDrive/Colab Notebooks/output/cnn-waseem-hovy.ckpt\n",
            "91/91 [==============================] - 11s 121ms/step - loss: 0.4173 - accuracy: 0.8344\n",
            "Epoch 4/10\n",
            "91/91 [==============================] - ETA: 0s - loss: 0.3497 - accuracy: 0.8741\n",
            "Epoch 4: saving model to drive/MyDrive/Colab Notebooks/output/cnn-waseem-hovy.ckpt\n",
            "91/91 [==============================] - 11s 120ms/step - loss: 0.3497 - accuracy: 0.8741\n",
            "Epoch 5/10\n",
            "91/91 [==============================] - ETA: 0s - loss: 0.2871 - accuracy: 0.9071\n",
            "Epoch 5: saving model to drive/MyDrive/Colab Notebooks/output/cnn-waseem-hovy.ckpt\n",
            "91/91 [==============================] - 11s 116ms/step - loss: 0.2871 - accuracy: 0.9071\n",
            "Epoch 6/10\n",
            "91/91 [==============================] - ETA: 0s - loss: 0.2401 - accuracy: 0.9304\n",
            "Epoch 6: saving model to drive/MyDrive/Colab Notebooks/output/cnn-waseem-hovy.ckpt\n",
            "91/91 [==============================] - 11s 120ms/step - loss: 0.2401 - accuracy: 0.9304\n",
            "Epoch 7/10\n",
            "91/91 [==============================] - ETA: 0s - loss: 0.2050 - accuracy: 0.9455\n",
            "Epoch 7: saving model to drive/MyDrive/Colab Notebooks/output/cnn-waseem-hovy.ckpt\n",
            "91/91 [==============================] - 10s 111ms/step - loss: 0.2050 - accuracy: 0.9455\n",
            "Epoch 8/10\n",
            "91/91 [==============================] - ETA: 0s - loss: 0.1788 - accuracy: 0.9584\n",
            "Epoch 8: saving model to drive/MyDrive/Colab Notebooks/output/cnn-waseem-hovy.ckpt\n",
            "91/91 [==============================] - 10s 114ms/step - loss: 0.1788 - accuracy: 0.9584\n",
            "Epoch 9/10\n",
            "91/91 [==============================] - ETA: 0s - loss: 0.1551 - accuracy: 0.9658\n",
            "Epoch 9: saving model to drive/MyDrive/Colab Notebooks/output/cnn-waseem-hovy.ckpt\n",
            "91/91 [==============================] - 11s 117ms/step - loss: 0.1551 - accuracy: 0.9658\n",
            "Epoch 10/10\n",
            "91/91 [==============================] - ETA: 0s - loss: 0.1336 - accuracy: 0.9744\n",
            "Epoch 10: saving model to drive/MyDrive/Colab Notebooks/output/cnn-waseem-hovy.ckpt\n",
            "91/91 [==============================] - 11s 117ms/step - loss: 0.1336 - accuracy: 0.9744\n",
            "INFO:tensorflow:Assets written to: drive/MyDrive/Colab Notebooks/output/cnn-waseem-hovy/assets\n"
          ]
        },
        {
          "data": {
            "text/plain": [
              "<keras.engine.functional.Functional at 0x7f9cd5e6a490>"
            ]
          },
          "execution_count": 59,
          "metadata": {},
          "output_type": "execute_result"
        }
      ],
      "source": [
        "model.fit(X_train, y_train)"
      ]
    },
    {
      "cell_type": "code",
      "execution_count": null,
      "metadata": {
        "colab": {
          "base_uri": "https://localhost:8080/"
        },
        "id": "ViXRjzkVWjv6",
        "outputId": "331abda5-af73-471c-e443-77ca916ee5b3"
      },
      "outputs": [
        {
          "name": "stdout",
          "output_type": "stream",
          "text": [
            "[[1020   84]\n",
            " [ 166  339]]\n",
            "              precision    recall  f1-score   support\n",
            "\n",
            "           0       0.86      0.92      0.89      1104\n",
            "           1       0.80      0.67      0.73       505\n",
            "\n",
            "    accuracy                           0.84      1609\n",
            "   macro avg       0.83      0.80      0.81      1609\n",
            "weighted avg       0.84      0.84      0.84      1609\n",
            "\n"
          ]
        }
      ],
      "source": [
        "model_predictions = model.cnn.predict(X_test)\n",
        "predicted_classes = np.argmax(model_predictions, axis=1)\n",
        "actual_classes = np.argmax(y_test, axis=1)\n",
        "\n",
        "print(confusion_matrix(actual_classes, predicted_classes))\n",
        "print(classification_report(actual_classes, predicted_classes))"
      ]
    },
    {
      "cell_type": "markdown",
      "metadata": {
        "id": "gsrWFrWB8ltU"
      },
      "source": [
        "## Waseem predictions calibration\n",
        "We use temperature scaling to calibrate the model by finding the optimal T value on the validation set.\n",
        "\n"
      ]
    },
    {
      "cell_type": "code",
      "execution_count": null,
      "metadata": {
        "colab": {
          "base_uri": "https://localhost:8080/"
        },
        "id": "r-wTdwGM6I_I",
        "outputId": "c25c5013-1685-4b7d-87a5-a194dc4bf892"
      },
      "outputs": [
        {
          "data": {
            "text/plain": [
              "<tf.Tensor: shape=(), dtype=float32, numpy=0.08432788>"
            ]
          },
          "execution_count": 61,
          "metadata": {},
          "output_type": "execute_result"
        }
      ],
      "source": [
        "# Implementation from: https://github.com/ritun16/Machine_Learning_short_projecct/blob/master/Neural_Network_Calibration/model_calibration.ipynb\n",
        "# ECE result before calibration\n",
        "num_bins = 50\n",
        "model_predictions = model.cnn.predict(X_val)\n",
        "model_actual_classes = np.argmax(y_val, axis=1)\n",
        "model_labels = tensorflow.convert_to_tensor(model_actual_classes, dtype=tensorflow.int32, name='labels_true')\n",
        "model_logits = tensorflow.convert_to_tensor(model_predictions, dtype=tensorflow.float32, name='logits')\n",
        "tensorflow_probability.stats.expected_calibration_error(num_bins=num_bins, \n",
        "                                     logits=model_logits, \n",
        "                                     labels_true=model_labels)"
      ]
    },
    {
      "cell_type": "code",
      "execution_count": null,
      "metadata": {
        "colab": {
          "base_uri": "https://localhost:8080/"
        },
        "id": "I4rQwGwk6Lm6",
        "outputId": "4c199af4-e725-470d-eb78-ff1a18bf697e"
      },
      "outputs": [
        {
          "name": "stdout",
          "output_type": "stream",
          "text": [
            "Temperature Initial value: 1.0\n",
            "Temperature Final value: 1.6726611852645874\n"
          ]
        }
      ],
      "source": [
        "# Temperature Scaling\n",
        "temp = tensorflow.Variable(initial_value=1.0, trainable=True, dtype=tensorflow.float32) \n",
        "\n",
        "def compute_loss():\n",
        "    pred_divisions = tensorflow.math.divide(model_predictions, temp)\n",
        "    loss = tensorflow.reduce_mean(tensorflow.nn.softmax_cross_entropy_with_logits(\\\n",
        "                                tensorflow.convert_to_tensor(tensorflow.keras.utils.to_categorical(model_actual_classes)), pred_divisions))\n",
        "    return loss\n",
        "\n",
        "optimizer = tensorflow.optimizers.Adam(learning_rate=0.01)\n",
        "\n",
        "print('Temperature Initial value: {}'.format(temp.numpy()))\n",
        "\n",
        "for i in range(300):\n",
        "    opts = optimizer.minimize(compute_loss, var_list=[temp])\n",
        "\n",
        "\n",
        "print('Temperature Final value: {}'.format(temp.numpy()))"
      ]
    },
    {
      "cell_type": "code",
      "execution_count": null,
      "metadata": {
        "colab": {
          "base_uri": "https://localhost:8080/"
        },
        "id": "gOqcczdu6QV5",
        "outputId": "ac80754d-2a87-40c3-ce29-bfa040744392"
      },
      "outputs": [
        {
          "data": {
            "text/plain": [
              "<tf.Tensor: shape=(), dtype=float32, numpy=0.036188256>"
            ]
          },
          "execution_count": 63,
          "metadata": {},
          "output_type": "execute_result"
        }
      ],
      "source": [
        "# ECE result after calibration\n",
        "pred_divisions = tensorflow.math.divide(model_predictions, temp)\n",
        "num_bins = 50\n",
        "labels_true = tensorflow.convert_to_tensor(model_actual_classes, dtype=tensorflow.int32, name='labels_true')\n",
        "logits = tensorflow.convert_to_tensor(pred_divisions, dtype=tensorflow.float32, name='logits')\n",
        "tensorflow_probability.stats.expected_calibration_error(num_bins=num_bins, \n",
        "                                     logits=logits, \n",
        "                                     labels_true=labels_true)"
      ]
    }
  ],
  "metadata": {
    "accelerator": "TPU",
    "colab": {
      "collapsed_sections": [],
      "machine_shape": "hm",
      "name": "Train CNN Waseem.ipynb",
      "provenance": []
    },
    "gpuClass": "standard",
    "kernelspec": {
      "display_name": "Python 3.8.5 ('smart-rejector')",
      "language": "python",
      "name": "python3"
    },
    "language_info": {
      "name": "python",
      "version": "3.8.5"
    },
    "vscode": {
      "interpreter": {
        "hash": "1d6d5fb1668883c33dcb7e6d97ab558619c066a76f945629b031854efe98e76a"
      }
    }
  },
  "nbformat": 4,
  "nbformat_minor": 0
}
