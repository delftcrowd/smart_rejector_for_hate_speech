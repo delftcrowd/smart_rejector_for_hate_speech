{
  "cells": [
    {
      "cell_type": "markdown",
      "metadata": {
        "id": "YFb53nvAS2Ng"
      },
      "source": [
        "# CNN model\n",
        "This notebook trains the CNN model.\n",
        "\n",
        "**Trains on:** Waseem and Hovy (2016)"
      ]
    },
    {
      "cell_type": "markdown",
      "metadata": {
        "id": "1HD7NZIFUTAT"
      },
      "source": [
        "First we need to install the required packages."
      ]
    },
    {
      "cell_type": "code",
      "execution_count": 1,
      "metadata": {
        "id": "XmFnQgTg5Zyq",
        "colab": {
          "base_uri": "https://localhost:8080/"
        },
        "outputId": "38d1a97e-3c44-44f8-abe7-2b19e400ce89"
      },
      "outputs": [
        {
          "output_type": "stream",
          "name": "stdout",
          "text": [
            "Looking in indexes: https://pypi.org/simple, https://us-python.pkg.dev/colab-wheels/public/simple/\n",
            "Requirement already satisfied: pyyaml in /usr/local/lib/python3.7/dist-packages (6.0)\n",
            "Requirement already satisfied: h5py in /usr/local/lib/python3.7/dist-packages (3.1.0)\n",
            "Requirement already satisfied: numpy>=1.14.5 in /usr/local/lib/python3.7/dist-packages (from h5py) (1.21.6)\n",
            "Requirement already satisfied: cached-property in /usr/local/lib/python3.7/dist-packages (from h5py) (1.5.2)\n"
          ]
        }
      ],
      "source": [
        "!pip install pyyaml h5py"
      ]
    },
    {
      "cell_type": "code",
      "source": [
        "!pip install \"ray[tune]\""
      ],
      "metadata": {
        "id": "ZKfOWX3ygzs0",
        "colab": {
          "base_uri": "https://localhost:8080/"
        },
        "outputId": "08c38b05-1a36-4b64-8a88-f7413b222b6e"
      },
      "execution_count": 2,
      "outputs": [
        {
          "output_type": "stream",
          "name": "stdout",
          "text": [
            "Looking in indexes: https://pypi.org/simple, https://us-python.pkg.dev/colab-wheels/public/simple/\n",
            "Collecting ray[tune]\n",
            "  Downloading ray-2.0.0-cp37-cp37m-manylinux2014_x86_64.whl (59.4 MB)\n",
            "\u001b[K     |████████████████████████████████| 59.4 MB 1.4 MB/s \n",
            "\u001b[?25hRequirement already satisfied: aiosignal in /usr/local/lib/python3.7/dist-packages (from ray[tune]) (1.2.0)\n",
            "Requirement already satisfied: click<=8.0.4,>=7.0 in /usr/local/lib/python3.7/dist-packages (from ray[tune]) (7.1.2)\n",
            "Collecting grpcio<=1.43.0,>=1.28.1\n",
            "  Downloading grpcio-1.43.0-cp37-cp37m-manylinux_2_17_x86_64.manylinux2014_x86_64.whl (4.1 MB)\n",
            "\u001b[K     |████████████████████████████████| 4.1 MB 65.6 MB/s \n",
            "\u001b[?25hRequirement already satisfied: typing-extensions in /usr/local/lib/python3.7/dist-packages (from ray[tune]) (4.1.1)\n",
            "Requirement already satisfied: protobuf<4.0.0,>=3.15.3 in /usr/local/lib/python3.7/dist-packages (from ray[tune]) (3.17.3)\n",
            "Requirement already satisfied: frozenlist in /usr/local/lib/python3.7/dist-packages (from ray[tune]) (1.3.1)\n",
            "Requirement already satisfied: numpy>=1.16 in /usr/local/lib/python3.7/dist-packages (from ray[tune]) (1.21.6)\n",
            "Requirement already satisfied: msgpack<2.0.0,>=1.0.0 in /usr/local/lib/python3.7/dist-packages (from ray[tune]) (1.0.4)\n",
            "Requirement already satisfied: attrs in /usr/local/lib/python3.7/dist-packages (from ray[tune]) (22.1.0)\n",
            "Requirement already satisfied: filelock in /usr/local/lib/python3.7/dist-packages (from ray[tune]) (3.8.0)\n",
            "Requirement already satisfied: pyyaml in /usr/local/lib/python3.7/dist-packages (from ray[tune]) (6.0)\n",
            "Collecting virtualenv\n",
            "  Downloading virtualenv-20.16.3-py2.py3-none-any.whl (8.8 MB)\n",
            "\u001b[K     |████████████████████████████████| 8.8 MB 66.7 MB/s \n",
            "\u001b[?25hRequirement already satisfied: requests in /usr/local/lib/python3.7/dist-packages (from ray[tune]) (2.23.0)\n",
            "Requirement already satisfied: jsonschema in /usr/local/lib/python3.7/dist-packages (from ray[tune]) (4.3.3)\n",
            "Collecting tensorboardX>=1.9\n",
            "  Downloading tensorboardX-2.5.1-py2.py3-none-any.whl (125 kB)\n",
            "\u001b[K     |████████████████████████████████| 125 kB 81.6 MB/s \n",
            "\u001b[?25hRequirement already satisfied: pandas in /usr/local/lib/python3.7/dist-packages (from ray[tune]) (1.3.5)\n",
            "Requirement already satisfied: tabulate in /usr/local/lib/python3.7/dist-packages (from ray[tune]) (0.8.10)\n",
            "Requirement already satisfied: six>=1.5.2 in /usr/local/lib/python3.7/dist-packages (from grpcio<=1.43.0,>=1.28.1->ray[tune]) (1.15.0)\n",
            "Requirement already satisfied: importlib-metadata in /usr/local/lib/python3.7/dist-packages (from jsonschema->ray[tune]) (4.12.0)\n",
            "Requirement already satisfied: importlib-resources>=1.4.0 in /usr/local/lib/python3.7/dist-packages (from jsonschema->ray[tune]) (5.9.0)\n",
            "Requirement already satisfied: pyrsistent!=0.17.0,!=0.17.1,!=0.17.2,>=0.14.0 in /usr/local/lib/python3.7/dist-packages (from jsonschema->ray[tune]) (0.18.1)\n",
            "Requirement already satisfied: zipp>=3.1.0 in /usr/local/lib/python3.7/dist-packages (from importlib-resources>=1.4.0->jsonschema->ray[tune]) (3.8.1)\n",
            "Requirement already satisfied: python-dateutil>=2.7.3 in /usr/local/lib/python3.7/dist-packages (from pandas->ray[tune]) (2.8.2)\n",
            "Requirement already satisfied: pytz>=2017.3 in /usr/local/lib/python3.7/dist-packages (from pandas->ray[tune]) (2022.2.1)\n",
            "Requirement already satisfied: certifi>=2017.4.17 in /usr/local/lib/python3.7/dist-packages (from requests->ray[tune]) (2022.6.15)\n",
            "Requirement already satisfied: urllib3!=1.25.0,!=1.25.1,<1.26,>=1.21.1 in /usr/local/lib/python3.7/dist-packages (from requests->ray[tune]) (1.24.3)\n",
            "Requirement already satisfied: idna<3,>=2.5 in /usr/local/lib/python3.7/dist-packages (from requests->ray[tune]) (2.10)\n",
            "Requirement already satisfied: chardet<4,>=3.0.2 in /usr/local/lib/python3.7/dist-packages (from requests->ray[tune]) (3.0.4)\n",
            "Collecting platformdirs<3,>=2.4\n",
            "  Downloading platformdirs-2.5.2-py3-none-any.whl (14 kB)\n",
            "Collecting distlib<1,>=0.3.5\n",
            "  Downloading distlib-0.3.6-py2.py3-none-any.whl (468 kB)\n",
            "\u001b[K     |████████████████████████████████| 468 kB 72.6 MB/s \n",
            "\u001b[?25hInstalling collected packages: platformdirs, distlib, virtualenv, grpcio, tensorboardX, ray\n",
            "  Attempting uninstall: grpcio\n",
            "    Found existing installation: grpcio 1.47.0\n",
            "    Uninstalling grpcio-1.47.0:\n",
            "      Successfully uninstalled grpcio-1.47.0\n",
            "Successfully installed distlib-0.3.6 grpcio-1.43.0 platformdirs-2.5.2 ray-2.0.0 tensorboardX-2.5.1 virtualenv-20.16.3\n"
          ]
        }
      ]
    },
    {
      "cell_type": "code",
      "source": [
        "!pip install tweet-preprocessor"
      ],
      "metadata": {
        "id": "NgVAo2p2g8mg",
        "colab": {
          "base_uri": "https://localhost:8080/"
        },
        "outputId": "0d2d4598-d5f1-4929-e3cd-5d427a9081c4"
      },
      "execution_count": 3,
      "outputs": [
        {
          "output_type": "stream",
          "name": "stdout",
          "text": [
            "Looking in indexes: https://pypi.org/simple, https://us-python.pkg.dev/colab-wheels/public/simple/\n",
            "Collecting tweet-preprocessor\n",
            "  Downloading tweet_preprocessor-0.6.0-py3-none-any.whl (27 kB)\n",
            "Installing collected packages: tweet-preprocessor\n",
            "Successfully installed tweet-preprocessor-0.6.0\n"
          ]
        }
      ]
    },
    {
      "cell_type": "code",
      "source": [
        "!pip install wordsegment"
      ],
      "metadata": {
        "id": "cnwFmcN4hHAN",
        "colab": {
          "base_uri": "https://localhost:8080/"
        },
        "outputId": "8f1af8c3-3881-489b-adf7-10ab18dbd56f"
      },
      "execution_count": 4,
      "outputs": [
        {
          "output_type": "stream",
          "name": "stdout",
          "text": [
            "Looking in indexes: https://pypi.org/simple, https://us-python.pkg.dev/colab-wheels/public/simple/\n",
            "Collecting wordsegment\n",
            "  Downloading wordsegment-1.3.1-py2.py3-none-any.whl (4.8 MB)\n",
            "\u001b[K     |████████████████████████████████| 4.8 MB 4.9 MB/s \n",
            "\u001b[?25hInstalling collected packages: wordsegment\n",
            "Successfully installed wordsegment-1.3.1\n"
          ]
        }
      ]
    },
    {
      "cell_type": "code",
      "source": [
        "pip install -q -U keras-tuner\n"
      ],
      "metadata": {
        "colab": {
          "base_uri": "https://localhost:8080/"
        },
        "id": "3Jp_ETwNDQVk",
        "outputId": "9b8fe37b-619e-460f-ef3c-e6c8d3639d19"
      },
      "execution_count": 5,
      "outputs": [
        {
          "output_type": "stream",
          "name": "stdout",
          "text": [
            "\u001b[K     |████████████████████████████████| 135 kB 5.2 MB/s \n",
            "\u001b[K     |████████████████████████████████| 1.6 MB 48.7 MB/s \n",
            "\u001b[?25h"
          ]
        }
      ]
    },
    {
      "cell_type": "code",
      "execution_count": 6,
      "metadata": {
        "id": "vSXQNkYz2dOO",
        "colab": {
          "base_uri": "https://localhost:8080/"
        },
        "outputId": "30c145c9-4a3c-46b5-fa6d-b55af62999ce"
      },
      "outputs": [
        {
          "output_type": "stream",
          "name": "stdout",
          "text": [
            "Mounted at /content/drive\n"
          ]
        }
      ],
      "source": [
        "from google.colab import drive\n",
        "\n",
        "# Mount drive for loading the data\n",
        "drive.mount('/content/drive')\n",
        "\n",
        "import sys\n",
        "sys.path.append(\"drive/MyDrive/Colab Notebooks\")\n",
        "\n",
        "import tensorflow as tf\n",
        "from cnn import CNN\n",
        "from cnn_hyperparam_tune import HyperCNN\n",
        "from reader import Reader\n",
        "from sklearn.metrics import classification_report, confusion_matrix \n",
        "import numpy as np\n",
        "from tensorflow.keras.utils import to_categorical\n",
        "import html\n",
        "from keras.layers import TextVectorization\n",
        "import tensorflow_probability\n",
        "import pickle\n",
        "from ray import tune\n",
        "import keras_tuner as kt\n",
        "\n",
        "FILENAME = \"drive/MyDrive/Colab Notebooks/data/twitter_data.pkl\"\n",
        "EPOCHS = 10\n",
        "BATCH_SIZE = 128\n",
        "NUM_CLASSES = 2\n",
        "LEARN_RATE = 0.01\n",
        "EMBED_SIZE = 100\n",
        "LOSS_TYPE = \"logits\"\n",
        "MAX_LEN = 250\n",
        "MAX_TOKENS = 20000"
      ]
    },
    {
      "cell_type": "markdown",
      "metadata": {
        "id": "3Zg836CxTD2g"
      },
      "source": [
        "## Read and split the dataset"
      ]
    },
    {
      "cell_type": "code",
      "execution_count": 7,
      "metadata": {
        "id": "gx7YKv07TOl3"
      },
      "outputs": [],
      "source": [
        "X, y = Reader.load(FILENAME)\n",
        "X = Reader.preprocess(X)\n",
        "\n",
        "mapping = {'racism': 1,'sexism': 1, 'none': 0}\n",
        "y = [mapping[b] for b in y]\n",
        "\n",
        "X_train, X_val, X_test, y_train, y_val, y_test = Reader.split_with_validation(X, y)\n",
        "\n",
        "X_train = np.asarray(X_train)\n",
        "X_test = np.asarray(X_test)\n",
        "X_val = np.asarray(X_val)\n",
        "\n",
        "y_train = to_categorical(y_train, num_classes=NUM_CLASSES)\n",
        "y_test = to_categorical(y_test, num_classes=NUM_CLASSES)\n",
        "y_val = to_categorical(y_val, num_classes=NUM_CLASSES)"
      ]
    },
    {
      "cell_type": "markdown",
      "metadata": {
        "id": "r1NUgKx9TyEM"
      },
      "source": [
        "## Setup the TextVectorization layer"
      ]
    },
    {
      "cell_type": "code",
      "execution_count": 8,
      "metadata": {
        "id": "jkyB35W7CiOm"
      },
      "outputs": [],
      "source": [
        "text_vectorizer = TextVectorization(\n",
        "    max_tokens=MAX_TOKENS,\n",
        "    output_mode='int',\n",
        "    output_sequence_length=MAX_LEN)\n",
        "text_vectorizer.adapt(X_train)\n",
        "\n",
        "vocab = text_vectorizer.get_vocabulary()"
      ]
    },
    {
      "cell_type": "markdown",
      "source": [
        "# Hyperparamter tuning"
      ],
      "metadata": {
        "id": "8snXAciyLOHC"
      }
    },
    {
      "cell_type": "code",
      "source": [
        "tuner = kt.RandomSearch(\n",
        "    HyperCNN(num_classes=NUM_CLASSES, vocab_len=MAX_TOKENS, embed_size=EMBED_SIZE, text_vectorizer=text_vectorizer, loss_type=LOSS_TYPE),\n",
        "    objective=\"val_accuracy\",\n",
        "    max_trials=20,\n",
        "    overwrite=True,\n",
        "    directory=\"output\",\n",
        "    project_name=\"cnn\",\n",
        ")"
      ],
      "metadata": {
        "id": "W30qSM_mLNfr"
      },
      "execution_count": 9,
      "outputs": []
    },
    {
      "cell_type": "code",
      "source": [
        "stop_early = tf.keras.callbacks.EarlyStopping(monitor='val_loss', patience=3)\n",
        "\n",
        "tuner.search(X_train, y_train, validation_split=0.2, callbacks=[stop_early])\n",
        "\n",
        "best_hps=tuner.get_best_hyperparameters(num_trials=1)[0]\n",
        "learning_rate = best_hps.get('learning_rate')\n",
        "batch_size = best_hps.get('batch_size')\n",
        "epochs = best_hps.get('epochs')\n",
        "\n",
        "print(\"Best params:\")\n",
        "print(\"learning_rate\", learning_rate)\n",
        "print(\"batch_size\", batch_size)\n",
        "print(\"epochs\", epochs)"
      ],
      "metadata": {
        "colab": {
          "base_uri": "https://localhost:8080/"
        },
        "id": "iU6eNJOfLy8_",
        "outputId": "dc8fbb0c-7d05-4609-9322-8e6b3fe06804"
      },
      "execution_count": 10,
      "outputs": [
        {
          "output_type": "stream",
          "name": "stdout",
          "text": [
            "Trial 20 Complete [00h 00m 26s]\n",
            "val_accuracy: 0.7674779891967773\n",
            "\n",
            "Best val_accuracy So Far: 0.8146038055419922\n",
            "Total elapsed time: 00h 17m 04s\n",
            "Best params:\n",
            "learning_rate 0.001\n",
            "batch_size 32\n",
            "epochs 5\n"
          ]
        }
      ]
    },
    {
      "cell_type": "markdown",
      "metadata": {
        "id": "WF4HcAYP0PUl"
      },
      "source": [
        "## Setup the model"
      ]
    },
    {
      "cell_type": "code",
      "execution_count": 12,
      "metadata": {
        "id": "htYqR1-lu0B0"
      },
      "outputs": [],
      "source": [
        "model = CNN(max_len=MAX_LEN,\n",
        "          num_classes=NUM_CLASSES, \n",
        "          batch_size=batch_size, \n",
        "          epochs=epochs, \n",
        "          embed_size=EMBED_SIZE, \n",
        "          vocab_len=MAX_TOKENS,\n",
        "          learning_rate=learning_rate,\n",
        "          loss_type=LOSS_TYPE,\n",
        "          save_model=True,\n",
        "          save_path=\"drive/MyDrive/Colab Notebooks/output/cnn-waseem-hovy\",\n",
        "          checkpoint_path=\"drive/MyDrive/Colab Notebooks/output/cnn-waseem-hovy.ckpt\",\n",
        "          text_vectorizer=text_vectorizer)"
      ]
    },
    {
      "cell_type": "markdown",
      "metadata": {
        "id": "2pNT0IfeT59n"
      },
      "source": [
        "## Training"
      ]
    },
    {
      "cell_type": "code",
      "execution_count": 13,
      "metadata": {
        "id": "nvIsddm6T45B",
        "colab": {
          "base_uri": "https://localhost:8080/"
        },
        "outputId": "096b250a-9510-4d83-b39c-9535896b61a9"
      },
      "outputs": [
        {
          "output_type": "stream",
          "name": "stdout",
          "text": [
            "Epoch 1/5\n",
            "301/302 [============================>.] - ETA: 0s - loss: 0.8384 - accuracy: 0.7491\n",
            "Epoch 1: saving model to drive/MyDrive/Colab Notebooks/output/cnn-waseem-hovy.ckpt\n",
            "302/302 [==============================] - 10s 30ms/step - loss: 0.8378 - accuracy: 0.7490\n",
            "Epoch 2/5\n",
            "301/302 [============================>.] - ETA: 0s - loss: 0.4585 - accuracy: 0.8160\n",
            "Epoch 2: saving model to drive/MyDrive/Colab Notebooks/output/cnn-waseem-hovy.ckpt\n",
            "302/302 [==============================] - 9s 30ms/step - loss: 0.4590 - accuracy: 0.8157\n",
            "Epoch 3/5\n",
            "301/302 [============================>.] - ETA: 0s - loss: 0.3856 - accuracy: 0.8581\n",
            "Epoch 3: saving model to drive/MyDrive/Colab Notebooks/output/cnn-waseem-hovy.ckpt\n",
            "302/302 [==============================] - 9s 30ms/step - loss: 0.3853 - accuracy: 0.8582\n",
            "Epoch 4/5\n",
            "301/302 [============================>.] - ETA: 0s - loss: 0.3008 - accuracy: 0.9056\n",
            "Epoch 4: saving model to drive/MyDrive/Colab Notebooks/output/cnn-waseem-hovy.ckpt\n",
            "302/302 [==============================] - 9s 30ms/step - loss: 0.3009 - accuracy: 0.9056\n",
            "Epoch 5/5\n",
            "301/302 [============================>.] - ETA: 0s - loss: 0.2329 - accuracy: 0.9394\n",
            "Epoch 5: saving model to drive/MyDrive/Colab Notebooks/output/cnn-waseem-hovy.ckpt\n",
            "302/302 [==============================] - 9s 29ms/step - loss: 0.2336 - accuracy: 0.9388\n"
          ]
        },
        {
          "output_type": "execute_result",
          "data": {
            "text/plain": [
              "<keras.engine.functional.Functional at 0x7ffa98aa13d0>"
            ]
          },
          "metadata": {},
          "execution_count": 13
        }
      ],
      "source": [
        "model.fit(X_train, y_train)"
      ]
    },
    {
      "cell_type": "code",
      "execution_count": 14,
      "metadata": {
        "id": "ViXRjzkVWjv6",
        "colab": {
          "base_uri": "https://localhost:8080/"
        },
        "outputId": "5fb008cb-b37f-4a13-b15e-32f8a4396452"
      },
      "outputs": [
        {
          "output_type": "stream",
          "name": "stdout",
          "text": [
            "[[2041  166]\n",
            " [ 389  622]]\n",
            "              precision    recall  f1-score   support\n",
            "\n",
            "           0       0.84      0.92      0.88      2207\n",
            "           1       0.79      0.62      0.69      1011\n",
            "\n",
            "    accuracy                           0.83      3218\n",
            "   macro avg       0.81      0.77      0.79      3218\n",
            "weighted avg       0.82      0.83      0.82      3218\n",
            "\n"
          ]
        }
      ],
      "source": [
        "model_predictions = model.cnn.predict(X_test)\n",
        "predicted_classes = np.argmax(model_predictions, axis=1)\n",
        "actual_classes = np.argmax(y_test, axis=1)\n",
        "\n",
        "print(confusion_matrix(actual_classes, predicted_classes))\n",
        "print(classification_report(actual_classes, predicted_classes))"
      ]
    },
    {
      "cell_type": "markdown",
      "metadata": {
        "id": "gsrWFrWB8ltU"
      },
      "source": [
        "## Waseem predictions calibration\n",
        "We use temperature scaling to calibrate the model by finding the optimal T value on the validation set.\n",
        "\n"
      ]
    },
    {
      "cell_type": "code",
      "execution_count": 17,
      "metadata": {
        "id": "r-wTdwGM6I_I",
        "colab": {
          "base_uri": "https://localhost:8080/"
        },
        "outputId": "34a8098f-c4c9-4f82-b700-b4372acafba4"
      },
      "outputs": [
        {
          "output_type": "execute_result",
          "data": {
            "text/plain": [
              "<tf.Tensor: shape=(), dtype=float32, numpy=0.074477814>"
            ]
          },
          "metadata": {},
          "execution_count": 17
        }
      ],
      "source": [
        "# Implementation from: https://github.com/ritun16/Machine_Learning_short_projecct/blob/master/Neural_Network_Calibration/model_calibration.ipynb\n",
        "# ECE result before calibration\n",
        "num_bins = 50\n",
        "model_predictions = model.cnn.predict(X_val)\n",
        "model_actual_classes = np.argmax(y_val, axis=1)\n",
        "model_labels = tf.convert_to_tensor(model_actual_classes, dtype=tf.int32, name='labels_true')\n",
        "model_logits = tf.convert_to_tensor(model_predictions, dtype=tf.float32, name='logits')\n",
        "tensorflow_probability.stats.expected_calibration_error(num_bins=num_bins, \n",
        "                                     logits=model_logits, \n",
        "                                     labels_true=model_labels)"
      ]
    },
    {
      "cell_type": "code",
      "execution_count": 18,
      "metadata": {
        "id": "I4rQwGwk6Lm6",
        "colab": {
          "base_uri": "https://localhost:8080/"
        },
        "outputId": "72ef8da1-48e4-407f-f311-e790b33bb5ff"
      },
      "outputs": [
        {
          "output_type": "stream",
          "name": "stdout",
          "text": [
            "Temperature Initial value: 1.0\n",
            "Temperature Final value: 1.5466009378433228\n"
          ]
        }
      ],
      "source": [
        "# Temperature Scaling\n",
        "temp = tf.Variable(initial_value=1.0, trainable=True, dtype=tf.float32) \n",
        "\n",
        "def compute_loss():\n",
        "    pred_divisions = tf.math.divide(model_predictions, temp)\n",
        "    loss = tf.reduce_mean(tf.nn.softmax_cross_entropy_with_logits(\\\n",
        "                                tf.convert_to_tensor(tf.keras.utils.to_categorical(model_actual_classes)), pred_divisions))\n",
        "    return loss\n",
        "\n",
        "optimizer = tf.optimizers.Adam(learning_rate=0.01)\n",
        "\n",
        "print('Temperature Initial value: {}'.format(temp.numpy()))\n",
        "\n",
        "for i in range(300):\n",
        "    opts = optimizer.minimize(compute_loss, var_list=[temp])\n",
        "\n",
        "\n",
        "print('Temperature Final value: {}'.format(temp.numpy()))"
      ]
    },
    {
      "cell_type": "code",
      "execution_count": 19,
      "metadata": {
        "id": "gOqcczdu6QV5",
        "colab": {
          "base_uri": "https://localhost:8080/"
        },
        "outputId": "4044c306-db01-4969-cd4e-55cec3331486"
      },
      "outputs": [
        {
          "output_type": "execute_result",
          "data": {
            "text/plain": [
              "<tf.Tensor: shape=(), dtype=float32, numpy=0.029316936>"
            ]
          },
          "metadata": {},
          "execution_count": 19
        }
      ],
      "source": [
        "# ECE result after calibration\n",
        "pred_divisions = tf.math.divide(model_predictions, temp)\n",
        "num_bins = 50\n",
        "labels_true = tf.convert_to_tensor(model_actual_classes, dtype=tf.int32, name='labels_true')\n",
        "logits = tf.convert_to_tensor(pred_divisions, dtype=tf.float32, name='logits')\n",
        "tensorflow_probability.stats.expected_calibration_error(num_bins=num_bins, \n",
        "                                     logits=logits, \n",
        "                                     labels_true=labels_true)"
      ]
    }
  ],
  "metadata": {
    "accelerator": "TPU",
    "colab": {
      "collapsed_sections": [],
      "machine_shape": "hm",
      "name": "Train CNN.ipynb",
      "provenance": []
    },
    "gpuClass": "standard",
    "kernelspec": {
      "display_name": "Python 3.8.5 ('smart-rejector')",
      "language": "python",
      "name": "python3"
    },
    "language_info": {
      "name": "python",
      "version": "3.8.5"
    },
    "vscode": {
      "interpreter": {
        "hash": "1d6d5fb1668883c33dcb7e6d97ab558619c066a76f945629b031854efe98e76a"
      }
    }
  },
  "nbformat": 4,
  "nbformat_minor": 0
}