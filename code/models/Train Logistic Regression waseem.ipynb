{
  "cells": [
    {
      "cell_type": "markdown",
      "metadata": {
        "id": "hqDiCgVWzNNN"
      },
      "source": [
        "\n",
        "# Train Logisitic Regression\n",
        "This notebook trains and exports a LR model on the Waseem and Hovy 2016 dataset.\n",
        "\n",
        "**Trains on:** Waseem and Hovy (2016)"
      ]
    },
    {
      "cell_type": "code",
      "execution_count": null,
      "metadata": {
        "colab": {
          "base_uri": "https://localhost:8080/"
        },
        "id": "xl2Oe6AdWG9t",
        "outputId": "5718b80b-1d44-41c9-805a-b6184ea3f0ae"
      },
      "outputs": [
        {
          "name": "stdout",
          "output_type": "stream",
          "text": [
            "Looking in indexes: https://pypi.org/simple, https://us-python.pkg.dev/colab-wheels/public/simple/\n",
            "Collecting tweet-preprocessor\n",
            "  Downloading tweet_preprocessor-0.6.0-py3-none-any.whl (27 kB)\n",
            "Installing collected packages: tweet-preprocessor\n",
            "Successfully installed tweet-preprocessor-0.6.0\n"
          ]
        }
      ],
      "source": [
        "!pip install tweet-preprocessor"
      ]
    },
    {
      "cell_type": "code",
      "execution_count": null,
      "metadata": {
        "id": "99yW_x-0UMPb"
      },
      "outputs": [],
      "source": [
        "from sklearn.linear_model import LogisticRegressionCV, LogisticRegression\n",
        "from sklearn.feature_extraction.text import CountVectorizer\n",
        "from sklearn.model_selection import train_test_split\n",
        "from google.colab import drive\n",
        "import preprocessor as p\n",
        "import html\n",
        "import pickle\n",
        "from sklearn.model_selection import cross_val_score\n",
        "from sklearn import metrics\n",
        "from warnings import simplefilter\n",
        "from sklearn.exceptions import ConvergenceWarning\n",
        "import numpy as np\n",
        "from joblib import dump, load\n",
        "import matplotlib.pyplot as plt\n",
        "from sklearn.calibration import CalibrationDisplay\n",
        "simplefilter(\"ignore\", category=ConvergenceWarning)"
      ]
    },
    {
      "cell_type": "code",
      "execution_count": null,
      "metadata": {
        "id": "iYTCSRcqV5p0"
      },
      "outputs": [],
      "source": [
        "NUM_FOLDS = 10\n",
        "MAX_N_GRAM = 4\n",
        "FILENAME = \"drive/MyDrive/Colab Notebooks/data/twitter_data.pkl\""
      ]
    },
    {
      "cell_type": "code",
      "execution_count": null,
      "metadata": {
        "id": "4Pp_g4vOWEjb"
      },
      "outputs": [],
      "source": [
        "def preprocess(data):\n",
        "    \"\"\"Preprocesses the data by cleaning URLs and MENTIONS since these do not\n",
        "    contain any valuable information.\"\"\"\n",
        "    p.set_options(p.OPT.URL, p.OPT.MENTION)\n",
        "\n",
        "    return list(map(lambda text: p.clean(html.unescape(text)), data))\n",
        "\n",
        "def convert_waseem_data(data):\n",
        "    \"\"\"Converts the Waseem and Hovy dataset by creating binary labels\"\"\"\n",
        "    X = []\n",
        "    y = []\n",
        "    for i in range(len(data)):\n",
        "        X.append(data[i]['text'])\n",
        "        label = data[i]['label']\n",
        "        if label in ['racism', 'sexism']:\n",
        "          label = 1\n",
        "        else:\n",
        "          label = 0\n",
        "        y.append(label)\n",
        "\n",
        "    return X, y"
      ]
    },
    {
      "cell_type": "code",
      "execution_count": null,
      "metadata": {
        "colab": {
          "base_uri": "https://localhost:8080/"
        },
        "id": "5qTlTk03V5BF",
        "outputId": "95a646ce-b85f-432f-9612-17507b43e2c9"
      },
      "outputs": [
        {
          "name": "stdout",
          "output_type": "stream",
          "text": [
            "Mounted at /content/drive\n"
          ]
        }
      ],
      "source": [
        "# Mount drive for loading the datasets\n",
        "drive.mount('/content/drive')\n",
        "import sys\n",
        "sys.path.insert(0, '/content/drive/MyDrive/Colab Notebooks/')"
      ]
    },
    {
      "cell_type": "markdown",
      "metadata": {
        "id": "LJWYjTpuza91"
      },
      "source": [
        "## Preprocess and split data"
      ]
    },
    {
      "cell_type": "code",
      "execution_count": null,
      "metadata": {
        "id": "rknhPL_mWQUW"
      },
      "outputs": [],
      "source": [
        "data = pickle.load(open(FILENAME, 'rb'))\n",
        "X, y = convert_waseem_data(data)\n",
        "X = preprocess(X)\n",
        "\n",
        "# Split dataset into train and test\n",
        "X_train, X_test, y_train, y_test = train_test_split(X, y, random_state=10, stratify=y, test_size=0.10)"
      ]
    },
    {
      "cell_type": "markdown",
      "metadata": {
        "id": "AEqM2NqKzeAP"
      },
      "source": [
        "## Tokenize data"
      ]
    },
    {
      "cell_type": "code",
      "execution_count": null,
      "metadata": {
        "id": "36nVwhgnlQSg"
      },
      "outputs": [],
      "source": [
        "vectorizer = CountVectorizer(ngram_range=(1, MAX_N_GRAM), analyzer=\"char\")\n",
        "X_train_transformed = vectorizer.fit_transform(X_train)"
      ]
    },
    {
      "cell_type": "markdown",
      "metadata": {
        "id": "v4nd0JUyzjRw"
      },
      "source": [
        "## Fit and export LR model"
      ]
    },
    {
      "cell_type": "code",
      "execution_count": null,
      "metadata": {
        "colab": {
          "base_uri": "https://localhost:8080/"
        },
        "id": "GbNCfHGIUM1S",
        "outputId": "829dca56-cf96-46bd-dfa0-cbeac8bfea8d"
      },
      "outputs": [
        {
          "data": {
            "text/plain": [
              "LogisticRegressionCV(cv=10, max_iter=200, random_state=0)"
            ]
          },
          "execution_count": 8,
          "metadata": {},
          "output_type": "execute_result"
        }
      ],
      "source": [
        "model = LogisticRegressionCV(cv=10, random_state=0, max_iter=200)\n",
        "model.fit(X_train_transformed, y_train)"
      ]
    },
    {
      "cell_type": "code",
      "execution_count": null,
      "metadata": {
        "colab": {
          "base_uri": "https://localhost:8080/"
        },
        "id": "UIvfxmQ_waFa",
        "outputId": "50d97dbb-49eb-4d20-88d1-01ff9e109a9d"
      },
      "outputs": [
        {
          "data": {
            "text/plain": [
              "['/content/drive/MyDrive/Colab Notebooks/output/logistic-regression-waseem-n-gram.joblib']"
            ]
          },
          "execution_count": 13,
          "metadata": {},
          "output_type": "execute_result"
        }
      ],
      "source": [
        "dump(model, '/content/drive/MyDrive/Colab Notebooks/output/logistic-regression-waseem.joblib') "
      ]
    },
    {
      "cell_type": "markdown",
      "metadata": {
        "id": "qNLB1P0Azpif"
      },
      "source": [
        "## Test LR model"
      ]
    },
    {
      "cell_type": "code",
      "execution_count": null,
      "metadata": {
        "id": "cHAQgIOtXGIs"
      },
      "outputs": [],
      "source": [
        "X_test_transformed = vectorizer.transform(X_test)\n",
        "probabilities = model.predict_proba(X_test_transformed)\n",
        "predictions = np.argmax(probabilities, axis=1)"
      ]
    },
    {
      "cell_type": "code",
      "execution_count": null,
      "metadata": {
        "colab": {
          "base_uri": "https://localhost:8080/"
        },
        "id": "DUtJwdl3dWu1",
        "outputId": "e57e8e77-97b7-47e0-d5c4-2922ce74f113"
      },
      "outputs": [
        {
          "name": "stdout",
          "output_type": "stream",
          "text": [
            "0.853325046612803\n"
          ]
        }
      ],
      "source": [
        "print(metrics.accuracy_score(y_test, predictions))"
      ]
    },
    {
      "cell_type": "markdown",
      "metadata": {
        "id": "9NH8lLSMz0l2"
      },
      "source": [
        "LR models are always well-calibrated by default"
      ]
    },
    {
      "cell_type": "code",
      "execution_count": null,
      "metadata": {
        "colab": {
          "base_uri": "https://localhost:8080/",
          "height": 279
        },
        "id": "_V3tGReUuLZL",
        "outputId": "1744abed-1301-42ed-e2af-2bd2259d11f8"
      },
      "outputs": [
        {
          "data": {
            "image/png": "[encoded data removed]",
            "text/plain": [
              "<Figure size 432x288 with 1 Axes>"
            ]
          },
          "metadata": {
            "needs_background": "light"
          },
          "output_type": "display_data"
        }
      ],
      "source": [
        "probs = np.max(probabilities, axis=1)\n",
        "disp = CalibrationDisplay.from_estimator(model, X_test_transformed, y_test)\n",
        "plt.show()"
      ]
    },
    {
      "cell_type": "code",
      "execution_count": null,
      "metadata": {
        "colab": {
          "base_uri": "https://localhost:8080/"
        },
        "id": "fST-5rNWm81U",
        "outputId": "7a8cdb12-0728-4e32-be4b-5bcfadd57410"
      },
      "outputs": [
        {
          "name": "stdout",
          "output_type": "stream",
          "text": [
            "              precision    recall  f1-score   support\n",
            "\n",
            "           0       0.87      0.92      0.90      1104\n",
            "           1       0.81      0.70      0.75       505\n",
            "\n",
            "    accuracy                           0.85      1609\n",
            "   macro avg       0.84      0.81      0.82      1609\n",
            "weighted avg       0.85      0.85      0.85      1609\n",
            "\n"
          ]
        }
      ],
      "source": [
        "print(metrics.classification_report(y_test, predictions))"
      ]
    }
  ],
  "metadata": {
    "colab": {
      "collapsed_sections": [],
      "machine_shape": "hm",
      "name": "Train LR Waseem",
      "provenance": []
    },
    "gpuClass": "standard",
    "kernelspec": {
      "display_name": "Python 3",
      "name": "python3"
    },
    "language_info": {
      "name": "python"
    }
  },
  "nbformat": 4,
  "nbformat_minor": 0
}
