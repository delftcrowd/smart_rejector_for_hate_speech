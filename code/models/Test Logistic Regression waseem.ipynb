{
  "cells": [
    {
      "cell_type": "markdown",
      "metadata": {
        "id": "YFb53nvAS2Ng"
      },
      "source": [
        "# Test Logistic Regression model\n",
        "\n",
        "**Trained on**: Waseem and Hovy (2016)\n",
        "**Tested on**: Waseem and Hovy (2019)"
      ]
    },
    {
      "cell_type": "markdown",
      "metadata": {
        "id": "1HD7NZIFUTAT"
      },
      "source": [
        "First we need to install the required packages."
      ]
    },
    {
      "cell_type": "code",
      "execution_count": null,
      "metadata": {
        "colab": {
          "base_uri": "https://localhost:8080/"
        },
        "id": "GrHRTFMkx6JT",
        "outputId": "828d0c0a-9374-4304-a6bf-9db168597813"
      },
      "outputs": [
        {
          "name": "stdout",
          "output_type": "stream",
          "text": [
            "Looking in indexes: https://pypi.org/simple, https://us-python.pkg.dev/colab-wheels/public/simple/\n",
            "Collecting tweet-preprocessor\n",
            "  Downloading tweet_preprocessor-0.6.0-py3-none-any.whl (27 kB)\n",
            "Installing collected packages: tweet-preprocessor\n",
            "Successfully installed tweet-preprocessor-0.6.0\n"
          ]
        }
      ],
      "source": [
        "!pip install tweet-preprocessor"
      ]
    },
    {
      "cell_type": "code",
      "execution_count": null,
      "metadata": {
        "colab": {
          "base_uri": "https://localhost:8080/"
        },
        "id": "vSXQNkYz2dOO",
        "outputId": "51f7beb3-1d1d-48e7-8d81-a251dc0b756a"
      },
      "outputs": [
        {
          "name": "stdout",
          "output_type": "stream",
          "text": [
            "Mounted at /content/drive\n"
          ]
        }
      ],
      "source": [
        "from sklearn.linear_model import LogisticRegressionCV, LogisticRegression\n",
        "from sklearn.feature_extraction.text import CountVectorizer\n",
        "from sklearn.model_selection import train_test_split\n",
        "from google.colab import drive\n",
        "import preprocessor as p\n",
        "import html\n",
        "import pickle\n",
        "from reader import Reader\n",
        "from sklearn.model_selection import cross_val_score\n",
        "from sklearn import metrics\n",
        "from sklearn.model_selection import train_test_split\n",
        "from joblib import dump, load\n",
        "import numpy as np\n",
        "\n",
        "# Mount drive for loading the datasets\n",
        "drive.mount('/content/drive')\n",
        "import sys\n",
        "sys.path.insert(0, '/content/drive/MyDrive/Colab Notebooks/')\n",
        "\n",
        "MAX_N_GRAM = 4\n",
        "FILENAME = \"drive/MyDrive/Colab Notebooks/data/twitter_data.pkl\""
      ]
    },
    {
      "cell_type": "markdown",
      "metadata": {
        "id": "3Zg836CxTD2g"
      },
      "source": [
        "## Split and tokenize the datasets"
      ]
    },
    {
      "cell_type": "code",
      "execution_count": null,
      "metadata": {
        "id": "vaNM4xTECiA4"
      },
      "outputs": [],
      "source": [
        "X, y = Reader.load(FILENAME)\n",
        "X = Reader.preprocess(X)\n",
        "\n",
        "mapping = {'racism': 1,'sexism': 1, 'none': 0}\n",
        "y = [mapping[b] for b in y]\n",
        "\n",
        "# Split dataset into train, test, and validation\n",
        "X_train, X_test, y_train, y_test = train_test_split(X, y, random_state=10, stratify=y, test_size=0.10)"
      ]
    },
    {
      "cell_type": "code",
      "execution_count": null,
      "metadata": {
        "id": "IKE_JCT9xWLM"
      },
      "outputs": [],
      "source": [
        "vectorizer = CountVectorizer(ngram_range=(1, MAX_N_GRAM), analyzer=\"char\")\n",
        "vectorizer.fit(X_train)\n",
        "X_test_transformed = vectorizer.transform(X_test)"
      ]
    },
    {
      "cell_type": "markdown",
      "metadata": {
        "id": "pSN_Yr30mfm6"
      },
      "source": [
        "## Load existing model"
      ]
    },
    {
      "cell_type": "code",
      "execution_count": null,
      "metadata": {
        "id": "OljBeaIrmiuE"
      },
      "outputs": [],
      "source": [
        "model = load('/content/drive/MyDrive/Colab Notebooks/output/logistic-regression-waseem.joblib') "
      ]
    },
    {
      "cell_type": "markdown",
      "metadata": {
        "id": "xVe0XYiEV3mh"
      },
      "source": [
        "## Run model on the test dataset"
      ]
    },
    {
      "cell_type": "code",
      "execution_count": null,
      "metadata": {
        "colab": {
          "base_uri": "https://localhost:8080/"
        },
        "id": "zb7UFP58Asmy",
        "outputId": "28ccc3b3-7bae-4916-947a-e22c3bc2f3b2"
      },
      "outputs": [
        {
          "name": "stdout",
          "output_type": "stream",
          "text": [
            "0.853325046612803\n"
          ]
        }
      ],
      "source": [
        "probabilities = model.predict_proba(X_test_transformed)\n",
        "predictions = np.argmax(probabilities, axis=1)\n",
        "print(metrics.accuracy_score(y_test, predictions))"
      ]
    },
    {
      "cell_type": "code",
      "execution_count": null,
      "metadata": {
        "colab": {
          "base_uri": "https://localhost:8080/"
        },
        "id": "Prw7DeWlpnlP",
        "outputId": "bde5a664-0de7-4143-fa5d-f2d5ee81e3f3"
      },
      "outputs": [
        {
          "name": "stdout",
          "output_type": "stream",
          "text": [
            "              precision    recall  f1-score   support\n",
            "\n",
            "           0       0.87      0.92      0.90      1104\n",
            "           1       0.81      0.70      0.75       505\n",
            "\n",
            "    accuracy                           0.85      1609\n",
            "   macro avg       0.84      0.81      0.82      1609\n",
            "weighted avg       0.85      0.85      0.85      1609\n",
            "\n"
          ]
        }
      ],
      "source": [
        "print(metrics.classification_report(y_test, predictions))"
      ]
    },
    {
      "cell_type": "markdown",
      "metadata": {
        "id": "7gZxsBZmYgXB"
      },
      "source": [
        "## Export predictions"
      ]
    },
    {
      "cell_type": "code",
      "execution_count": null,
      "metadata": {
        "id": "qQ01G3CqXuEG"
      },
      "outputs": [],
      "source": [
        "def to_predictions(predictions, labels):\n",
        "    predicted_classes = np.argmax(predictions, axis=1)\n",
        "    return list(map(lambda predicted_values, predicted_class, actual_class:\n",
        "                    {'predicted_class': class_name(predicted_class),\n",
        "                     'actual_class': class_name(actual_class),\n",
        "                     'predicted_value': predicted_values[predicted_class].item(),\n",
        "                     'text': None},\n",
        "                    predictions, predicted_classes, labels))\n",
        "def class_name(index):\n",
        "    if index == 0:\n",
        "        return \"None\"\n",
        "    elif index == 1:\n",
        "        return \"Hate\"\n",
        "\n",
        "predictions_info = to_predictions(probabilities, y_test)\n",
        "pickle.dump(predictions_info, open(\"drive/MyDrive/Colab Notebooks/output/lr-waseem-waseem.p\", \"wb\"))"
      ]
    }
  ],
  "metadata": {
    "colab": {
      "collapsed_sections": [],
      "machine_shape": "hm",
      "name": "Test Logistic Regression (waseem-waseem).ipynb",
      "provenance": []
    },
    "gpuClass": "standard",
    "kernelspec": {
      "display_name": "Python 3.8.5 ('smart-rejector')",
      "language": "python",
      "name": "python3"
    },
    "language_info": {
      "name": "python",
      "version": "3.8.5"
    },
    "vscode": {
      "interpreter": {
        "hash": "1d6d5fb1668883c33dcb7e6d97ab558619c066a76f945629b031854efe98e76a"
      }
    }
  },
  "nbformat": 4,
  "nbformat_minor": 0
}
