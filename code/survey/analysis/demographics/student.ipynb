{
 "cells": [
  {
   "cell_type": "code",
   "execution_count": 1,
   "metadata": {},
   "outputs": [],
   "source": [
    "import sys\n",
    "sys.path.insert(0,'..')\n",
    "from analysis import Analysis\n",
    "import pandas as pd\n",
    "import seaborn as sns\n",
    "import matplotlib.pyplot as plt\n",
    "PATH100_BATCH2_DEMO = \"F:\\Thesis\\Experiments\\Costs\\Results\\/demographics Batch-2 100.csv\"\n",
    "PATH100_BATCH3_DEMO = \"F:\\Thesis\\Experiments\\Costs\\Results\\/demographics Batch-3 100.csv\"\n",
    "PATH100_BATCH4_DEMO = \"F:\\Thesis\\Experiments\\Costs\\Results\\/demographics Batch-4 100.csv\"\n",
    "PATHME_BATCH2_DEMO = \"F:\\Thesis\\Experiments\\Costs\\Results\\/demographics Batch-2 ME.csv\"\n",
    "PATHME_BATCH3_DEMO = \"F:\\Thesis\\Experiments\\Costs\\Results\\/demographics Batch-3 ME.csv\"\n",
    "PATHME_BATCH4_DEMO = \"F:\\Thesis\\Experiments\\Costs\\Results\\/demographics Batch-4 ME.csv\"\n",
    "\n",
    "PATH100_BATCH2 = \"F:\\Thesis\\Experiments\\Costs\\Results\\/25-06-2022 Batch-2 100.csv\"\n",
    "PATH100_BATCH3 = \"F:\\Thesis\\Experiments\\Costs\\Results\\/27-06-2022 Batch-3 100.csv\"\n",
    "PATH100_BATCH4 = \"F:\\Thesis\\Experiments\\Costs\\Results\\/28-06-2022 Batch-4 100.csv\"\n",
    "PATHME_BATCH2 = \"F:\\Thesis\\Experiments\\Costs\\Results\\/24-06-2022 Batch-2 ME.csv\"\n",
    "PATHME_BATCH3 = \"F:\\Thesis\\Experiments\\Costs\\Results\\/27-06-2022 Batch-3 ME.csv\"\n",
    "PATHME_BATCH4 = \"F:\\Thesis\\Experiments\\Costs\\Results\\/28-06-2022 Batch-4 ME.csv\"\n",
    "data100_batch2_demo = pd.read_csv(PATH100_BATCH2_DEMO)\n",
    "data100_batch3_demo = pd.read_csv(PATH100_BATCH3_DEMO)\n",
    "data100_batch4_demo = pd.read_csv(PATH100_BATCH4_DEMO)\n",
    "datame_batch2_demo = pd.read_csv(PATHME_BATCH2_DEMO)\n",
    "datame_batch3_demo = pd.read_csv(PATHME_BATCH3_DEMO)\n",
    "datame_batch4_demo = pd.read_csv(PATHME_BATCH4_DEMO)\n",
    "\n",
    "data100_batch2 = pd.read_csv(PATH100_BATCH2)\n",
    "data100_batch3 = pd.read_csv(PATH100_BATCH3)\n",
    "data100_batch4 = pd.read_csv(PATH100_BATCH4)\n",
    "datame_batch2 = pd.read_csv(PATHME_BATCH2)\n",
    "datame_batch3 = pd.read_csv(PATHME_BATCH3)\n",
    "datame_batch4 = pd.read_csv(PATHME_BATCH4)\n",
    "\n",
    "data100_demo = pd.concat([data100_batch2_demo, data100_batch3_demo, data100_batch4_demo], ignore_index=True)\n",
    "datame_demo = pd.concat([datame_batch2_demo, datame_batch3_demo, datame_batch4_demo], ignore_index=True)\n",
    "\n",
    "data100 = pd.concat([data100_batch2, data100_batch3, data100_batch4], ignore_index=True)\n",
    "datame = pd.concat([datame_batch2, datame_batch3, datame_batch4], ignore_index=True)\n",
    "\n",
    "s100_data = Analysis.convert_100_data(data100)\n",
    "mes_data = Analysis.convert_me_data(datame)\n",
    "\n",
    "data100_demo = Analysis.filter_demographics_data(demo_data=data100_demo, data=s100_data)\n",
    "datame_demo = Analysis.filter_demographics_data(demo_data=datame_demo, data=mes_data)\n",
    "\n",
    "s100_data_student = Analysis.filter_data(demo_data=data100_demo, data=s100_data, column_name=\"Student status\", column_value=\"Yes\")\n",
    "s100_data_nostudent = Analysis.filter_data(demo_data=data100_demo, data=s100_data, column_name=\"Student status\", column_value=\"No\")\n",
    "mes_data_student = Analysis.filter_data(demo_data=datame_demo, data=mes_data, column_name=\"Student status\", column_value=\"Yes\")\n",
    "mes_data_nostudent = Analysis.filter_data(demo_data=datame_demo, data=mes_data, column_name=\"Student status\", column_value=\"No\")"
   ]
  },
  {
   "cell_type": "code",
   "execution_count": 2,
   "metadata": {},
   "outputs": [
    {
     "name": "stdout",
     "output_type": "stream",
     "text": [
      "(40, 82)\n",
      "(26, 82)\n",
      "(37, 82)\n",
      "(26, 82)\n"
     ]
    }
   ],
   "source": [
    "print(s100_data_student.shape)\n",
    "print(s100_data_nostudent.shape)\n",
    "\n",
    "print(mes_data_student.shape)\n",
    "print(mes_data_nostudent.shape)"
   ]
  },
  {
   "cell_type": "code",
   "execution_count": 3,
   "metadata": {},
   "outputs": [
    {
     "name": "stdout",
     "output_type": "stream",
     "text": [
      "ME scale student\n",
      "===================\n",
      "TP 10.354166666666666\n",
      "TN 30.979166666666668\n",
      "FP -14.625000008814611\n",
      "FN -28.25\n",
      "REJ -2.15625\n",
      "===================\n",
      "ME scale nostudent\n",
      "===================\n",
      "TP 33.069203795379536\n",
      "TN 42.772817460317455\n",
      "FP -22.296656350227778\n",
      "FN -36.51455611122337\n",
      "REJ -6.526611015693406\n",
      "===================\n",
      "100-level scale student\n",
      "===================\n",
      "TP 69.9375\n",
      "TN 75.5\n",
      "FP -39.1875\n",
      "FN -62.6875\n",
      "REJ -17.5\n",
      "===================\n",
      "100-level scale nostudent\n",
      "===================\n",
      "TP 88.125\n",
      "TN 91.9375\n",
      "FP -56.9375\n",
      "FN -69.875\n",
      "REJ -17.8125\n",
      "===================\n"
     ]
    }
   ],
   "source": [
    "print(\"ME scale student\")\n",
    "Analysis.print_means(mes_data_student)\n",
    "print(\"ME scale nostudent\")\n",
    "Analysis.print_means(mes_data_nostudent)\n",
    "\n",
    "print(\"100-level scale student\")\n",
    "Analysis.print_means(s100_data_student)\n",
    "print(\"100-level scale nostudent\")\n",
    "Analysis.print_means(s100_data_nostudent)\n"
   ]
  },
  {
   "cell_type": "code",
   "execution_count": 7,
   "metadata": {},
   "outputs": [
    {
     "name": "stdout",
     "output_type": "stream",
     "text": [
      "ME scale student\n",
      "===================\n",
      "Reliability scale:  0.6758265533870704\n",
      "TP 0.3569734674010089\n",
      "TN -0.9260157719185904\n",
      "FP 0.23605932355284742\n",
      "FN -0.13559430299570163\n",
      "REJ 0.5061663436624197\n",
      "===================\n",
      "ME scale nostudent\n",
      "===================\n",
      "Reliability scale:  0.8720048679603286\n",
      "TP 0.5822737905996582\n",
      "TN 0.961761424562295\n",
      "FP 0.9558882165043503\n",
      "FN 0.9468156238645957\n",
      "REJ -1.6465441204835929\n",
      "===================\n"
     ]
    }
   ],
   "source": [
    "print(\"ME scale student\")\n",
    "Analysis.print_reliabilities(mes_data_student, scale=\"ME\")\n",
    "print(\"ME scale nostudent\")\n",
    "Analysis.print_reliabilities(mes_data_nostudent, scale=\"ME\")"
   ]
  },
  {
   "cell_type": "code",
   "execution_count": 5,
   "metadata": {},
   "outputs": [
    {
     "name": "stdout",
     "output_type": "stream",
     "text": [
      "100-level scale student\n",
      "===================\n",
      "Reliability scale:  0.4401467641451875\n",
      "TP 0.04514782759512348\n",
      "TN 0.12203897838992883\n",
      "FP 0.10003823755770591\n",
      "FN 0.1554482237330792\n",
      "REJ 0.0661437862747466\n",
      "===================\n",
      "100-level scale nostudent\n",
      "===================\n",
      "Reliability scale:  0.4290478417793878\n",
      "TP 0.004761358889073031\n",
      "TN 0.06091345363769751\n",
      "FP 0.03661380364230993\n",
      "FN 0.11306681140583386\n",
      "REJ 0.09562303206572675\n",
      "===================\n"
     ]
    }
   ],
   "source": [
    "print(\"100-level scale student\")\n",
    "Analysis.print_reliabilities(s100_data_student, scale=\"S100\")\n",
    "print(\"100-level scale nostudent\")\n",
    "Analysis.print_reliabilities(s100_data_nostudent, scale=\"S100\")"
   ]
  },
  {
   "cell_type": "code",
   "execution_count": 6,
   "metadata": {},
   "outputs": [
    {
     "name": "stdout",
     "output_type": "stream",
     "text": [
      "Statistics student\n",
      "Cohen's d -0.08764123658200383\n",
      "Shapiro Wilk normality test MES:  ShapiroResult(statistic=0.8530018329620361, pvalue=0.00010648735042195767)\n",
      "Shapiro Wilk normality test S100:  ShapiroResult(statistic=0.9675758481025696, pvalue=0.30075910687446594)\n",
      "Bartlett's test for equal variances:   BartlettResult(statistic=1.7031591101240424, pvalue=0.19187535210792306)\n",
      "Mann-Whitney U test:  MannwhitneyuResult(statistic=814.5, pvalue=0.8926337154197962)\n",
      "Unpaired T-test:  Ttest_indResult(statistic=-0.3870132217607609, pvalue=0.6998003330951303)\n",
      "Pearson:  (0.883326507985666, 4.5302300151450827e-14)\n",
      "Spearman:  SpearmanrResult(correlation=0.9462735601756612, pvalue=3.1649173935894726e-20)\n",
      "Kendall:  KendalltauResult(correlation=0.8403062888674186, pvalue=1.1228737571983414e-13)\n",
      "==========================\n",
      "Statistics nostudent\n",
      "Cohen's d -0.02671012368406692\n",
      "Shapiro Wilk normality test MES:  ShapiroResult(statistic=0.9021209478378296, pvalue=0.0022048666141927242)\n",
      "Shapiro Wilk normality test S100:  ShapiroResult(statistic=0.8569669723510742, pvalue=0.00013340346049517393)\n",
      "Bartlett's test for equal variances:   BartlettResult(statistic=0.6238849628534866, pvalue=0.42960726256195925)\n",
      "Mann-Whitney U test:  MannwhitneyuResult(statistic=779.5, pvalue=0.8464859752214156)\n",
      "Unpaired T-test:  Ttest_indResult(statistic=-0.1179487125438594, pvalue=0.9064115057124783)\n",
      "Pearson:  (0.9187357770570125, 6.447526699826772e-17)\n",
      "Spearman:  SpearmanrResult(correlation=0.949214930366723, pvalue=1.1141956204079236e-20)\n",
      "Kendall:  KendalltauResult(correlation=0.8453219728059925, pvalue=1.800536497967409e-13)\n"
     ]
    }
   ],
   "source": [
    "print(\"Statistics student\")\n",
    "Analysis.print_statistics(data_mes=mes_data_student, data_s100=mes_data_nostudent)\n",
    "print(\"==========================\")\n",
    "print(\"Statistics nostudent\")\n",
    "Analysis.print_statistics(data_mes=s100_data_student, data_s100=s100_data_nostudent)"
   ]
  }
 ],
 "metadata": {
  "interpreter": {
   "hash": "1d6d5fb1668883c33dcb7e6d97ab558619c066a76f945629b031854efe98e76a"
  },
  "kernelspec": {
   "display_name": "Python 3.8.5 ('smart-rejector')",
   "language": "python",
   "name": "python3"
  },
  "language_info": {
   "codemirror_mode": {
    "name": "ipython",
    "version": 3
   },
   "file_extension": ".py",
   "mimetype": "text/x-python",
   "name": "python",
   "nbconvert_exporter": "python",
   "pygments_lexer": "ipython3",
   "version": "3.8.5"
  },
  "orig_nbformat": 4
 },
 "nbformat": 4,
 "nbformat_minor": 2
}
