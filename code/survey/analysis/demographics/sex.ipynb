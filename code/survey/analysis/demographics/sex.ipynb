{
 "cells": [
  {
   "cell_type": "code",
   "execution_count": 1,
   "metadata": {},
   "outputs": [],
   "source": [
    "import sys\n",
    "sys.path.insert(0,'..')\n",
    "from analysis import Analysis\n",
    "import pandas as pd\n",
    "import seaborn as sns\n",
    "import matplotlib.pyplot as plt\n",
    "PATH100_BATCH2_DEMO = \"F:\\Thesis\\Experiments\\Costs\\Results\\/demographics Batch-2 100.csv\"\n",
    "PATH100_BATCH3_DEMO = \"F:\\Thesis\\Experiments\\Costs\\Results\\/demographics Batch-3 100.csv\"\n",
    "PATH100_BATCH4_DEMO = \"F:\\Thesis\\Experiments\\Costs\\Results\\/demographics Batch-4 100.csv\"\n",
    "PATHME_BATCH2_DEMO = \"F:\\Thesis\\Experiments\\Costs\\Results\\/demographics Batch-2 ME.csv\"\n",
    "PATHME_BATCH3_DEMO = \"F:\\Thesis\\Experiments\\Costs\\Results\\/demographics Batch-3 ME.csv\"\n",
    "PATHME_BATCH4_DEMO = \"F:\\Thesis\\Experiments\\Costs\\Results\\/demographics Batch-4 ME.csv\"\n",
    "\n",
    "PATH100_BATCH2 = \"F:\\Thesis\\Experiments\\Costs\\Results\\/25-06-2022 Batch-2 100.csv\"\n",
    "PATH100_BATCH3 = \"F:\\Thesis\\Experiments\\Costs\\Results\\/27-06-2022 Batch-3 100.csv\"\n",
    "PATH100_BATCH4 = \"F:\\Thesis\\Experiments\\Costs\\Results\\/28-06-2022 Batch-4 100.csv\"\n",
    "PATHME_BATCH2 = \"F:\\Thesis\\Experiments\\Costs\\Results\\/24-06-2022 Batch-2 ME.csv\"\n",
    "PATHME_BATCH3 = \"F:\\Thesis\\Experiments\\Costs\\Results\\/27-06-2022 Batch-3 ME.csv\"\n",
    "PATHME_BATCH4 = \"F:\\Thesis\\Experiments\\Costs\\Results\\/28-06-2022 Batch-4 ME.csv\"\n",
    "data100_batch2_demo = pd.read_csv(PATH100_BATCH2_DEMO)\n",
    "data100_batch3_demo = pd.read_csv(PATH100_BATCH3_DEMO)\n",
    "data100_batch4_demo = pd.read_csv(PATH100_BATCH4_DEMO)\n",
    "datame_batch2_demo = pd.read_csv(PATHME_BATCH2_DEMO)\n",
    "datame_batch3_demo = pd.read_csv(PATHME_BATCH3_DEMO)\n",
    "datame_batch4_demo = pd.read_csv(PATHME_BATCH4_DEMO)\n",
    "\n",
    "data100_batch2 = pd.read_csv(PATH100_BATCH2)\n",
    "data100_batch3 = pd.read_csv(PATH100_BATCH3)\n",
    "data100_batch4 = pd.read_csv(PATH100_BATCH4)\n",
    "datame_batch2 = pd.read_csv(PATHME_BATCH2)\n",
    "datame_batch3 = pd.read_csv(PATHME_BATCH3)\n",
    "datame_batch4 = pd.read_csv(PATHME_BATCH4)\n",
    "\n",
    "data100_demo = pd.concat([data100_batch2_demo, data100_batch3_demo, data100_batch4_demo], ignore_index=True)\n",
    "datame_demo = pd.concat([datame_batch2_demo, datame_batch3_demo, datame_batch4_demo], ignore_index=True)\n",
    "\n",
    "data100 = pd.concat([data100_batch2, data100_batch3, data100_batch4], ignore_index=True)\n",
    "datame = pd.concat([datame_batch2, datame_batch3, datame_batch4], ignore_index=True)\n",
    "\n",
    "s100_data = Analysis.convert_100_data(data100)\n",
    "mes_data = Analysis.convert_me_data(datame)\n",
    "\n",
    "data100_demo = Analysis.filter_demographics_data(demo_data=data100_demo, data=s100_data)\n",
    "datame_demo = Analysis.filter_demographics_data(demo_data=datame_demo, data=mes_data)\n",
    "\n",
    "s100_data_male = Analysis.filter_data(demo_data=data100_demo, data=s100_data, column_name=\"Sex\", column_value=\"Male\")\n",
    "s100_data_female = Analysis.filter_data(demo_data=data100_demo, data=s100_data, column_name=\"Sex\", column_value=\"Female\")\n",
    "mes_data_male = Analysis.filter_data(demo_data=datame_demo, data=mes_data, column_name=\"Sex\", column_value=\"Male\")\n",
    "mes_data_female = Analysis.filter_data(demo_data=datame_demo, data=mes_data, column_name=\"Sex\", column_value=\"Female\")"
   ]
  },
  {
   "cell_type": "code",
   "execution_count": 2,
   "metadata": {},
   "outputs": [
    {
     "name": "stdout",
     "output_type": "stream",
     "text": [
      "(34, 83)\n",
      "(34, 83)\n",
      "(36, 83)\n",
      "(32, 83)\n"
     ]
    }
   ],
   "source": [
    "print(s100_data_male.shape)\n",
    "print(s100_data_female.shape)\n",
    "\n",
    "print(mes_data_male.shape)\n",
    "print(mes_data_female.shape)"
   ]
  },
  {
   "cell_type": "code",
   "execution_count": 3,
   "metadata": {},
   "outputs": [
    {
     "name": "stdout",
     "output_type": "stream",
     "text": [
      "ME scale Male\n",
      "===================\n",
      "TP 16.923785360678927\n",
      "TN 33.97236654971803\n",
      "FP -14.73383377679222\n",
      "FN -29.7191722972973\n",
      "REJ -4.79042904290429\n",
      "===================\n",
      "ME scale Female\n",
      "===================\n",
      "TP 21.170370046620043\n",
      "TN 39.60828754578754\n",
      "FP -17.110417438541667\n",
      "FN -29.668353174047617\n",
      "REJ -4.896220476576994\n",
      "===================\n",
      "100-level scale Male\n",
      "===================\n",
      "TP 75.375\n",
      "TN 84.875\n",
      "FP -53.9375\n",
      "FN -62.8125\n",
      "REJ -21.5625\n",
      "===================\n",
      "100-level scale Female\n",
      "===================\n",
      "TP 73.5\n",
      "TN 80.0625\n",
      "FP -47.875\n",
      "FN -60.75\n",
      "REJ -15.125\n",
      "===================\n"
     ]
    }
   ],
   "source": [
    "print(\"ME scale Male\")\n",
    "Analysis.print_means(mes_data_male)\n",
    "print(\"ME scale Female\")\n",
    "Analysis.print_means(mes_data_female)\n",
    "\n",
    "print(\"100-level scale Male\")\n",
    "Analysis.print_means(s100_data_male)\n",
    "print(\"100-level scale Female\")\n",
    "Analysis.print_means(s100_data_female)\n"
   ]
  },
  {
   "cell_type": "code",
   "execution_count": 4,
   "metadata": {},
   "outputs": [
    {
     "name": "stdout",
     "output_type": "stream",
     "text": [
      "ME scale Male\n",
      "===================\n",
      "Reliability scale:  0.5052485422568089\n",
      "TP -0.8510921357909076\n",
      "TN 0.9867165077785699\n",
      "FP 0.1785317389153377\n",
      "FN 0.9613552805025694\n",
      "REJ -1.0101246894582956\n",
      "===================\n",
      "ME scale Female\n",
      "===================\n",
      "Reliability scale:  0.7335021353257292\n",
      "TP -0.7061043131160138\n",
      "TN 0.33856604318137573\n",
      "FP 0.4652846835195755\n",
      "FN -0.14137755749034597\n",
      "REJ -0.2874958688000546\n",
      "===================\n"
     ]
    }
   ],
   "source": [
    "print(\"ME scale Male\")\n",
    "Analysis.print_reliabilities(mes_data_male, scale=\"ME\")\n",
    "print(\"ME scale Female\")\n",
    "Analysis.print_reliabilities(mes_data_female, scale=\"ME\")"
   ]
  },
  {
   "cell_type": "code",
   "execution_count": 12,
   "metadata": {},
   "outputs": [
    {
     "name": "stdout",
     "output_type": "stream",
     "text": [
      "100-level scale Male\n",
      "===================\n",
      "Reliability scale:  0.45959522635374817\n",
      "TP 0.03227757528209252\n",
      "TN 0.12934317171479492\n",
      "FP 0.059244102183073855\n",
      "FN 0.1464533571305967\n",
      "REJ 0.09707758868544103\n",
      "===================\n",
      "100-level scale Female\n",
      "===================\n",
      "Reliability scale:  0.4213622063164354\n",
      "TP 0.06005368226274532\n",
      "TN 0.09765398594708385\n",
      "FP 0.061968834620623636\n",
      "FN 0.1458222172718886\n",
      "REJ 0.04377111090694208\n",
      "===================\n"
     ]
    }
   ],
   "source": [
    "print(\"100-level scale Male\")\n",
    "Analysis.print_reliabilities(s100_data_male, scale=\"S100\")\n",
    "print(\"100-level scale Female\")\n",
    "Analysis.print_reliabilities(s100_data_female, scale=\"S100\")"
   ]
  },
  {
   "cell_type": "code",
   "execution_count": 18,
   "metadata": {},
   "outputs": [
    {
     "name": "stdout",
     "output_type": "stream",
     "text": [
      "Statistics Male\n",
      "Cohen's d -0.04761492322799992\n",
      "Shapiro Wilk normality test MES:  ShapiroResult(statistic=0.9278497099876404, pvalue=0.01371139008551836)\n",
      "Shapiro Wilk normality test S100:  ShapiroResult(statistic=0.9448686838150024, pvalue=0.05057702586054802)\n",
      "Bartlett's test for equal variances:   BartlettResult(statistic=0.42135083473714435, pvalue=0.5162637725022938)\n",
      "Mann-Whitney U test:  MannwhitneyuResult(statistic=791.0, pvalue=0.9347233077199512)\n",
      "Unpaired T-test:  Ttest_indResult(statistic=-0.21026180780912723, pvalue=0.8340116235285109)\n",
      "Pearson:  (0.9253421402004616, 1.3651164493937254e-17)\n",
      "Spearman:  SpearmanrResult(correlation=0.9543042234988761, pvalue=1.566543162136375e-21)\n",
      "Kendall:  KendalltauResult(correlation=0.837754465052026, pvalue=7.078172799395119e-14)\n",
      "==========================\n",
      "Statistics Female\n",
      "Cohen's d -0.022975067118833462\n",
      "Shapiro Wilk normality test MES:  ShapiroResult(statistic=0.9040132164955139, pvalue=0.002506659831851721)\n",
      "Shapiro Wilk normality test S100:  ShapiroResult(statistic=0.8964710831642151, pvalue=0.0015116590075194836)\n",
      "Bartlett's test for equal variances:   BartlettResult(statistic=0.008078046796394511, pvalue=0.9283841995944025)\n",
      "Mann-Whitney U test:  MannwhitneyuResult(statistic=776.5, pvalue=0.8242524215187771)\n",
      "Unpaired T-test:  Ttest_indResult(statistic=-0.10145514934068452, pvalue=0.9194495104885225)\n",
      "Pearson:  (0.9335894844590402, 1.5880746582844732e-18)\n",
      "Spearman:  SpearmanrResult(correlation=0.9308536963010411, pvalue=3.3381078940090743e-18)\n",
      "Kendall:  KendalltauResult(correlation=0.802183363084802, pvalue=1.4880934910381974e-12)\n"
     ]
    }
   ],
   "source": [
    "print(\"Statistics Male\")\n",
    "Analysis.print_statistics(data_mes=mes_data_male, data_s100=mes_data_female)\n",
    "print(\"==========================\")\n",
    "print(\"Statistics Female\")\n",
    "Analysis.print_statistics(data_mes=s100_data_male, data_s100=s100_data_female)"
   ]
  }
 ],
 "metadata": {
  "interpreter": {
   "hash": "1d6d5fb1668883c33dcb7e6d97ab558619c066a76f945629b031854efe98e76a"
  },
  "kernelspec": {
   "display_name": "Python 3.8.5 ('smart-rejector')",
   "language": "python",
   "name": "python3"
  },
  "language_info": {
   "codemirror_mode": {
    "name": "ipython",
    "version": 3
   },
   "file_extension": ".py",
   "mimetype": "text/x-python",
   "name": "python",
   "nbconvert_exporter": "python",
   "pygments_lexer": "ipython3",
   "version": "3.8.5"
  },
  "orig_nbformat": 4
 },
 "nbformat": 4,
 "nbformat_minor": 2
}
