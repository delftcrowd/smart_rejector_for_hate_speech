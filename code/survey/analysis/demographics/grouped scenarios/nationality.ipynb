{
    "cells": [
        {
            "cell_type": "code",
            "execution_count": 1,
            "metadata": {},
            "outputs": [],
            "source": [
                "import sys\n",
                "sys.path.insert(0,'../..')\n",
                "from analysis import Analysis\n",
                "import pandas as pd\n",
                "import seaborn as sns\n",
                "import matplotlib.pyplot as plt\n",
                "PATHME_BATCH2_DEMO = \"F:\\Thesis\\Experiments\\Costs\\Results\\/demographics Batch-2 ME.csv\"\n",
                "PATHME_BATCH3_DEMO = \"F:\\Thesis\\Experiments\\Costs\\Results\\/demographics Batch-3 ME.csv\"\n",
                "PATHME_BATCH4_DEMO = \"F:\\Thesis\\Experiments\\Costs\\Results\\/demographics Batch-4 ME.csv\"\n",
                "\n",
                "PATHME_BATCH2 = \"F:\\Thesis\\Experiments\\Costs\\Results\\/24-06-2022 Batch-2 ME.csv\"\n",
                "PATHME_BATCH3 = \"F:\\Thesis\\Experiments\\Costs\\Results\\/27-06-2022 Batch-3 ME.csv\"\n",
                "PATHME_BATCH4 = \"F:\\Thesis\\Experiments\\Costs\\Results\\/28-06-2022 Batch-4 ME.csv\"\n",
                "\n",
                "datame_batch2_demo = pd.read_csv(PATHME_BATCH2_DEMO)\n",
                "datame_batch3_demo = pd.read_csv(PATHME_BATCH3_DEMO)\n",
                "datame_batch4_demo = pd.read_csv(PATHME_BATCH4_DEMO)\n",
                "\n",
                "datame_batch2 = pd.read_csv(PATHME_BATCH2)\n",
                "datame_batch3 = pd.read_csv(PATHME_BATCH3)\n",
                "datame_batch4 = pd.read_csv(PATHME_BATCH4)\n",
                "\n",
                "datame_demo = pd.concat([datame_batch2_demo, datame_batch3_demo, datame_batch4_demo], ignore_index=True)\n",
                "datame = pd.concat([datame_batch2, datame_batch3, datame_batch4], ignore_index=True)\n",
                "\n",
                "mes_data = Analysis.convert_me_data(datame)\n",
                "\n",
                "# Group all TP, TN, FP, FN, and REJ scores for each participant\n",
                "mes_data = Analysis.group_scenario_scores(mes_data)\n",
                "\n",
                "datame_demo = Analysis.filter_demographics_data(demo_data=datame_demo, data=mes_data)"
            ]
        },
        {
            "cell_type": "code",
            "execution_count": 2,
            "metadata": {},
            "outputs": [
                {
                    "name": "stdout",
                    "output_type": "stream",
                    "text": [
                        "South Africa                         22\n",
                        "Poland                               10\n",
                        "Portugal                              8\n",
                        "Spain                                 5\n",
                        "Italy                                 4\n",
                        "Greece                                4\n",
                        "Hungary                               3\n",
                        "Mexico                                2\n",
                        "Netherlands                           2\n",
                        "United States                         1\n",
                        "Finland                               1\n",
                        "Chile                                 1\n",
                        "Germany                               1\n",
                        "Estonia                               1\n",
                        "Zimbabwe                              1\n",
                        "France                                1\n",
                        "Venezuela, Bolivarian Republic of     1\n",
                        "Name: Nationality, dtype: int64\n"
                    ]
                }
            ],
            "source": [
                "print(datame_demo[\"Nationality\"].value_counts())"
            ]
        },
        {
            "cell_type": "code",
            "execution_count": 3,
            "metadata": {},
            "outputs": [],
            "source": [
                "mes_data_south_africa = Analysis.filter_data(demo_data=datame_demo, data=mes_data, column_name=\"Nationality\", column_value=\"South Africa\")\n",
                "mes_data_poland = Analysis.filter_data(demo_data=datame_demo, data=mes_data, column_name=\"Nationality\", column_value=\"Poland\")\n",
                "mes_data_portugal = Analysis.filter_data(demo_data=datame_demo, data=mes_data, column_name=\"Nationality\", column_value=\"Portugal\")\n",
                "mes_data_spain = Analysis.filter_data(demo_data=datame_demo, data=mes_data, column_name=\"Nationality\", column_value=\"Spain\")"
            ]
        },
        {
            "cell_type": "code",
            "execution_count": 4,
            "metadata": {},
            "outputs": [
                {
                    "name": "stdout",
                    "output_type": "stream",
                    "text": [
                        "South Africa:  (22, 6)\n",
                        "Poland:  (10, 6)\n",
                        "Portugal:  (8, 6)\n",
                        "Spain:  (5, 6)\n"
                    ]
                }
            ],
            "source": [
                "print(\"South Africa: \", mes_data_south_africa.shape)\n",
                "print(\"Poland: \", mes_data_poland.shape)\n",
                "print(\"Portugal: \", mes_data_portugal.shape)\n",
                "print(\"Spain: \", mes_data_spain.shape)"
            ]
        },
        {
            "cell_type": "code",
            "execution_count": 7,
            "metadata": {},
            "outputs": [
                {
                    "name": "stdout",
                    "output_type": "stream",
                    "text": [
                        "=================================\n",
                        "Question:  TP\n",
                        "=================================\n",
                        "Dataset 1 is normally distributed:  ShapiroResult(statistic=0.9510968327522278, pvalue=0.6814895272254944)\n",
                        "Dataset 2 is normally distributed:  ShapiroResult(statistic=0.8891147375106812, pvalue=0.22962737083435059)\n",
                        "Dataset 3 is normally distributed:  ShapiroResult(statistic=0.9281628131866455, pvalue=0.5838966369628906)\n",
                        "Variances are equal:  BartlettResult(statistic=2.7525813406307096, pvalue=0.4313654738130307)\n",
                        "=================================\n",
                        "Question:  TN\n",
                        "=================================\n",
                        "Dataset 0 is normally distributed:  ShapiroResult(statistic=0.9317565560340881, pvalue=0.133482426404953)\n",
                        "Dataset 1 is normally distributed:  ShapiroResult(statistic=0.9419295787811279, pvalue=0.5746780633926392)\n",
                        "Dataset 2 is normally distributed:  ShapiroResult(statistic=0.8833860158920288, pvalue=0.20283839106559753)\n",
                        "Dataset 3 is normally distributed:  ShapiroResult(statistic=0.8110795021057129, pvalue=0.09945604205131531)\n",
                        "Variances are equal:  BartlettResult(statistic=0.43240760039117604, pvalue=0.9334694034894647)\n",
                        "=================================\n",
                        "Question:  FP\n",
                        "=================================\n",
                        "Dataset 0 is normally distributed:  ShapiroResult(statistic=0.9677700996398926, pvalue=0.6594906449317932)\n",
                        "Dataset 1 is normally distributed:  ShapiroResult(statistic=0.9072238206863403, pvalue=0.26246121525764465)\n",
                        "Dataset 2 is normally distributed:  ShapiroResult(statistic=0.9374353885650635, pvalue=0.5860364437103271)\n",
                        "Dataset 3 is normally distributed:  ShapiroResult(statistic=0.8398929834365845, pvalue=0.16462621092796326)\n",
                        "Variances are equal:  BartlettResult(statistic=0.9857825318710071, pvalue=0.8046921096012762)\n",
                        "Statistical difference:  KruskalResult(statistic=9.869724619540166, pvalue=0.019706610921618756)\n",
                        "Statistical difference (Mann-Whitney U) between dataset 0 and 3:  0.022395639786944133\n",
                        "Statistical difference (Mann-Whitney U) between dataset 1 and 3:  0.03196803196803197\n",
                        "Statistical difference (Mann-Whitney U) between dataset 3 and 0:  0.022395639786944133\n",
                        "Statistical difference (Mann-Whitney U) between dataset 3 and 1:  0.03196803196803197\n",
                        "Statistical difference:  F_onewayResult(statistic=3.650772763039542, pvalue=0.02014342378671233)\n",
                        "Statistical difference (independent t-test) between dataset 0 and 3:  0.002170056790348867\n",
                        "Statistical difference (independent t-test) between dataset 1 and 3:  0.026197536081367052\n",
                        "Statistical difference (independent t-test) between dataset 3 and 0:  0.002170056790348867\n",
                        "Statistical difference (independent t-test) between dataset 3 and 1:  0.026197536081367052\n",
                        "=================================\n",
                        "Question:  FN\n",
                        "=================================\n",
                        "Dataset 0 is normally distributed:  ShapiroResult(statistic=0.9515393376350403, pvalue=0.33872759342193604)\n",
                        "Dataset 1 is normally distributed:  ShapiroResult(statistic=0.9021291136741638, pvalue=0.23117414116859436)\n",
                        "Dataset 2 is normally distributed:  ShapiroResult(statistic=0.9261155128479004, pvalue=0.4814159870147705)\n",
                        "Dataset 3 is normally distributed:  ShapiroResult(statistic=0.8741530179977417, pvalue=0.2836499512195587)\n",
                        "Variances are equal:  BartlettResult(statistic=3.589102976100297, pvalue=0.3093883064466125)\n",
                        "=================================\n",
                        "Question:  REJ\n",
                        "=================================\n",
                        "Dataset 0 is normally distributed:  ShapiroResult(statistic=0.9586113691329956, pvalue=0.4617299735546112)\n",
                        "Dataset 1 is normally distributed:  ShapiroResult(statistic=0.9684535264968872, pvalue=0.876147985458374)\n",
                        "Dataset 2 is normally distributed:  ShapiroResult(statistic=0.9039566516876221, pvalue=0.31345999240875244)\n",
                        "Dataset 3 is normally distributed:  ShapiroResult(statistic=0.9164968132972717, pvalue=0.5075973868370056)\n"
                    ]
                }
            ],
            "source": [
                "Analysis.print_question_statistics_multiple(mes_data_south_africa, mes_data_poland, mes_data_portugal, mes_data_spain)"
            ]
        }
    ],
    "metadata": {
        "interpreter": {
            "hash": "1d6d5fb1668883c33dcb7e6d97ab558619c066a76f945629b031854efe98e76a"
        },
        "kernelspec": {
            "display_name": "Python 3.8.5 ('smart-rejector')",
            "language": "python",
            "name": "python3"
        },
        "language_info": {
            "codemirror_mode": {
                "name": "ipython",
                "version": 3
            },
            "file_extension": ".py",
            "mimetype": "text/x-python",
            "name": "python",
            "nbconvert_exporter": "python",
            "pygments_lexer": "ipython3",
            "version": "3.8.5"
        },
        "orig_nbformat": 4
    },
    "nbformat": 4,
    "nbformat_minor": 2
}
