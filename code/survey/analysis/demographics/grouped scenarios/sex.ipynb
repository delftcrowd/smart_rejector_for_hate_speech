{
    "cells": [
        {
            "cell_type": "code",
            "execution_count": 1,
            "metadata": {},
            "outputs": [],
            "source": [
                "import sys\n",
                "sys.path.insert(0,'../..')\n",
                "from analysis import Analysis\n",
                "import pandas as pd\n",
                "import seaborn as sns\n",
                "import matplotlib.pyplot as plt\n",
                "PATHME_BATCH2_DEMO = \"F:\\Thesis\\Experiments\\Costs\\Results\\/demographics Batch-2 ME.csv\"\n",
                "PATHME_BATCH3_DEMO = \"F:\\Thesis\\Experiments\\Costs\\Results\\/demographics Batch-3 ME.csv\"\n",
                "PATHME_BATCH4_DEMO = \"F:\\Thesis\\Experiments\\Costs\\Results\\/demographics Batch-4 ME.csv\"\n",
                "\n",
                "PATHME_BATCH2 = \"F:\\Thesis\\Experiments\\Costs\\Results\\/24-06-2022 Batch-2 ME.csv\"\n",
                "PATHME_BATCH3 = \"F:\\Thesis\\Experiments\\Costs\\Results\\/27-06-2022 Batch-3 ME.csv\"\n",
                "PATHME_BATCH4 = \"F:\\Thesis\\Experiments\\Costs\\Results\\/28-06-2022 Batch-4 ME.csv\"\n",
                "\n",
                "datame_batch2_demo = pd.read_csv(PATHME_BATCH2_DEMO)\n",
                "datame_batch3_demo = pd.read_csv(PATHME_BATCH3_DEMO)\n",
                "datame_batch4_demo = pd.read_csv(PATHME_BATCH4_DEMO)\n",
                "\n",
                "datame_batch2 = pd.read_csv(PATHME_BATCH2)\n",
                "datame_batch3 = pd.read_csv(PATHME_BATCH3)\n",
                "datame_batch4 = pd.read_csv(PATHME_BATCH4)\n",
                "\n",
                "datame_demo = pd.concat([datame_batch2_demo, datame_batch3_demo, datame_batch4_demo], ignore_index=True)\n",
                "\n",
                "datame = pd.concat([datame_batch2, datame_batch3, datame_batch4], ignore_index=True)\n",
                "\n",
                "mes_data = Analysis.convert_me_data(datame)\n",
                "\n",
                "# Group all TP, TN, FP, FN, and REJ scores for each participant\n",
                "mes_data = Analysis.group_scenario_scores(mes_data)\n",
                "\n",
                "datame_demo = Analysis.filter_demographics_data(demo_data=datame_demo, data=mes_data)\n",
                "\n",
                "mes_data_male = Analysis.filter_data(demo_data=datame_demo, data=mes_data, column_name=\"Sex\", column_value=\"Male\")\n",
                "mes_data_female = Analysis.filter_data(demo_data=datame_demo, data=mes_data, column_name=\"Sex\", column_value=\"Female\")"
            ]
        },
        {
            "cell_type": "code",
            "execution_count": 2,
            "metadata": {},
            "outputs": [
                {
                    "name": "stdout",
                    "output_type": "stream",
                    "text": [
                        "(36, 6)\n",
                        "(32, 6)\n"
                    ]
                }
            ],
            "source": [
                "print(mes_data_male.shape)\n",
                "print(mes_data_female.shape)"
            ]
        },
        {
            "cell_type": "code",
            "execution_count": 3,
            "metadata": {},
            "outputs": [
                {
                    "name": "stdout",
                    "output_type": "stream",
                    "text": [
                        "=================================\n",
                        "Question:  TP\n",
                        "=================================\n",
                        "Dataset 0 is normally distributed:  ShapiroResult(statistic=0.9738766551017761, pvalue=0.5404551029205322)\n",
                        "Variances are equal:  BartlettResult(statistic=1.0391408501666684, pvalue=0.3080213716296723)\n",
                        "=================================\n",
                        "Question:  TN\n",
                        "=================================\n",
                        "Dataset 0 is normally distributed:  ShapiroResult(statistic=0.9549466371536255, pvalue=0.14961816370487213)\n",
                        "Variances are equal:  BartlettResult(statistic=0.003700949545893347, pvalue=0.9514902734883504)\n",
                        "=================================\n",
                        "Question:  FP\n",
                        "=================================\n",
                        "Dataset 0 is normally distributed:  ShapiroResult(statistic=0.9559695720672607, pvalue=0.16107496619224548)\n",
                        "Dataset 1 is normally distributed:  ShapiroResult(statistic=0.9833049178123474, pvalue=0.88785320520401)\n",
                        "Variances are equal:  BartlettResult(statistic=0.026926958760310964, pvalue=0.8696568622355478)\n",
                        "=================================\n",
                        "Question:  FN\n",
                        "=================================\n",
                        "Dataset 0 is normally distributed:  ShapiroResult(statistic=0.9460208415985107, pvalue=0.07838372141122818)\n",
                        "Dataset 1 is normally distributed:  ShapiroResult(statistic=0.9624539613723755, pvalue=0.32014307379722595)\n",
                        "Variances are equal:  BartlettResult(statistic=2.251974663368886, pvalue=0.13344402161514993)\n",
                        "=================================\n",
                        "Question:  REJ\n",
                        "=================================\n",
                        "Variances are equal:  BartlettResult(statistic=0.04230051222094179, pvalue=0.8370480040897914)\n"
                    ]
                }
            ],
            "source": [
                "Analysis.print_question_statistics(data1=mes_data_male, data2=mes_data_female)"
            ]
        }
    ],
    "metadata": {
        "interpreter": {
            "hash": "1d6d5fb1668883c33dcb7e6d97ab558619c066a76f945629b031854efe98e76a"
        },
        "kernelspec": {
            "display_name": "Python 3.8.5 ('smart-rejector')",
            "language": "python",
            "name": "python3"
        },
        "language_info": {
            "codemirror_mode": {
                "name": "ipython",
                "version": 3
            },
            "file_extension": ".py",
            "mimetype": "text/x-python",
            "name": "python",
            "nbconvert_exporter": "python",
            "pygments_lexer": "ipython3",
            "version": "3.8.5"
        },
        "orig_nbformat": 4
    },
    "nbformat": 4,
    "nbformat_minor": 2
}
