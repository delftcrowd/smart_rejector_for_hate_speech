{
    "cells": [
        {
            "cell_type": "code",
            "execution_count": 1,
            "metadata": {},
            "outputs": [],
            "source": [
                "import sys\n",
                "sys.path.insert(0,'../..')\n",
                "from analysis import Analysis\n",
                "import pandas as pd\n",
                "import seaborn as sns\n",
                "import matplotlib.pyplot as plt\n",
                "PATHME_BATCH2_DEMO = \"F:\\Thesis\\Experiments\\Costs\\Results\\/demographics Batch-2 ME.csv\"\n",
                "PATHME_BATCH3_DEMO = \"F:\\Thesis\\Experiments\\Costs\\Results\\/demographics Batch-3 ME.csv\"\n",
                "PATHME_BATCH4_DEMO = \"F:\\Thesis\\Experiments\\Costs\\Results\\/demographics Batch-4 ME.csv\"\n",
                "\n",
                "PATHME_BATCH2 = \"F:\\Thesis\\Experiments\\Costs\\Results\\/24-06-2022 Batch-2 ME.csv\"\n",
                "PATHME_BATCH3 = \"F:\\Thesis\\Experiments\\Costs\\Results\\/27-06-2022 Batch-3 ME.csv\"\n",
                "PATHME_BATCH4 = \"F:\\Thesis\\Experiments\\Costs\\Results\\/28-06-2022 Batch-4 ME.csv\"\n",
                "\n",
                "datame_batch2_demo = pd.read_csv(PATHME_BATCH2_DEMO)\n",
                "datame_batch3_demo = pd.read_csv(PATHME_BATCH3_DEMO)\n",
                "datame_batch4_demo = pd.read_csv(PATHME_BATCH4_DEMO)\n",
                "\n",
                "datame_batch2 = pd.read_csv(PATHME_BATCH2)\n",
                "datame_batch3 = pd.read_csv(PATHME_BATCH3)\n",
                "datame_batch4 = pd.read_csv(PATHME_BATCH4)\n",
                "\n",
                "datame_demo = pd.concat([datame_batch2_demo, datame_batch3_demo, datame_batch4_demo], ignore_index=True)\n",
                "\n",
                "datame = pd.concat([datame_batch2, datame_batch3, datame_batch4], ignore_index=True)\n",
                "\n",
                "mes_data = Analysis.convert_me_data(datame)\n",
                "\n",
                "# Group all TP, TN, FP, FN, and REJ scores for each participant\n",
                "mes_data = Analysis.group_scenario_scores(mes_data)\n",
                "\n",
                "datame_demo = Analysis.filter_demographics_data(demo_data=datame_demo, data=mes_data)"
            ]
        },
        {
            "cell_type": "code",
            "execution_count": 2,
            "metadata": {},
            "outputs": [],
            "source": [
                "mes_data_south_africa = Analysis.filter_data(demo_data=datame_demo, data=mes_data, column_name=\"Nationality\", column_value=\"South Africa\")\n",
                "mes_data_poland = Analysis.filter_data(demo_data=datame_demo, data=mes_data, column_name=\"Nationality\", column_value=\"Poland\")\n",
                "mes_data_portugal = Analysis.filter_data(demo_data=datame_demo, data=mes_data, column_name=\"Nationality\", column_value=\"Portugal\")\n",
                "mes_data_spain = Analysis.filter_data(demo_data=datame_demo, data=mes_data, column_name=\"Nationality\", column_value=\"Spain\")\n",
                "\n",
                "mes_data_europe =  pd.concat([mes_data_poland, mes_data_portugal, mes_data_spain], ignore_index=True)\n",
                "mes_data_africa = mes_data_south_africa"
            ]
        },
        {
            "cell_type": "code",
            "execution_count": 3,
            "metadata": {},
            "outputs": [
                {
                    "name": "stdout",
                    "output_type": "stream",
                    "text": [
                        "Europe:  (23, 6)\n",
                        "Africa:  (22, 6)\n"
                    ]
                }
            ],
            "source": [
                "print(\"Europe: \", mes_data_europe.shape)\n",
                "print(\"Africa: \", mes_data_africa.shape)"
            ]
        },
        {
            "cell_type": "code",
            "execution_count": 4,
            "metadata": {},
            "outputs": [
                {
                    "name": "stdout",
                    "output_type": "stream",
                    "text": [
                        "=================================\n",
                        "Question:  TP\n",
                        "=================================\n",
                        "Dataset 0 is normally distributed:  ShapiroResult(statistic=0.9757075309753418, pvalue=0.8217766880989075)\n",
                        "Variances are equal:  BartlettResult(statistic=1.085713711294576, pvalue=0.29742286695191766)\n",
                        "No significant difference:  MannwhitneyuResult(statistic=300.5, pvalue=0.28584668769634747)\n",
                        "No significant difference:  Ttest_indResult(statistic=0.38778422583006067, pvalue=0.7000887708649496)\n",
                        "=================================\n",
                        "Question:  TN\n",
                        "=================================\n",
                        "Dataset 0 is normally distributed:  ShapiroResult(statistic=0.935496985912323, pvalue=0.14375223219394684)\n",
                        "Dataset 1 is normally distributed:  ShapiroResult(statistic=0.9317565560340881, pvalue=0.133482426404953)\n",
                        "Variances are equal:  BartlettResult(statistic=0.11634746598335684, pvalue=0.7330302257179725)\n",
                        "No significant difference:  MannwhitneyuResult(statistic=309.5, pvalue=0.203527494502442)\n",
                        "No significant difference:  Ttest_indResult(statistic=1.3721833485996051, pvalue=0.1771226277746583)\n",
                        "=================================\n",
                        "Question:  FP\n",
                        "=================================\n",
                        "Dataset 0 is normally distributed:  ShapiroResult(statistic=0.963948667049408, pvalue=0.5475171804428101)\n",
                        "Dataset 1 is normally distributed:  ShapiroResult(statistic=0.9677700996398926, pvalue=0.6594906449317932)\n",
                        "Variances are equal:  BartlettResult(statistic=0.7982988282338724, pvalue=0.37160247908749056)\n",
                        "No significant difference:  MannwhitneyuResult(statistic=173.5, pvalue=0.07284257397793865)\n",
                        "Significant difference:  Ttest_indResult(statistic=-2.0942885456813216, pvalue=0.04216412949609567)\n",
                        "=================================\n",
                        "Question:  FN\n",
                        "=================================\n",
                        "Dataset 0 is normally distributed:  ShapiroResult(statistic=0.9393476247787476, pvalue=0.17400789260864258)\n",
                        "Dataset 1 is normally distributed:  ShapiroResult(statistic=0.9515393376350403, pvalue=0.33872759342193604)\n",
                        "Variances are equal:  BartlettResult(statistic=3.657213072364051, pvalue=0.055826941637858056)\n",
                        "No significant difference:  MannwhitneyuResult(statistic=244.0, pvalue=0.8469596413743306)\n",
                        "No significant difference:  Ttest_indResult(statistic=0.2518015723105244, pvalue=0.802394051941627)\n",
                        "=================================\n",
                        "Question:  REJ\n",
                        "=================================\n",
                        "Dataset 0 is normally distributed:  ShapiroResult(statistic=0.9412438273429871, pvalue=0.19109779596328735)\n",
                        "Dataset 1 is normally distributed:  ShapiroResult(statistic=0.9586113691329956, pvalue=0.4617299735546112)\n",
                        "No significant difference:  MannwhitneyuResult(statistic=222.5, pvalue=0.4957191633675333)\n",
                        "No significant difference:  Ttest_indResult(statistic=-1.4182001407781553, pvalue=0.16333934047384757)\n"
                    ]
                }
            ],
            "source": [
                "continent = Analysis.print_question_statistics(mes_data_europe, mes_data_africa)\n",
                "continent.to_csv(\"continent.csv\")"
            ]
        }
    ],
    "metadata": {
        "interpreter": {
            "hash": "1d6d5fb1668883c33dcb7e6d97ab558619c066a76f945629b031854efe98e76a"
        },
        "kernelspec": {
            "display_name": "Python 3.8.5 ('smart-rejector')",
            "language": "python",
            "name": "python3"
        },
        "language_info": {
            "codemirror_mode": {
                "name": "ipython",
                "version": 3
            },
            "file_extension": ".py",
            "mimetype": "text/x-python",
            "name": "python",
            "nbconvert_exporter": "python",
            "pygments_lexer": "ipython3",
            "version": "3.8.5"
        },
        "orig_nbformat": 4
    },
    "nbformat": 4,
    "nbformat_minor": 2
}
