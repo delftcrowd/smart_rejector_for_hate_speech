{
    "cells": [
        {
            "cell_type": "code",
            "execution_count": 1,
            "metadata": {},
            "outputs": [],
            "source": [
                "import sys\n",
                "sys.path.insert(0,'../..')\n",
                "from analysis import Analysis\n",
                "import pandas as pd\n",
                "import seaborn as sns\n",
                "import matplotlib.pyplot as plt\n",
                "\n",
                "PATHME_BATCH2_DEMO = \"F:\\Thesis\\Experiments\\Costs\\Results\\/demographics Batch-2 ME.csv\"\n",
                "PATHME_BATCH3_DEMO = \"F:\\Thesis\\Experiments\\Costs\\Results\\/demographics Batch-3 ME.csv\"\n",
                "PATHME_BATCH4_DEMO = \"F:\\Thesis\\Experiments\\Costs\\Results\\/demographics Batch-4 ME.csv\"\n",
                "\n",
                "PATHME_BATCH2 = \"F:\\Thesis\\Experiments\\Costs\\Results\\/24-06-2022 Batch-2 ME.csv\"\n",
                "PATHME_BATCH3 = \"F:\\Thesis\\Experiments\\Costs\\Results\\/27-06-2022 Batch-3 ME.csv\"\n",
                "PATHME_BATCH4 = \"F:\\Thesis\\Experiments\\Costs\\Results\\/28-06-2022 Batch-4 ME.csv\"\n",
                "\n",
                "datame_batch2_demo = pd.read_csv(PATHME_BATCH2_DEMO)\n",
                "datame_batch3_demo = pd.read_csv(PATHME_BATCH3_DEMO)\n",
                "datame_batch4_demo = pd.read_csv(PATHME_BATCH4_DEMO)\n",
                "\n",
                "datame_batch2 = pd.read_csv(PATHME_BATCH2)\n",
                "datame_batch3 = pd.read_csv(PATHME_BATCH3)\n",
                "datame_batch4 = pd.read_csv(PATHME_BATCH4)\n",
                "\n",
                "datame_demo = pd.concat([datame_batch2_demo, datame_batch3_demo, datame_batch4_demo], ignore_index=True)\n",
                "\n",
                "datame = pd.concat([datame_batch2, datame_batch3, datame_batch4], ignore_index=True)\n",
                "\n",
                "mes_data = Analysis.convert_me_data(datame)\n",
                "\n",
                "# Group all TP, TN, FP, FN, and REJ scores for each participant\n",
                "mes_data = Analysis.group_scenario_scores(mes_data)\n",
                "\n",
                "datame_demo = Analysis.filter_demographics_data(demo_data=datame_demo, data=mes_data)\n",
                "\n",
                "mes_data_student = Analysis.filter_data(demo_data=datame_demo, data=mes_data, column_name=\"Student status\", column_value=\"Yes\")\n",
                "mes_data_nostudent = Analysis.filter_data(demo_data=datame_demo, data=mes_data, column_name=\"Student status\", column_value=\"No\")"
            ]
        },
        {
            "cell_type": "code",
            "execution_count": 2,
            "metadata": {},
            "outputs": [
                {
                    "name": "stdout",
                    "output_type": "stream",
                    "text": [
                        "(37, 6)\n",
                        "(26, 6)\n"
                    ]
                }
            ],
            "source": [
                "print(mes_data_student.shape)\n",
                "print(mes_data_nostudent.shape)"
            ]
        },
        {
            "cell_type": "code",
            "execution_count": 3,
            "metadata": {},
            "outputs": [
                {
                    "name": "stdout",
                    "output_type": "stream",
                    "text": [
                        "=================================\n",
                        "Question:  TP\n",
                        "=================================\n",
                        "Dataset 0 is normally distributed:  ShapiroResult(statistic=0.9483312368392944, pvalue=0.08526350557804108)\n",
                        "Dataset 1 is normally distributed:  ShapiroResult(statistic=0.9607040882110596, pvalue=0.40557998418807983)\n",
                        "Variances are equal:  BartlettResult(statistic=0.18058387173802887, pvalue=0.6708719498572959)\n",
                        "Statistical difference:  MannwhitneyuResult(statistic=327.0, pvalue=0.03210924217222204)\n",
                        "Statistical difference:  Ttest_indResult(statistic=-2.148128046261687, pvalue=0.035683591115285324)\n",
                        "=================================\n",
                        "Question:  TN\n",
                        "=================================\n",
                        "Dataset 0 is normally distributed:  ShapiroResult(statistic=0.9468669295310974, pvalue=0.0764954462647438)\n",
                        "Dataset 1 is normally distributed:  ShapiroResult(statistic=0.9222888946533203, pvalue=0.050887901335954666)\n",
                        "Variances are equal:  BartlettResult(statistic=0.12764059364739527, pvalue=0.7208910056784985)\n",
                        "=================================\n",
                        "Question:  FP\n",
                        "=================================\n",
                        "Dataset 0 is normally distributed:  ShapiroResult(statistic=0.9610287547111511, pvalue=0.21775561571121216)\n",
                        "Dataset 1 is normally distributed:  ShapiroResult(statistic=0.9803085327148438, pvalue=0.8804028034210205)\n",
                        "Variances are equal:  BartlettResult(statistic=0.7470577741851038, pvalue=0.3874093586302888)\n",
                        "=================================\n",
                        "Question:  FN\n",
                        "=================================\n",
                        "Dataset 0 is normally distributed:  ShapiroResult(statistic=0.9535067081451416, pvalue=0.1251860111951828)\n",
                        "Dataset 1 is normally distributed:  ShapiroResult(statistic=0.9663631319999695, pvalue=0.5317749381065369)\n",
                        "Variances are equal:  BartlettResult(statistic=0.7206283861985743, pvalue=0.3959378644296597)\n",
                        "=================================\n",
                        "Question:  REJ\n",
                        "=================================\n",
                        "Dataset 1 is normally distributed:  ShapiroResult(statistic=0.934933602809906, pvalue=0.10162108391523361)\n",
                        "Variances are equal:  BartlettResult(statistic=0.7618439269856021, pvalue=0.38275208577114816)\n"
                    ]
                }
            ],
            "source": [
                "Analysis.print_question_statistics(data1=mes_data_student, data2=mes_data_nostudent)"
            ]
        }
    ],
    "metadata": {
        "interpreter": {
            "hash": "1d6d5fb1668883c33dcb7e6d97ab558619c066a76f945629b031854efe98e76a"
        },
        "kernelspec": {
            "display_name": "Python 3.8.5 ('smart-rejector')",
            "language": "python",
            "name": "python3"
        },
        "language_info": {
            "codemirror_mode": {
                "name": "ipython",
                "version": 3
            },
            "file_extension": ".py",
            "mimetype": "text/x-python",
            "name": "python",
            "nbconvert_exporter": "python",
            "pygments_lexer": "ipython3",
            "version": "3.8.5"
        },
        "orig_nbformat": 4
    },
    "nbformat": 4,
    "nbformat_minor": 2
}
