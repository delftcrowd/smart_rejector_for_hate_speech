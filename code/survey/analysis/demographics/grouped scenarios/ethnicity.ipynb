{
    "cells": [
        {
            "cell_type": "code",
            "execution_count": 1,
            "metadata": {},
            "outputs": [],
            "source": [
                "import sys\n",
                "sys.path.insert(0,'../..')\n",
                "from analysis import Analysis\n",
                "import pandas as pd\n",
                "import seaborn as sns\n",
                "import matplotlib.pyplot as plt\n",
                "PATHME_BATCH2_DEMO = \"F:\\Thesis\\Experiments\\Costs\\Results\\/demographics Batch-2 ME.csv\"\n",
                "PATHME_BATCH3_DEMO = \"F:\\Thesis\\Experiments\\Costs\\Results\\/demographics Batch-3 ME.csv\"\n",
                "PATHME_BATCH4_DEMO = \"F:\\Thesis\\Experiments\\Costs\\Results\\/demographics Batch-4 ME.csv\"\n",
                "\n",
                "PATHME_BATCH2 = \"F:\\Thesis\\Experiments\\Costs\\Results\\/24-06-2022 Batch-2 ME.csv\"\n",
                "PATHME_BATCH3 = \"F:\\Thesis\\Experiments\\Costs\\Results\\/27-06-2022 Batch-3 ME.csv\"\n",
                "PATHME_BATCH4 = \"F:\\Thesis\\Experiments\\Costs\\Results\\/28-06-2022 Batch-4 ME.csv\"\n",
                "datame_batch2_demo = pd.read_csv(PATHME_BATCH2_DEMO)\n",
                "datame_batch3_demo = pd.read_csv(PATHME_BATCH3_DEMO)\n",
                "datame_batch4_demo = pd.read_csv(PATHME_BATCH4_DEMO)\n",
                "\n",
                "datame_batch2 = pd.read_csv(PATHME_BATCH2)\n",
                "datame_batch3 = pd.read_csv(PATHME_BATCH3)\n",
                "datame_batch4 = pd.read_csv(PATHME_BATCH4)\n",
                "\n",
                "datame_demo = pd.concat([datame_batch2_demo, datame_batch3_demo, datame_batch4_demo], ignore_index=True)\n",
                "datame = pd.concat([datame_batch2, datame_batch3, datame_batch4], ignore_index=True)\n",
                "mes_data = Analysis.convert_me_data(datame)\n",
                "\n",
                "# Group all TP, TN, FP, FN, and REJ scores for each participant\n",
                "mes_data = Analysis.group_scenario_scores(mes_data)\n",
                "\n",
                "datame_demo = Analysis.filter_demographics_data(demo_data=datame_demo, data=mes_data)\n",
                "mes_data_white = Analysis.filter_data(demo_data=datame_demo, data=mes_data, column_name=\"Ethnicity\", column_value=\"White\")\n",
                "mes_data_mixed = Analysis.filter_data(demo_data=datame_demo, data=mes_data, column_name=\"Ethnicity\", column_value=\"Mixed\")\n",
                "mes_data_asian = Analysis.filter_data(demo_data=datame_demo, data=mes_data, column_name=\"Ethnicity\", column_value=\"Asian\")\n",
                "mes_data_black = Analysis.filter_data(demo_data=datame_demo, data=mes_data, column_name=\"Ethnicity\", column_value=\"Black\")\n",
                "mes_data_other = Analysis.filter_data(demo_data=datame_demo, data=mes_data, column_name=\"Ethnicity\", column_value=\"Other\")"
            ]
        },
        {
            "cell_type": "code",
            "execution_count": 2,
            "metadata": {},
            "outputs": [
                {
                    "name": "stdout",
                    "output_type": "stream",
                    "text": [
                        "White:  (44, 6)\n",
                        "Mixed:  (5, 6)\n",
                        "Asian:  (0, 0)\n",
                        "Black:  (18, 6)\n",
                        "Other:  (1, 6)\n"
                    ]
                }
            ],
            "source": [
                "print(\"White: \", mes_data_white.shape)\n",
                "print(\"Mixed: \", mes_data_mixed.shape)\n",
                "print(\"Asian: \", mes_data_asian.shape)\n",
                "print(\"Black: \", mes_data_black.shape)\n",
                "print(\"Other: \", mes_data_other.shape)\n"
            ]
        },
        {
            "cell_type": "code",
            "execution_count": 6,
            "metadata": {},
            "outputs": [
                {
                    "name": "stdout",
                    "output_type": "stream",
                    "text": [
                        "=================================\n",
                        "Question:  TP\n",
                        "=================================\n",
                        "Dataset 0 is normally distributed:  ShapiroResult(statistic=0.9776714444160461, pvalue=0.5431011319160461)\n",
                        "Dataset 1 is normally distributed:  ShapiroResult(statistic=0.96318119764328, pvalue=0.8299433588981628)\n",
                        "Variances are equal:  BartlettResult(statistic=0.7091965463528276, pvalue=0.7014551799755149)\n",
                        "=================================\n",
                        "Question:  TN\n",
                        "=================================\n",
                        "Dataset 1 is normally distributed:  ShapiroResult(statistic=0.9700113534927368, pvalue=0.87532639503479)\n",
                        "Dataset 2 is normally distributed:  ShapiroResult(statistic=0.9034648537635803, pvalue=0.06604635715484619)\n",
                        "Variances are equal:  BartlettResult(statistic=0.0035057044358156016, pvalue=0.9982486831303305)\n",
                        "=================================\n",
                        "Question:  FP\n",
                        "=================================\n",
                        "Dataset 0 is normally distributed:  ShapiroResult(statistic=0.9633545279502869, pvalue=0.17352703213691711)\n",
                        "Dataset 1 is normally distributed:  ShapiroResult(statistic=0.9909477829933167, pvalue=0.9829062819480896)\n",
                        "Dataset 2 is normally distributed:  ShapiroResult(statistic=0.9709519743919373, pvalue=0.8153913021087646)\n",
                        "Variances are equal:  BartlettResult(statistic=0.6063985099779864, pvalue=0.7384519414768251)\n",
                        "Statistical difference:  KruskalResult(statistic=6.57570439398172, pvalue=0.037333949314681876)\n",
                        "Statistical difference:  F_onewayResult(statistic=3.7929571609963086, pvalue=0.027750877850799736)\n",
                        "Statistical difference (independent t-test) between dataset 0 and 2:  0.04394442311965497\n",
                        "Statistical difference (independent t-test) between dataset 1 and 2:  0.012182150522196419\n",
                        "Statistical difference (independent t-test) between dataset 2 and 0:  0.04394442311965497\n",
                        "Statistical difference (independent t-test) between dataset 2 and 1:  0.012182150522196419\n",
                        "=================================\n",
                        "Question:  FN\n",
                        "=================================\n",
                        "Dataset 0 is normally distributed:  ShapiroResult(statistic=0.9543114900588989, pvalue=0.07969412207603455)\n",
                        "Dataset 1 is normally distributed:  ShapiroResult(statistic=0.7935870885848999, pvalue=0.07177259027957916)\n",
                        "Dataset 2 is normally distributed:  ShapiroResult(statistic=0.9247546792030334, pvalue=0.1569209098815918)\n",
                        "Variances are equal:  BartlettResult(statistic=2.6294687769147034, pvalue=0.26854564258959573)\n",
                        "=================================\n",
                        "Question:  REJ\n",
                        "=================================\n",
                        "Dataset 1 is normally distributed:  ShapiroResult(statistic=0.9664302468299866, pvalue=0.8518861532211304)\n",
                        "Dataset 2 is normally distributed:  ShapiroResult(statistic=0.9765293002128601, pvalue=0.9073607325553894)\n"
                    ]
                }
            ],
            "source": [
                "Analysis.print_question_statistics_multiple(mes_data_white, mes_data_mixed, mes_data_black)"
            ]
        }
    ],
    "metadata": {
        "interpreter": {
            "hash": "1d6d5fb1668883c33dcb7e6d97ab558619c066a76f945629b031854efe98e76a"
        },
        "kernelspec": {
            "display_name": "Python 3.8.5 ('smart-rejector')",
            "language": "python",
            "name": "python3"
        },
        "language_info": {
            "codemirror_mode": {
                "name": "ipython",
                "version": 3
            },
            "file_extension": ".py",
            "mimetype": "text/x-python",
            "name": "python",
            "nbconvert_exporter": "python",
            "pygments_lexer": "ipython3",
            "version": "3.8.5"
        },
        "orig_nbformat": 4
    },
    "nbformat": 4,
    "nbformat_minor": 2
}
