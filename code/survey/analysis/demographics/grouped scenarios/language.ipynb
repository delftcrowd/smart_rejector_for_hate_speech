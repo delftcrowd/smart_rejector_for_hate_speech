{
    "cells": [
        {
            "cell_type": "code",
            "execution_count": 1,
            "metadata": {},
            "outputs": [],
            "source": [
                "import sys\n",
                "sys.path.insert(0,'../..')\n",
                "from analysis import Analysis\n",
                "import pandas as pd\n",
                "import seaborn as sns\n",
                "import matplotlib.pyplot as plt\n",
                "PATHME_BATCH2_DEMO = \"F:\\Thesis\\Experiments\\Costs\\Results\\/demographics Batch-2 ME.csv\"\n",
                "PATHME_BATCH3_DEMO = \"F:\\Thesis\\Experiments\\Costs\\Results\\/demographics Batch-3 ME.csv\"\n",
                "PATHME_BATCH4_DEMO = \"F:\\Thesis\\Experiments\\Costs\\Results\\/demographics Batch-4 ME.csv\"\n",
                "\n",
                "PATHME_BATCH2 = \"F:\\Thesis\\Experiments\\Costs\\Results\\/24-06-2022 Batch-2 ME.csv\"\n",
                "PATHME_BATCH3 = \"F:\\Thesis\\Experiments\\Costs\\Results\\/27-06-2022 Batch-3 ME.csv\"\n",
                "PATHME_BATCH4 = \"F:\\Thesis\\Experiments\\Costs\\Results\\/28-06-2022 Batch-4 ME.csv\"\n",
                "\n",
                "datame_batch2_demo = pd.read_csv(PATHME_BATCH2_DEMO)\n",
                "datame_batch3_demo = pd.read_csv(PATHME_BATCH3_DEMO)\n",
                "datame_batch4_demo = pd.read_csv(PATHME_BATCH4_DEMO)\n",
                "\n",
                "datame_batch2 = pd.read_csv(PATHME_BATCH2)\n",
                "datame_batch3 = pd.read_csv(PATHME_BATCH3)\n",
                "datame_batch4 = pd.read_csv(PATHME_BATCH4)\n",
                "\n",
                "datame_demo = pd.concat([datame_batch2_demo, datame_batch3_demo, datame_batch4_demo], ignore_index=True)\n",
                "datame = pd.concat([datame_batch2, datame_batch3, datame_batch4], ignore_index=True)\n",
                "\n",
                "mes_data = Analysis.convert_me_data(datame)\n",
                "\n",
                "# Group all TP, TN, FP, FN, and REJ scores for each participant\n",
                "mes_data = Analysis.group_scenario_scores(mes_data)\n",
                "\n",
                "datame_demo = Analysis.filter_demographics_data(demo_data=datame_demo, data=mes_data)"
            ]
        },
        {
            "cell_type": "code",
            "execution_count": 2,
            "metadata": {},
            "outputs": [
                {
                    "name": "stdout",
                    "output_type": "stream",
                    "text": [
                        "English       21\n",
                        "Polish        10\n",
                        "Portuguese     9\n",
                        "Spanish        8\n",
                        "Italian        4\n",
                        "Greek          4\n",
                        "Hungarian      3\n",
                        "Dutch          2\n",
                        "Afrikaans      2\n",
                        "Finnish        1\n",
                        "German         1\n",
                        "Estonian       1\n",
                        "French         1\n",
                        "Catalan        1\n",
                        "Name: Language, dtype: int64\n"
                    ]
                }
            ],
            "source": [
                "print(datame_demo[\"Language\"].value_counts())"
            ]
        },
        {
            "cell_type": "code",
            "execution_count": 3,
            "metadata": {},
            "outputs": [],
            "source": [
                "mes_data_english = Analysis.filter_data(demo_data=datame_demo, data=mes_data, column_name=\"Language\", column_value=\"English\")\n",
                "mes_data_polish = Analysis.filter_data(demo_data=datame_demo, data=mes_data, column_name=\"Language\", column_value=\"Polish\")\n",
                "mes_data_portuguese = Analysis.filter_data(demo_data=datame_demo, data=mes_data, column_name=\"Language\", column_value=\"Portuguese\")\n",
                "mes_data_spanish = Analysis.filter_data(demo_data=datame_demo, data=mes_data, column_name=\"Language\", column_value=\"Spanish\")"
            ]
        },
        {
            "cell_type": "code",
            "execution_count": 4,
            "metadata": {},
            "outputs": [
                {
                    "name": "stdout",
                    "output_type": "stream",
                    "text": [
                        "English:  (21, 6)\n",
                        "Polish:  (10, 6)\n",
                        "Portuguese:  (9, 6)\n",
                        "Spanish:  (8, 6)\n"
                    ]
                }
            ],
            "source": [
                "print(\"English: \", mes_data_english.shape)\n",
                "print(\"Polish: \", mes_data_polish.shape)\n",
                "print(\"Portuguese: \", mes_data_portuguese.shape)\n",
                "print(\"Spanish: \", mes_data_spanish.shape)"
            ]
        },
        {
            "cell_type": "code",
            "execution_count": 5,
            "metadata": {},
            "outputs": [
                {
                    "name": "stdout",
                    "output_type": "stream",
                    "text": [
                        "=================================\n",
                        "Question:  TP\n",
                        "=================================\n",
                        "Dataset 1 is normally distributed:  ShapiroResult(statistic=0.9510968327522278, pvalue=0.6814895272254944)\n",
                        "Dataset 2 is normally distributed:  ShapiroResult(statistic=0.8788962960243225, pvalue=0.15287365019321442)\n",
                        "Dataset 3 is normally distributed:  ShapiroResult(statistic=0.947001576423645, pvalue=0.6809835433959961)\n",
                        "Variances are equal:  BartlettResult(statistic=2.8957696675890907, pvalue=0.40797618428402516)\n",
                        "=================================\n",
                        "Question:  TN\n",
                        "=================================\n",
                        "Dataset 0 is normally distributed:  ShapiroResult(statistic=0.9106216430664062, pvalue=0.05648442357778549)\n",
                        "Dataset 1 is normally distributed:  ShapiroResult(statistic=0.9419295787811279, pvalue=0.5746780633926392)\n",
                        "Dataset 2 is normally distributed:  ShapiroResult(statistic=0.8683446645736694, pvalue=0.1180264800786972)\n",
                        "Dataset 3 is normally distributed:  ShapiroResult(statistic=0.9070096611976624, pvalue=0.3334861695766449)\n",
                        "Variances are equal:  BartlettResult(statistic=0.4076113015803523, pvalue=0.9386657287695519)\n",
                        "=================================\n",
                        "Question:  FP\n",
                        "=================================\n",
                        "Dataset 0 is normally distributed:  ShapiroResult(statistic=0.970793604850769, pvalue=0.7505518794059753)\n",
                        "Dataset 1 is normally distributed:  ShapiroResult(statistic=0.9072238206863403, pvalue=0.26246121525764465)\n",
                        "Dataset 2 is normally distributed:  ShapiroResult(statistic=0.9433363676071167, pvalue=0.6174255609512329)\n",
                        "Dataset 3 is normally distributed:  ShapiroResult(statistic=0.9257089495658875, pvalue=0.47787201404571533)\n",
                        "Variances are equal:  BartlettResult(statistic=1.3018697792822518, pvalue=0.7286891265885158)\n",
                        "Statistical difference:  KruskalResult(statistic=8.334498371169902, pvalue=0.0395815588238345)\n",
                        "Statistical difference (Mann-Whitney U) between dataset 0 and 3:  0.03945812641464816\n",
                        "Statistical difference (Mann-Whitney U) between dataset 3 and 0:  0.03945812641464816\n",
                        "Statistical difference:  F_onewayResult(statistic=2.8647358088610626, pvalue=0.047324028382213175)\n",
                        "Statistical difference (independent t-test) between dataset 0 and 3:  0.004477535035804339\n",
                        "Statistical difference (independent t-test) between dataset 3 and 0:  0.004477535035804339\n",
                        "=================================\n",
                        "Question:  FN\n",
                        "=================================\n",
                        "Dataset 0 is normally distributed:  ShapiroResult(statistic=0.935670793056488, pvalue=0.17875128984451294)\n",
                        "Dataset 1 is normally distributed:  ShapiroResult(statistic=0.9021291136741638, pvalue=0.23117414116859436)\n",
                        "Dataset 2 is normally distributed:  ShapiroResult(statistic=0.943423867225647, pvalue=0.6183667778968811)\n",
                        "Dataset 3 is normally distributed:  ShapiroResult(statistic=0.8994676470756531, pvalue=0.28578507900238037)\n",
                        "Variances are equal:  BartlettResult(statistic=3.558933568176303, pvalue=0.313198688486136)\n",
                        "=================================\n",
                        "Question:  REJ\n",
                        "=================================\n",
                        "Dataset 0 is normally distributed:  ShapiroResult(statistic=0.9579870700836182, pvalue=0.4765438139438629)\n",
                        "Dataset 1 is normally distributed:  ShapiroResult(statistic=0.9684535264968872, pvalue=0.876147985458374)\n",
                        "Dataset 2 is normally distributed:  ShapiroResult(statistic=0.9196360111236572, pvalue=0.389234721660614)\n",
                        "Dataset 3 is normally distributed:  ShapiroResult(statistic=0.9539787173271179, pvalue=0.7511897683143616)\n"
                    ]
                }
            ],
            "source": [
                "Analysis.print_question_statistics_multiple(mes_data_english, mes_data_polish, mes_data_portuguese, mes_data_spanish)"
            ]
        }
    ],
    "metadata": {
        "interpreter": {
            "hash": "1d6d5fb1668883c33dcb7e6d97ab558619c066a76f945629b031854efe98e76a"
        },
        "kernelspec": {
            "display_name": "Python 3.8.5 ('smart-rejector')",
            "language": "python",
            "name": "python3"
        },
        "language_info": {
            "codemirror_mode": {
                "name": "ipython",
                "version": 3
            },
            "file_extension": ".py",
            "mimetype": "text/x-python",
            "name": "python",
            "nbconvert_exporter": "python",
            "pygments_lexer": "ipython3",
            "version": "3.8.5"
        },
        "orig_nbformat": 4
    },
    "nbformat": 4,
    "nbformat_minor": 2
}
