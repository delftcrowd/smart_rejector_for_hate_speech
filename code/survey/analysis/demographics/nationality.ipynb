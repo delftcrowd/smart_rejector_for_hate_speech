{
    "cells": [
        {
            "cell_type": "code",
            "execution_count": 8,
            "metadata": {},
            "outputs": [],
            "source": [
                "import sys\n",
                "sys.path.insert(0,'..')\n",
                "from analysis import Analysis\n",
                "import pandas as pd\n",
                "import seaborn as sns\n",
                "import matplotlib.pyplot as plt\n",
                "PATHME_BATCH2_DEMO = \"F:\\Thesis\\Experiments\\Costs\\Results\\/demographics Batch-2 ME.csv\"\n",
                "PATHME_BATCH3_DEMO = \"F:\\Thesis\\Experiments\\Costs\\Results\\/demographics Batch-3 ME.csv\"\n",
                "PATHME_BATCH4_DEMO = \"F:\\Thesis\\Experiments\\Costs\\Results\\/demographics Batch-4 ME.csv\"\n",
                "\n",
                "PATHME_BATCH2 = \"F:\\Thesis\\Experiments\\Costs\\Results\\/24-06-2022 Batch-2 ME.csv\"\n",
                "PATHME_BATCH3 = \"F:\\Thesis\\Experiments\\Costs\\Results\\/27-06-2022 Batch-3 ME.csv\"\n",
                "PATHME_BATCH4 = \"F:\\Thesis\\Experiments\\Costs\\Results\\/28-06-2022 Batch-4 ME.csv\"\n",
                "\n",
                "datame_batch2_demo = pd.read_csv(PATHME_BATCH2_DEMO)\n",
                "datame_batch3_demo = pd.read_csv(PATHME_BATCH3_DEMO)\n",
                "datame_batch4_demo = pd.read_csv(PATHME_BATCH4_DEMO)\n",
                "\n",
                "datame_batch2 = pd.read_csv(PATHME_BATCH2)\n",
                "datame_batch3 = pd.read_csv(PATHME_BATCH3)\n",
                "datame_batch4 = pd.read_csv(PATHME_BATCH4)\n",
                "\n",
                "datame_demo = pd.concat([datame_batch2_demo, datame_batch3_demo, datame_batch4_demo], ignore_index=True)\n",
                "datame = pd.concat([datame_batch2, datame_batch3, datame_batch4], ignore_index=True)\n",
                "\n",
                "mes_data = Analysis.convert_me_data(datame)\n",
                "\n",
                "datame_demo = Analysis.filter_demographics_data(demo_data=datame_demo, data=mes_data)"
            ]
        },
        {
            "cell_type": "code",
            "execution_count": null,
            "metadata": {},
            "outputs": [],
            "source": [
                "print(datame_demo[\"Nationality\"].value_counts())"
            ]
        },
        {
            "cell_type": "code",
            "execution_count": null,
            "metadata": {},
            "outputs": [],
            "source": [
                "mes_data_south_africa = Analysis.filter_data(demo_data=datame_demo, data=mes_data, column_name=\"Nationality\", column_value=\"South Africa\")\n",
                "mes_data_poland = Analysis.filter_data(demo_data=datame_demo, data=mes_data, column_name=\"Nationality\", column_value=\"Poland\")\n",
                "mes_data_portugal = Analysis.filter_data(demo_data=datame_demo, data=mes_data, column_name=\"Nationality\", column_value=\"Portugal\")\n",
                "mes_data_spain = Analysis.filter_data(demo_data=datame_demo, data=mes_data, column_name=\"Nationality\", column_value=\"Spain\")"
            ]
        },
        {
            "cell_type": "code",
            "execution_count": null,
            "metadata": {},
            "outputs": [],
            "source": [
                "print(\"South Africa: \", mes_data_south_africa.shape)\n",
                "print(\"Poland: \", mes_data_poland.shape)\n",
                "print(\"Portugal: \", mes_data_portugal.shape)\n",
                "print(\"Spain: \", mes_data_spain.shape)"
            ]
        },
        {
            "cell_type": "code",
            "execution_count": null,
            "metadata": {},
            "outputs": [],
            "source": [
                "print(\"South Africa\")\n",
                "Analysis.print_means(mes_data_south_africa)\n",
                "print(\"Poland\")\n",
                "Analysis.print_means(mes_data_poland)\n",
                "print(\"Portugal\")\n",
                "Analysis.print_means(mes_data_portugal)\n",
                "print(\"Spain\")\n",
                "Analysis.print_means(mes_data_spain)"
            ]
        },
        {
            "cell_type": "code",
            "execution_count": null,
            "metadata": {},
            "outputs": [],
            "source": [
                "print(\"South Africa\")\n",
                "Analysis.print_reliabilities(mes_data_south_africa, scale=\"ME\")\n",
                "print(\"Poland\")\n",
                "Analysis.print_reliabilities(mes_data_poland, scale=\"ME\")\n",
                "print(\"Portugal\")\n",
                "Analysis.print_reliabilities(mes_data_portugal, scale=\"ME\")\n",
                "print(\"Spain\")\n",
                "Analysis.print_reliabilities(mes_data_spain, scale=\"ME\")"
            ]
        },
        {
            "cell_type": "code",
            "execution_count": null,
            "metadata": {},
            "outputs": [],
            "source": [
                "Analysis.print_question_statistics_multiple(mes_data_south_africa, mes_data_poland, mes_data_portugal, mes_data_spain)"
            ]
        }
    ],
    "metadata": {
        "interpreter": {
            "hash": "1d6d5fb1668883c33dcb7e6d97ab558619c066a76f945629b031854efe98e76a"
        },
        "kernelspec": {
            "display_name": "Python 3.8.5 ('smart-rejector')",
            "language": "python",
            "name": "python3"
        },
        "language_info": {
            "codemirror_mode": {
                "name": "ipython",
                "version": 3
            },
            "file_extension": ".py",
            "mimetype": "text/x-python",
            "name": "python",
            "nbconvert_exporter": "python",
            "pygments_lexer": "ipython3",
            "version": "3.8.5"
        },
        "orig_nbformat": 4
    },
    "nbformat": 4,
    "nbformat_minor": 2
}
