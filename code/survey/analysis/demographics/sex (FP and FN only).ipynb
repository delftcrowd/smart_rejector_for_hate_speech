{
 "cells": [
  {
   "cell_type": "code",
   "execution_count": 1,
   "metadata": {},
   "outputs": [],
   "source": [
    "import sys\n",
    "sys.path.insert(0,'..')\n",
    "from analysis import Analysis\n",
    "import pandas as pd\n",
    "import seaborn as sns\n",
    "import matplotlib.pyplot as plt\n",
    "PATH100_BATCH2_DEMO = \"F:\\Thesis\\Experiments\\Costs\\Results\\/demographics Batch-2 100.csv\"\n",
    "PATH100_BATCH3_DEMO = \"F:\\Thesis\\Experiments\\Costs\\Results\\/demographics Batch-3 100.csv\"\n",
    "PATH100_BATCH4_DEMO = \"F:\\Thesis\\Experiments\\Costs\\Results\\/demographics Batch-4 100.csv\"\n",
    "PATHME_BATCH2_DEMO = \"F:\\Thesis\\Experiments\\Costs\\Results\\/demographics Batch-2 ME.csv\"\n",
    "PATHME_BATCH3_DEMO = \"F:\\Thesis\\Experiments\\Costs\\Results\\/demographics Batch-3 ME.csv\"\n",
    "PATHME_BATCH4_DEMO = \"F:\\Thesis\\Experiments\\Costs\\Results\\/demographics Batch-4 ME.csv\"\n",
    "\n",
    "PATH100_BATCH2 = \"F:\\Thesis\\Experiments\\Costs\\Results\\/25-06-2022 Batch-2 100.csv\"\n",
    "PATH100_BATCH3 = \"F:\\Thesis\\Experiments\\Costs\\Results\\/27-06-2022 Batch-3 100.csv\"\n",
    "PATH100_BATCH4 = \"F:\\Thesis\\Experiments\\Costs\\Results\\/28-06-2022 Batch-4 100.csv\"\n",
    "PATHME_BATCH2 = \"F:\\Thesis\\Experiments\\Costs\\Results\\/24-06-2022 Batch-2 ME.csv\"\n",
    "PATHME_BATCH3 = \"F:\\Thesis\\Experiments\\Costs\\Results\\/27-06-2022 Batch-3 ME.csv\"\n",
    "PATHME_BATCH4 = \"F:\\Thesis\\Experiments\\Costs\\Results\\/28-06-2022 Batch-4 ME.csv\"\n",
    "data100_batch2_demo = pd.read_csv(PATH100_BATCH2_DEMO)\n",
    "data100_batch3_demo = pd.read_csv(PATH100_BATCH3_DEMO)\n",
    "data100_batch4_demo = pd.read_csv(PATH100_BATCH4_DEMO)\n",
    "datame_batch2_demo = pd.read_csv(PATHME_BATCH2_DEMO)\n",
    "datame_batch3_demo = pd.read_csv(PATHME_BATCH3_DEMO)\n",
    "datame_batch4_demo = pd.read_csv(PATHME_BATCH4_DEMO)\n",
    "\n",
    "data100_batch2 = pd.read_csv(PATH100_BATCH2)\n",
    "data100_batch3 = pd.read_csv(PATH100_BATCH3)\n",
    "data100_batch4 = pd.read_csv(PATH100_BATCH4)\n",
    "datame_batch2 = pd.read_csv(PATHME_BATCH2)\n",
    "datame_batch3 = pd.read_csv(PATHME_BATCH3)\n",
    "datame_batch4 = pd.read_csv(PATHME_BATCH4)\n",
    "\n",
    "data100_demo = pd.concat([data100_batch2_demo, data100_batch3_demo, data100_batch4_demo], ignore_index=True)\n",
    "datame_demo = pd.concat([datame_batch2_demo, datame_batch3_demo, datame_batch4_demo], ignore_index=True)\n",
    "\n",
    "data100 = pd.concat([data100_batch2, data100_batch3, data100_batch4], ignore_index=True)\n",
    "datame = pd.concat([datame_batch2, datame_batch3, datame_batch4], ignore_index=True)\n",
    "\n",
    "s100_data = Analysis.convert_100_data(data100)\n",
    "mes_data = Analysis.convert_me_data(datame)\n",
    "s100_data = s100_data[s100_data.columns.drop(list(s100_data.filter(regex='^(TP|TN).*')))]\n",
    "mes_data = mes_data[mes_data.columns.drop(list(mes_data.filter(regex='^(TP|TN).*')))]\n",
    "\n",
    "data100_demo = Analysis.filter_demographics_data(demo_data=data100_demo, data=s100_data)\n",
    "datame_demo = Analysis.filter_demographics_data(demo_data=datame_demo, data=mes_data)\n",
    "\n",
    "s100_data_male = Analysis.filter_data(demo_data=data100_demo, data=s100_data, column_name=\"Sex\", column_value=\"Male\")\n",
    "s100_data_female = Analysis.filter_data(demo_data=data100_demo, data=s100_data, column_name=\"Sex\", column_value=\"Female\")\n",
    "mes_data_male = Analysis.filter_data(demo_data=datame_demo, data=mes_data, column_name=\"Sex\", column_value=\"Male\")\n",
    "mes_data_female = Analysis.filter_data(demo_data=datame_demo, data=mes_data, column_name=\"Sex\", column_value=\"Female\")"
   ]
  },
  {
   "cell_type": "code",
   "execution_count": 2,
   "metadata": {},
   "outputs": [
    {
     "name": "stdout",
     "output_type": "stream",
     "text": [
      "(34, 66)\n",
      "(34, 66)\n",
      "(36, 66)\n",
      "(32, 66)\n"
     ]
    }
   ],
   "source": [
    "print(s100_data_male.shape)\n",
    "print(s100_data_female.shape)\n",
    "\n",
    "print(mes_data_male.shape)\n",
    "print(mes_data_female.shape)"
   ]
  },
  {
   "cell_type": "code",
   "execution_count": 3,
   "metadata": {},
   "outputs": [
    {
     "name": "stdout",
     "output_type": "stream",
     "text": [
      "ME scale Male\n",
      "===================\n",
      "TP nan\n",
      "TN nan\n",
      "FP -14.73383377679222\n",
      "FN -29.7191722972973\n",
      "REJ -4.79042904290429\n",
      "===================\n",
      "ME scale Female\n",
      "===================\n",
      "TP nan\n",
      "TN nan\n",
      "FP -17.110417438541667\n",
      "FN -29.668353174047617\n",
      "REJ -4.896220476576994\n",
      "===================\n",
      "100-level scale Male\n",
      "===================\n",
      "TP nan\n",
      "TN nan\n",
      "FP -53.9375\n",
      "FN -62.8125\n",
      "REJ -21.5625\n",
      "===================\n",
      "100-level scale Female\n",
      "===================\n",
      "TP nan\n",
      "TN nan\n",
      "FP -47.875\n",
      "FN -60.75\n",
      "REJ -15.125\n",
      "===================\n"
     ]
    }
   ],
   "source": [
    "print(\"ME scale Male\")\n",
    "Analysis.print_means(mes_data_male)\n",
    "print(\"ME scale Female\")\n",
    "Analysis.print_means(mes_data_female)\n",
    "\n",
    "print(\"100-level scale Male\")\n",
    "Analysis.print_means(s100_data_male)\n",
    "print(\"100-level scale Female\")\n",
    "Analysis.print_means(s100_data_female)\n"
   ]
  },
  {
   "cell_type": "code",
   "execution_count": 4,
   "metadata": {},
   "outputs": [
    {
     "name": "stdout",
     "output_type": "stream",
     "text": [
      "Statistics ME\n",
      "Cohen's d 0.034069155060392\n",
      "Shapiro Wilk normality test MES:  ShapiroResult(statistic=0.7194284200668335, pvalue=1.8394393919152208e-05)\n",
      "Shapiro Wilk normality test S100:  ShapiroResult(statistic=0.7212028503417969, pvalue=1.9456712834653445e-05)\n",
      "Bartlett's test for equal variances:   BartlettResult(statistic=0.06703935147318327, pvalue=0.7956972867285572)\n",
      "Mann-Whitney U test:  MannwhitneyuResult(statistic=296.0, pvalue=0.876331129733392)\n",
      "Unpaired T-test:  Ttest_indResult(statistic=0.11553412593292031, pvalue=0.908524657708015)\n",
      "Pearson:  (0.9102327174579918, 6.905837366175413e-10)\n",
      "Spearman:  SpearmanrResult(correlation=0.8687561379580896, pvalue=3.69093276102808e-08)\n",
      "Kendall:  KendalltauResult(correlation=0.730702122629155, pvalue=1.4430363472802828e-06)\n",
      "==========================\n",
      "Statistics S100\n",
      "Cohen's d -0.12912443107312427\n",
      "Shapiro Wilk normality test MES:  ShapiroResult(statistic=0.8826395869255066, pvalue=0.009395483881235123)\n",
      "Shapiro Wilk normality test S100:  ShapiroResult(statistic=0.8369896411895752, pvalue=0.001265611732378602)\n",
      "Bartlett's test for equal variances:   BartlettResult(statistic=0.05444265051669196, pvalue=0.8155055614233742)\n",
      "Mann-Whitney U test:  MannwhitneyuResult(statistic=264.0, pvalue=0.6236197957679986)\n",
      "Unpaired T-test:  Ttest_indResult(statistic=-0.4378822502106213, pvalue=0.6635209699168073)\n",
      "Pearson:  (0.8088312395415338, 1.7209819873571524e-06)\n",
      "Spearman:  SpearmanrResult(correlation=0.7819645273133398, pvalue=6.388852426112531e-06)\n",
      "Kendall:  KendalltauResult(correlation=0.6379732953332081, pvalue=3.503203054451983e-05)\n"
     ]
    }
   ],
   "source": [
    "print(\"Statistics ME\")\n",
    "Analysis.print_statistics(data_mes=mes_data_male, data_s100=mes_data_female)\n",
    "print(\"==========================\")\n",
    "print(\"Statistics S100\")\n",
    "Analysis.print_statistics(data_mes=s100_data_male, data_s100=s100_data_female)"
   ]
  }
 ],
 "metadata": {
  "interpreter": {
   "hash": "1d6d5fb1668883c33dcb7e6d97ab558619c066a76f945629b031854efe98e76a"
  },
  "kernelspec": {
   "display_name": "Python 3.8.5 ('smart-rejector')",
   "language": "python",
   "name": "python3"
  },
  "language_info": {
   "codemirror_mode": {
    "name": "ipython",
    "version": 3
   },
   "file_extension": ".py",
   "mimetype": "text/x-python",
   "name": "python",
   "nbconvert_exporter": "python",
   "pygments_lexer": "ipython3",
   "version": "3.8.5"
  },
  "orig_nbformat": 4
 },
 "nbformat": 4,
 "nbformat_minor": 2
}
