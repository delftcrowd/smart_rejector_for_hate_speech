{
 "cells": [
  {
   "cell_type": "code",
   "execution_count": 1,
   "metadata": {},
   "outputs": [],
   "source": [
    "import sys\n",
    "sys.path.insert(0,'..')\n",
    "from analysis import Analysis\n",
    "import pandas as pd\n",
    "import seaborn as sns\n",
    "import matplotlib.pyplot as plt\n",
    "PATH100_BATCH2_DEMO = \"F:\\Thesis\\Experiments\\Costs\\Results\\/demographics Batch-2 100.csv\"\n",
    "PATH100_BATCH3_DEMO = \"F:\\Thesis\\Experiments\\Costs\\Results\\/demographics Batch-3 100.csv\"\n",
    "PATH100_BATCH4_DEMO = \"F:\\Thesis\\Experiments\\Costs\\Results\\/demographics Batch-4 100.csv\"\n",
    "PATHME_BATCH2_DEMO = \"F:\\Thesis\\Experiments\\Costs\\Results\\/demographics Batch-2 ME.csv\"\n",
    "PATHME_BATCH3_DEMO = \"F:\\Thesis\\Experiments\\Costs\\Results\\/demographics Batch-3 ME.csv\"\n",
    "PATHME_BATCH4_DEMO = \"F:\\Thesis\\Experiments\\Costs\\Results\\/demographics Batch-4 ME.csv\"\n",
    "\n",
    "PATH100_BATCH2 = \"F:\\Thesis\\Experiments\\Costs\\Results\\/25-06-2022 Batch-2 100.csv\"\n",
    "PATH100_BATCH3 = \"F:\\Thesis\\Experiments\\Costs\\Results\\/27-06-2022 Batch-3 100.csv\"\n",
    "PATH100_BATCH4 = \"F:\\Thesis\\Experiments\\Costs\\Results\\/28-06-2022 Batch-4 100.csv\"\n",
    "PATHME_BATCH2 = \"F:\\Thesis\\Experiments\\Costs\\Results\\/24-06-2022 Batch-2 ME.csv\"\n",
    "PATHME_BATCH3 = \"F:\\Thesis\\Experiments\\Costs\\Results\\/27-06-2022 Batch-3 ME.csv\"\n",
    "PATHME_BATCH4 = \"F:\\Thesis\\Experiments\\Costs\\Results\\/28-06-2022 Batch-4 ME.csv\"\n",
    "data100_batch2_demo = pd.read_csv(PATH100_BATCH2_DEMO)\n",
    "data100_batch3_demo = pd.read_csv(PATH100_BATCH3_DEMO)\n",
    "data100_batch4_demo = pd.read_csv(PATH100_BATCH4_DEMO)\n",
    "datame_batch2_demo = pd.read_csv(PATHME_BATCH2_DEMO)\n",
    "datame_batch3_demo = pd.read_csv(PATHME_BATCH3_DEMO)\n",
    "datame_batch4_demo = pd.read_csv(PATHME_BATCH4_DEMO)\n",
    "\n",
    "data100_batch2 = pd.read_csv(PATH100_BATCH2)\n",
    "data100_batch3 = pd.read_csv(PATH100_BATCH3)\n",
    "data100_batch4 = pd.read_csv(PATH100_BATCH4)\n",
    "datame_batch2 = pd.read_csv(PATHME_BATCH2)\n",
    "datame_batch3 = pd.read_csv(PATHME_BATCH3)\n",
    "datame_batch4 = pd.read_csv(PATHME_BATCH4)\n",
    "\n",
    "data100_demo = pd.concat([data100_batch2_demo, data100_batch3_demo, data100_batch4_demo], ignore_index=True)\n",
    "datame_demo = pd.concat([datame_batch2_demo, datame_batch3_demo, datame_batch4_demo], ignore_index=True)\n",
    "\n",
    "data100 = pd.concat([data100_batch2, data100_batch3, data100_batch4], ignore_index=True)\n",
    "datame = pd.concat([datame_batch2, datame_batch3, datame_batch4], ignore_index=True)\n",
    "\n",
    "s100_data = Analysis.convert_100_data(data100)\n",
    "mes_data = Analysis.convert_me_data(datame)\n",
    "s100_data = s100_data[s100_data.columns.drop(list(s100_data.filter(regex='^(TP|TN).*')))]\n",
    "mes_data = mes_data[mes_data.columns.drop(list(mes_data.filter(regex='^(TP|TN).*')))]\n",
    "\n",
    "data100_demo = Analysis.filter_demographics_data(demo_data=data100_demo, data=s100_data)\n",
    "datame_demo = Analysis.filter_demographics_data(demo_data=datame_demo, data=mes_data)\n",
    "\n",
    "s100_data_student = Analysis.filter_data(demo_data=data100_demo, data=s100_data, column_name=\"Student status\", column_value=\"Yes\")\n",
    "s100_data_nostudent = Analysis.filter_data(demo_data=data100_demo, data=s100_data, column_name=\"Student status\", column_value=\"No\")\n",
    "mes_data_student = Analysis.filter_data(demo_data=datame_demo, data=mes_data, column_name=\"Student status\", column_value=\"Yes\")\n",
    "mes_data_nostudent = Analysis.filter_data(demo_data=datame_demo, data=mes_data, column_name=\"Student status\", column_value=\"No\")"
   ]
  },
  {
   "cell_type": "code",
   "execution_count": 2,
   "metadata": {},
   "outputs": [
    {
     "name": "stdout",
     "output_type": "stream",
     "text": [
      "(40, 66)\n",
      "(26, 66)\n",
      "(37, 66)\n",
      "(26, 66)\n"
     ]
    }
   ],
   "source": [
    "print(s100_data_student.shape)\n",
    "print(s100_data_nostudent.shape)\n",
    "\n",
    "print(mes_data_student.shape)\n",
    "print(mes_data_nostudent.shape)"
   ]
  },
  {
   "cell_type": "code",
   "execution_count": 3,
   "metadata": {},
   "outputs": [
    {
     "name": "stdout",
     "output_type": "stream",
     "text": [
      "ME scale student\n",
      "===================\n",
      "TP nan\n",
      "TN nan\n",
      "FP -14.625000008814611\n",
      "FN -28.25\n",
      "REJ -2.15625\n",
      "===================\n",
      "ME scale nostudent\n",
      "===================\n",
      "TP nan\n",
      "TN nan\n",
      "FP -22.296656350227778\n",
      "FN -36.51455611122337\n",
      "REJ -6.526611015693406\n",
      "===================\n",
      "100-level scale student\n",
      "===================\n",
      "TP nan\n",
      "TN nan\n",
      "FP -39.1875\n",
      "FN -62.6875\n",
      "REJ -17.5\n",
      "===================\n",
      "100-level scale nostudent\n",
      "===================\n",
      "TP nan\n",
      "TN nan\n",
      "FP -56.9375\n",
      "FN -69.875\n",
      "REJ -17.8125\n",
      "===================\n"
     ]
    }
   ],
   "source": [
    "print(\"ME scale student\")\n",
    "Analysis.print_means(mes_data_student)\n",
    "print(\"ME scale nostudent\")\n",
    "Analysis.print_means(mes_data_nostudent)\n",
    "\n",
    "print(\"100-level scale student\")\n",
    "Analysis.print_means(s100_data_student)\n",
    "print(\"100-level scale nostudent\")\n",
    "Analysis.print_means(s100_data_nostudent)\n"
   ]
  },
  {
   "cell_type": "code",
   "execution_count": 4,
   "metadata": {},
   "outputs": [
    {
     "name": "stdout",
     "output_type": "stream",
     "text": [
      "Statistics ME\n",
      "Cohen's d 0.28259158723142486\n",
      "Shapiro Wilk normality test MES:  ShapiroResult(statistic=0.6440318822860718, pvalue=1.993360683627543e-06)\n",
      "Shapiro Wilk normality test S100:  ShapiroResult(statistic=0.8504528999328613, pvalue=0.0022288155741989613)\n",
      "Bartlett's test for equal variances:   BartlettResult(statistic=0.14842810337632542, pvalue=0.7000420674782957)\n",
      "Mann-Whitney U test:  MannwhitneyuResult(statistic=361.5, pvalue=0.12987522228246148)\n",
      "Unpaired T-test:  Ttest_indResult(statistic=0.9583146975293263, pvalue=0.3429140538687948)\n",
      "Pearson:  (0.8831259003648151, 1.1050198805579884e-08)\n",
      "Spearman:  SpearmanrResult(correlation=0.7981935415377543, pvalue=2.9605556329931606e-06)\n",
      "Kendall:  KendalltauResult(correlation=0.6619351539817457, pvalue=1.3955567635020005e-05)\n",
      "==========================\n",
      "Statistics S100\n",
      "Cohen's d 0.217476915272359\n",
      "Shapiro Wilk normality test MES:  ShapiroResult(statistic=0.8007878065109253, pvalue=0.00030344922561198473)\n",
      "Shapiro Wilk normality test S100:  ShapiroResult(statistic=0.8214820027351379, pvalue=0.0006756024085916579)\n",
      "Bartlett's test for equal variances:   BartlettResult(statistic=0.0001613840111681287, pvalue=0.9898641859831724)\n",
      "Mann-Whitney U test:  MannwhitneyuResult(statistic=322.0, pvalue=0.4778565949901069)\n",
      "Unpaired T-test:  Ttest_indResult(statistic=0.7375001015446571, pvalue=0.46456380821514476)\n",
      "Pearson:  (0.6941952456222572, 0.00016789007024371687)\n",
      "Spearman:  SpearmanrResult(correlation=0.7959464602516585, pvalue=3.306575713979995e-06)\n",
      "Kendall:  KendalltauResult(correlation=0.6628015928625047, pvalue=3.133865737119851e-05)\n"
     ]
    }
   ],
   "source": [
    "print(\"Statistics ME\")\n",
    "Analysis.print_statistics(data_mes=mes_data_student, data_s100=mes_data_nostudent)\n",
    "print(\"==========================\")\n",
    "print(\"Statistics S100\")\n",
    "Analysis.print_statistics(data_mes=s100_data_student, data_s100=s100_data_nostudent)"
   ]
  }
 ],
 "metadata": {
  "interpreter": {
   "hash": "1d6d5fb1668883c33dcb7e6d97ab558619c066a76f945629b031854efe98e76a"
  },
  "kernelspec": {
   "display_name": "Python 3.8.5 ('smart-rejector')",
   "language": "python",
   "name": "python3"
  },
  "language_info": {
   "codemirror_mode": {
    "name": "ipython",
    "version": 3
   },
   "file_extension": ".py",
   "mimetype": "text/x-python",
   "name": "python",
   "nbconvert_exporter": "python",
   "pygments_lexer": "ipython3",
   "version": "3.8.5"
  },
  "orig_nbformat": 4
 },
 "nbformat": 4,
 "nbformat_minor": 2
}
