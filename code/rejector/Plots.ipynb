{
 "cells": [
  {
   "cell_type": "markdown",
   "metadata": {},
   "source": [
    "# Metric plots\n",
    "This notebook generates the plots for the final paper.\n",
    "\n",
    "It loads the datasets from all 3 models.\n",
    "Each model is trained on the Waseem and Hovy (2016) dataset and evaluated on two test datasets:\n",
    "\n",
    "1. Waseem and Hovy (2016): to simulate seen data.\n",
    "2. SemEval (2019): to simulate unseen data."
   ]
  },
  {
   "cell_type": "markdown",
   "metadata": {},
   "source": [
    "### Metric results (all survey values)\n",
    "The plots below do take all values of TP, TN, FP, FN, and Rejection into account."
   ]
  },
  {
   "cell_type": "code",
   "execution_count": 1,
   "metadata": {},
   "outputs": [],
   "source": [
    "from rejector.prediction import Prediction\n",
    "from rejector.values import Values\n",
    "from rejector.metric import Metric\n",
    "\n",
    "values = Values(value_TP=18.149543604085686, value_TN=36.31953463203463, value_FP=16.68669949423102, value_FN=28.08375563063063,value_rejection=4.82167904290429)\n",
    "\n",
    "predictions = Prediction.load(\"input/lr-waseem-waseem.p\", gold_class=\"Hate\")\n",
    "metric_lr_waseem_waseem = Metric(values, predictions)\n",
    "predictions = Prediction.load(\"input/lr-waseem-semeval.p\", gold_class=\"Hate\")\n",
    "metric_lr_waseem_semeval = Metric(values, predictions)\n",
    "predictions = Prediction.load(\"input/distilbert-waseem-waseem.p\", gold_class=\"Hate\")\n",
    "metric_distilbert_waseeem_waseem = Metric(values, predictions)\n",
    "predictions = Prediction.load(\"input/distilbert-waseem-semeval.p\", gold_class=\"Hate\")\n",
    "metric_distilbert_waseeem_semeval = Metric(values, predictions)\n",
    "predictions = Prediction.load(\"input/cnn-waseem-waseem.p\", gold_class=\"Hate\")\n",
    "metric_cnn_waseeem_waseem = Metric(values, predictions)\n",
    "predictions = Prediction.load(\"input/cnn-waseem-semeval.p\", gold_class=\"Hate\")\n",
    "metric_cnn_waseeem_semeval = Metric(values, predictions)\n",
    "\n",
    "lr_seen = (\"LR\", metric_lr_waseem_waseem)\n",
    "distilbert_seen = (\"DistilBERT\", metric_distilbert_waseeem_waseem)\n",
    "cnn_seen = (\"CNN\", metric_cnn_waseeem_waseem)\n",
    "\n",
    "lr_unseen = (\"LR\", metric_lr_waseem_semeval)\n",
    "distilbert_unseen = (\"DistilBERT\", metric_distilbert_waseeem_semeval)\n",
    "cnn_unseen = (\"CNN\", metric_cnn_waseeem_semeval)\n",
    "\n",
    "metrics_seen = [lr_seen, distilbert_seen, cnn_seen]\n",
    "metrics_unseen = [lr_unseen, distilbert_unseen, cnn_unseen]"
   ]
  },
  {
   "cell_type": "code",
   "execution_count": null,
   "metadata": {},
   "outputs": [],
   "source": [
    "Metric.plot_multiple_effectiveness(metrics=metrics_seen, filename=\"metric-all-values-seen-data.pdf\", use_pdf=False)"
   ]
  },
  {
   "cell_type": "code",
   "execution_count": null,
   "metadata": {},
   "outputs": [],
   "source": [
    "Metric.plot_multiple_effectiveness(metrics=metrics_unseen, filename=\"metric-all-values-unseen-data.pdf\", use_pdf=False)"
   ]
  },
  {
   "cell_type": "markdown",
   "metadata": {},
   "source": [
    "### Metric results (TP and TN set to 0)\n",
    "The plots below do take all values into account but TP and TN are set to 0."
   ]
  },
  {
   "cell_type": "code",
   "execution_count": null,
   "metadata": {},
   "outputs": [],
   "source": [
    "values = Values(value_TP=0.0, value_TN=0.0, value_FP=16.68669949423102, value_FN=28.08375563063063,value_rejection=4.82167904290429)\n",
    "\n",
    "predictions = Prediction.load(\"input/lr-waseem-waseem.p\", gold_class=\"Hate\")\n",
    "metric_lr_waseem_waseem = Metric(values, predictions)\n",
    "predictions = Prediction.load(\"input/lr-waseem-semeval.p\", gold_class=\"Hate\")\n",
    "metric_lr_waseem_semeval = Metric(values, predictions)\n",
    "predictions = Prediction.load(\"input/distilbert-waseem-waseem.p\", gold_class=\"Hate\")\n",
    "metric_distilbert_waseeem_waseem = Metric(values, predictions)\n",
    "predictions = Prediction.load(\"input/distilbert-waseem-semeval.p\", gold_class=\"Hate\")\n",
    "metric_distilbert_waseeem_semeval = Metric(values, predictions)\n",
    "predictions = Prediction.load(\"input/cnn-waseem-waseem.p\", gold_class=\"Hate\")\n",
    "metric_cnn_waseeem_waseem = Metric(values, predictions)\n",
    "predictions = Prediction.load(\"input/cnn-waseem-semeval.p\", gold_class=\"Hate\")\n",
    "metric_cnn_waseeem_semeval = Metric(values, predictions)\n",
    "\n",
    "lr_seen = (\"LR\", metric_lr_waseem_waseem)\n",
    "distilbert_seen = (\"DistilBERT\", metric_distilbert_waseeem_waseem)\n",
    "cnn_seen = (\"CNN\", metric_cnn_waseeem_waseem)\n",
    "\n",
    "lr_unseen = (\"LR\", metric_lr_waseem_semeval)\n",
    "distilbert_unseen = (\"DistilBERT\", metric_distilbert_waseeem_semeval)\n",
    "cnn_unseen = (\"CNN\", metric_cnn_waseeem_semeval)\n",
    "\n",
    "metrics_seen = [lr_seen, distilbert_seen, cnn_seen]\n",
    "metrics_unseen = [lr_unseen, distilbert_unseen, cnn_unseen]"
   ]
  },
  {
   "cell_type": "code",
   "execution_count": null,
   "metadata": {},
   "outputs": [],
   "source": [
    "Metric.plot_multiple_effectiveness(metrics=metrics_seen, filename=\"metric-tptn0-seen-data.pdf\", use_pdf=False)"
   ]
  },
  {
   "cell_type": "code",
   "execution_count": null,
   "metadata": {},
   "outputs": [],
   "source": [
    "Metric.plot_multiple_effectiveness(metrics=metrics_unseen, filename=\"metric-tptn0-unseen-data.pdf\", use_pdf=False)"
   ]
  }
 ],
 "metadata": {
  "kernelspec": {
   "display_name": "Python 3.8.5 ('smart-rejector')",
   "language": "python",
   "name": "python3"
  },
  "language_info": {
   "codemirror_mode": {
    "name": "ipython",
    "version": 3
   },
   "file_extension": ".py",
   "mimetype": "text/x-python",
   "name": "python",
   "nbconvert_exporter": "python",
   "pygments_lexer": "ipython3",
   "version": "3.8.5"
  },
  "orig_nbformat": 4,
  "vscode": {
   "interpreter": {
    "hash": "1d6d5fb1668883c33dcb7e6d97ab558619c066a76f945629b031854efe98e76a"
   }
  }
 },
 "nbformat": 4,
 "nbformat_minor": 2
}
