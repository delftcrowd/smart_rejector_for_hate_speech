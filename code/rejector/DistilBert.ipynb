{
 "cells": [
  {
   "cell_type": "code",
   "execution_count": null,
   "metadata": {},
   "outputs": [],
   "source": [
    "from rejector.prediction import Prediction\n",
    "from rejector.values import Values\n",
    "from rejector.metric import Metric\n",
    "import logging\n",
    "logging.basicConfig()\n",
    "logging.getLogger().setLevel(logging.INFO)\n",
    "\n",
    "values = Values(value_TP=0, value_TN=0, value_FP=25.420172, value_FN=35.27941,value_rejection=16.937694)"
   ]
  },
  {
   "cell_type": "markdown",
   "metadata": {},
   "source": [
    "# DistilBERT metric results"
   ]
  },
  {
   "cell_type": "markdown",
   "metadata": {},
   "source": [
    "### Trained on: SemEval (2019) | Tested on: Waseem and Hovy (2016)"
   ]
  },
  {
   "cell_type": "code",
   "execution_count": null,
   "metadata": {},
   "outputs": [],
   "source": [
    "predictions = Prediction.load(\"input/distilbert-semeval-waseem.p\", gold_class=\"Hate\")\n",
    "metric = Metric(values, predictions)\n",
    "metric.plot_pdfs()\n",
    "metric.plot_effectiveness()"
   ]
  },
  {
   "cell_type": "code",
   "execution_count": null,
   "metadata": {},
   "outputs": [],
   "source": [
    "accepted = list(filter(lambda p: p.predicted_value >= 0.7528, predictions))\n",
    "correct_accepted = list(filter(lambda p: p.predicted_class == p.actual_class, accepted))\n",
    "rejected = list(filter(lambda p: p.predicted_value < 0.7528, predictions))\n",
    "print(\"Num accepted: \", len(accepted))\n",
    "print(\"Accuracy accepted: \", len(correct_accepted) / len(accepted))\n",
    "print(\"Num rejected: \", len(rejected))"
   ]
  },
  {
   "cell_type": "markdown",
   "metadata": {},
   "source": [
    "### Trained on: SemEval (2019) | Tested on: SemEval (2019)"
   ]
  },
  {
   "cell_type": "code",
   "execution_count": null,
   "metadata": {},
   "outputs": [],
   "source": [
    "predictions = Prediction.load(\"input/distilbert-semeval-semeval.p\", gold_class=\"Hate\")\n",
    "metric = Metric(values, predictions)\n",
    "metric.plot_pdfs()\n",
    "metric.plot_effectiveness()"
   ]
  },
  {
   "cell_type": "code",
   "execution_count": null,
   "metadata": {},
   "outputs": [],
   "source": [
    "accepted = list(filter(lambda p: p.predicted_value >= 0.7377, predictions))\n",
    "correct_accepted = list(filter(lambda p: p.predicted_class == p.actual_class, accepted))\n",
    "rejected = list(filter(lambda p: p.predicted_value < 0.7377, predictions))\n",
    "print(\"Num accepted: \", len(accepted))\n",
    "print(\"Accuracy accepted: \", len(correct_accepted) / len(accepted))\n",
    "print(\"Num rejected: \", len(rejected))"
   ]
  },
  {
   "cell_type": "markdown",
   "metadata": {},
   "source": [
    "### Trained on: Waseem and Hovy (2016) | Tested on: Waseem and Hovy (2016)"
   ]
  },
  {
   "cell_type": "code",
   "execution_count": null,
   "metadata": {},
   "outputs": [],
   "source": [
    "predictions = Prediction.load(\"input/distilbert-waseem-waseem.p\", gold_class=\"Hate\")\n",
    "metric = Metric(values, predictions)\n",
    "metric.plot_pdfs()\n",
    "metric.plot_effectiveness()"
   ]
  },
  {
   "cell_type": "code",
   "execution_count": null,
   "metadata": {},
   "outputs": [],
   "source": [
    "accepted = list(filter(lambda p: p.predicted_value >= 0.7377, predictions))\n",
    "correct_accepted = list(filter(lambda p: p.predicted_class == p.actual_class, accepted))\n",
    "rejected = list(filter(lambda p: p.predicted_value < 0.7377, predictions))\n",
    "print(\"Num accepted: \", len(accepted))\n",
    "print(\"Accuracy accepted: \", len(correct_accepted) / len(accepted))\n",
    "print(\"Num rejected: \", len(rejected))"
   ]
  },
  {
   "cell_type": "markdown",
   "metadata": {},
   "source": [
    "### Trained on: Waseem and Hovy (2016) | Tested on: SemEval (2019)"
   ]
  },
  {
   "cell_type": "code",
   "execution_count": null,
   "metadata": {},
   "outputs": [],
   "source": [
    "predictions = Prediction.load(\"input/distilbert-waseem-semeval.p\", gold_class=\"Hate\")\n",
    "metric = Metric(values, predictions)\n",
    "metric.plot_pdfs()\n",
    "metric.plot_effectiveness()"
   ]
  },
  {
   "cell_type": "code",
   "execution_count": null,
   "metadata": {},
   "outputs": [],
   "source": [
    "accepted = list(filter(lambda p: p.predicted_value >= 0.7377, predictions))\n",
    "correct_accepted = list(filter(lambda p: p.predicted_class == p.actual_class, accepted))\n",
    "rejected = list(filter(lambda p: p.predicted_value < 0.7377, predictions))\n",
    "print(\"Num accepted: \", len(accepted))\n",
    "print(\"Accuracy accepted: \", len(correct_accepted) / len(accepted))\n",
    "print(\"Num rejected: \", len(rejected))"
   ]
  }
 ],
 "metadata": {
  "kernelspec": {
   "display_name": "Python 3.8.5 ('smart-rejector')",
   "language": "python",
   "name": "python3"
  },
  "language_info": {
   "codemirror_mode": {
    "name": "ipython",
    "version": 3
   },
   "file_extension": ".py",
   "mimetype": "text/x-python",
   "name": "python",
   "nbconvert_exporter": "python",
   "pygments_lexer": "ipython3",
   "version": "3.8.5"
  },
  "orig_nbformat": 4,
  "vscode": {
   "interpreter": {
    "hash": "1d6d5fb1668883c33dcb7e6d97ab558619c066a76f945629b031854efe98e76a"
   }
  }
 },
 "nbformat": 4,
 "nbformat_minor": 2
}
