{
 "cells": [
  {
   "cell_type": "code",
   "execution_count": null,
   "metadata": {},
   "outputs": [],
   "source": [
    "from rejector.prediction import Prediction\n",
    "from rejector.values import Values\n",
    "from rejector.metric import Metric\n",
    "import logging\n",
    "logging.basicConfig()\n",
    "logging.getLogger().setLevel(logging.INFO)"
   ]
  },
  {
   "cell_type": "markdown",
   "metadata": {},
   "source": [
    "## DistilBERT metric results\n",
    "Trained on: Waseem and Hovy (2016)\n",
    "Tested on: SemEval (2019)"
   ]
  },
  {
   "cell_type": "code",
   "execution_count": null,
   "metadata": {},
   "outputs": [],
   "source": [
    "predictions = Prediction.load(\"input/distilbert-waseem-semeval.p\", gold_class=\"Hate\")\n",
    "values = Values(value_TP=0, value_TN=0, value_FP=0.161, value_FN=0.335,value_rejection=0.084)\n",
    "metric = Metric(values, predictions)\n",
    "metric.plot_pdfs()\n",
    "metric.plot_effectiveness()"
   ]
  },
  {
   "cell_type": "code",
   "execution_count": null,
   "metadata": {},
   "outputs": [],
   "source": [
    "accepted = list(filter(lambda p: p.predicted_value >= 0.9289, predictions))\n",
    "correct_accepted = list(filter(lambda p: p.predicted_class == p.actual_class, accepted))\n",
    "rejected = list(filter(lambda p: p.predicted_value < 0.9289, predictions))\n",
    "print(\"Num accepted: \", len(accepted))\n",
    "print(\"Accuracy accepted: \", len(correct_accepted) / len(accepted))\n",
    "print(\"Num rejected: \", len(rejected))"
   ]
  },
  {
   "cell_type": "markdown",
   "metadata": {},
   "source": [
    "## DistilBERT metric results\n",
    "Trained on: Waseem and Hovy (2016)\n",
    "Tested on: Waseem and Hovy (2016)"
   ]
  },
  {
   "cell_type": "code",
   "execution_count": null,
   "metadata": {},
   "outputs": [],
   "source": [
    "predictions = Prediction.load(\"input/distilbert-waseem-waseem.p\", gold_class=\"Hate\")\n",
    "values = Values(value_TP=0, value_TN=0, value_FP=0.161, value_FN=0.335,value_rejection=0.084)\n",
    "metric = Metric(values, predictions)\n",
    "metric.plot_pdfs()\n",
    "metric.plot_effectiveness()"
   ]
  },
  {
   "cell_type": "code",
   "execution_count": null,
   "metadata": {},
   "outputs": [],
   "source": [
    "accepted = list(filter(lambda p: p.predicted_value >= 0.7137, predictions))\n",
    "correct_accepted = list(filter(lambda p: p.predicted_class == p.actual_class, accepted))\n",
    "rejected = list(filter(lambda p: p.predicted_value < 0.7137, predictions))\n",
    "print(\"Num accepted: \", len(accepted))\n",
    "print(\"Accuracy accepted: \", len(correct_accepted) / len(accepted))\n",
    "print(\"Num rejected: \", len(rejected))"
   ]
  }
 ],
 "metadata": {
  "kernelspec": {
   "display_name": "Python 3.8.5 ('smart-rejector')",
   "language": "python",
   "name": "python3"
  },
  "language_info": {
   "codemirror_mode": {
    "name": "ipython",
    "version": 3
   },
   "file_extension": ".py",
   "mimetype": "text/x-python",
   "name": "python",
   "nbconvert_exporter": "python",
   "pygments_lexer": "ipython3",
   "version": "3.8.5"
  },
  "orig_nbformat": 4,
  "vscode": {
   "interpreter": {
    "hash": "1d6d5fb1668883c33dcb7e6d97ab558619c066a76f945629b031854efe98e76a"
   }
  }
 },
 "nbformat": 4,
 "nbformat_minor": 2
}
