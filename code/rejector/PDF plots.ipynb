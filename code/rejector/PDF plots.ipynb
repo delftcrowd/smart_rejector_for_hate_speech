{
 "cells": [
  {
   "cell_type": "markdown",
   "metadata": {},
   "source": [
    "# Metric plots\n",
    "This notebook generates the plots for the final paper.\n",
    "\n",
    "It loads the datasets from all 3 models.\n",
    "Each model is trained on the Waseem and Hovy (2016) dataset and evaluated on two test datasets:\n",
    "\n",
    "1. Waseem and Hovy (2016): to simulate seen data.\n",
    "2. SemEval (2019): to simulate unseen data."
   ]
  },
  {
   "cell_type": "markdown",
   "metadata": {},
   "source": [
    "### Metric results (all survey values)\n",
    "The plots below do take all values of TP, TN, FP, FN, and Rejection into account."
   ]
  },
  {
   "cell_type": "code",
   "execution_count": 1,
   "metadata": {},
   "outputs": [
    {
     "name": "stderr",
     "output_type": "stream",
     "text": [
      "c:\\Users\\phili\\anaconda3\\envs\\smart-rejector\\lib\\site-packages\\statsmodels\\nonparametric\\kernel_density.py:158: RuntimeWarning: invalid value encountered in log\n",
      "  L += func(f_i)\n",
      "c:\\Users\\phili\\anaconda3\\envs\\smart-rejector\\lib\\site-packages\\statsmodels\\nonparametric\\kernel_density.py:158: RuntimeWarning: divide by zero encountered in log\n",
      "  L += func(f_i)\n"
     ]
    }
   ],
   "source": [
    "from rejector.prediction import Prediction\n",
    "from rejector.values import Values\n",
    "from rejector.metric import Metric\n",
    "import seaborn as sns\n",
    "\n",
    "values = Values(value_TP=18.149543604085686, value_TN=36.31953463203463, value_FP=16.68669949423102, value_FN=28.08375563063063,value_rejection=4.82167904290429)\n",
    "\n",
    "predictions = Prediction.load(\"input/lr-waseem-waseem.p\", gold_class=\"Hate\")\n",
    "metric_lr_waseem_waseem = Metric(values, predictions)\n",
    "predictions = Prediction.load(\"input/lr-waseem-semeval.p\", gold_class=\"Hate\")\n",
    "metric_lr_waseem_semeval = Metric(values, predictions)\n",
    "predictions = Prediction.load(\"input/distilbert-waseem-waseem.p\", gold_class=\"Hate\")\n",
    "metric_distilbert_waseeem_waseem = Metric(values, predictions)\n",
    "predictions = Prediction.load(\"input/distilbert-waseem-semeval.p\", gold_class=\"Hate\")\n",
    "metric_distilbert_waseeem_semeval = Metric(values, predictions)\n",
    "predictions = Prediction.load(\"input/cnn-waseem-waseem.p\", gold_class=\"Hate\")\n",
    "metric_cnn_waseeem_waseem = Metric(values, predictions)\n",
    "predictions = Prediction.load(\"input/cnn-waseem-semeval.p\", gold_class=\"Hate\")\n",
    "metric_cnn_waseeem_semeval = Metric(values, predictions)\n",
    "\n",
    "metrics_seen = [metric_lr_waseem_waseem, metric_distilbert_waseeem_waseem, metric_cnn_waseeem_waseem]\n",
    "metrics_unseen = [metric_lr_waseem_semeval, metric_distilbert_waseeem_semeval, metric_cnn_waseeem_semeval]"
   ]
  },
  {
   "cell_type": "code",
   "execution_count": null,
   "metadata": {},
   "outputs": [],
   "source": [
    "sns.set(rc={'figure.figsize':(10,7)})\n",
    "sns.set(font_scale = 2.0, palette=\"colorblind\")\n",
    "sns.set_style(\"white\")\n",
    "Metric.plot_multiple_confidence_densities(metrics=metrics_seen, bw_adjust=0.5, filename=\"confidence-densities-seen-tp.pdf\", type=\"TP\")"
   ]
  },
  {
   "cell_type": "code",
   "execution_count": null,
   "metadata": {},
   "outputs": [],
   "source": [
    "sns.set(rc={'figure.figsize':(10,7)})\n",
    "sns.set(font_scale = 2.0, palette=\"colorblind\")\n",
    "sns.set_style(\"white\")\n",
    "Metric.plot_multiple_confidence_densities(metrics=metrics_seen, bw_adjust=0.5, filename=\"confidence-densities-seen-tn.pdf\", type=\"TN\")"
   ]
  },
  {
   "cell_type": "code",
   "execution_count": null,
   "metadata": {},
   "outputs": [],
   "source": [
    "sns.set(rc={'figure.figsize':(10,7)})\n",
    "sns.set(font_scale = 2.0, palette=\"colorblind\")\n",
    "sns.set_style(\"white\")\n",
    "Metric.plot_multiple_confidence_densities(metrics=metrics_seen, bw_adjust=0.5, filename=\"confidence-densities-seen-fp.pdf\", type=\"FP\")"
   ]
  },
  {
   "cell_type": "code",
   "execution_count": null,
   "metadata": {},
   "outputs": [],
   "source": [
    "sns.set(rc={'figure.figsize':(10,7)})\n",
    "sns.set(font_scale = 2.0, palette=\"colorblind\")\n",
    "sns.set_style(\"white\")\n",
    "Metric.plot_multiple_confidence_densities(metrics=metrics_seen, bw_adjust=0.5, filename=\"confidence-densities-seen-fn.pdf\", type=\"FN\")"
   ]
  },
  {
   "cell_type": "code",
   "execution_count": null,
   "metadata": {},
   "outputs": [],
   "source": [
    "sns.set(rc={'figure.figsize':(10,7)})\n",
    "sns.set(font_scale = 2.0, palette=\"colorblind\")\n",
    "sns.set_style(\"white\")\n",
    "Metric.plot_multiple_confidence_densities(metrics=metrics_unseen, bw_adjust=0.5, filename=\"confidence-densities-unseen-tp.pdf\", type=\"TP\")"
   ]
  },
  {
   "cell_type": "code",
   "execution_count": null,
   "metadata": {},
   "outputs": [],
   "source": [
    "sns.set(rc={'figure.figsize':(10,7)})\n",
    "sns.set(font_scale = 2.0, palette=\"colorblind\")\n",
    "sns.set_style(\"white\")\n",
    "Metric.plot_multiple_confidence_densities(metrics=metrics_unseen, bw_adjust=0.5, filename=\"confidence-densities-unseen-tn.pdf\", type=\"TN\")"
   ]
  },
  {
   "cell_type": "code",
   "execution_count": null,
   "metadata": {},
   "outputs": [],
   "source": [
    "sns.set(rc={'figure.figsize':(10,7)})\n",
    "sns.set(font_scale = 2.0, palette=\"colorblind\")\n",
    "sns.set_style(\"white\")\n",
    "Metric.plot_multiple_confidence_densities(metrics=metrics_unseen, bw_adjust=0.5, filename=\"confidence-densities-unseen-fp.pdf\", type=\"FP\")"
   ]
  },
  {
   "cell_type": "code",
   "execution_count": null,
   "metadata": {},
   "outputs": [],
   "source": [
    "sns.set(rc={'figure.figsize':(10,7)})\n",
    "sns.set(font_scale = 2.0, palette=\"colorblind\")\n",
    "sns.set_style(\"white\")\n",
    "Metric.plot_multiple_confidence_densities(metrics=metrics_unseen, bw_adjust=0.5, filename=\"confidence-densities-unseen-fn.pdf\", type=\"FN\")"
   ]
  }
 ],
 "metadata": {
  "kernelspec": {
   "display_name": "Python 3.8.5 ('smart-rejector')",
   "language": "python",
   "name": "python3"
  },
  "language_info": {
   "codemirror_mode": {
    "name": "ipython",
    "version": 3
   },
   "file_extension": ".py",
   "mimetype": "text/x-python",
   "name": "python",
   "nbconvert_exporter": "python",
   "pygments_lexer": "ipython3",
   "version": "3.8.5"
  },
  "orig_nbformat": 4,
  "vscode": {
   "interpreter": {
    "hash": "1d6d5fb1668883c33dcb7e6d97ab558619c066a76f945629b031854efe98e76a"
   }
  }
 },
 "nbformat": 4,
 "nbformat_minor": 2
}
