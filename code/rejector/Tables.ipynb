{
 "cells": [
  {
   "cell_type": "markdown",
   "metadata": {},
   "source": [
    "# Tables\n",
    "This notebook prints the metric info about the optimal thresholds used in the tables of the paper.\n",
    "\n",
    "It loads the datasets from all 3 models.\n",
    "Each model is trained on the Waseem and Hovy (2016) dataset and evaluated on two test datasets:\n",
    "\n",
    "1. Waseem and Hovy (2016): to simulate seen data.\n",
    "2. SemEval (2019): to simulate unseen data."
   ]
  },
  {
   "cell_type": "markdown",
   "metadata": {},
   "source": [
    "### Table results (all values)\n",
    "The results below do take all values into account."
   ]
  },
  {
   "cell_type": "code",
   "execution_count": 1,
   "metadata": {},
   "outputs": [
    {
     "name": "stderr",
     "output_type": "stream",
     "text": [
      "c:\\Users\\phili\\anaconda3\\envs\\smart-rejector\\lib\\site-packages\\statsmodels\\nonparametric\\kernel_density.py:158: RuntimeWarning: invalid value encountered in log\n",
      "  L += func(f_i)\n",
      "c:\\Users\\phili\\anaconda3\\envs\\smart-rejector\\lib\\site-packages\\statsmodels\\nonparametric\\kernel_density.py:158: RuntimeWarning: divide by zero encountered in log\n",
      "  L += func(f_i)\n"
     ]
    }
   ],
   "source": [
    "from rejector.prediction import Prediction\n",
    "from rejector.values import Values\n",
    "from rejector.metric import Metric\n",
    "import seaborn as sns\n",
    "\n",
    "values = Values(value_TP=18.149543604085686, value_TN=36.31953463203463, value_FP=16.68669949423102, value_FN=28.08375563063063,value_rejection=4.82167904290429)\n",
    "\n",
    "predictions = Prediction.load(\"input/lr-waseem-waseem.p\", gold_class=\"Hate\")\n",
    "metric_lr_waseem_waseem = Metric(values, predictions)\n",
    "predictions = Prediction.load(\"input/lr-waseem-semeval.p\", gold_class=\"Hate\")\n",
    "metric_lr_waseem_semeval = Metric(values, predictions)\n",
    "predictions = Prediction.load(\"input/distilbert-waseem-waseem.p\", gold_class=\"Hate\")\n",
    "metric_distilbert_waseem_waseem = Metric(values, predictions)\n",
    "predictions = Prediction.load(\"input/distilbert-waseem-semeval.p\", gold_class=\"Hate\")\n",
    "metric_distilbert_waseem_semeval = Metric(values, predictions)\n",
    "predictions = Prediction.load(\"input/cnn-waseem-waseem.p\", gold_class=\"Hate\")\n",
    "metric_cnn_waseem_waseem = Metric(values, predictions)\n",
    "predictions = Prediction.load(\"input/cnn-waseem-semeval.p\", gold_class=\"Hate\")\n",
    "metric_cnn_waseem_semeval = Metric(values, predictions)\n",
    "\n"
   ]
  },
  {
   "cell_type": "code",
   "execution_count": 2,
   "metadata": {},
   "outputs": [
    {
     "name": "stdout",
     "output_type": "stream",
     "text": [
      "Optimal threshold:  0.508\n",
      "Optimal V(threshold):  90141.78682533788\n",
      "Total value:  90141.78682533788\n",
      "Num accepted:  3197\n",
      "Accuracy original model:  0.8467992541951522\n",
      "Accuracy accepted:  0.8501720362840163\n",
      "Num rejected:  21\n",
      "Percentage rejected:  0.006525792417650715\n"
     ]
    }
   ],
   "source": [
    "metric_lr_waseem_waseem.print_optimal_threshold_stats()"
   ]
  },
  {
   "cell_type": "code",
   "execution_count": 3,
   "metadata": {},
   "outputs": [
    {
     "name": "stdout",
     "output_type": "stream",
     "text": [
      "Optimal threshold:  0.5\n",
      "Optimal V(threshold):  38237.12144442372\n",
      "Total value:  38237.12144442372\n",
      "Num accepted:  2400\n",
      "Accuracy original model:  0.6404166666666666\n",
      "Accuracy accepted:  0.6404166666666666\n",
      "Num rejected:  0\n",
      "Percentage rejected:  0.0\n"
     ]
    }
   ],
   "source": [
    "metric_lr_waseem_semeval.print_optimal_threshold_stats()"
   ]
  },
  {
   "cell_type": "code",
   "execution_count": 4,
   "metadata": {},
   "outputs": [
    {
     "name": "stdout",
     "output_type": "stream",
     "text": [
      "Optimal threshold:  0.504\n",
      "Optimal V(threshold):  90140.28351903966\n",
      "Total value:  90140.28351903966\n",
      "Num accepted:  3216\n",
      "Accuracy original model:  0.8495960223741454\n",
      "Accuracy accepted:  0.8501243781094527\n",
      "Num rejected:  2\n",
      "Percentage rejected:  0.0006215040397762585\n"
     ]
    }
   ],
   "source": [
    "metric_distilbert_waseem_waseem.print_optimal_threshold_stats()"
   ]
  },
  {
   "cell_type": "code",
   "execution_count": 5,
   "metadata": {},
   "outputs": [
    {
     "name": "stdout",
     "output_type": "stream",
     "text": [
      "Optimal threshold:  0.5\n",
      "Optimal V(threshold):  38013.61459300258\n",
      "Total value:  38013.61459300258\n",
      "Num accepted:  2400\n",
      "Accuracy original model:  0.6404166666666666\n",
      "Accuracy accepted:  0.6404166666666666\n",
      "Num rejected:  0\n",
      "Percentage rejected:  0.0\n"
     ]
    }
   ],
   "source": [
    "metric_distilbert_waseem_semeval.print_optimal_threshold_stats()"
   ]
  },
  {
   "cell_type": "code",
   "execution_count": 6,
   "metadata": {},
   "outputs": [
    {
     "name": "stdout",
     "output_type": "stream",
     "text": [
      "Optimal threshold:  0.5\n",
      "Optimal V(threshold):  88139.59185443362\n",
      "Total value:  88139.59185443362\n",
      "Num accepted:  3218\n",
      "Accuracy original model:  0.8346799254195152\n",
      "Accuracy accepted:  0.8346799254195152\n",
      "Num rejected:  0\n",
      "Percentage rejected:  0.0\n"
     ]
    }
   ],
   "source": [
    "metric_cnn_waseem_waseem.print_optimal_threshold_stats()"
   ]
  },
  {
   "cell_type": "code",
   "execution_count": 7,
   "metadata": {},
   "outputs": [
    {
     "name": "stdout",
     "output_type": "stream",
     "text": [
      "Optimal threshold:  0.5\n",
      "Optimal V(threshold):  36094.794959401865\n",
      "Total value:  36094.794959401865\n",
      "Num accepted:  2400\n",
      "Accuracy original model:  0.6291666666666667\n",
      "Accuracy accepted:  0.6291666666666667\n",
      "Num rejected:  0\n",
      "Percentage rejected:  0.0\n"
     ]
    }
   ],
   "source": [
    "metric_cnn_waseem_semeval.print_optimal_threshold_stats()"
   ]
  },
  {
   "cell_type": "markdown",
   "metadata": {},
   "source": [
    "### Table results (TP and TN set to 0)\n",
    "The results below do take all values into account but TP and TN are set to 0."
   ]
  },
  {
   "cell_type": "code",
   "execution_count": 8,
   "metadata": {},
   "outputs": [],
   "source": [
    "values = Values(value_TP=0.0, value_TN=0.0, value_FP=16.68669949423102, value_FN=28.08375563063063,value_rejection=4.82167904290429)\n",
    "\n",
    "predictions = Prediction.load(\"input/lr-waseem-waseem.p\", gold_class=\"Hate\")\n",
    "metric_lr_waseem_waseem = Metric(values, predictions)\n",
    "predictions = Prediction.load(\"input/lr-waseem-semeval.p\", gold_class=\"Hate\")\n",
    "metric_lr_waseem_semeval = Metric(values, predictions)\n",
    "predictions = Prediction.load(\"input/distilbert-waseem-waseem.p\", gold_class=\"Hate\")\n",
    "metric_distilbert_waseem_waseem = Metric(values, predictions)\n",
    "predictions = Prediction.load(\"input/distilbert-waseem-semeval.p\", gold_class=\"Hate\")\n",
    "metric_distilbert_waseem_semeval = Metric(values, predictions)\n",
    "predictions = Prediction.load(\"input/cnn-waseem-waseem.p\", gold_class=\"Hate\")\n",
    "metric_cnn_waseem_waseem = Metric(values, predictions)\n",
    "predictions = Prediction.load(\"input/cnn-waseem-semeval.p\", gold_class=\"Hate\")\n",
    "metric_cnn_waseem_semeval = Metric(values, predictions)\n"
   ]
  },
  {
   "cell_type": "code",
   "execution_count": 9,
   "metadata": {},
   "outputs": [
    {
     "name": "stdout",
     "output_type": "stream",
     "text": [
      "Optimal threshold:  0.7800000000000002\n",
      "Optimal V(threshold):  8865.710293736567\n",
      "Total value:  8865.710293736567\n",
      "Num accepted:  2425\n",
      "Accuracy original model:  0.8467992541951522\n",
      "Accuracy accepted:  0.9101030927835052\n",
      "Num rejected:  793\n",
      "Percentage rejected:  0.24642635177128652\n"
     ]
    }
   ],
   "source": [
    "metric_lr_waseem_waseem.print_optimal_threshold_stats()"
   ]
  },
  {
   "cell_type": "code",
   "execution_count": 10,
   "metadata": {},
   "outputs": [
    {
     "name": "stdout",
     "output_type": "stream",
     "text": [
      "Optimal threshold:  0.9950000000000004\n",
      "Optimal V(threshold):  8949.538657453895\n",
      "Total value:  8949.538657453895\n",
      "Num accepted:  79\n",
      "Accuracy original model:  0.6404166666666666\n",
      "Accuracy accepted:  0.7848101265822784\n",
      "Num rejected:  2321\n",
      "Percentage rejected:  0.9670833333333333\n"
     ]
    }
   ],
   "source": [
    "metric_lr_waseem_semeval.print_optimal_threshold_stats()"
   ]
  },
  {
   "cell_type": "code",
   "execution_count": 11,
   "metadata": {},
   "outputs": [
    {
     "name": "stdout",
     "output_type": "stream",
     "text": [
      "Optimal threshold:  0.8790000000000003\n",
      "Optimal V(threshold):  9862.042120841836\n",
      "Total value:  9862.042120841836\n",
      "Num accepted:  2402\n",
      "Accuracy original model:  0.8495960223741454\n",
      "Accuracy accepted:  0.9263114071606994\n",
      "Num rejected:  816\n",
      "Percentage rejected:  0.2535736482287135\n"
     ]
    }
   ],
   "source": [
    "metric_distilbert_waseem_waseem.print_optimal_threshold_stats()"
   ]
  },
  {
   "cell_type": "code",
   "execution_count": 12,
   "metadata": {},
   "outputs": [
    {
     "name": "stdout",
     "output_type": "stream",
     "text": [
      "Optimal threshold:  0.9490000000000004\n",
      "Optimal V(threshold):  9225.034246887006\n",
      "Total value:  9225.034246887006\n",
      "Num accepted:  154\n",
      "Accuracy original model:  0.6404166666666666\n",
      "Accuracy accepted:  0.9155844155844156\n",
      "Num rejected:  2246\n",
      "Percentage rejected:  0.9358333333333333\n"
     ]
    }
   ],
   "source": [
    "metric_distilbert_waseem_semeval.print_optimal_threshold_stats()"
   ]
  },
  {
   "cell_type": "code",
   "execution_count": 13,
   "metadata": {},
   "outputs": [
    {
     "name": "stdout",
     "output_type": "stream",
     "text": [
      "Optimal threshold:  0.7610000000000002\n",
      "Optimal V(threshold):  8118.3095033504815\n",
      "Total value:  8118.3095033504815\n",
      "Num accepted:  2299\n",
      "Accuracy original model:  0.8346799254195152\n",
      "Accuracy accepted:  0.8995215311004785\n",
      "Num rejected:  919\n",
      "Percentage rejected:  0.2855811062771908\n"
     ]
    }
   ],
   "source": [
    "metric_cnn_waseem_waseem.print_optimal_threshold_stats()"
   ]
  },
  {
   "cell_type": "code",
   "execution_count": 14,
   "metadata": {},
   "outputs": [
    {
     "name": "stdout",
     "output_type": "stream",
     "text": [
      "Optimal threshold:  0.9950000000000004\n",
      "Optimal V(threshold):  8119.374308763965\n",
      "Total value:  8119.374308763965\n",
      "Num accepted:  2\n",
      "Accuracy original model:  0.6291666666666667\n",
      "Accuracy accepted:  1.0\n",
      "Num rejected:  2398\n",
      "Percentage rejected:  0.9991666666666666\n"
     ]
    }
   ],
   "source": [
    "metric_cnn_waseem_semeval.print_optimal_threshold_stats()"
   ]
  }
 ],
 "metadata": {
  "kernelspec": {
   "display_name": "Python 3.8.5 ('smart-rejector')",
   "language": "python",
   "name": "python3"
  },
  "language_info": {
   "codemirror_mode": {
    "name": "ipython",
    "version": 3
   },
   "file_extension": ".py",
   "mimetype": "text/x-python",
   "name": "python",
   "nbconvert_exporter": "python",
   "pygments_lexer": "ipython3",
   "version": "3.8.5"
  },
  "orig_nbformat": 4,
  "vscode": {
   "interpreter": {
    "hash": "1d6d5fb1668883c33dcb7e6d97ab558619c066a76f945629b031854efe98e76a"
   }
  }
 },
 "nbformat": 4,
 "nbformat_minor": 2
}
