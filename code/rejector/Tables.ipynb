{
 "cells": [
  {
   "cell_type": "markdown",
   "metadata": {},
   "source": [
    "# Tables\n",
    "This notebook prints the metric info about the optimal thresholds used in the tables of the paper.\n",
    "\n",
    "It loads the datasets from all 3 models.\n",
    "Each model is trained on the Waseem and Hovy (2016) dataset and evaluated on two test datasets:\n",
    "\n",
    "1. Waseem and Hovy (2016): to simulate seen data.\n",
    "2. SemEval (2019): to simulate unseen data."
   ]
  },
  {
   "cell_type": "markdown",
   "metadata": {},
   "source": [
    "### Table results (all values)\n",
    "The results below do take all values into account."
   ]
  },
  {
   "cell_type": "code",
   "execution_count": 1,
   "metadata": {},
   "outputs": [
    {
     "name": "stderr",
     "output_type": "stream",
     "text": [
      "c:\\Users\\phili\\anaconda3\\envs\\smart-rejector\\lib\\site-packages\\statsmodels\\nonparametric\\kernel_density.py:158: RuntimeWarning: invalid value encountered in log\n",
      "  L += func(f_i)\n",
      "c:\\Users\\phili\\anaconda3\\envs\\smart-rejector\\lib\\site-packages\\statsmodels\\nonparametric\\kernel_density.py:158: RuntimeWarning: divide by zero encountered in log\n",
      "  L += func(f_i)\n"
     ]
    }
   ],
   "source": [
    "from rejector.prediction import Prediction\n",
    "from rejector.values import Values\n",
    "from rejector.metric import Metric\n",
    "import seaborn as sns\n",
    "\n",
    "values = Values(value_TP=18.149543604085686, value_TN=36.31953463203463, value_FP=16.68669949423102, value_FN=28.08375563063063,value_rejection=4.82167904290429)\n",
    "\n",
    "predictions = Prediction.load(\"input/lr-waseem-waseem.p\", gold_class=\"Hate\")\n",
    "metric_lr_waseem_waseem = Metric(values, predictions)\n",
    "predictions = Prediction.load(\"input/lr-waseem-semeval.p\", gold_class=\"Hate\")\n",
    "metric_lr_waseem_semeval = Metric(values, predictions)\n",
    "predictions = Prediction.load(\"input/distilbert-waseem-waseem.p\", gold_class=\"Hate\")\n",
    "metric_distilbert_waseem_waseem = Metric(values, predictions)\n",
    "predictions = Prediction.load(\"input/distilbert-waseem-semeval.p\", gold_class=\"Hate\")\n",
    "metric_distilbert_waseem_semeval = Metric(values, predictions)\n",
    "predictions = Prediction.load(\"input/cnn-waseem-waseem.p\", gold_class=\"Hate\")\n",
    "metric_cnn_waseem_waseem = Metric(values, predictions)\n",
    "predictions = Prediction.load(\"input/cnn-waseem-semeval.p\", gold_class=\"Hate\")\n",
    "metric_cnn_waseem_semeval = Metric(values, predictions)\n",
    "\n"
   ]
  },
  {
   "cell_type": "code",
   "execution_count": 2,
   "metadata": {},
   "outputs": [
    {
     "name": "stdout",
     "output_type": "stream",
     "text": [
      "Optimal threshold:  0.5\n",
      "Optimal V(threshold):  27.706832886410012\n",
      "Total value:  27.706832886410012\n",
      "Num accepted:  3218\n",
      "Accuracy original model:  0.8467992541951522\n",
      "Accuracy accepted:  0.8467992541951522\n",
      "Num rejected:  0\n",
      "Percentage rejected:  0.0\n"
     ]
    }
   ],
   "source": [
    "metric_lr_waseem_waseem.print_optimal_threshold_stats(use_pdf=True)"
   ]
  },
  {
   "cell_type": "code",
   "execution_count": 3,
   "metadata": {},
   "outputs": [
    {
     "name": "stdout",
     "output_type": "stream",
     "text": [
      "Optimal threshold:  0.5\n",
      "Optimal V(threshold):  15.689251914545434\n",
      "Total value:  15.689251914545434\n",
      "Num accepted:  2400\n",
      "Accuracy original model:  0.6404166666666666\n",
      "Accuracy accepted:  0.6404166666666666\n",
      "Num rejected:  0\n",
      "Percentage rejected:  0.0\n"
     ]
    }
   ],
   "source": [
    "metric_lr_waseem_semeval.print_optimal_threshold_stats(use_pdf=True)"
   ]
  },
  {
   "cell_type": "code",
   "execution_count": 4,
   "metadata": {},
   "outputs": [
    {
     "name": "stdout",
     "output_type": "stream",
     "text": [
      "Optimal threshold:  0.502\n",
      "Optimal V(threshold):  28.000773216243942\n",
      "Total value:  28.000773216243942\n",
      "Num accepted:  3218\n",
      "Accuracy original model:  0.8495960223741454\n",
      "Accuracy accepted:  0.8495960223741454\n",
      "Num rejected:  0\n",
      "Percentage rejected:  0.0\n"
     ]
    }
   ],
   "source": [
    "metric_distilbert_waseem_waseem.print_optimal_threshold_stats(use_pdf=True)"
   ]
  },
  {
   "cell_type": "code",
   "execution_count": 5,
   "metadata": {},
   "outputs": [
    {
     "name": "stdout",
     "output_type": "stream",
     "text": [
      "Optimal threshold:  0.5\n",
      "Optimal V(threshold):  15.822775404025263\n",
      "Total value:  15.822775404025263\n",
      "Num accepted:  2400\n",
      "Accuracy original model:  0.6404166666666666\n",
      "Accuracy accepted:  0.6404166666666666\n",
      "Num rejected:  0\n",
      "Percentage rejected:  0.0\n"
     ]
    }
   ],
   "source": [
    "metric_distilbert_waseem_semeval.print_optimal_threshold_stats(use_pdf=True)"
   ]
  },
  {
   "cell_type": "code",
   "execution_count": 6,
   "metadata": {},
   "outputs": [
    {
     "name": "stdout",
     "output_type": "stream",
     "text": [
      "Optimal threshold:  0.5\n",
      "Optimal V(threshold):  27.291234782067917\n",
      "Total value:  27.291234782067917\n",
      "Num accepted:  3218\n",
      "Accuracy original model:  0.8346799254195152\n",
      "Accuracy accepted:  0.8346799254195152\n",
      "Num rejected:  0\n",
      "Percentage rejected:  0.0\n"
     ]
    }
   ],
   "source": [
    "metric_cnn_waseem_waseem.print_optimal_threshold_stats(use_pdf=True)"
   ]
  },
  {
   "cell_type": "code",
   "execution_count": 7,
   "metadata": {},
   "outputs": [
    {
     "name": "stdout",
     "output_type": "stream",
     "text": [
      "Optimal threshold:  0.5\n",
      "Optimal V(threshold):  14.868028931766595\n",
      "Total value:  14.868028931766595\n",
      "Num accepted:  2400\n",
      "Accuracy original model:  0.6291666666666667\n",
      "Accuracy accepted:  0.6291666666666667\n",
      "Num rejected:  0\n",
      "Percentage rejected:  0.0\n"
     ]
    }
   ],
   "source": [
    "metric_cnn_waseem_semeval.print_optimal_threshold_stats(use_pdf=True)"
   ]
  },
  {
   "cell_type": "markdown",
   "metadata": {},
   "source": [
    "### Table results (TP and TN set to 0)\n",
    "The results below do take all values into account but TP and TN are set to 0."
   ]
  },
  {
   "cell_type": "code",
   "execution_count": 8,
   "metadata": {},
   "outputs": [],
   "source": [
    "values = Values(value_TP=0.0, value_TN=0.0, value_FP=16.68669949423102, value_FN=28.08375563063063,value_rejection=4.82167904290429)\n",
    "\n",
    "predictions = Prediction.load(\"input/lr-waseem-waseem.p\", gold_class=\"Hate\")\n",
    "metric_lr_waseem_waseem = Metric(values, predictions)\n",
    "predictions = Prediction.load(\"input/lr-waseem-semeval.p\", gold_class=\"Hate\")\n",
    "metric_lr_waseem_semeval = Metric(values, predictions)\n",
    "predictions = Prediction.load(\"input/distilbert-waseem-waseem.p\", gold_class=\"Hate\")\n",
    "metric_distilbert_waseem_waseem = Metric(values, predictions)\n",
    "predictions = Prediction.load(\"input/distilbert-waseem-semeval.p\", gold_class=\"Hate\")\n",
    "metric_distilbert_waseem_semeval = Metric(values, predictions)\n",
    "predictions = Prediction.load(\"input/cnn-waseem-waseem.p\", gold_class=\"Hate\")\n",
    "metric_cnn_waseem_waseem = Metric(values, predictions)\n",
    "predictions = Prediction.load(\"input/cnn-waseem-semeval.p\", gold_class=\"Hate\")\n",
    "metric_cnn_waseem_semeval = Metric(values, predictions)\n"
   ]
  },
  {
   "cell_type": "code",
   "execution_count": 9,
   "metadata": {},
   "outputs": [
    {
     "name": "stdout",
     "output_type": "stream",
     "text": [
      "Optimal threshold:  0.7830000000000003\n",
      "Optimal V(threshold):  2.6875966574968135\n",
      "Total value:  2.6875966574968135\n",
      "Num accepted:  2414\n",
      "Accuracy original model:  0.8467992541951522\n",
      "Accuracy accepted:  0.9096934548467275\n",
      "Num rejected:  804\n",
      "Percentage rejected:  0.24984462399005594\n"
     ]
    }
   ],
   "source": [
    "metric_lr_waseem_waseem.print_optimal_threshold_stats(use_pdf=True)"
   ]
  },
  {
   "cell_type": "code",
   "execution_count": 10,
   "metadata": {},
   "outputs": [
    {
     "name": "stdout",
     "output_type": "stream",
     "text": [
      "Optimal threshold:  0.9940000000000004\n",
      "Optimal V(threshold):  3.6676034224181153\n",
      "Total value:  3.6676034224181153\n",
      "Num accepted:  101\n",
      "Accuracy original model:  0.6404166666666666\n",
      "Accuracy accepted:  0.7524752475247525\n",
      "Num rejected:  2299\n",
      "Percentage rejected:  0.9579166666666666\n"
     ]
    }
   ],
   "source": [
    "metric_lr_waseem_semeval.print_optimal_threshold_stats(use_pdf=True)"
   ]
  },
  {
   "cell_type": "code",
   "execution_count": 11,
   "metadata": {},
   "outputs": [
    {
     "name": "stdout",
     "output_type": "stream",
     "text": [
      "Optimal threshold:  0.8780000000000003\n",
      "Optimal V(threshold):  3.040608661995707\n",
      "Total value:  3.040608661995707\n",
      "Num accepted:  2408\n",
      "Accuracy original model:  0.8495960223741454\n",
      "Accuracy accepted:  0.9256644518272426\n",
      "Num rejected:  810\n",
      "Percentage rejected:  0.2517091361093847\n"
     ]
    }
   ],
   "source": [
    "metric_distilbert_waseem_waseem.print_optimal_threshold_stats(use_pdf=True)"
   ]
  },
  {
   "cell_type": "code",
   "execution_count": 12,
   "metadata": {},
   "outputs": [
    {
     "name": "stdout",
     "output_type": "stream",
     "text": [
      "Optimal threshold:  0.9480000000000004\n",
      "Optimal V(threshold):  3.606319469684868\n",
      "Total value:  3.606319469684868\n",
      "Num accepted:  185\n",
      "Accuracy original model:  0.6404166666666666\n",
      "Accuracy accepted:  0.8810810810810811\n",
      "Num rejected:  2215\n",
      "Percentage rejected:  0.9229166666666667\n"
     ]
    }
   ],
   "source": [
    "metric_distilbert_waseem_semeval.print_optimal_threshold_stats(use_pdf=True)"
   ]
  },
  {
   "cell_type": "code",
   "execution_count": 13,
   "metadata": {},
   "outputs": [
    {
     "name": "stdout",
     "output_type": "stream",
     "text": [
      "Optimal threshold:  0.7560000000000002\n",
      "Optimal V(threshold):  2.489815977599296\n",
      "Total value:  2.489815977599296\n",
      "Num accepted:  2325\n",
      "Accuracy original model:  0.8346799254195152\n",
      "Accuracy accepted:  0.8976344086021505\n",
      "Num rejected:  893\n",
      "Percentage rejected:  0.27750155376009944\n"
     ]
    }
   ],
   "source": [
    "metric_cnn_waseem_waseem.print_optimal_threshold_stats(use_pdf=True)"
   ]
  },
  {
   "cell_type": "code",
   "execution_count": 14,
   "metadata": {},
   "outputs": [
    {
     "name": "stdout",
     "output_type": "stream",
     "text": [
      "Optimal threshold:  0.9990000000000004\n",
      "Optimal V(threshold):  3.364996747276529\n",
      "Total value:  3.364996747276529\n",
      "Num accepted:  0\n",
      "Accuracy original model:  0.6291666666666667\n",
      "Accuracy accepted: -\n",
      "Num rejected:  2400\n",
      "Percentage rejected:  1.0\n"
     ]
    }
   ],
   "source": [
    "metric_cnn_waseem_semeval.print_optimal_threshold_stats(use_pdf=True)"
   ]
  }
 ],
 "metadata": {
  "kernelspec": {
   "display_name": "Python 3.8.5 ('smart-rejector')",
   "language": "python",
   "name": "python3"
  },
  "language_info": {
   "codemirror_mode": {
    "name": "ipython",
    "version": 3
   },
   "file_extension": ".py",
   "mimetype": "text/x-python",
   "name": "python",
   "nbconvert_exporter": "python",
   "pygments_lexer": "ipython3",
   "version": "3.8.5"
  },
  "orig_nbformat": 4,
  "vscode": {
   "interpreter": {
    "hash": "1d6d5fb1668883c33dcb7e6d97ab558619c066a76f945629b031854efe98e76a"
   }
  }
 },
 "nbformat": 4,
 "nbformat_minor": 2
}
