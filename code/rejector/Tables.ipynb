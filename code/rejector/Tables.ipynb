{
 "cells": [
  {
   "cell_type": "markdown",
   "metadata": {},
   "source": [
    "# Tables\n",
    "This notebook prints the metric info about the optimal thresholds used in the tables of the paper.\n",
    "\n",
    "It loads the datasets from all 3 models.\n",
    "Each model is trained on the Waseem and Hovy (2016) dataset and evaluated on two test datasets:\n",
    "\n",
    "1. Waseem and Hovy (2016): to simulate seen data.\n",
    "2. SemEval (2019): to simulate unseen data."
   ]
  },
  {
   "cell_type": "markdown",
   "metadata": {},
   "source": [
    "### Table results (all values)\n",
    "The results below do take all values into account."
   ]
  },
  {
   "cell_type": "code",
   "execution_count": 1,
   "metadata": {},
   "outputs": [
    {
     "name": "stderr",
     "output_type": "stream",
     "text": [
      "c:\\Users\\phili\\anaconda3\\envs\\smart-rejector\\lib\\site-packages\\statsmodels\\nonparametric\\kernel_density.py:158: RuntimeWarning: invalid value encountered in log\n",
      "  L += func(f_i)\n",
      "c:\\Users\\phili\\anaconda3\\envs\\smart-rejector\\lib\\site-packages\\statsmodels\\nonparametric\\kernel_density.py:158: RuntimeWarning: divide by zero encountered in log\n",
      "  L += func(f_i)\n"
     ]
    }
   ],
   "source": [
    "from rejector.prediction import Prediction\n",
    "from rejector.values import Values\n",
    "from rejector.metric import Metric\n",
    "import seaborn as sns\n",
    "\n",
    "values = Values(value_TP=18.149543604085686, value_TN=36.31953463203463, value_FP=16.68669949423102, value_FN=28.08375563063063,value_rejection=4.82167904290429)\n",
    "\n",
    "predictions = Prediction.load(\"input/lr-waseem-waseem.p\", gold_class=\"Hate\")\n",
    "metric_lr_waseem_waseem = Metric(values, predictions)\n",
    "predictions = Prediction.load(\"input/lr-waseem-semeval.p\", gold_class=\"Hate\")\n",
    "metric_lr_waseem_semeval = Metric(values, predictions)\n",
    "predictions = Prediction.load(\"input/distilbert-waseem-waseem.p\", gold_class=\"Hate\")\n",
    "metric_distilbert_waseem_waseem = Metric(values, predictions)\n",
    "predictions = Prediction.load(\"input/distilbert-waseem-semeval.p\", gold_class=\"Hate\")\n",
    "metric_distilbert_waseem_semeval = Metric(values, predictions)\n",
    "predictions = Prediction.load(\"input/cnn-waseem-waseem.p\", gold_class=\"Hate\")\n",
    "metric_cnn_waseem_waseem = Metric(values, predictions)\n",
    "predictions = Prediction.load(\"input/cnn-waseem-semeval.p\", gold_class=\"Hate\")\n",
    "metric_cnn_waseem_semeval = Metric(values, predictions)\n",
    "\n"
   ]
  },
  {
   "cell_type": "code",
   "execution_count": 2,
   "metadata": {},
   "outputs": [
    {
     "name": "stdout",
     "output_type": "stream",
     "text": [
      "Optimal threshold:  0.5\n",
      "Optimal V(threshold):  45533.60924868776\n",
      "Total value:  45533.60924868776\n",
      "Num accepted:  1609\n",
      "Accuracy original model:  0.853325046612803\n",
      "Accuracy accepted:  0.853325046612803\n",
      "Num rejected:  0\n",
      "Percentage rejected:  0.0\n"
     ]
    }
   ],
   "source": [
    "metric_lr_waseem_waseem.print_optimal_threshold_stats()"
   ]
  },
  {
   "cell_type": "code",
   "execution_count": 3,
   "metadata": {},
   "outputs": [
    {
     "name": "stdout",
     "output_type": "stream",
     "text": [
      "Optimal threshold:  0.531\n",
      "Optimal V(threshold):  18562.61196611752\n",
      "Total value:  18562.61196611752\n",
      "Num accepted:  1149\n",
      "Accuracy original model:  0.6308333333333334\n",
      "Accuracy accepted:  0.6457789382071366\n",
      "Num rejected:  51\n",
      "Percentage rejected:  0.0425\n"
     ]
    }
   ],
   "source": [
    "metric_lr_waseem_semeval.print_optimal_threshold_stats()"
   ]
  },
  {
   "cell_type": "code",
   "execution_count": 4,
   "metadata": {},
   "outputs": [
    {
     "name": "stdout",
     "output_type": "stream",
     "text": [
      "Optimal threshold:  0.5\n",
      "Optimal V(threshold):  45250.32322824882\n",
      "Total value:  45250.32322824882\n",
      "Num accepted:  1609\n",
      "Accuracy original model:  0.8527035425730267\n",
      "Accuracy accepted:  0.8527035425730267\n",
      "Num rejected:  0\n",
      "Percentage rejected:  0.0\n"
     ]
    }
   ],
   "source": [
    "metric_distilbert_waseem_waseem.print_optimal_threshold_stats()"
   ]
  },
  {
   "cell_type": "code",
   "execution_count": 5,
   "metadata": {},
   "outputs": [
    {
     "name": "stdout",
     "output_type": "stream",
     "text": [
      "Optimal threshold:  0.5\n",
      "Optimal V(threshold):  19131.475540102063\n",
      "Total value:  19131.475540102063\n",
      "Num accepted:  1200\n",
      "Accuracy original model:  0.6425\n",
      "Accuracy accepted:  0.6425\n",
      "Num rejected:  0\n",
      "Percentage rejected:  0.0\n"
     ]
    }
   ],
   "source": [
    "metric_distilbert_waseem_semeval.print_optimal_threshold_stats()"
   ]
  },
  {
   "cell_type": "code",
   "execution_count": 6,
   "metadata": {},
   "outputs": [
    {
     "name": "stdout",
     "output_type": "stream",
     "text": [
      "Optimal threshold:  0.5\n",
      "Optimal V(threshold):  44893.115994293286\n",
      "Total value:  44893.115994293286\n",
      "Num accepted:  1609\n",
      "Accuracy original model:  0.8446239900559354\n",
      "Accuracy accepted:  0.8446239900559354\n",
      "Num rejected:  0\n",
      "Percentage rejected:  0.0\n"
     ]
    }
   ],
   "source": [
    "metric_cnn_waseem_waseem.print_optimal_threshold_stats()"
   ]
  },
  {
   "cell_type": "code",
   "execution_count": 7,
   "metadata": {},
   "outputs": [
    {
     "name": "stdout",
     "output_type": "stream",
     "text": [
      "Optimal threshold:  0.5\n",
      "Optimal V(threshold):  18385.260352600275\n",
      "Total value:  18385.260352600275\n",
      "Num accepted:  1200\n",
      "Accuracy original model:  0.6241666666666666\n",
      "Accuracy accepted:  0.6241666666666666\n",
      "Num rejected:  0\n",
      "Percentage rejected:  0.0\n"
     ]
    }
   ],
   "source": [
    "metric_cnn_waseem_semeval.print_optimal_threshold_stats()"
   ]
  },
  {
   "cell_type": "markdown",
   "metadata": {},
   "source": [
    "### Table results (TP and TN set to 0)\n",
    "The results below do take all values into account but TP and TN are set to 0."
   ]
  },
  {
   "cell_type": "code",
   "execution_count": 8,
   "metadata": {},
   "outputs": [],
   "source": [
    "values = Values(value_TP=0.0, value_TN=0.0, value_FP=16.68669949423102, value_FN=28.08375563063063,value_rejection=4.82167904290429)\n",
    "\n",
    "predictions = Prediction.load(\"input/lr-waseem-waseem.p\", gold_class=\"Hate\")\n",
    "metric_lr_waseem_waseem = Metric(values, predictions)\n",
    "predictions = Prediction.load(\"input/lr-waseem-semeval.p\", gold_class=\"Hate\")\n",
    "metric_lr_waseem_semeval = Metric(values, predictions)\n",
    "predictions = Prediction.load(\"input/distilbert-waseem-waseem.p\", gold_class=\"Hate\")\n",
    "metric_distilbert_waseem_waseem = Metric(values, predictions)\n",
    "predictions = Prediction.load(\"input/distilbert-waseem-semeval.p\", gold_class=\"Hate\")\n",
    "metric_distilbert_waseem_semeval = Metric(values, predictions)\n",
    "predictions = Prediction.load(\"input/cnn-waseem-waseem.p\", gold_class=\"Hate\")\n",
    "metric_cnn_waseem_waseem = Metric(values, predictions)\n",
    "predictions = Prediction.load(\"input/cnn-waseem-semeval.p\", gold_class=\"Hate\")\n",
    "metric_cnn_waseem_semeval = Metric(values, predictions)\n"
   ]
  },
  {
   "cell_type": "code",
   "execution_count": 9,
   "metadata": {},
   "outputs": [
    {
     "name": "stdout",
     "output_type": "stream",
     "text": [
      "Optimal threshold:  0.8290000000000003\n",
      "Optimal V(threshold):  4325.401794635397\n",
      "Total value:  4325.401794635397\n",
      "Num accepted:  1100\n",
      "Accuracy original model:  0.853325046612803\n",
      "Accuracy accepted:  0.9245454545454546\n",
      "Num rejected:  509\n",
      "Percentage rejected:  0.3163455562461156\n"
     ]
    }
   ],
   "source": [
    "metric_lr_waseem_waseem.print_optimal_threshold_stats()"
   ]
  },
  {
   "cell_type": "code",
   "execution_count": 10,
   "metadata": {},
   "outputs": [
    {
     "name": "stdout",
     "output_type": "stream",
     "text": [
      "Optimal threshold:  0.9990000000000004\n",
      "Optimal V(threshold):  4403.610750434869\n",
      "Total value:  4403.610750434869\n",
      "Num accepted:  11\n",
      "Accuracy original model:  0.6308333333333334\n",
      "Accuracy accepted:  0.8181818181818182\n",
      "Num rejected:  1189\n",
      "Percentage rejected:  0.9908333333333333\n"
     ]
    }
   ],
   "source": [
    "metric_lr_waseem_semeval.print_optimal_threshold_stats()"
   ]
  },
  {
   "cell_type": "code",
   "execution_count": 11,
   "metadata": {},
   "outputs": [
    {
     "name": "stdout",
     "output_type": "stream",
     "text": [
      "Optimal threshold:  0.7860000000000003\n",
      "Optimal V(threshold):  5172.197977192629\n",
      "Total value:  5172.197977192629\n",
      "Num accepted:  1284\n",
      "Accuracy original model:  0.8527035425730267\n",
      "Accuracy accepted:  0.9228971962616822\n",
      "Num rejected:  325\n",
      "Percentage rejected:  0.20198881292728402\n"
     ]
    }
   ],
   "source": [
    "metric_distilbert_waseem_waseem.print_optimal_threshold_stats()"
   ]
  },
  {
   "cell_type": "code",
   "execution_count": 12,
   "metadata": {},
   "outputs": [
    {
     "name": "stdout",
     "output_type": "stream",
     "text": [
      "Optimal threshold:  0.9740000000000004\n",
      "Optimal V(threshold):  4213.074775386907\n",
      "Total value:  4213.074775386907\n",
      "Num accepted:  5\n",
      "Accuracy original model:  0.6425\n",
      "Accuracy accepted:  1.0\n",
      "Num rejected:  1195\n",
      "Percentage rejected:  0.9958333333333333\n"
     ]
    }
   ],
   "source": [
    "metric_distilbert_waseem_semeval.print_optimal_threshold_stats()"
   ]
  },
  {
   "cell_type": "code",
   "execution_count": 13,
   "metadata": {},
   "outputs": [
    {
     "name": "stdout",
     "output_type": "stream",
     "text": [
      "Optimal threshold:  0.8150000000000003\n",
      "Optimal V(threshold):  5459.9048328090175\n",
      "Total value:  5459.9048328090175\n",
      "Num accepted:  1128\n",
      "Accuracy original model:  0.8446239900559354\n",
      "Accuracy accepted:  0.9343971631205674\n",
      "Num rejected:  481\n",
      "Percentage rejected:  0.29894344313238036\n"
     ]
    }
   ],
   "source": [
    "metric_cnn_waseem_waseem.print_optimal_threshold_stats()"
   ]
  },
  {
   "cell_type": "code",
   "execution_count": 14,
   "metadata": {},
   "outputs": [
    {
     "name": "stdout",
     "output_type": "stream",
     "text": [
      "Optimal threshold:  0.9610000000000004\n",
      "Optimal V(threshold):  5290.941627847682\n",
      "Total value:  5290.941627847682\n",
      "Num accepted:  24\n",
      "Accuracy original model:  0.6241666666666666\n",
      "Accuracy accepted:  0.8333333333333334\n",
      "Num rejected:  1176\n",
      "Percentage rejected:  0.98\n"
     ]
    }
   ],
   "source": [
    "metric_cnn_waseem_semeval.print_optimal_threshold_stats()"
   ]
  }
 ],
 "metadata": {
  "kernelspec": {
   "display_name": "Python 3.8.5 ('smart-rejector')",
   "language": "python",
   "name": "python3"
  },
  "language_info": {
   "codemirror_mode": {
    "name": "ipython",
    "version": 3
   },
   "file_extension": ".py",
   "mimetype": "text/x-python",
   "name": "python",
   "nbconvert_exporter": "python",
   "pygments_lexer": "ipython3",
   "version": "3.8.5"
  },
  "orig_nbformat": 4,
  "vscode": {
   "interpreter": {
    "hash": "1d6d5fb1668883c33dcb7e6d97ab558619c066a76f945629b031854efe98e76a"
   }
  }
 },
 "nbformat": 4,
 "nbformat_minor": 2
}
