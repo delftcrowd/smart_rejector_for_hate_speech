{
 "cells": [
  {
   "cell_type": "code",
   "execution_count": 1,
   "metadata": {},
   "outputs": [],
   "source": [
    "from new_idea.prediction import Prediction\n",
    "from new_idea.values import Values\n",
    "from new_idea.metric import Metric\n",
    "from new_idea.pdfs import PDFs\n",
    "from new_idea.pdf import PDF\n",
    "import numpy as np\n",
    "from typing import List\n",
    "from matplotlib import pyplot\n",
    "from tqdm import tqdm"
   ]
  },
  {
   "cell_type": "code",
   "execution_count": 2,
   "metadata": {},
   "outputs": [],
   "source": [
    "predictions = []\n",
    "for p in np.linspace(0, 0.5, 100):\n",
    "    prediction = Prediction(\n",
    "        \"positive\", \"positive\", p, None)\n",
    "    predictions.append(prediction)"
   ]
  },
  {
   "cell_type": "code",
   "execution_count": 3,
   "metadata": {},
   "outputs": [
    {
     "name": "stdout",
     "output_type": "stream",
     "text": [
      "0.9708739505666698\n"
     ]
    }
   ],
   "source": [
    "kde = PDFs.estimator(predictions)\n",
    "pdf = PDF(predictions, 1.0, kde)\n",
    "print( pdf.integral(min=0.0, max=1.0))\n",
    "print( pdf.integral(min=0.0, max=0.5))\n",
    "print( pdf.integral(min=0.0, max=0.25))\n",
    "print( pdf.integral(min=0.0, max=0.0))"
   ]
  },
  {
   "cell_type": "code",
   "execution_count": null,
   "metadata": {},
   "outputs": [],
   "source": [
    "values = Values(value_correct=1.0, value_incorrect=-5.0, value_rejection=-2.0)\n",
    "metric = Metric(values, predictions)\n",
    "metric.plot_pdfs()\n",
    "metric.plot_effectiveness()"
   ]
  }
 ],
 "metadata": {
  "kernelspec": {
   "display_name": "Python 3.8.5 ('smart-rejector')",
   "language": "python",
   "name": "python3"
  },
  "language_info": {
   "codemirror_mode": {
    "name": "ipython",
    "version": 3
   },
   "file_extension": ".py",
   "mimetype": "text/x-python",
   "name": "python",
   "nbconvert_exporter": "python",
   "pygments_lexer": "ipython3",
   "version": "3.8.5"
  },
  "orig_nbformat": 4,
  "vscode": {
   "interpreter": {
    "hash": "1d6d5fb1668883c33dcb7e6d97ab558619c066a76f945629b031854efe98e76a"
   }
  }
 },
 "nbformat": 4,
 "nbformat_minor": 2
}
