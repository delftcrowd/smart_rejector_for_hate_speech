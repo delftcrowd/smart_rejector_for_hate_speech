{
 "cells": [
  {
   "cell_type": "code",
   "execution_count": null,
   "id": "6d37b16e",
   "metadata": {},
   "outputs": [],
   "source": [
    "import rejector\n",
    "from rejector.prediction import Prediction\n",
    "from rejector.values import Values\n",
    "from rejector.metric import Metric\n",
    "from rejector.pdfs import PDFs\n",
    "import numpy as np\n",
    "from typing import List\n",
    "from matplotlib import pyplot\n",
    "from tqdm import tqdm"
   ]
  },
  {
   "cell_type": "code",
   "execution_count": null,
   "id": "6468be2d",
   "metadata": {},
   "outputs": [],
   "source": [
    "# The experiments below test the calibrated CNN 10 epochs model trained on the Hoseem dataset and tested on Hoseem dataset.\n",
    "# Model file name: cnn-10-epochs-hoseem-2-classes\n",
    "predictions = Prediction.load(\"input/cnn-hoseem-not-calibrated.p\", \"Hate\")\n",
    "value_TP = 5\n",
    "value_TN = 5\n",
    "value_FP = 15\n",
    "value_FN = 15\n",
    "value_REJECTION = 10\n",
    "values = Values(value_TP, value_TN, value_FP, value_FN, value_REJECTION)\n",
    "# Run line below to find bandwidth values\n",
    "# metric = Metric(values, predictions)\n",
    "bandwidths = {'TPS': {'bandwidth': 0.00361482},\n",
    "              \"TNS\": {'bandwidth': 0.00279568}, \n",
    "              \"FPS\": {'bandwidth': 0.01003459}, \n",
    "              \"FNS\": {'bandwidth': 0.01128146}}\n",
    "metric = Metric(values, predictions, bandwidths)\n",
    "metric.plot_pdfs()\n",
    "metric.plot_effectiveness()"
   ]
  },
  {
   "cell_type": "code",
   "execution_count": null,
   "id": "c486dc24",
   "metadata": {},
   "outputs": [],
   "source": [
    "\"\"\"\n",
    "In this experiment, different FP/FN raio's are tested for the Hoseem dataset.\n",
    "\"\"\"\n",
    "value_setups =[{'value_TP': 1, 'value_TN': 1, 'value_FP': 1, 'value_FN': 1, 'value_rejection': 1},\n",
    "               {'value_TP': 1, 'value_TN': 1, 'value_FP': 1,\n",
    "                   'value_FN': 1.1, 'value_rejection': 1},\n",
    "                {'value_TP': 1, 'value_TN': 1, 'value_FP': 1,\n",
    "                   'value_FN': 1.2, 'value_rejection': 1},\n",
    "                {'value_TP': 1, 'value_TN': 1, 'value_FP': 1,\n",
    "                   'value_FN': 1.3, 'value_rejection': 1},\n",
    "                {'value_TP': 1, 'value_TN': 1, 'value_FP': 1,\n",
    "                   'value_FN': 1.4, 'value_rejection': 1},\n",
    "              {'value_TP': 1, 'value_TN': 1, 'value_FP': 1,\n",
    "                   'value_FN': 1.5, 'value_rejection': 1},\n",
    "              {'value_TP': 1, 'value_TN': 1, 'value_FP': 1,\n",
    "                   'value_FN': 1.7, 'value_rejection': 1},\n",
    "              {'value_TP': 1, 'value_TN': 1, 'value_FP': 1,\n",
    "                   'value_FN': 1.8, 'value_rejection': 1},\n",
    "              {'value_TP': 1, 'value_TN': 1, 'value_FP': 1,\n",
    "                   'value_FN': 1.9, 'value_rejection': 1},\n",
    "               {'value_TP': 1, 'value_TN': 1, 'value_FP': 1,\n",
    "                   'value_FN': 2, 'value_rejection': 1},\n",
    "               {'value_TP': 1, 'value_TN': 1, 'value_FP': 1,\n",
    "                   'value_FN': 2.5, 'value_rejection': 1},\n",
    "               {'value_TP': 1, 'value_TN': 1, 'value_FP': 1,\n",
    "                   'value_FN': 3, 'value_rejection': 1},\n",
    "                {'value_TP': 1, 'value_TN': 1, 'value_FP': 1,\n",
    "                   'value_FN': 3.5, 'value_rejection': 1},\n",
    "               {'value_TP': 1, 'value_TN': 1, 'value_FP': 1,\n",
    "                   'value_FN': 4, 'value_rejection': 1},\n",
    "              {'value_TP': 1, 'value_TN': 1, 'value_FP': 1,\n",
    "                   'value_FN': 4.5, 'value_rejection': 1},\n",
    "               {'value_TP': 1, 'value_TN': 1, 'value_FP': 1,\n",
    "                   'value_FN': 5, 'value_rejection': 1},\n",
    "               {'value_TP': 1, 'value_TN': 1, 'value_FP': 1,\n",
    "                'value_FN': 6, 'value_rejection': 1},\n",
    "               {'value_TP': 1, 'value_TN': 1, 'value_FP': 1,\n",
    "                'value_FN': 7, 'value_rejection': 1},\n",
    "               {'value_TP': 1, 'value_TN': 1, 'value_FP': 1,\n",
    "                'value_FN': 8, 'value_rejection': 1},\n",
    "               {'value_TP': 1, 'value_TN': 1, 'value_FP': 1,\n",
    "                   'value_FN': 9, 'value_rejection': 1},\n",
    "               {'value_TP': 1, 'value_TN': 1, 'value_FP': 1,\n",
    "                   'value_FN': 10, 'value_rejection': 1},\n",
    "               {'value_TP': 1, 'value_TN': 1, 'value_FP': 1,\n",
    "                   'value_FN': 20, 'value_rejection': 1},\n",
    "               {'value_TP': 1, 'value_TN': 1, 'value_FP': 1,\n",
    "                   'value_FN': 50, 'value_rejection': 1},\n",
    "               {'value_TP': 1, 'value_TN': 1, 'value_FP': 1,\n",
    "                   'value_FN': 100, 'value_rejection': 1},\n",
    "               {'value_TP': 1, 'value_TN': 1, 'value_FP': 1,\n",
    "                'value_FN': 1000, 'value_rejection': 1}]\n",
    "x_values = []\n",
    "y1_values = []\n",
    "y2_values = []\n",
    "for setup in tqdm(value_setups):\n",
    "    values = Values(setup['value_TP'], setup['value_TN'],\n",
    "                  setup['value_FP'], setup['value_FN'], setup['value_rejection'])\n",
    "    metric = Metric(values, predictions, bandwidths)\n",
    "    metric.plot_effectiveness()\n",
    "    pdfs = PDFs(predictions, bandwidths)\n",
    "    thresholds = np.linspace(0, 1, 1000)\n",
    "\n",
    "    effectiveness_values = list(\n",
    "        map(lambda t:  metric.calculate_effectiveness(t), thresholds))\n",
    "\n",
    "    (index, max_effectiveness) = metric.maximum_effectiveness(\n",
    "        effectiveness_values)\n",
    "    x_values.append(setup['value_FP']/setup['value_FN'])\n",
    "    y1_values.append(thresholds[index])\n",
    "    y2_values.append(max_effectiveness)"
   ]
  },
  {
   "cell_type": "code",
   "execution_count": null,
   "id": "f8a363b0",
   "metadata": {},
   "outputs": [],
   "source": [
    "pyplot.plot(x_values, y1_values)\n",
    "pyplot.xlabel(\"value of FP / value of FN ratio\")\n",
    "pyplot.ylabel(\"Rejection threshold to achieve maximum effectiveness\")\n",
    "pyplot.show()"
   ]
  },
  {
   "cell_type": "code",
   "execution_count": null,
   "id": "b7c079d4",
   "metadata": {},
   "outputs": [],
   "source": [
    "pyplot.plot(x_values, y2_values)\n",
    "pyplot.xlabel(\"value of FP / value of FN ratio\")\n",
    "pyplot.ylabel(\"Effectiveness of the model when rejection is adopted\")\n",
    "pyplot.yscale(\"log\")\n",
    "pyplot.show()"
   ]
  },
  {
   "cell_type": "code",
   "execution_count": null,
   "id": "b8cdfb40",
   "metadata": {},
   "outputs": [],
   "source": [
    "print(y2_values)"
   ]
  },
  {
   "cell_type": "code",
   "execution_count": null,
   "id": "e19fa28b",
   "metadata": {},
   "outputs": [],
   "source": [
    "print(y1_values)"
   ]
  }
 ],
 "metadata": {
  "kernelspec": {
   "display_name": "Python 3.8.5 ('smart-rejector')",
   "language": "python",
   "name": "python3"
  },
  "language_info": {
   "codemirror_mode": {
    "name": "ipython",
    "version": 3
   },
   "file_extension": ".py",
   "mimetype": "text/x-python",
   "name": "python",
   "nbconvert_exporter": "python",
   "pygments_lexer": "ipython3",
   "version": "3.8.5"
  },
  "vscode": {
   "interpreter": {
    "hash": "1d6d5fb1668883c33dcb7e6d97ab558619c066a76f945629b031854efe98e76a"
   }
  }
 },
 "nbformat": 4,
 "nbformat_minor": 5
}
