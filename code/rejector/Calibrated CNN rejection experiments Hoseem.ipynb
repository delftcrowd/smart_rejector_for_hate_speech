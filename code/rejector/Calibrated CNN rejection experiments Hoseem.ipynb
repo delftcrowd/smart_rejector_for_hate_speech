{
 "cells": [
  {
   "cell_type": "code",
   "execution_count": null,
   "id": "6d37b16e",
   "metadata": {},
   "outputs": [],
   "source": [
    "from rejector.prediction import Prediction\n",
    "from rejector.values import Values\n",
    "from rejector.metric import Metric\n",
    "from rejector.pdfs import PDFs\n",
    "import numpy as np\n",
    "from typing import List\n",
    "from matplotlib import pyplot\n",
    "from tqdm import tqdm\n",
    "from IPython.display import set_matplotlib_formats\n",
    "%matplotlib inline\n",
    "set_matplotlib_formats('svg')"
   ]
  },
  {
   "cell_type": "code",
   "execution_count": null,
   "id": "6468be2d",
   "metadata": {},
   "outputs": [],
   "source": [
    "# The experiments below test the non-calibrated CNN 10 epochs model trained on the Hoseem dataset and tested on Hoseem dataset.\n",
    "# Model file name: cnn-10-epochs-hoseem-2-classes-logits\n",
    "predictions = Prediction.load(\"input/cnn-hoseem-calibrated.p\", \"Hate\")\n",
    "value_TP = 2\n",
    "value_TN = 1\n",
    "value_FP = 10\n",
    "value_FN = 20\n",
    "value_REJECTION = 3\n",
    "values = Values(value_TP, value_TN, value_FP, value_FN, value_REJECTION)\n",
    "# Run line below to find bandwidth values\n",
    "# metric = Metric(values, predictions)\n",
    "bandwidths = {'TPS': {'bandwidth': 0.00618112}, 'TNS': {'bandwidth': 0.0072521}, 'FPS': {\n",
    "            'bandwidth': 0.01152453}, 'FNS': {'bandwidth': 0.0133493}}\n",
    "metric = Metric(values, predictions, bandwidths)\n",
    "metric.plot_pdfs()\n",
    "metric.plot_effectiveness()"
   ]
  },
  {
   "cell_type": "code",
   "execution_count": null,
   "id": "c486dc24",
   "metadata": {},
   "outputs": [],
   "source": [
    "%matplotlib inline\n",
    "\"\"\"\n",
    "In this experiment, different FP/FN ratio's are tested for the Hoseem dataset.\n",
    "\"\"\"\n",
    "value_setups = [{'value_TP': 1, 'value_TN': 1, 'value_FP': 1, 'value_FN': 1, 'value_rejection': 1},\n",
    "               {'value_TP': 1, 'value_TN': 1, 'value_FP': 1,\n",
    "                   'value_FN': 1.1, 'value_rejection': 1},\n",
    "                {'value_TP': 1, 'value_TN': 1, 'value_FP': 1,\n",
    "                   'value_FN': 1.2, 'value_rejection': 1},\n",
    "                {'value_TP': 1, 'value_TN': 1, 'value_FP': 1,\n",
    "                   'value_FN': 1.3, 'value_rejection': 1},\n",
    "                {'value_TP': 1, 'value_TN': 1, 'value_FP': 1,\n",
    "                   'value_FN': 1.4, 'value_rejection': 1},\n",
    "              {'value_TP': 1, 'value_TN': 1, 'value_FP': 1,\n",
    "                   'value_FN': 1.5, 'value_rejection': 1},\n",
    "              {'value_TP': 1, 'value_TN': 1, 'value_FP': 1,\n",
    "                   'value_FN': 1.7, 'value_rejection': 1},\n",
    "              {'value_TP': 1, 'value_TN': 1, 'value_FP': 1,\n",
    "                   'value_FN': 1.8, 'value_rejection': 1},\n",
    "              {'value_TP': 1, 'value_TN': 1, 'value_FP': 1,\n",
    "                   'value_FN': 1.9, 'value_rejection': 1},\n",
    "               {'value_TP': 1, 'value_TN': 1, 'value_FP': 1,\n",
    "                   'value_FN': 2, 'value_rejection': 1},\n",
    "               {'value_TP': 1, 'value_TN': 1, 'value_FP': 1,\n",
    "                   'value_FN': 2.5, 'value_rejection': 1},\n",
    "               {'value_TP': 1, 'value_TN': 1, 'value_FP': 1,\n",
    "                   'value_FN': 3, 'value_rejection': 1},\n",
    "                {'value_TP': 1, 'value_TN': 1, 'value_FP': 1,\n",
    "                   'value_FN': 3.5, 'value_rejection': 1},\n",
    "               {'value_TP': 1, 'value_TN': 1, 'value_FP': 1,\n",
    "                   'value_FN': 4, 'value_rejection': 1},\n",
    "              {'value_TP': 1, 'value_TN': 1, 'value_FP': 1,\n",
    "                   'value_FN': 4.5, 'value_rejection': 1},\n",
    "               {'value_TP': 1, 'value_TN': 1, 'value_FP': 1,\n",
    "                   'value_FN': 5, 'value_rejection': 1},\n",
    "               {'value_TP': 1, 'value_TN': 1, 'value_FP': 1,\n",
    "                'value_FN': 6, 'value_rejection': 1},\n",
    "               {'value_TP': 1, 'value_TN': 1, 'value_FP': 1,\n",
    "                'value_FN': 7, 'value_rejection': 1},\n",
    "               {'value_TP': 1, 'value_TN': 1, 'value_FP': 1,\n",
    "                'value_FN': 8, 'value_rejection': 1},\n",
    "               {'value_TP': 1, 'value_TN': 1, 'value_FP': 1,\n",
    "                   'value_FN': 9, 'value_rejection': 1},\n",
    "               {'value_TP': 1, 'value_TN': 1, 'value_FP': 1,\n",
    "                   'value_FN': 10, 'value_rejection': 1},\n",
    "               {'value_TP': 1, 'value_TN': 1, 'value_FP': 1,\n",
    "                   'value_FN': 20, 'value_rejection': 1},\n",
    "               {'value_TP': 1, 'value_TN': 1, 'value_FP': 1,\n",
    "                   'value_FN': 50, 'value_rejection': 1},\n",
    "               {'value_TP': 1, 'value_TN': 1, 'value_FP': 1,\n",
    "                   'value_FN': 100, 'value_rejection': 1},\n",
    "               {'value_TP': 1, 'value_TN': 1, 'value_FP': 1,\n",
    "                'value_FN': 1000, 'value_rejection': 1}]\n",
    "x_values = []\n",
    "y1_values = []\n",
    "y2_values = []\n",
    "for setup in tqdm(value_setups):\n",
    "    values = Values(setup['value_TP'], setup['value_TN'],\n",
    "                  setup['value_FP'], setup['value_FN'], setup['value_rejection'])\n",
    "    metric = Metric(values, predictions, bandwidths)\n",
    "    metric.plot_effectiveness()\n",
    "    pdfs = PDFs(predictions)\n",
    "    thresholds = np.linspace(0, 1, 1000)\n",
    "\n",
    "    effectiveness_values = list(\n",
    "        map(lambda t:  metric.calculate_effectiveness(t), thresholds))\n",
    "\n",
    "    (index, max_effectiveness) = metric.maximum_effectiveness(\n",
    "        effectiveness_values)\n",
    "    x_values.append(setup['value_FP']/setup['value_FN'])\n",
    "    y1_values.append(thresholds[index])\n",
    "    y2_values.append(max_effectiveness)"
   ]
  },
  {
   "cell_type": "code",
   "execution_count": null,
   "id": "f8a363b0",
   "metadata": {},
   "outputs": [],
   "source": [
    "pyplot.plot(x_values, y1_values)\n",
    "print(x_values)\n",
    "print(y1_values)\n",
    "pyplot.xlabel(\"value of FP / value of FN ratio\")\n",
    "pyplot.ylabel(\"Rejection threshold to achieve maximum effectiveness\")\n",
    "pyplot.show()"
   ]
  },
  {
   "cell_type": "code",
   "execution_count": null,
   "id": "b7c079d4",
   "metadata": {},
   "outputs": [],
   "source": [
    "print(y2_values)\n",
    "pyplot.plot(x_values, y2_values)\n",
    "pyplot.xlabel(\"value of FP / value of FN ratio\")\n",
    "pyplot.ylabel(\"Effectiveness of the model when rejection is adopted\")\n",
    "pyplot.yscale(\"log\")\n",
    "pyplot.show()"
   ]
  },
  {
   "cell_type": "code",
   "execution_count": null,
   "id": "05001042",
   "metadata": {},
   "outputs": [],
   "source": [
    "# Difference calibrated and non-calibrated model\n",
    "y2_calibrated = y2_values\n",
    "y2_not_calibrated = [0, 1.0581881700595542e-05, 2.4993871173485706e-05, 4.167131368397256e-05, 5.9501933042052235e-05, 7.988889427406343e-05, 0.00012292224253185107, 0.00014708378426959192, 0.00017124532600733275, 0.00019622770909119867, 0.00034146701934953166, 0.0005116283511490258, 0.0007095415900240486, 0.0009435349145782605, 0.0012351370510787036, 0.002480591845983462, 0.008877664138994417, 0.015340015569166886, 0.025331485770889207, 0.04608456426658869, 0.07521106985123371, 0.4426201470115985, 2.33214836039741, 5.837671724012379, 72.34235992318838]\n",
    "diff_y2 = np.subtract(y2_calibrated, y2_not_calibrated)\n",
    "pyplot.plot(x_values, diff_y2)\n",
    "pyplot.xlabel(\"value of FP / value of FN ratio\")\n",
    "pyplot.ylabel(\"Effectiveness gain when using calibrated model with rejection\")\n",
    "pyplot.show()"
   ]
  },
  {
   "cell_type": "code",
   "execution_count": null,
   "id": "78e02ff9",
   "metadata": {},
   "outputs": [],
   "source": [
    "# Plot both the calibrated and non-calibrated lines for comparison\n",
    "pyplot.plot(x_values, y2_not_calibrated, label=\"Not calibrated\")\n",
    "pyplot.plot(x_values, y2_calibrated, label=\"Calibrated\")\n",
    "pyplot.xlabel(\"value of FP / value of FN ratio\")\n",
    "pyplot.ylabel(\"Effectiveness of the model when rejection is adopted\")\n",
    "pyplot.yscale(\"log\")\n",
    "pyplot.legend()\n",
    "pyplot.show()"
   ]
  },
  {
   "cell_type": "code",
   "execution_count": null,
   "id": "b412131f",
   "metadata": {},
   "outputs": [],
   "source": [
    "# Plot both the calibrated and non-calibrated lines for comparison\n",
    "y1_not_calibrated = [0.0, 0.4944944944944945, 0.4954954954954955, 0.4964964964964965, 0.4964964964964965, 0.4974974974974975, 0.4984984984984985, 0.4984984984984985, 0.4984984984984985, 0.4994994994994995, 0.5005005005005005, 0.5015015015015015, 0.5025025025025025, 0.5045045045045045, 0.5065065065065065, 0.5595595595595596, 0.5605605605605606, 0.5615615615615616, 0.6176176176176176, 0.8358358358358359, 0.8358358358358359, 0.9279279279279279, 0.986986986986987, 0.993993993993994, 1.0]\n",
    "y1_calibrated = y1_values\n",
    "pyplot.plot(x_values, y1_not_calibrated, label=\"Not calibrated\")\n",
    "pyplot.plot(x_values, y1_calibrated, label=\"Calibrated\")\n",
    "pyplot.xlabel(\"value of FP / value of FN ratio\")\n",
    "pyplot.ylabel(\"Rejection threshold to achieve maximum effectiveness\")\n",
    "pyplot.legend()\n",
    "pyplot.show()"
   ]
  },
  {
   "cell_type": "code",
   "execution_count": null,
   "id": "432d2640",
   "metadata": {},
   "outputs": [],
   "source": []
  }
 ],
 "metadata": {
  "interpreter": {
   "hash": "1d6d5fb1668883c33dcb7e6d97ab558619c066a76f945629b031854efe98e76a"
  },
  "kernelspec": {
   "display_name": "Python 3.8.5 ('smart-rejector')",
   "language": "python",
   "name": "python3"
  },
  "language_info": {
   "codemirror_mode": {
    "name": "ipython",
    "version": 3
   },
   "file_extension": ".py",
   "mimetype": "text/x-python",
   "name": "python",
   "nbconvert_exporter": "python",
   "pygments_lexer": "ipython3",
   "version": "3.8.5"
  }
 },
 "nbformat": 4,
 "nbformat_minor": 5
}
